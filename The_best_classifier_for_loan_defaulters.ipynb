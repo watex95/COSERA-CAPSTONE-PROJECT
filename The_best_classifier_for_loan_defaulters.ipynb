{
  "nbformat": 4,
  "nbformat_minor": 0,
  "metadata": {
    "kernelspec": {
      "name": "python3",
      "display_name": "Python 3"
    },
    "language_info": {
      "mimetype": "text/x-python",
      "nbconvert_exporter": "python",
      "version": "3.5.5",
      "name": "python",
      "file_extension": ".py",
      "pygments_lexer": "ipython3",
      "codemirror_mode": {
        "version": 3,
        "name": "ipython"
      }
    },
    "colab": {
      "name": "The_best_classifier_for_loan_defaulters.ipynb",
      "provenance": [],
      "collapsed_sections": [],
      "include_colab_link": true
    },
    "accelerator": "GPU"
  },
  "cells": [
    {
      "cell_type": "markdown",
      "metadata": {
        "id": "view-in-github",
        "colab_type": "text"
      },
      "source": [
        "<a href=\"https://colab.research.google.com/github/watex95/COSERA-MACHINE-LEARNING-PROJECT/blob/master/The_best_classifier_for_loan_defaulters.ipynb\" target=\"_parent\"><img src=\"https://colab.research.google.com/assets/colab-badge.svg\" alt=\"Open In Colab\"/></a>"
      ]
    },
    {
      "cell_type": "markdown",
      "metadata": {
        "id": "jT8T_5KUnPiO",
        "colab_type": "text"
      },
      "source": [
        "### PREDICTING THE LIKELIHOOD OF A PERSON TO DEFAULT IN LOAN REPAYMENT USING CLASSIFICATION MODELS"
      ]
    },
    {
      "cell_type": "markdown",
      "metadata": {
        "button": false,
        "new_sheet": false,
        "run_control": {
          "read_only": false
        },
        "id": "T4r0yXpSGvAF",
        "colab_type": "text"
      },
      "source": [
        "The data for this activity contains information about loan defaulting, whether the loanee is  student or not, ther income and balance.\n",
        "The plan is to load the dataset using Pandas library, and fit several classification models to it and find the best one that could classify a loanee as either a defaulter (YES:1) or non-defaulter (NO:0). Model accuracy will be the basis of evaluating model strength.\n",
        "\n",
        "Lets first load required libraries:"
      ]
    },
    {
      "cell_type": "code",
      "metadata": {
        "button": false,
        "new_sheet": false,
        "run_control": {
          "read_only": false
        },
        "id": "gp4p8f1rGvAG",
        "colab_type": "code",
        "outputId": "0f0136c3-b38a-430d-db65-5f736993cc06",
        "colab": {
          "base_uri": "https://localhost:8080/",
          "height": 35
        }
      },
      "source": [
        "import itertools\n",
        "import numpy as np\n",
        "import matplotlib.pyplot as plt\n",
        "from matplotlib.ticker import NullFormatter\n",
        "import pandas as pd\n",
        "import numpy as np\n",
        "import matplotlib.ticker as ticker\n",
        "from sklearn import preprocessing\n",
        "%matplotlib inline\n",
        "print('libraries imported')"
      ],
      "execution_count": 81,
      "outputs": [
        {
          "output_type": "stream",
          "text": [
            "libraries imported\n"
          ],
          "name": "stdout"
        }
      ]
    },
    {
      "cell_type": "markdown",
      "metadata": {
        "button": false,
        "new_sheet": false,
        "run_control": {
          "read_only": false
        },
        "id": "_EUTR2prGvAO",
        "colab_type": "text"
      },
      "source": [
        "### Load Data From my github repository  "
      ]
    },
    {
      "cell_type": "code",
      "metadata": {
        "button": false,
        "new_sheet": false,
        "run_control": {
          "read_only": false
        },
        "id": "s9BOLs52GvAP",
        "colab_type": "code",
        "outputId": "f00940b7-73ee-43f4-b497-3744e3839a67",
        "colab": {
          "base_uri": "https://localhost:8080/",
          "height": 202
        }
      },
      "source": [
        "whole_df = pd.read_csv(\"https://raw.githubusercontent.com/watex95/COSERA-MACHINE-LEARNING-PROJECT/master/Default_Rate.csv\")\n",
        "whole_df.head()"
      ],
      "execution_count": 82,
      "outputs": [
        {
          "output_type": "execute_result",
          "data": {
            "text/html": [
              "<div>\n",
              "<style scoped>\n",
              "    .dataframe tbody tr th:only-of-type {\n",
              "        vertical-align: middle;\n",
              "    }\n",
              "\n",
              "    .dataframe tbody tr th {\n",
              "        vertical-align: top;\n",
              "    }\n",
              "\n",
              "    .dataframe thead th {\n",
              "        text-align: right;\n",
              "    }\n",
              "</style>\n",
              "<table border=\"1\" class=\"dataframe\">\n",
              "  <thead>\n",
              "    <tr style=\"text-align: right;\">\n",
              "      <th></th>\n",
              "      <th>default</th>\n",
              "      <th>student</th>\n",
              "      <th>balance</th>\n",
              "      <th>income</th>\n",
              "    </tr>\n",
              "  </thead>\n",
              "  <tbody>\n",
              "    <tr>\n",
              "      <th>0</th>\n",
              "      <td>No</td>\n",
              "      <td>No</td>\n",
              "      <td>729.526495</td>\n",
              "      <td>44361.62507</td>\n",
              "    </tr>\n",
              "    <tr>\n",
              "      <th>1</th>\n",
              "      <td>No</td>\n",
              "      <td>Yes</td>\n",
              "      <td>817.180407</td>\n",
              "      <td>12106.13470</td>\n",
              "    </tr>\n",
              "    <tr>\n",
              "      <th>2</th>\n",
              "      <td>No</td>\n",
              "      <td>No</td>\n",
              "      <td>1073.549164</td>\n",
              "      <td>31767.13895</td>\n",
              "    </tr>\n",
              "    <tr>\n",
              "      <th>3</th>\n",
              "      <td>No</td>\n",
              "      <td>No</td>\n",
              "      <td>529.250605</td>\n",
              "      <td>35704.49394</td>\n",
              "    </tr>\n",
              "    <tr>\n",
              "      <th>4</th>\n",
              "      <td>No</td>\n",
              "      <td>No</td>\n",
              "      <td>785.655883</td>\n",
              "      <td>38463.49588</td>\n",
              "    </tr>\n",
              "  </tbody>\n",
              "</table>\n",
              "</div>"
            ],
            "text/plain": [
              "  default student      balance       income\n",
              "0      No      No   729.526495  44361.62507\n",
              "1      No     Yes   817.180407  12106.13470\n",
              "2      No      No  1073.549164  31767.13895\n",
              "3      No      No   529.250605  35704.49394\n",
              "4      No      No   785.655883  38463.49588"
            ]
          },
          "metadata": {
            "tags": []
          },
          "execution_count": 82
        }
      ]
    },
    {
      "cell_type": "code",
      "metadata": {
        "id": "vtZyG_DnGvAR",
        "colab_type": "code",
        "outputId": "de1024af-be1a-49b8-8929-04307dcbe805",
        "colab": {
          "base_uri": "https://localhost:8080/",
          "height": 35
        }
      },
      "source": [
        "whole_df.shape"
      ],
      "execution_count": 83,
      "outputs": [
        {
          "output_type": "execute_result",
          "data": {
            "text/plain": [
              "(10000, 4)"
            ]
          },
          "metadata": {
            "tags": []
          },
          "execution_count": 83
        }
      ]
    },
    {
      "cell_type": "markdown",
      "metadata": {
        "id": "tJABLb_iWExu",
        "colab_type": "text"
      },
      "source": [
        "### Randomly split the data and save the hold out dataset for future Model Testing"
      ]
    },
    {
      "cell_type": "code",
      "metadata": {
        "id": "QOeEz0jZXDze",
        "colab_type": "code",
        "colab": {}
      },
      "source": [
        "X_1=whole_df[['student','income','balance']]\n",
        "y1=whole_df[['default']]"
      ],
      "execution_count": 0,
      "outputs": []
    },
    {
      "cell_type": "code",
      "metadata": {
        "id": "N7Lml572WDkD",
        "colab_type": "code",
        "colab": {}
      },
      "source": [
        "from sklearn.model_selection import train_test_split\n",
        "X_TRAIN, X_TEST, y_TRAIN, y_TEST = train_test_split(X_1, y1, test_size=0.3, random_state=4)\n"
      ],
      "execution_count": 0,
      "outputs": []
    },
    {
      "cell_type": "code",
      "metadata": {
        "id": "YilpzzYrXtWu",
        "colab_type": "code",
        "outputId": "6774b2dc-c4c0-41ed-b12b-78539e61218b",
        "colab": {
          "base_uri": "https://localhost:8080/",
          "height": 202
        }
      },
      "source": [
        "X_TEST.head()"
      ],
      "execution_count": 86,
      "outputs": [
        {
          "output_type": "execute_result",
          "data": {
            "text/html": [
              "<div>\n",
              "<style scoped>\n",
              "    .dataframe tbody tr th:only-of-type {\n",
              "        vertical-align: middle;\n",
              "    }\n",
              "\n",
              "    .dataframe tbody tr th {\n",
              "        vertical-align: top;\n",
              "    }\n",
              "\n",
              "    .dataframe thead th {\n",
              "        text-align: right;\n",
              "    }\n",
              "</style>\n",
              "<table border=\"1\" class=\"dataframe\">\n",
              "  <thead>\n",
              "    <tr style=\"text-align: right;\">\n",
              "      <th></th>\n",
              "      <th>student</th>\n",
              "      <th>income</th>\n",
              "      <th>balance</th>\n",
              "    </tr>\n",
              "  </thead>\n",
              "  <tbody>\n",
              "    <tr>\n",
              "      <th>1603</th>\n",
              "      <td>Yes</td>\n",
              "      <td>15522.58415</td>\n",
              "      <td>1247.067238</td>\n",
              "    </tr>\n",
              "    <tr>\n",
              "      <th>8713</th>\n",
              "      <td>Yes</td>\n",
              "      <td>12008.33574</td>\n",
              "      <td>662.995363</td>\n",
              "    </tr>\n",
              "    <tr>\n",
              "      <th>4561</th>\n",
              "      <td>Yes</td>\n",
              "      <td>20569.64004</td>\n",
              "      <td>970.426089</td>\n",
              "    </tr>\n",
              "    <tr>\n",
              "      <th>6600</th>\n",
              "      <td>Yes</td>\n",
              "      <td>11102.56815</td>\n",
              "      <td>1156.620200</td>\n",
              "    </tr>\n",
              "    <tr>\n",
              "      <th>2558</th>\n",
              "      <td>No</td>\n",
              "      <td>37323.75941</td>\n",
              "      <td>421.896902</td>\n",
              "    </tr>\n",
              "  </tbody>\n",
              "</table>\n",
              "</div>"
            ],
            "text/plain": [
              "     student       income      balance\n",
              "1603     Yes  15522.58415  1247.067238\n",
              "8713     Yes  12008.33574   662.995363\n",
              "4561     Yes  20569.64004   970.426089\n",
              "6600     Yes  11102.56815  1156.620200\n",
              "2558      No  37323.75941   421.896902"
            ]
          },
          "metadata": {
            "tags": []
          },
          "execution_count": 86
        }
      ]
    },
    {
      "cell_type": "code",
      "metadata": {
        "id": "gOAP_nDzXtaj",
        "colab_type": "code",
        "outputId": "54c94867-6a28-4152-cec6-bbb20750d2a1",
        "colab": {
          "base_uri": "https://localhost:8080/",
          "height": 202
        }
      },
      "source": [
        "y_TEST.head()"
      ],
      "execution_count": 87,
      "outputs": [
        {
          "output_type": "execute_result",
          "data": {
            "text/html": [
              "<div>\n",
              "<style scoped>\n",
              "    .dataframe tbody tr th:only-of-type {\n",
              "        vertical-align: middle;\n",
              "    }\n",
              "\n",
              "    .dataframe tbody tr th {\n",
              "        vertical-align: top;\n",
              "    }\n",
              "\n",
              "    .dataframe thead th {\n",
              "        text-align: right;\n",
              "    }\n",
              "</style>\n",
              "<table border=\"1\" class=\"dataframe\">\n",
              "  <thead>\n",
              "    <tr style=\"text-align: right;\">\n",
              "      <th></th>\n",
              "      <th>default</th>\n",
              "    </tr>\n",
              "  </thead>\n",
              "  <tbody>\n",
              "    <tr>\n",
              "      <th>1603</th>\n",
              "      <td>No</td>\n",
              "    </tr>\n",
              "    <tr>\n",
              "      <th>8713</th>\n",
              "      <td>No</td>\n",
              "    </tr>\n",
              "    <tr>\n",
              "      <th>4561</th>\n",
              "      <td>No</td>\n",
              "    </tr>\n",
              "    <tr>\n",
              "      <th>6600</th>\n",
              "      <td>No</td>\n",
              "    </tr>\n",
              "    <tr>\n",
              "      <th>2558</th>\n",
              "      <td>No</td>\n",
              "    </tr>\n",
              "  </tbody>\n",
              "</table>\n",
              "</div>"
            ],
            "text/plain": [
              "     default\n",
              "1603      No\n",
              "8713      No\n",
              "4561      No\n",
              "6600      No\n",
              "2558      No"
            ]
          },
          "metadata": {
            "tags": []
          },
          "execution_count": 87
        }
      ]
    },
    {
      "cell_type": "code",
      "metadata": {
        "id": "Sphz-NlEi28Z",
        "colab_type": "code",
        "colab": {}
      },
      "source": [
        ""
      ],
      "execution_count": 0,
      "outputs": []
    },
    {
      "cell_type": "markdown",
      "metadata": {
        "id": "F94OYnXtAZ6T",
        "colab_type": "text"
      },
      "source": [
        "### Save the test dataset and its actual target for confirmation later if the model prediction can predict a new dataset with same high accuracy\n",
        "\n",
        "The test data will be downloaded from this instance and saved in github , it will be loaded again during Prediction phase"
      ]
    },
    {
      "cell_type": "code",
      "metadata": {
        "id": "DDkj5QaCWDn5",
        "colab_type": "code",
        "outputId": "fcc8b5e3-e696-4d30-ba4d-694c26876bfe",
        "colab": {
          "base_uri": "https://localhost:8080/",
          "height": 35
        }
      },
      "source": [
        "X_TEST.to_csv('/content/sample_data/TEST_DATA.csv')\n",
        "y_TEST.to_csv('/content/sample_data/Target_actual.csv')\n",
        "print('files saved')\n"
      ],
      "execution_count": 88,
      "outputs": [
        {
          "output_type": "stream",
          "text": [
            "files saved\n"
          ],
          "name": "stdout"
        }
      ]
    },
    {
      "cell_type": "code",
      "metadata": {
        "id": "oyD5ByKR_-pz",
        "colab_type": "code",
        "colab": {}
      },
      "source": [
        ""
      ],
      "execution_count": 0,
      "outputs": []
    },
    {
      "cell_type": "code",
      "metadata": {
        "id": "fHXtG5X7_-mC",
        "colab_type": "code",
        "colab": {}
      },
      "source": [
        ""
      ],
      "execution_count": 0,
      "outputs": []
    },
    {
      "cell_type": "markdown",
      "metadata": {
        "id": "NnFOsKwTAQVf",
        "colab_type": "text"
      },
      "source": [
        "### Create a train dataset by merging the target to the features"
      ]
    },
    {
      "cell_type": "code",
      "metadata": {
        "id": "1E8qUk4IbLed",
        "colab_type": "code",
        "colab": {}
      },
      "source": [
        "df=pd.concat([X_TRAIN,y_TRAIN],axis=1)"
      ],
      "execution_count": 0,
      "outputs": []
    },
    {
      "cell_type": "code",
      "metadata": {
        "id": "FCgFcY2WbLjT",
        "colab_type": "code",
        "outputId": "a0b371d7-4ff7-4200-c684-cff220a810f8",
        "colab": {
          "base_uri": "https://localhost:8080/",
          "height": 202
        }
      },
      "source": [
        "df.head()"
      ],
      "execution_count": 90,
      "outputs": [
        {
          "output_type": "execute_result",
          "data": {
            "text/html": [
              "<div>\n",
              "<style scoped>\n",
              "    .dataframe tbody tr th:only-of-type {\n",
              "        vertical-align: middle;\n",
              "    }\n",
              "\n",
              "    .dataframe tbody tr th {\n",
              "        vertical-align: top;\n",
              "    }\n",
              "\n",
              "    .dataframe thead th {\n",
              "        text-align: right;\n",
              "    }\n",
              "</style>\n",
              "<table border=\"1\" class=\"dataframe\">\n",
              "  <thead>\n",
              "    <tr style=\"text-align: right;\">\n",
              "      <th></th>\n",
              "      <th>student</th>\n",
              "      <th>income</th>\n",
              "      <th>balance</th>\n",
              "      <th>default</th>\n",
              "    </tr>\n",
              "  </thead>\n",
              "  <tbody>\n",
              "    <tr>\n",
              "      <th>9232</th>\n",
              "      <td>No</td>\n",
              "      <td>50491.26051</td>\n",
              "      <td>1074.015910</td>\n",
              "      <td>No</td>\n",
              "    </tr>\n",
              "    <tr>\n",
              "      <th>2210</th>\n",
              "      <td>Yes</td>\n",
              "      <td>18241.74144</td>\n",
              "      <td>953.809047</td>\n",
              "      <td>No</td>\n",
              "    </tr>\n",
              "    <tr>\n",
              "      <th>3611</th>\n",
              "      <td>No</td>\n",
              "      <td>14792.51184</td>\n",
              "      <td>379.063067</td>\n",
              "      <td>No</td>\n",
              "    </tr>\n",
              "    <tr>\n",
              "      <th>7095</th>\n",
              "      <td>No</td>\n",
              "      <td>50040.41979</td>\n",
              "      <td>636.309344</td>\n",
              "      <td>No</td>\n",
              "    </tr>\n",
              "    <tr>\n",
              "      <th>6444</th>\n",
              "      <td>No</td>\n",
              "      <td>22431.45354</td>\n",
              "      <td>0.000000</td>\n",
              "      <td>No</td>\n",
              "    </tr>\n",
              "  </tbody>\n",
              "</table>\n",
              "</div>"
            ],
            "text/plain": [
              "     student       income      balance default\n",
              "9232      No  50491.26051  1074.015910      No\n",
              "2210     Yes  18241.74144   953.809047      No\n",
              "3611      No  14792.51184   379.063067      No\n",
              "7095      No  50040.41979   636.309344      No\n",
              "6444      No  22431.45354     0.000000      No"
            ]
          },
          "metadata": {
            "tags": []
          },
          "execution_count": 90
        }
      ]
    },
    {
      "cell_type": "markdown",
      "metadata": {
        "id": "DUzus7xoZL1J",
        "colab_type": "text"
      },
      "source": [
        "## Exploratory data analysis"
      ]
    },
    {
      "cell_type": "code",
      "metadata": {
        "id": "KlKVvlktZLQh",
        "colab_type": "code",
        "outputId": "ef1d4793-6b22-4bbd-8fc0-cffc4e299b18",
        "colab": {
          "base_uri": "https://localhost:8080/",
          "height": 1000
        }
      },
      "source": [
        "import numpy as np # linear algebra\n",
        "import pandas as pd # data processing, CSV file I/O (e.g. pd.read_csv)\n",
        "import pandas_profiling as pp\n",
        "\n",
        "# Input data files are available in the \"../input/\" directory.\n",
        "# For example, running this (by clicking run or pressing Shift+Enter) will list the files in the input directory\n",
        "\n",
        "import os\n",
        "pp.ProfileReport(df)\n"
      ],
      "execution_count": 91,
      "outputs": [
        {
          "output_type": "stream",
          "text": [
            "/usr/local/lib/python3.6/dist-packages/pandas_profiling/describe.py:392: FutureWarning: The join_axes-keyword is deprecated. Use .reindex or .reindex_like on the result to achieve the same functionality.\n",
            "  variable_stats = pd.concat(ldesc, join_axes=pd.Index([names]), axis=1)\n"
          ],
          "name": "stderr"
        },
        {
          "output_type": "execute_result",
          "data": {
            "text/html": [
              "<meta charset=\"UTF-8\">\n",
              "\n",
              "<style>\n",
              "\n",
              "        .variablerow {\n",
              "            border: 1px solid #e1e1e8;\n",
              "            border-top: hidden;\n",
              "            padding-top: 2em;\n",
              "            padding-bottom: 2em;\n",
              "            padding-left: 1em;\n",
              "            padding-right: 1em;\n",
              "        }\n",
              "\n",
              "        .headerrow {\n",
              "            border: 1px solid #e1e1e8;\n",
              "            background-color: #f5f5f5;\n",
              "            padding: 2em;\n",
              "        }\n",
              "        .namecol {\n",
              "            margin-top: -1em;\n",
              "            overflow-x: auto;\n",
              "        }\n",
              "\n",
              "        .dl-horizontal dt {\n",
              "            text-align: left;\n",
              "            padding-right: 1em;\n",
              "            white-space: normal;\n",
              "        }\n",
              "\n",
              "        .dl-horizontal dd {\n",
              "            margin-left: 0;\n",
              "        }\n",
              "\n",
              "        .ignore {\n",
              "            opacity: 0.4;\n",
              "        }\n",
              "\n",
              "        .container.pandas-profiling {\n",
              "            max-width:975px;\n",
              "        }\n",
              "\n",
              "        .col-md-12 {\n",
              "            padding-left: 2em;\n",
              "        }\n",
              "\n",
              "        .indent {\n",
              "            margin-left: 1em;\n",
              "        }\n",
              "\n",
              "        .center-img {\n",
              "            margin-left: auto !important;\n",
              "            margin-right: auto !important;\n",
              "            display: block;\n",
              "        }\n",
              "\n",
              "        /* Table example_values */\n",
              "            table.example_values {\n",
              "                border: 0;\n",
              "            }\n",
              "\n",
              "            .example_values th {\n",
              "                border: 0;\n",
              "                padding: 0 ;\n",
              "                color: #555;\n",
              "                font-weight: 600;\n",
              "            }\n",
              "\n",
              "            .example_values tr, .example_values td{\n",
              "                border: 0;\n",
              "                padding: 0;\n",
              "                color: #555;\n",
              "            }\n",
              "\n",
              "        /* STATS */\n",
              "            table.stats {\n",
              "                border: 0;\n",
              "            }\n",
              "\n",
              "            .stats th {\n",
              "                border: 0;\n",
              "                padding: 0 2em 0 0;\n",
              "                color: #555;\n",
              "                font-weight: 600;\n",
              "            }\n",
              "\n",
              "            .stats tr {\n",
              "                border: 0;\n",
              "            }\n",
              "\n",
              "            .stats td{\n",
              "                color: #555;\n",
              "                padding: 1px;\n",
              "                border: 0;\n",
              "            }\n",
              "\n",
              "\n",
              "        /* Sample table */\n",
              "            table.sample {\n",
              "                border: 0;\n",
              "                margin-bottom: 2em;\n",
              "                margin-left:1em;\n",
              "            }\n",
              "            .sample tr {\n",
              "                border:0;\n",
              "            }\n",
              "            .sample td, .sample th{\n",
              "                padding: 0.5em;\n",
              "                white-space: nowrap;\n",
              "                border: none;\n",
              "\n",
              "            }\n",
              "\n",
              "            .sample thead {\n",
              "                border-top: 0;\n",
              "                border-bottom: 2px solid #ddd;\n",
              "            }\n",
              "\n",
              "            .sample td {\n",
              "                width:100%;\n",
              "            }\n",
              "\n",
              "\n",
              "        /* There is no good solution available to make the divs equal height and then center ... */\n",
              "            .histogram {\n",
              "                margin-top: 3em;\n",
              "            }\n",
              "        /* Freq table */\n",
              "\n",
              "            table.freq {\n",
              "                margin-bottom: 2em;\n",
              "                border: 0;\n",
              "            }\n",
              "            table.freq th, table.freq tr, table.freq td {\n",
              "                border: 0;\n",
              "                padding: 0;\n",
              "            }\n",
              "\n",
              "            .freq thead {\n",
              "                font-weight: 600;\n",
              "                white-space: nowrap;\n",
              "                overflow: hidden;\n",
              "                text-overflow: ellipsis;\n",
              "\n",
              "            }\n",
              "\n",
              "            td.fillremaining{\n",
              "                width:auto;\n",
              "                max-width: none;\n",
              "            }\n",
              "\n",
              "            td.number, th.number {\n",
              "                text-align:right ;\n",
              "            }\n",
              "\n",
              "        /* Freq mini */\n",
              "            .freq.mini td{\n",
              "                width: 50%;\n",
              "                padding: 1px;\n",
              "                font-size: 12px;\n",
              "\n",
              "            }\n",
              "            table.freq.mini {\n",
              "                 width:100%;\n",
              "            }\n",
              "            .freq.mini th {\n",
              "                overflow: hidden;\n",
              "                text-overflow: ellipsis;\n",
              "                white-space: nowrap;\n",
              "                max-width: 5em;\n",
              "                font-weight: 400;\n",
              "                text-align:right;\n",
              "                padding-right: 0.5em;\n",
              "            }\n",
              "\n",
              "            .missing {\n",
              "                color: #a94442;\n",
              "            }\n",
              "            .alert, .alert > th, .alert > td {\n",
              "                color: #a94442;\n",
              "            }\n",
              "\n",
              "\n",
              "        /* Bars in tables */\n",
              "            .freq .bar{\n",
              "                float: left;\n",
              "                width: 0;\n",
              "                height: 100%;\n",
              "                line-height: 20px;\n",
              "                color: #fff;\n",
              "                text-align: center;\n",
              "                background-color: #337ab7;\n",
              "                border-radius: 3px;\n",
              "                margin-right: 4px;\n",
              "            }\n",
              "            .other .bar {\n",
              "                background-color: #999;\n",
              "            }\n",
              "            .missing .bar{\n",
              "                background-color: #a94442;\n",
              "            }\n",
              "            .tooltip-inner {\n",
              "                width: 100%;\n",
              "                white-space: nowrap;\n",
              "                text-align:left;\n",
              "            }\n",
              "\n",
              "            .extrapadding{\n",
              "                padding: 2em;\n",
              "            }\n",
              "\n",
              "            .pp-anchor{\n",
              "\n",
              "            }\n",
              "\n",
              "</style>\n",
              "\n",
              "<div class=\"container pandas-profiling\">\n",
              "    <div class=\"row headerrow highlight\">\n",
              "        <h1>Overview</h1>\n",
              "    </div>\n",
              "    <div class=\"row variablerow\">\n",
              "    <div class=\"col-md-6 namecol\">\n",
              "        <p class=\"h4\">Dataset info</p>\n",
              "        <table class=\"stats\" style=\"margin-left: 1em;\">\n",
              "            <tbody>\n",
              "            <tr>\n",
              "                <th>Number of variables</th>\n",
              "                <td>5 </td>\n",
              "            </tr>\n",
              "            <tr>\n",
              "                <th>Number of observations</th>\n",
              "                <td>7000 </td>\n",
              "            </tr>\n",
              "            <tr>\n",
              "                <th>Total Missing (%)</th>\n",
              "                <td>0.0% </td>\n",
              "            </tr>\n",
              "            <tr>\n",
              "                <th>Total size in memory</th>\n",
              "                <td>273.6 KiB </td>\n",
              "            </tr>\n",
              "            <tr>\n",
              "                <th>Average record size in memory</th>\n",
              "                <td>40.0 B </td>\n",
              "            </tr>\n",
              "            </tbody>\n",
              "        </table>\n",
              "    </div>\n",
              "    <div class=\"col-md-6 namecol\">\n",
              "        <p class=\"h4\">Variables types</p>\n",
              "        <table class=\"stats\" style=\"margin-left: 1em;\">\n",
              "            <tbody>\n",
              "            <tr>\n",
              "                <th>Numeric</th>\n",
              "                <td>3 </td>\n",
              "            </tr>\n",
              "            <tr>\n",
              "                <th>Categorical</th>\n",
              "                <td>2 </td>\n",
              "            </tr>\n",
              "            <tr>\n",
              "                <th>Boolean</th>\n",
              "                <td>0 </td>\n",
              "            </tr>\n",
              "            <tr>\n",
              "                <th>Date</th>\n",
              "                <td>0 </td>\n",
              "            </tr>\n",
              "            <tr>\n",
              "                <th>Text (Unique)</th>\n",
              "                <td>0 </td>\n",
              "            </tr>\n",
              "            <tr>\n",
              "                <th>Rejected</th>\n",
              "                <td>0 </td>\n",
              "            </tr>\n",
              "            <tr>\n",
              "                <th>Unsupported</th>\n",
              "                <td>0 </td>\n",
              "            </tr>\n",
              "            </tbody>\n",
              "        </table>\n",
              "    </div>\n",
              "    <div class=\"col-md-12\" style=\"padding-left: 1em;\">\n",
              "        \n",
              "        <p class=\"h4\">Warnings</p>\n",
              "        <ul class=\"list-unstyled\"><li><a href=\"#pp_var_balance\"><code>balance</code></a> has 359 / 5.1% zeros <span class=\"label label-info\">Zeros</span></li> </ul>\n",
              "    </div>\n",
              "</div>\n",
              "    <div class=\"row headerrow highlight\">\n",
              "        <h1>Variables</h1>\n",
              "    </div>\n",
              "    <div class=\"row variablerow\">\n",
              "    <div class=\"col-md-3 namecol\">\n",
              "        <p class=\"h4 pp-anchor\" id=\"pp_var_index\">index<br/>\n",
              "            <small>Numeric</small>\n",
              "        </p>\n",
              "    </div><div class=\"col-md-6\">\n",
              "    <div class=\"row\">\n",
              "        <div class=\"col-sm-6\">\n",
              "            <table class=\"stats \">\n",
              "                <tr>\n",
              "                    <th>Distinct count</th>\n",
              "                    <td>7000</td>\n",
              "                </tr>\n",
              "                <tr>\n",
              "                    <th>Unique (%)</th>\n",
              "                    <td>100.0%</td>\n",
              "                </tr>\n",
              "                <tr class=\"ignore\">\n",
              "                    <th>Missing (%)</th>\n",
              "                    <td>0.0%</td>\n",
              "                </tr>\n",
              "                <tr class=\"ignore\">\n",
              "                    <th>Missing (n)</th>\n",
              "                    <td>0</td>\n",
              "                </tr>\n",
              "                <tr class=\"ignore\">\n",
              "                    <th>Infinite (%)</th>\n",
              "                    <td>0.0%</td>\n",
              "                </tr>\n",
              "                <tr class=\"ignore\">\n",
              "                    <th>Infinite (n)</th>\n",
              "                    <td>0</td>\n",
              "                </tr>\n",
              "            </table>\n",
              "\n",
              "        </div>\n",
              "        <div class=\"col-sm-6\">\n",
              "            <table class=\"stats \">\n",
              "\n",
              "                <tr>\n",
              "                    <th>Mean</th>\n",
              "                    <td>4979.9</td>\n",
              "                </tr>\n",
              "                <tr>\n",
              "                    <th>Minimum</th>\n",
              "                    <td>0</td>\n",
              "                </tr>\n",
              "                <tr>\n",
              "                    <th>Maximum</th>\n",
              "                    <td>9999</td>\n",
              "                </tr>\n",
              "                <tr class=\"ignore\">\n",
              "                    <th>Zeros (%)</th>\n",
              "                    <td>0.0%</td>\n",
              "                </tr>\n",
              "            </table>\n",
              "        </div>\n",
              "    </div>\n",
              "</div>\n",
              "<div class=\"col-md-3 collapse in\" id=\"minihistogram-4861287830540103660\">\n",
              "    <img src=\"data:image/png;base64,iVBORw0KGgoAAAANSUhEUgAAAMgAAABLCAYAAAA1fMjoAAAABHNCSVQICAgIfAhkiAAAAAlwSFlzAAAPYQAAD2EBqD%2BnaQAAADh0RVh0U29mdHdhcmUAbWF0cGxvdGxpYiB2ZXJzaW9uMy4xLjEsIGh0dHA6Ly9tYXRwbG90bGliLm9yZy8QZhcZAAABIElEQVR4nO3X0YnCQBRA0c1iSRaxPfltTxZhT%2BP/IhcNmAzxnP%2BQR/IuwyxjjPEDPPW79wAws9PeA/x3vtzefuZ%2B/fvAJMflG79uukDW2OqHr3nPFrZY3m%2BN6hCBrDHrsjOXZbZLusX9brOdOi7pEAQCQSAQBAJBIBAEAkEgEAQCQSAQBAJBIBAEAkEgEAQCQSAQBAJBIBAEAkEgEAQCQSAQBAJBIBAEAkEgEAQCQSAQBAJBIBAEAkEgEAQCQSAQBAJBIBAEAkEgEAQCQSAQBAJBIBAEAkEgEJYxxth7CJiVEwSCQCAIBIJAIAgEgkAgCASCQCAIBIJAIAgEgkAgCASCQCAIBIJAIAgEgkAgCASCQCAIBIJAIAgEgkAgCATCAxf0H/ULGe1vAAAAAElFTkSuQmCC\">\n",
              "\n",
              "</div>\n",
              "<div class=\"col-md-12 text-right\">\n",
              "    <a role=\"button\" data-toggle=\"collapse\" data-target=\"#descriptives-4861287830540103660,#minihistogram-4861287830540103660\"\n",
              "       aria-expanded=\"false\" aria-controls=\"collapseExample\">\n",
              "        Toggle details\n",
              "    </a>\n",
              "</div>\n",
              "<div class=\"row collapse col-md-12\" id=\"descriptives-4861287830540103660\">\n",
              "    <ul class=\"nav nav-tabs\" role=\"tablist\">\n",
              "        <li role=\"presentation\" class=\"active\"><a href=\"#quantiles-4861287830540103660\"\n",
              "                                                  aria-controls=\"quantiles-4861287830540103660\" role=\"tab\"\n",
              "                                                  data-toggle=\"tab\">Statistics</a></li>\n",
              "        <li role=\"presentation\"><a href=\"#histogram-4861287830540103660\" aria-controls=\"histogram-4861287830540103660\"\n",
              "                                   role=\"tab\" data-toggle=\"tab\">Histogram</a></li>\n",
              "        <li role=\"presentation\"><a href=\"#common-4861287830540103660\" aria-controls=\"common-4861287830540103660\"\n",
              "                                   role=\"tab\" data-toggle=\"tab\">Common Values</a></li>\n",
              "        <li role=\"presentation\"><a href=\"#extreme-4861287830540103660\" aria-controls=\"extreme-4861287830540103660\"\n",
              "                                   role=\"tab\" data-toggle=\"tab\">Extreme Values</a></li>\n",
              "\n",
              "    </ul>\n",
              "\n",
              "    <div class=\"tab-content\">\n",
              "        <div role=\"tabpanel\" class=\"tab-pane active row\" id=\"quantiles-4861287830540103660\">\n",
              "            <div class=\"col-md-4 col-md-offset-1\">\n",
              "                <p class=\"h4\">Quantile statistics</p>\n",
              "                <table class=\"stats indent\">\n",
              "                    <tr>\n",
              "                        <th>Minimum</th>\n",
              "                        <td>0</td>\n",
              "                    </tr>\n",
              "                    <tr>\n",
              "                        <th>5-th percentile</th>\n",
              "                        <td>477.95</td>\n",
              "                    </tr>\n",
              "                    <tr>\n",
              "                        <th>Q1</th>\n",
              "                        <td>2483.5</td>\n",
              "                    </tr>\n",
              "                    <tr>\n",
              "                        <th>Median</th>\n",
              "                        <td>4968.5</td>\n",
              "                    </tr>\n",
              "                    <tr>\n",
              "                        <th>Q3</th>\n",
              "                        <td>7464.2</td>\n",
              "                    </tr>\n",
              "                    <tr>\n",
              "                        <th>95-th percentile</th>\n",
              "                        <td>9473</td>\n",
              "                    </tr>\n",
              "                    <tr>\n",
              "                        <th>Maximum</th>\n",
              "                        <td>9999</td>\n",
              "                    </tr>\n",
              "                    <tr>\n",
              "                        <th>Range</th>\n",
              "                        <td>9999</td>\n",
              "                    </tr>\n",
              "                    <tr>\n",
              "                        <th>Interquartile range</th>\n",
              "                        <td>4980.8</td>\n",
              "                    </tr>\n",
              "                </table>\n",
              "            </div>\n",
              "            <div class=\"col-md-4 col-md-offset-2\">\n",
              "                <p class=\"h4\">Descriptive statistics</p>\n",
              "                <table class=\"stats indent\">\n",
              "                    <tr>\n",
              "                        <th>Standard deviation</th>\n",
              "                        <td>2887.5</td>\n",
              "                    </tr>\n",
              "                    <tr>\n",
              "                        <th>Coef of variation</th>\n",
              "                        <td>0.57983</td>\n",
              "                    </tr>\n",
              "                    <tr>\n",
              "                        <th>Kurtosis</th>\n",
              "                        <td>-1.2027</td>\n",
              "                    </tr>\n",
              "                    <tr>\n",
              "                        <th>Mean</th>\n",
              "                        <td>4979.9</td>\n",
              "                    </tr>\n",
              "                    <tr>\n",
              "                        <th>MAD</th>\n",
              "                        <td>2501.5</td>\n",
              "                    </tr>\n",
              "                    <tr class=\"\">\n",
              "                        <th>Skewness</th>\n",
              "                        <td>0.0013501</td>\n",
              "                    </tr>\n",
              "                    <tr>\n",
              "                        <th>Sum</th>\n",
              "                        <td>34859231</td>\n",
              "                    </tr>\n",
              "                    <tr>\n",
              "                        <th>Variance</th>\n",
              "                        <td>8337600</td>\n",
              "                    </tr>\n",
              "                    <tr>\n",
              "                        <th>Memory size</th>\n",
              "                        <td>54.8 KiB</td>\n",
              "                    </tr>\n",
              "                </table>\n",
              "            </div>\n",
              "        </div>\n",
              "        <div role=\"tabpanel\" class=\"tab-pane col-md-8 col-md-offset-2\" id=\"histogram-4861287830540103660\">\n",
              "            <img src=\"data:image/png;base64,iVBORw0KGgoAAAANSUhEUgAAAlgAAAGQCAYAAAByNR6YAAAABHNCSVQICAgIfAhkiAAAAAlwSFlzAAAPYQAAD2EBqD%2BnaQAAADh0RVh0U29mdHdhcmUAbWF0cGxvdGxpYiB2ZXJzaW9uMy4xLjEsIGh0dHA6Ly9tYXRwbG90bGliLm9yZy8QZhcZAAAgAElEQVR4nO3de1jVVb7H8Q9IYl5AKNHGLjqpKIJ4jUILxVLTcBRRpDrllKZGMt5mdNQmPVk6o56mtGNSpybSThx6Ot7S9JRKdaKZLlpczEnTSUmDdG8RBBVY548e95ktligL92b7fj0PT7nWb6/9Xavdb3/8rd/e%2BBljjAAAAGCNv6cLAAAA8DUELAAAAMsIWAAAAJYRsAAAACwjYAEAAFhGwAIAALCMgAUAAGAZAQsAAMAyAhYAAIBlBCwAAADLCFgAAACWEbAAAAAsI2ABAABYRsACAACwjIAFAABgGQELAADAMgIWAACAZQQsAAAAywhYAAAAlhGwAAAALCNgAQAAWEbAAgAAsIyABQAAYBkBCwAAwDICFgAAgGUELAAAAMsIWAAAAJYRsAAAACwjYAEAAFhGwAIAALCMgAUAAGAZAQsAAMAyAhYAAIBlBCwAAADLCFgAAACWEbAAAAAsI2ABAABYRsACAACwjIAFAABgWYCnC7hSFBefsD6mv7%2BfQkOb6dixMlVXG%2BvjX8lY2/rD2tYv1rf%2BsLb1pz7XtlWrFlbHqy2uYDVg/v5%2B8vPzk7%2B/n6dL8Tmsbf1hbesX61t/WNv644trS8ACAACwjIAFAABgGQELAADAMgIWAACAZQQsAAAAywhYAAAAlhGwAAAALCNgAQAAWEbAAgAAsIyABQAAYBkBCwAAwDICFgAAgGUELAAAAMsCPF0AAODKdfef/9fTJVyUT58a4ukS0EAQsBq43nPf8XQJtbZ5al9PlwAAwGXBFiEAAIBlPnkF65NPPtFDDz3k1maM0ZkzZ7Rnzx7l5ORo2bJl%2Buabb3Tddddp4sSJGj58uOvYjIwMrVmzRsXFxQoPD9fcuXMVGRl5uacBXJSGtNXCNgsAX%2BeTAatPnz7Kzc11a3vhhRf01VdfqaioSI8%2B%2Bqjmzp2rhIQEffbZZ5o8ebLat2%2BvqKgobdu2TcuXL9dLL72k8PBwZWRkaNKkSdq6dauaNm3qoRn5hoYUACRCAICaGtJtGRK3ZnjSFbFF%2BN133%2BmVV17R7373O23YsEHt2rVTUlKSAgMDFRsbq/j4eGVlZUmSMjMzlZiYqOjoaDVp0kTjx4%2BXJG3fvt2TUwAAAA2IT17BOtezzz6rUaNG6Re/%2BIXy8/MVERHh1h8REaHNmzdLkvLz8zV06FBXn7%2B/v7p06aLc3FwNGzasVs9XVFSk4uJit7aAgKYKCwur40zcNWp0ReRjj2KN6w9rWz/OrivrC0kKCGgYrwNffN36fMA6dOiQtm7dqq1bt0qSnE6nWrdu7XZMy5Yt5XA4XP3BwcFu/cHBwa7%2B2sjMzNSKFSvc2lJTU5WWlnYpU4AHBQVd7ekSfFJD22ZpiNvFvHYhSSEhzTxdwkXxpdetzwesNWvWaNCgQWrVqlWtH2OMqdNzJicnKz4%2B3q0tIKCpHI6yOo17Ll9K%2Bt6qpKRcVVXVni4DHtYQAyGvXUiy/r5TXxo18ldQ0NX18rr1VMj0%2BYC1ZcsWzZo1y/XnkJAQOZ1Ot2McDodCQ0N/st/pdKpjx461fs6wsLAa24HFxSdUWcnJrqGpqqrmvxsaJF67kNTgXgO%2B9Lr16Usgu3fvVmFhofr2/f9PUURFRSkvL8/tuLy8PEVHR0uSIiMjlZ%2Bf7%2BqrqqpSQUGBqx8AAOBCfPoKVkFBgVq2bKnmzZu72hISEvTcc88pKytLw4cP18cff6zs7GxlZmZKklJSUjR9%2BnTdc889Cg8P13/8x3%2BocePG6t%2B/v4dmAU9paNtCAADv4dMB64cffqhx79U111yjVatWaeHChVqwYIHatm2rJUuWqHPnzpKkO%2B64Q9OnT9fUqVN19OhRRUVFKT09XU2aNPHEFAAAQAPkZ%2Bp6Rzdqpbj4hPUxAwL8ddfSD6yPC6Bh%2B/SpIXI4yhrEvSwN7QuIG5qG8kWjAQH%2BCglpVi%2Bv21atWlgdr7Z8%2Bh4sAAAATyBgAQAAWMYW4WXCFiEAAD%2Btvra22SIEAADwEQQsAAAAywhYAAAAlhGwAAAALCNgAQAAWEbAAgAAsIyABQAAYBkBCwAAwDICFgAAgGUELAAAAMsIWAAAAJYRsAAAACwjYAEAAFhGwAIAALCMgAUAAGAZAQsAAMAyAhYAAIBlBCwAAADLCFgAAACWEbAAAAAsI2ABAABYRsACAACwjIAFAABgGQELAADAMgIWAACAZQQsAAAAywhYAAAAlhGwAAAALPPpgLVy5Ur169dP3bt317hx43To0CFJUk5OjpKSktSzZ08NGzZM69evd3tcRkaGBg8erJ49eyolJUV5eXmeKB8AADRQPhuw1qxZo/Xr1ysjI0MffvihOnTooL/85S8qKirSo48%2BqrFjxyonJ0dz587V448/rtzcXEnStm3btHz5cv3pT3/SRx99pAEDBmjSpEk6efKkh2cEAAAaCp8NWC%2B//LKmTZumX/7yl2revLnmzZunefPmacOGDWrXrp2SkpIUGBio2NhYxcfHKysrS5KUmZmpxMRERUdHq0mTJho/frwkafv27Z6cDgAAaEB8MmB9//33OnTokI4fP66hQ4cqJiZGaWlpOnbsmPLz8xUREeF2fEREhGsb8Nx%2Bf39/denSxXWFCwAA4EICPF1AfThy5Igk6Z133tErr7wiY4zS0tI0b948VVRUqHXr1m7Ht2zZUg6HQ5LkdDoVHBzs1h8cHOzqr42ioiIVFxe7tQUENFVYWNilTOcnNWrkk/kYAHCF8qX3NZ8MWMYYSdL48eNdYWrKlCmaMGGCYmNja/34S5WZmakVK1a4taWmpiotLa1O4wIA4MuCgq72dAnW%2BGTAuvbaayVJQUFBrra2bdvKGKMzZ87I6XS6He9wOBQaGipJCgkJqdHvdDrVsWPHWj9/cnKy4uPj3doCAprK4Si7qHlciC8lfQAASkrKVVVVbXXMkJBmVserLZ8MWG3atFHz5s21e/dude3aVZJUWFioq666SnFxcVq3bp3b8Xl5eYqOjpYkRUZGKj8/XyNHjpQkVVVVqaCgQElJSbV%2B/rCwsBrbgcXFJ1RZafdFAwCAL6mqqvaZ90qfvAQSEBCgpKQkvfDCC/rHP/6ho0eP6vnnn1dCQoJGjhypwsJCZWVl6dSpU8rOzlZ2drbGjBkjSUpJSdHatWu1a9culZeXa%2BXKlWrcuLH69%2B/v2UkBAIAGwyevYEnSjBkzdPr0aY0ePVpnzpzR4MGDNW/ePDVr1kyrVq3SwoULtWDBArVt21ZLlixR586dJUl33HGHpk%2BfrqlTp%2Bro0aOKiopSenq6mjRp4uEZAQCAhsLP1PWObtRKcfEJ62MGBPjrrqUfWB8XAIDL7dOnhsjhKLO%2BRdiqVQur49WWT24RAgAAeBIBCwAAwDICFgAAgGUELAAAAMsIWAAAAJYRsAAAACwjYAEAAFhGwAIAALCMgAUAAGAZAQsAAMAyAhYAAIBlBCwAAADLCFgAAACWEbAAAAAsI2ABAABYRsACAACwjIAFAABgGQELAADAMgIWAACAZQQsAAAAywhYAAAAlhGwAAAALCNgAQAAWEbAAgAAsIyABQAAYBkBCwAAwDICFgAAgGUELAAAAMsIWAAAAJYRsAAAACwjYAEAAFhGwAIAALDMZwNWeHi4IiMjFRUV5fp58sknJUk5OTlKSkpSz549NWzYMK1fv97tsRkZGRo8eLB69uyplJQU5eXleWIKAACggQrwdAH16Z133tH111/v1lZUVKRHH31Uc%2BfOVUJCgj777DNNnjxZ7du3V1RUlLZt26bly5frpZdeUnh4uDIyMjRp0iRt3bpVTZs29dBMAABAQ%2BKzV7B%2ByoYNG9SuXTslJSUpMDBQsbGxio%2BPV1ZWliQpMzNTiYmJio6OVpMmTTR%2B/HhJ0vbt2z1ZNgAAaEB8%2BgrWsmXLtHPnTpWWluruu%2B/W7NmzlZ%2Bfr4iICLfjIiIitHnzZklSfn6%2Bhg4d6urz9/dXly5dlJubq2HDhtXqeYuKilRcXOzWFhDQVGFhYXWckbtGja64fAwA8GG%2B9L7mswGre/fuio2N1R//%2BEcdPHhQU6dO1YIFC%2BR0OtW6dWu3Y1u2bCmHwyFJcjqdCg4OdusPDg529ddGZmamVqxY4daWmpqqtLS0S5wNAAC%2BLyjoak%2BXYI3PBqzMzEzXv998882aOXOmJk%2BerF69el3wscaYOj13cnKy4uPj3doCAprK4Sir07jn8qWkDwBASUm5qqqqrY4ZEtLM6ni15bMB61zXX3%2B9qqqq5O/vL6fT6dbncDgUGhoqSQoJCanR73Q61bFjx1o/V1hYWI3twOLiE6qstPuiAQDAl1RVVfvMe6VPXgIpKCjQ4sWL3dr27dunxo0bKy4ursbXLuTl5Sk6OlqSFBkZqfz8fFdfVVWVCgoKXP0AAAAX4pMB65prrlFmZqbS09N1%2BvRp7d%2B/X88%2B%2B6ySk5P1q1/9SoWFhcrKytKpU6eUnZ2t7OxsjRkzRpKUkpKitWvXateuXSovL9fKlSvVuHFj9e/f37OTAgAADYafqesNR17qk08%2B0bJly7Rnzx41btxYI0eO1LRp0xQYGKhPPvlECxcu1L59%2B9S2bVvNmDFDgwYNcj329ddfV3p6uo4ePaqoqCjNnz9fnTp1qlM9xcUn6jqlGgIC/HXX0g%2BsjwsAwOX26VND5HCUWd8ibNWqhdXxastnA5a3IWABAPDTfC1g%2BeQWIQAAgCcRsAAAACwjYAEAAFhGwAIAALCMgAUAAGAZAQsAAMAyAhYAAIBlBCwAAADLCFgAAACWEbAAAAAsI2ABAABYRsACAACwjIAFAABgmdcFrPj4eK1YsUKHDx/2dCkAAACXxOsC1qhRo7Rp0ybdeeedGj9%2BvLZu3arKykpPlwUAAFBrfsYY4%2Bkizic/P18bN27U5s2bdebMGY0YMUJJSUlq3769p0u7JMXFJ6yPGRDgr7uWfmB9XAAALrdPnxoih6NMlZXVVsdt1aqF1fFqy2sD1lnGGG3atEnz589XaWmpYmNj9Zvf/EbdunXzdGkXhYAFAMBP87WA5XVbhGedOXNGmzZt0oQJEzRr1iy1bt1av//979WlSxeNGzdOGzZs8HSJAAAA5xXg6QLOtW/fPr355ptau3atysrKNHjwYL366qvq1auX65g%2Bffpo/vz5SkhI8GClAAAA5%2Bd1AWvYsGFq3769Jk6cqBEjRqhly5Y1jomLi9OxY8c8UB0AAMCFeV3AysjI0C233HLB47744ovLUA0AAMDF87p7sMLDwzVp0iS9%2B%2B67rra//OUvmjBhgpxOpwcrAwAAqB2vC1iLFi3SiRMn1KFDB1db//79VV1drcWLF3uwMgAAgNrxui3CDz/8UBs2bFBISIirrV27dlq6dKnuueceD1YGAABQO153BauiokKBgYE12v39/VVeXu6BigAAAC6O1wWsPn36aPHixTp%2B/Lir7fvvv9eCBQvcvqoBAADAW3ndFuGcOXP00EMP6bbbblPz5s1VXV2tsrIy3XDDDXrttdc8XR4AAMAFeV3AuuGGG/T222/r/fff17fffit/f3%2B1b99e/fr1U6NGjTxdHgAAwAV5XcCSpMaNG%2BvOO%2B/0dBkAAACXxOsC1sGDB7Vs2TJ9/fXXqqioqNH/3nvveaAqAACA2vO6gDVnzhwVFRWpX79%2Batq0qafLAQAAuGheF7Dy8vL03nvvKTQ01NqYTz/9tF599VXt2bNHkpSTk6Nly5bpm2%2B%2B0XXXXaeJEydq%2BPDhruMzMjK0Zs0aFRcXKzw8XHPnzlVkZKS1egAAgG/zuq9puOaaa6xeudq9e7fWrVvn%2BnNRUZEeffRRjR07Vjk5OZo7d64ef/xx5ebmSpK2bdum5cuX609/%2BpM%2B%2BugjDRgwQJMmTdLJkyet1QQAAHyb1wWsiRMnasWKFTLG1Hms6upqPfHEExo3bpyrbcOGDWrXrp2SkpIUGBio2NhYxcfHKysrS5KUmZmpxMRERUdHq0mTJho/frwkafv27XWuBwAAXBm8bovw/fff1%2Beff6633npL119/vfz93TPgG2%2B8Ueux3njjDQUGBiohIUF//vOfJUn5%2BfmKiIhwOy4iIkKbN2929Q8dOtTV5%2B/vry5duig3N1fDhg271GkBAIAriNcFrObNm%2BuOO%2B6o8zg//PCDli9fXuPLSZ1Op1q3bu3W1rJlSzkcDld/cHCwW39wcLCrvzaKiopUXFzs1hYQ0FRhYWEXM4ULatTI6y5AAgBwyXzpfc3rAtaiRYusjZOYmKgOHTro0KFDF/XYum5PZmZmasWKFW5tqampSktLq9O4AAD4sqCgqz1dgjVeF7Ak6ZtvvtHbb7%2Bt7777zhW4du7cqR49etTq8Tk5Odq5c6c2btxYoy8kJEROp9OtzeFwuD61eL5%2Bp9Opjh071rr%2B5ORkxcfHu7UFBDSVw1FW6zFqw5eSPgAAJSXlqqqqtjpmSEgzq%2BPVltcFrJycHE2YMEHt27fXgQMHtGjRIh08eFAPPPCA/vznP2vgwIEXHGP9%2BvU6evSoBgwYIOn/r0jFxMTooYceqhG88vLyFB0dLUmKjIxUfn6%2BRo4cKUmqqqpSQUGBkpKSaj2HsLCwGtuBxcUnVFlp90UDAIAvqaqq9pn3Sq%2B7BPLMM8/ot7/9rTZs2CA/Pz9JP/5%2BwsWLF%2Bv555%2Bv1RizZ8/Wli1btG7dOq1bt07p6emSpHXr1ikhIUGFhYXKysrSqVOnlJ2drezsbI0ZM0aSlJKSorVr12rXrl0qLy/XypUr1bhxY/Xv379e5gsAAHyP113B%2Bvvf/67Vq1dLkitgSdKQIUM0Z86cWo0RHBzsdqN6ZWWlJKlNmzaSpFWrVmnhwoVasGCB2rZtqyVLlqhz586SpDvuuEPTp0/X1KlTdfToUUVFRSk9PV1NmjSxMj8AAOD7vC5gtWjRQhUVFWrcuLFbe1FRUY222rr%2B%2Butd3%2BIuSX369HH78tFz3Xvvvbr33nsv6bkAAAC8bouwZ8%2Beevrpp1VaWupq279/v2bNmqXbbrvNg5UBAADUjtddwfr973%2BvBx98UDExMaqqqlLPnj1VXl6ujh07avHixZ4uDwAA4IK8LmC1adNGGzduVHZ2tvbv368mTZqoffv26tu3r9s9WQAAAN7K6wKWJF111VW68847PV0GAADAJfG6gBUfH/%2BzV6ree%2B%2B9y1gNAADAxfO6gDV06FC3gFVVVaX9%2B/crNzdXDz74oAcrAwAAqB2vC1gzZ848b/uWLVv017/%2B9TJXAwAAcPG87msafsqdd96pt99%2B29NlAAAAXFCDCVgFBQWu3ykIAADgzbxui3Ds2LE12srLy7Vv3z4NGjTIAxUBAABcHK8LWO3atavxKcLAwEAlJSVp9OjRHqoKAACg9rwuYPFt7QAAoKHzuoC1du3aWh87YsSIeqwEAADg0nhdwJo7d66qq6tr3NDu5%2Bfn1ubn50fAAgAAXsnrAtZLL72kl19%2BWZMmTVJ4eLiMMdqzZ49efPFF3X///YqJifF0iQAAAD/L6wLW4sWLlZ6ertatW7vaevfurRtuuEEPP/ywNm7c6MHqAAAALszrvgfrwIEDCg4OrtEeFBSkwsJCD1QEAABwcbwuYLVt21aLFy%2BWw%2BFwtZWUlGjZsmW68cYbPVgZAABA7XjdFuGcOXM0Y8YMZWZmqlmzZvL391dpaamaNGmi559/3tPlAQAAXJDXBax%2B/fppx44dys7O1pEjR2SMUevWrXX77berRYsWni4PAADggrwuYEnS1VdfrYEDB%2BrIkSO64YYbPF0OAADARfG6e7AqKio0a9Ys9ejRQ3fffbekH%2B/BGj9%2BvEpKSjxcHQAAwIV5XcBasmSJdu/eraVLl8rf///Lq6qq0tKlSz1YGQAAQO14XcDasmWLnnvuOQ0ZMsT1S5%2BDgoK0aNEibd261cPVAQAAXJjXBayysjK1a9euRntoaKhOnjx5%2BQsCAAC4SF4XsG688Ub99a9/lSS33z34zjvv6Be/%2BIWnygIAAKg1r/sU4b333qspU6Zo1KhRqq6u1iuvvKK8vDxt2bJFc%2BfO9XR5AAAAF%2BR1ASs5OVkBAQFavXq1GjVqpBdeeEHt27fX0qVLNWTIEE%2BXBwAAcEFeF7COHTumUaNGadSoUZ4uBQAA4JJ43T1YAwcOdLv3CgAAoKHxuoAVExOjzZs3e7oMAACAS%2BZ1W4TXXXednnrqKaWnp%2BvGG2/UVVdd5da/bNkyD1UGAABQO153BWvv3r365S9/qRYtWsjhcKioqMjtp7a%2B%2BuorPfjgg%2BrVq5diY2M1depUFRcXS5JycnKUlJSknj17atiwYVq/fr3bYzMyMjR48GD17NlTKSkpysvLszpHAADg27zmCta0adP0zDPP6LXXXnO1Pf/880pNTb3osU6fPq2HHnpI9913n1588UWVlpbqN7/5jebPn68nnnhCjz76qObOnauEhAR99tlnmjx5stq3b6%2BoqCht27ZNy5cv10svvaTw8HBlZGRo0qRJ2rp1q5o2bWpzygAAwEd5zRWsbdu21WhLT0%2B/pLHKy8s1bdo0TZw4UY0bN1ZoaKjuuusuff3119qwYYPatWunpKQkBQYGKjY2VvHx8crKypIkZWZmKjExUdHR0WrSpInGjx8vSdq%2BffulTw4AAFxRvOYK1vk%2BOXipnyYMDg7W6NGjXX/%2B5ptv9N///d%2B6%2B%2B67lZ%2Bfr4iICLfjIyIiXDfW5%2Bfna%2BjQoa4%2Bf39/denSRbm5uRo2bFitnr%2BoqMi1HXlWQEBThYWFXdJ8fkqjRl6TjwEAqDNfel/zmoB19hc7X6jtYhQWFmrw4MGqrKzUmDFjlJaWpgkTJqh169Zux7Vs2VIOh0OS5HQ6FRwc7NYfHBzs6q%2BNzMxMrVixwq0tNTVVaWlplzgTAAB8X1DQ1Z4uwRqvCVj1oW3btsrNzdU//vEP/eEPf9Dvfve7Wj2urt/DlZycrPj4eLe2gICmcjjK6jTuuXwp6QMAUFJSrqqqaqtjhoQ0szpebfl0wJJ%2BvArWrl07TZs2TWPHjlVcXJycTqfbMQ6HQ6GhoZKkkJCQGv1Op1MdO3as9XOGhYXV2A4sLj6hykq7LxoAAHxJVVW1z7xXek3AOnPmjGbMmHHBttp8D1ZOTo7mz5%2BvzZs3y9//x6s8Z//ZrVs3bdmyxe34vLw8RUdHS5IiIyOVn5%2BvkSNHSpKqqqpUUFCgpKSkS5sYAAC44njNHlOvXr1qfOfV%2BdpqIzIyUqWlpVqyZInKy8t17NgxLV%2B%2BXL1791ZKSooKCwuVlZWlU6dOKTs7W9nZ2RozZowkKSUlRWvXrtWuXbtUXl6ulStXqnHjxurfv389zh4AAPgSP%2BOjv/hvz549Wrhwob788ks1bdpUt956q2bPnq3WrVvrk08%2B0cKFC7Vv3z61bdtWM2bM0KBBg1yPff3115Wenq6jR48qKipK8%2BfPV6dOnepUT3HxibpOqYaAAH/dtfQD6%2BMCAHC5ffrUEDkcZda3CFu1amF1vNry2YDlbQhYAAD8NF8LWF6zRQgAAOArCFgAAACWEbAAAAAsI2ABAABYRsACAACwjIAFAABgGQELAADAMgIWAACAZQQsAAAAywhYAAAAlhGwAAAALCNgAQAAWEbAAgAAsIyABQAAYBkBCwAAwDICFgAAgGUELAAAAMsIWAAAAJYRsAAAACwjYAEAAFhGwAIAALCMgAUAAGAZAQsAAMAyAhYAAIBlBCwAAADLCFgAAACWEbAAAAAsI2ABAABYRsACAACwjIAFAABgGQELAADAMp8NWIWFhUpNTVVMTIxiY2M1e/ZslZSUSJJ2796t%2B%2B%2B/X7169dKgQYP08ssvuz1206ZNSkhIUI8ePZSYmKgPP/zQE1MAAAANlM8GrEmTJikoKEjbtm3TW2%2B9pa%2B//lp//OMfVVFRoYkTJ%2BrWW2/VBx98oGeeeUarVq3S1q1bJf0YvmbNmqWZM2fq448/1rhx4/TYY4/pyJEjHp4RAABoKHwyYJWUlCgyMlIzZsxQs2bN1KZNG40cOVKffvqpduzYoTNnzmjy5Mlq2rSpunbtqtGjRyszM1OSlJWVpbi4OMXFxSkwMFDDhw9Xp06dtH79eg/PCgAANBQ%2BGbCCgoK0aNEiXXvtta62w4cPKywsTPn5%2BQoPD1ejRo1cfREREcrLy5Mk5efnKyIiwm28iIgI5ebmXp7iAQBAgxfg6QIuh9zcXK1evVorV67U5s2bFRQU5NbfsmVLOZ1OVVdXy%2Bl0Kjg42K0/ODhYe/furfXzFRUVqbi42K0tIKCpwsLCLn0S59GokU/mYwDAFcqX3td8PmB99tlnmjx5smbMmKHY2Fht3rz5vMf5%2Bfm5/t0YU6fnzMzM1IoVK9zaUlNTlZaWVqdxAQDwZUFBV3u6BGt8OmBt27ZNv/3tb/X4449rxIgRkqTQ0FAdOHDA7Tin06mWLVvK399fISEhcjqdNfpDQ0Nr/bzJycmKj493awsIaCqHo%2BzSJvITfCnpAwBQUlKuqqpqq2OGhDSzOl5t%2BWzA%2BvzzzzVr1iw9%2B%2Byz6tevn6s9MjJS//mf/6nKykoFBPw4/dzcXEVHR7v6z96PdVZubq6GDRtW6%2BcOCwursR1YXHxClZV2XzQAAPiSqqpqn3mv9MlLIJWVlZo3b55mzpzpFq4kKS4uTs2bN9fKlStVXl6uL774Qm%2B%2B%2BaZSUlIkSWPGjNFHH32kHTt26NSpU3rzzTd14MABDR8%2B3BNTAQAADZCfqesNR17o008/1X333afGjRvX6HvnnXdUVlamJ554Qnl5ebr22ms1YcIE3Xvvva5jtm7dqmXLlqmwsFAdOnTQ3Llz1adPnzrVVFx8ok6PP5%2BAAH/dtfQD6%2BMCAHC5ffrUEDkcZdavYLVq1cLqeLXlkwHLGxGwAAD4ab4WsHxyixAAAMCTCFgAAACWEbAAAAAsI2ABAABYRsACAACwjIAFAABgGQELAADAMiBWmgwAABCLSURBVAIWAACAZQQsAAAAywhYAAAAlhGwAAAALCNgAQAAWEbAAgAAsIyABQAAYBkBCwAAwDICFgAAgGUELAAAAMsIWAAAAJYRsAAAACwjYAEAAFhGwAIAALCMgAUAAGAZAQsAAMAyAhYAAIBlBCwAAADLCFgAAACWEbAAAAAsI2ABAABYRsACAACwjIAFAABgGQELAADAMgIWAACAZT4bsD744APFxsZq2rRpNfo2bdqkhIQE9ejRQ4mJifrwww9dfdXV1XrmmWc0cOBA9enTRw8//LAOHjx4OUsHAAANnE8GrBdffFELFy7UTTfdVKNv9%2B7dmjVrlmbOnKmPP/5Y48aN02OPPaYjR45IktasWaMNGzYoPT1d27dvV7t27ZSamipjzOWeBgAAaKB8MmAFBgbqzTffPG/AysrKUlxcnOLi4hQYGKjhw4erU6dOWr9%2BvSQpMzNT48aN080336zmzZtr2rRp2rdvn7744ovLPQ0AANBABXi6gPrwwAMP/GRffn6%2B4uLi3NoiIiKUm5uriooK7d27VxEREa6%2B5s2b66abblJubq66d%2B9eq%2BcvKipScXGxW1tAQFOFhYVdxCwurFEjn8zHAIArlC%2B9r/lkwPo5TqdTwcHBbm3BwcHau3evjh8/LmPMefsdDketnyMzM1MrVqxwa0tNTVVaWtqlFw4AgI8LCrra0yVYc8UFLEkXvJ%2BqrvdbJScnKz4%2B3q0tIKCpHI6yOo17Ll9K%2BgAAlJSUq6qq2uqYISHNrI5XW1dcwAoJCZHT6XRrczqdCg0NVcuWLeXv73/e/muuuabWzxEWFlZjO7C4%2BIQqK%2B2%2BaAAA8CVVVdU%2B8155xV0CiYyMVF5enltbbm6uoqOjFRgYqI4dOyo/P9/VV1JSom%2B//VbdunW73KUCAIAG6ooLWGPGjNFHH32kHTt26NSpU3rzzTd14MABDR8%2BXJKUkpKijIwM7du3T6WlpVq6dKm6dOmiqKgoD1cOAAAaCp/cIjwbhiorKyVJ7777rqQfr1R16tRJS5cu1aJFi1RYWKgOHTpo1apVatWqlSRp7NixKi4u1r/8y7%2BorKxMMTExNW5YBwAA%2BDl%2Bhm/QvCyKi09YHzMgwF93Lf3A%2BrgAAFxunz41RA5HmfV7sFq1amF1vNq64rYIAQAA6hsBCwAAwDICFgAAgGUELAAAAMsIWAAAAJYRsAAAACwjYAEAAFhGwAIAALCMgAUAAGAZAQsAAMAyAhYAAIBlBCwAAADLCFgAAACWEbAAAAAsI2ABAABYRsACAACwjIAFAABgGQELAADAMgIWAACAZQQsAAAAywhYAAAAlhGwAAAALCNgAQAAWEbAAgAAsIyABQAAYBkBCwAAwDICFgAAgGUELAAAAMsIWAAAAJYRsAAAACwjYAEAAFhGwAIAALCMgHUehYWFeuSRRxQTE6MBAwZoyZIlqq6u9nRZAACggQjwdAHeaMqUKerataveffddHT16VBMnTtS1116rX//6154uDQAANABcwTpHbm6uvvrqK82cOVMtWrRQu3btNG7cOGVmZnq6NAAA0EBwBesc%2Bfn5atu2rYKDg11tXbt21f79%2B1VaWqrmzZtfcIyioiIVFxe7tQUENFVYWJjVWhs1Ih8DAHyHL72vEbDO4XQ6FRQU5NZ2Nmw5HI5aBazMzEytWLHCre2xxx7TlClT7BWqH4Pcg22%2BVnJysvXwdqUrKipSZmYma1sPWNv6xfrWH9a2/hQVFWn58uU%2Btba%2BExUtMsbU6fHJycl666233H6Sk5MtVff/iouLtWLFihpXy1B3rG39YW3rF%2Btbf1jb%2BuOLa8sVrHOEhobK6XS6tTmdTvn5%2BSk0NLRWY4SFhflMAgcAABePK1jniIyM1OHDh3Xs2DFXW25urjp06KBmzZp5sDIAANBQELDOERERoaioKC1btkylpaXat2%2BfXnnlFaWkpHi6NAAA0EA0mj9//nxPF%2BFtbr/9dm3cuFFPPvmk3n77bSUlJenhhx%2BWn5%2Bfp0uroVmzZrrlllu4ulYPWNv6w9rWL9a3/rC29cfX1tbP1PWObgAAALhhixAAAMAyAhYAAIBlBCwAAADLCFgAAACWEbAAAAAsI2ABAABYRsACAACwjIAFAABgGQELAADAMgJWA1RYWKhHHnlEMTExGjBggJYsWaLq6mpPl%2BW1CgsLlZqaqpiYGMXGxmr27NkqKSmRJO3evVv333%2B/evXqpUGDBunll192e%2BymTZuUkJCgHj16KDExUR9%2B%2BKGrr7q6Ws8884wGDhyoPn366OGHH9bBgwcv69y8ydNPP63w8HDXn3NycpSUlKSePXtq2LBhWr9%2BvdvxGRkZGjx4sHr27KmUlBTl5eW5%2Bk6dOqU//OEPuuOOOxQTE6O0tDQ5HI7LNhdvsnLlSvXr10/du3fXuHHjdOjQIUmsb10VFBTogQceUO/evdW3b1/NnDlTx44dk8TaXooPPvhAsbGxmjZtWo2%2BupxHnU6npk6dqtjYWPXr109z585VRUWFq/9C53CPMmhwRo4caebNm2dKSkrM/v37zaBBg8zLL7/s6bK81j333GNmz55tSktLzeHDh01iYqKZM2eOKS8vN7fffrtZvny5KSsrM3l5eeaWW24xW7ZsMcYYU1BQYCIjI82OHTtMRUWFWbdunYmOjjaHDx82xhiTkZFhBgwYYPbu3WtOnDhh/vVf/9UkJCSY6upqT07XIwoKCswtt9xiOnXqZIwx5vvvvzfdu3c3WVlZpqKiwvzv//6v6datm/nyyy%2BNMca89957pnfv3mbXrl2mvLzcrFq1yvTt29eUlZUZY4xZtGiRSUxMNN99951xOBzmscceMxMnTvTY/Dxl9erVZsiQIWbfvn3mxIkT5sknnzRPPvkk61tHZ86cMX379jXLli0zp06dMseOHTO//vWvzZQpU1jbS5Cenm4GDRpkxo4da6ZOnerWV9fz6GOPPWYeeeQRc/ToUXPkyBGTnJxsnnzySWOMueA53NMIWA3Ml19%2Babp06WKcTqer7fXXXzeDBw/2YFXe6/jx42b27NmmuLjY1fbaa6%2BZQYMGmc2bN5tbb73VVFZWuvqWLFliHnroIWOMMQsWLDCpqalu440ePdqsWrXKGGPMsGHDzKuvvurqO3HihImIiDA7d%2B6szyl5naqqKjN69Gjz7//%2B766A9dJLL5kRI0a4HTd16lTz%2BOOPG2OMeeSRR8zTTz/tNkbfvn3Nxo0bzZkzZ0yvXr3Mu%2B%2B%2B6%2Brfu3evCQ8PN0eOHLkMM/Ie8fHx532zYH3r5rvvvjOdOnUye/fudbW9/vrr5s4772RtL8Grr75qSkpKzKxZs2oErLqcR4uLi03nzp3N7t27Xf3Z2dmme/fu5vTp0xc8h3saW4QNTH5%2Bvtq2bavg4GBXW9euXbV//36VlpZ6sDLvFBQUpEWLFunaa691tR0%2BfFhhYWHKz89XeHi4GjVq5OqLiIhwXe7Pz89XRESE23gRERHKzc1VRUWF9u7d69bfvHlz3XTTTcrNza3nWXmXN954Q4GBgUpISHC1/dTa/dTa%2Bvv7q0uXLsrNzdW3336rEydOqGvXrq7%2Bm2%2B%2BWU2aNFF%2Bfn49z8Z7fP/99zp06JCOHz%2BuoUOHurabjh07xvrWUevWrdWlSxdlZmaqrKxMR48e1datW9W/f3/W9hI88MADatGixXn76nIe3b17txo1auR260HXrl118uRJffPNNxc8h3saAauBcTqdCgoKcms7G7auhH3%2BusrNzdXq1as1efLk865ly5Yt5XQ6VV1dLafT6RZkpR/X2uFw6Pjx4zLG/GT/leKHH37Q8uXL9cQTT7i1/9Tanl2bn1tbp9MpSTUeHxQUdEWt7ZEjRyRJ77zzjl555RWtW7dOR44c0bx581jfOvL399fy5cv13nvvqWfPnoqNjVVlZaVmzJjB2lpWl/Oo0%2BlU8%2BbN5efn59YnydX/c%2BdwTyNgNUDGGE%2BX0CB99tlnevjhhzVjxgzFxsb%2B5HH//D/zhdb6Sv9vsWjRIiUmJqpDhw4X/VjW9uednf/48ePVunVrtWnTRlOmTNG2bdsu6vGX2u/LTp8%2BrUmTJmnIkCH69NNP9f7776tFixaaOXNmrR7P2l6cuqzXpazlP5/DPYmA1cCEhoa6/pZ0ltPplJ%2Bfn0JDQz1Ulffbtm2bHnnkEc2ZM0cPPPCApB/X8ty/VTqdTrVs2VL%2B/v4KCQk571qHhoa6jjlf/zXXXFO/k/ESOTk52rlzp1JTU2v0nW/tHA6H6zX6c2t79phz%2B48fP37FrK0k17b2P/8NvW3btjLG6MyZM6xvHeTk5OjQoUOaPn26WrRoodatWystLU3/8z//c97/r1nbS1eX82hoaKhKS0tVVVXl1ifJ1f9z53BP83wFuCiRkZE6fPiw6%2BPE0o/bXh06dFCzZs08WJn3%2BvzzzzVr1iw9%2B%2ByzGjFihKs9MjJSe/bsUWVlpastNzdX0dHRrv5z9/LP9gcGBqpjx45u91WUlJTo22%2B/Vbdu3ep5Rt5h/fr1Onr0qAYMGKCYmBglJiZKkmJiYtSpU6caa5eXl%2Be2tv%2B8dlVVVSooKFB0dLRuuOEGBQcHu/X//e9/1%2BnTpxUZGXkZZuYd2rRpo%2BbNm2v37t2utsLCQl111VWKi4tjfeugqqpK1dXVbldHTp8%2BLUmKjY1lbS2qy3m0S5cuMsboq6%2B%2BcntsUFCQ2rdvf8FzuMdd7rvqUXejR482c%2BbMMSdOnDB79%2B418fHxZvXq1Z4uyyudOXPG3H333eaNN96o0Xfq1CkzYMAA89xzz5mTJ0%2BaXbt2md69e5vt27cbY4zZs2ePiYqKMtu3bzcVFRUmKyvL9OjRwxQVFRljfvzUUf/%2B/V0fL3788cfNqFGjLuf0PMrpdJrDhw%2B7fnbu3Gk6depkDh8%2BbAoLC02PHj3Mf/3Xf5mKigqzY8cO061bN9engbKzs02vXr3Mzp07zcmTJ83y5ctNXFycKS8vN8b8%2BEmgkSNHmu%2B%2B%2B84cO3bMTJw40UyZMsWT0/WIp59%2B2gwcONAcOHDA/PDDDyY5OdnMnj3b/PDDD6xvHRw7dszccsst5t/%2B7d/MyZMnzbFjx8ykSZPMfffdx9rWwfk%2BRVjX8%2BjUqVPN%2BPHjzdGjR83hw4fNqFGjzOLFi40xFz6HexoBqwE6fPiwGT9%2BvOnWrZuJjY01zz333BX53Uu18cknn5hOnTqZyMjIGj%2BHDh0ye/bsMWPHjjWRkZGmf//%2BZs2aNW6P37Jlixk0aJDp2rWr%2BdWvfmX%2B9re/ufqqq6vNs88%2Ba2677TbTrVs3M2HCBNd3u1yJDh486PqaBmOM%2Bdvf/maGDx9uunbtagYNGlTj6wbWrFlj4uLiTGRkpElJSTF79uxx9Z06dcrMnz/f9OnTx/To0cNMnz7dlJSUXLa5eIt/Xofu3bubWbNmmdLSUmMM61tXubm55v777ze9e/c2sbGxZurUqa6vUmBtL87Zc2rnzp1N586dXX8%2Bqy7n0ZKSEjNt2jTTvXt306dPH7NgwQJz6tQpV/%2BFzuGe5GcMd%2BMBAADYxD1YAAAAlhGwAAAALCNgAQAAWEbAAgAAsIyABQAAYBkBCwAAwDICFgAAgGUELAAAAMsIWAAAAJYRsAAAACwjYAEAAFhGwAIAALCMgAUAAGDZ/wHTMxuT0rCOkgAAAABJRU5ErkJggg%3D%3D\"/>\n",
              "        </div>\n",
              "        <div role=\"tabpanel\" class=\"tab-pane col-md-12\" id=\"common-4861287830540103660\">\n",
              "            \n",
              "<table class=\"freq table table-hover\">\n",
              "    <thead>\n",
              "    <tr>\n",
              "        <td class=\"fillremaining\">Value</td>\n",
              "        <td class=\"number\">Count</td>\n",
              "        <td class=\"number\">Frequency (%)</td>\n",
              "        <td style=\"min-width:200px\">&nbsp;</td>\n",
              "    </tr>\n",
              "    </thead>\n",
              "    <tr class=\"\">\n",
              "        <td class=\"fillremaining\">2047</td>\n",
              "        <td class=\"number\">1</td>\n",
              "        <td class=\"number\">0.0%</td>\n",
              "        <td>\n",
              "            <div class=\"bar\" style=\"width:1%\">&nbsp;</div>\n",
              "        </td>\n",
              "</tr><tr class=\"\">\n",
              "        <td class=\"fillremaining\">3403</td>\n",
              "        <td class=\"number\">1</td>\n",
              "        <td class=\"number\">0.0%</td>\n",
              "        <td>\n",
              "            <div class=\"bar\" style=\"width:1%\">&nbsp;</div>\n",
              "        </td>\n",
              "</tr><tr class=\"\">\n",
              "        <td class=\"fillremaining\">5432</td>\n",
              "        <td class=\"number\">1</td>\n",
              "        <td class=\"number\">0.0%</td>\n",
              "        <td>\n",
              "            <div class=\"bar\" style=\"width:1%\">&nbsp;</div>\n",
              "        </td>\n",
              "</tr><tr class=\"\">\n",
              "        <td class=\"fillremaining\">7481</td>\n",
              "        <td class=\"number\">1</td>\n",
              "        <td class=\"number\">0.0%</td>\n",
              "        <td>\n",
              "            <div class=\"bar\" style=\"width:1%\">&nbsp;</div>\n",
              "        </td>\n",
              "</tr><tr class=\"\">\n",
              "        <td class=\"fillremaining\">1338</td>\n",
              "        <td class=\"number\">1</td>\n",
              "        <td class=\"number\">0.0%</td>\n",
              "        <td>\n",
              "            <div class=\"bar\" style=\"width:1%\">&nbsp;</div>\n",
              "        </td>\n",
              "</tr><tr class=\"\">\n",
              "        <td class=\"fillremaining\">3387</td>\n",
              "        <td class=\"number\">1</td>\n",
              "        <td class=\"number\">0.0%</td>\n",
              "        <td>\n",
              "            <div class=\"bar\" style=\"width:1%\">&nbsp;</div>\n",
              "        </td>\n",
              "</tr><tr class=\"\">\n",
              "        <td class=\"fillremaining\">5440</td>\n",
              "        <td class=\"number\">1</td>\n",
              "        <td class=\"number\">0.0%</td>\n",
              "        <td>\n",
              "            <div class=\"bar\" style=\"width:1%\">&nbsp;</div>\n",
              "        </td>\n",
              "</tr><tr class=\"\">\n",
              "        <td class=\"fillremaining\">7489</td>\n",
              "        <td class=\"number\">1</td>\n",
              "        <td class=\"number\">0.0%</td>\n",
              "        <td>\n",
              "            <div class=\"bar\" style=\"width:1%\">&nbsp;</div>\n",
              "        </td>\n",
              "</tr><tr class=\"\">\n",
              "        <td class=\"fillremaining\">1346</td>\n",
              "        <td class=\"number\">1</td>\n",
              "        <td class=\"number\">0.0%</td>\n",
              "        <td>\n",
              "            <div class=\"bar\" style=\"width:1%\">&nbsp;</div>\n",
              "        </td>\n",
              "</tr><tr class=\"\">\n",
              "        <td class=\"fillremaining\">3395</td>\n",
              "        <td class=\"number\">1</td>\n",
              "        <td class=\"number\">0.0%</td>\n",
              "        <td>\n",
              "            <div class=\"bar\" style=\"width:1%\">&nbsp;</div>\n",
              "        </td>\n",
              "</tr><tr class=\"other\">\n",
              "        <td class=\"fillremaining\">Other values (6990)</td>\n",
              "        <td class=\"number\">6990</td>\n",
              "        <td class=\"number\">99.9%</td>\n",
              "        <td>\n",
              "            <div class=\"bar\" style=\"width:100%\">&nbsp;</div>\n",
              "        </td>\n",
              "</tr>\n",
              "</table>\n",
              "        </div>\n",
              "        <div role=\"tabpanel\" class=\"tab-pane col-md-12\"  id=\"extreme-4861287830540103660\">\n",
              "            <p class=\"h4\">Minimum 5 values</p>\n",
              "            \n",
              "<table class=\"freq table table-hover\">\n",
              "    <thead>\n",
              "    <tr>\n",
              "        <td class=\"fillremaining\">Value</td>\n",
              "        <td class=\"number\">Count</td>\n",
              "        <td class=\"number\">Frequency (%)</td>\n",
              "        <td style=\"min-width:200px\">&nbsp;</td>\n",
              "    </tr>\n",
              "    </thead>\n",
              "    <tr class=\"\">\n",
              "        <td class=\"fillremaining\">0</td>\n",
              "        <td class=\"number\">1</td>\n",
              "        <td class=\"number\">0.0%</td>\n",
              "        <td>\n",
              "            <div class=\"bar\" style=\"width:100%\">&nbsp;</div>\n",
              "        </td>\n",
              "</tr><tr class=\"\">\n",
              "        <td class=\"fillremaining\">1</td>\n",
              "        <td class=\"number\">1</td>\n",
              "        <td class=\"number\">0.0%</td>\n",
              "        <td>\n",
              "            <div class=\"bar\" style=\"width:100%\">&nbsp;</div>\n",
              "        </td>\n",
              "</tr><tr class=\"\">\n",
              "        <td class=\"fillremaining\">3</td>\n",
              "        <td class=\"number\">1</td>\n",
              "        <td class=\"number\">0.0%</td>\n",
              "        <td>\n",
              "            <div class=\"bar\" style=\"width:100%\">&nbsp;</div>\n",
              "        </td>\n",
              "</tr><tr class=\"\">\n",
              "        <td class=\"fillremaining\">5</td>\n",
              "        <td class=\"number\">1</td>\n",
              "        <td class=\"number\">0.0%</td>\n",
              "        <td>\n",
              "            <div class=\"bar\" style=\"width:100%\">&nbsp;</div>\n",
              "        </td>\n",
              "</tr><tr class=\"\">\n",
              "        <td class=\"fillremaining\">6</td>\n",
              "        <td class=\"number\">1</td>\n",
              "        <td class=\"number\">0.0%</td>\n",
              "        <td>\n",
              "            <div class=\"bar\" style=\"width:100%\">&nbsp;</div>\n",
              "        </td>\n",
              "</tr>\n",
              "</table>\n",
              "            <p class=\"h4\">Maximum 5 values</p>\n",
              "            \n",
              "<table class=\"freq table table-hover\">\n",
              "    <thead>\n",
              "    <tr>\n",
              "        <td class=\"fillremaining\">Value</td>\n",
              "        <td class=\"number\">Count</td>\n",
              "        <td class=\"number\">Frequency (%)</td>\n",
              "        <td style=\"min-width:200px\">&nbsp;</td>\n",
              "    </tr>\n",
              "    </thead>\n",
              "    <tr class=\"\">\n",
              "        <td class=\"fillremaining\">9993</td>\n",
              "        <td class=\"number\">1</td>\n",
              "        <td class=\"number\">0.0%</td>\n",
              "        <td>\n",
              "            <div class=\"bar\" style=\"width:100%\">&nbsp;</div>\n",
              "        </td>\n",
              "</tr><tr class=\"\">\n",
              "        <td class=\"fillremaining\">9994</td>\n",
              "        <td class=\"number\">1</td>\n",
              "        <td class=\"number\">0.0%</td>\n",
              "        <td>\n",
              "            <div class=\"bar\" style=\"width:100%\">&nbsp;</div>\n",
              "        </td>\n",
              "</tr><tr class=\"\">\n",
              "        <td class=\"fillremaining\">9995</td>\n",
              "        <td class=\"number\">1</td>\n",
              "        <td class=\"number\">0.0%</td>\n",
              "        <td>\n",
              "            <div class=\"bar\" style=\"width:100%\">&nbsp;</div>\n",
              "        </td>\n",
              "</tr><tr class=\"\">\n",
              "        <td class=\"fillremaining\">9998</td>\n",
              "        <td class=\"number\">1</td>\n",
              "        <td class=\"number\">0.0%</td>\n",
              "        <td>\n",
              "            <div class=\"bar\" style=\"width:100%\">&nbsp;</div>\n",
              "        </td>\n",
              "</tr><tr class=\"\">\n",
              "        <td class=\"fillremaining\">9999</td>\n",
              "        <td class=\"number\">1</td>\n",
              "        <td class=\"number\">0.0%</td>\n",
              "        <td>\n",
              "            <div class=\"bar\" style=\"width:100%\">&nbsp;</div>\n",
              "        </td>\n",
              "</tr>\n",
              "</table>\n",
              "        </div>\n",
              "    </div>\n",
              "</div>\n",
              "</div><div class=\"row variablerow\">\n",
              "    <div class=\"col-md-3 namecol\">\n",
              "        <p class=\"h4 pp-anchor\" id=\"pp_var_student\">student<br/>\n",
              "            <small>Categorical</small>\n",
              "        </p>\n",
              "    </div><div class=\"col-md-3\">\n",
              "    <table class=\"stats \">\n",
              "        <tr class=\"\">\n",
              "            <th>Distinct count</th>\n",
              "            <td>2</td>\n",
              "        </tr>\n",
              "        <tr>\n",
              "            <th>Unique (%)</th>\n",
              "            <td>0.0%</td>\n",
              "        </tr>\n",
              "        <tr class=\"ignore\">\n",
              "            <th>Missing (%)</th>\n",
              "            <td>0.0%</td>\n",
              "        </tr>\n",
              "        <tr class=\"ignore\">\n",
              "            <th>Missing (n)</th>\n",
              "            <td>0</td>\n",
              "        </tr>\n",
              "    </table>\n",
              "</div>\n",
              "<div class=\"col-md-6 collapse in\" id=\"minifreqtable-2252110493137706921\">\n",
              "    <table class=\"mini freq\">\n",
              "        <tr class=\"\">\n",
              "    <th>No</th>\n",
              "    <td>\n",
              "        <div class=\"bar\" style=\"width:100%\" data-toggle=\"tooltip\" data-placement=\"right\" data-html=\"true\"\n",
              "             data-delay=500 title=\"Percentage: 70.5%\">\n",
              "            4937\n",
              "        </div>\n",
              "        \n",
              "    </td>\n",
              "</tr><tr class=\"\">\n",
              "    <th>Yes</th>\n",
              "    <td>\n",
              "        <div class=\"bar\" style=\"width:42%\" data-toggle=\"tooltip\" data-placement=\"right\" data-html=\"true\"\n",
              "             data-delay=500 title=\"Percentage: 29.5%\">\n",
              "            2063\n",
              "        </div>\n",
              "        \n",
              "    </td>\n",
              "</tr>\n",
              "    </table>\n",
              "</div>\n",
              "<div class=\"col-md-12 text-right\">\n",
              "    <a role=\"button\" data-toggle=\"collapse\" data-target=\"#freqtable-2252110493137706921, #minifreqtable-2252110493137706921\"\n",
              "       aria-expanded=\"true\" aria-controls=\"collapseExample\">\n",
              "        Toggle details\n",
              "    </a>\n",
              "</div>\n",
              "<div class=\"col-md-12 extrapadding collapse\" id=\"freqtable-2252110493137706921\">\n",
              "    \n",
              "<table class=\"freq table table-hover\">\n",
              "    <thead>\n",
              "    <tr>\n",
              "        <td class=\"fillremaining\">Value</td>\n",
              "        <td class=\"number\">Count</td>\n",
              "        <td class=\"number\">Frequency (%)</td>\n",
              "        <td style=\"min-width:200px\">&nbsp;</td>\n",
              "    </tr>\n",
              "    </thead>\n",
              "    <tr class=\"\">\n",
              "        <td class=\"fillremaining\">No</td>\n",
              "        <td class=\"number\">4937</td>\n",
              "        <td class=\"number\">70.5%</td>\n",
              "        <td>\n",
              "            <div class=\"bar\" style=\"width:100%\">&nbsp;</div>\n",
              "        </td>\n",
              "</tr><tr class=\"\">\n",
              "        <td class=\"fillremaining\">Yes</td>\n",
              "        <td class=\"number\">2063</td>\n",
              "        <td class=\"number\">29.5%</td>\n",
              "        <td>\n",
              "            <div class=\"bar\" style=\"width:42%\">&nbsp;</div>\n",
              "        </td>\n",
              "</tr>\n",
              "</table>\n",
              "</div>\n",
              "</div><div class=\"row variablerow\">\n",
              "    <div class=\"col-md-3 namecol\">\n",
              "        <p class=\"h4 pp-anchor\" id=\"pp_var_income\">income<br/>\n",
              "            <small>Numeric</small>\n",
              "        </p>\n",
              "    </div><div class=\"col-md-6\">\n",
              "    <div class=\"row\">\n",
              "        <div class=\"col-sm-6\">\n",
              "            <table class=\"stats \">\n",
              "                <tr>\n",
              "                    <th>Distinct count</th>\n",
              "                    <td>7000</td>\n",
              "                </tr>\n",
              "                <tr>\n",
              "                    <th>Unique (%)</th>\n",
              "                    <td>100.0%</td>\n",
              "                </tr>\n",
              "                <tr class=\"ignore\">\n",
              "                    <th>Missing (%)</th>\n",
              "                    <td>0.0%</td>\n",
              "                </tr>\n",
              "                <tr class=\"ignore\">\n",
              "                    <th>Missing (n)</th>\n",
              "                    <td>0</td>\n",
              "                </tr>\n",
              "                <tr class=\"ignore\">\n",
              "                    <th>Infinite (%)</th>\n",
              "                    <td>0.0%</td>\n",
              "                </tr>\n",
              "                <tr class=\"ignore\">\n",
              "                    <th>Infinite (n)</th>\n",
              "                    <td>0</td>\n",
              "                </tr>\n",
              "            </table>\n",
              "\n",
              "        </div>\n",
              "        <div class=\"col-sm-6\">\n",
              "            <table class=\"stats \">\n",
              "\n",
              "                <tr>\n",
              "                    <th>Mean</th>\n",
              "                    <td>33587</td>\n",
              "                </tr>\n",
              "                <tr>\n",
              "                    <th>Minimum</th>\n",
              "                    <td>1498.2</td>\n",
              "                </tr>\n",
              "                <tr>\n",
              "                    <th>Maximum</th>\n",
              "                    <td>72461</td>\n",
              "                </tr>\n",
              "                <tr class=\"ignore\">\n",
              "                    <th>Zeros (%)</th>\n",
              "                    <td>0.0%</td>\n",
              "                </tr>\n",
              "            </table>\n",
              "        </div>\n",
              "    </div>\n",
              "</div>\n",
              "<div class=\"col-md-3 collapse in\" id=\"minihistogram-8859196596942830702\">\n",
              "    <img src=\"data:image/png;base64,iVBORw0KGgoAAAANSUhEUgAAAMgAAABLCAYAAAA1fMjoAAAABHNCSVQICAgIfAhkiAAAAAlwSFlzAAAPYQAAD2EBqD%2BnaQAAADh0RVh0U29mdHdhcmUAbWF0cGxvdGxpYiB2ZXJzaW9uMy4xLjEsIGh0dHA6Ly9tYXRwbG90bGliLm9yZy8QZhcZAAABN0lEQVR4nO3cQUrEMBiA0Y54JA/hnVx7Jw8xd4pbBflohZmG5r19IZuPP0lLb2OMsQF/ejl7ATCz17MXwG9vH1%2BHn7l/vj9gJWybCQJJIBCW3WLZyrCHCQJBIBAEAkEgEJY9pD/Dfy4CmIsJAkEgEGyxLuDoVs77nP1MEAgCgSAQCAKBIBAIAoHgmvcAb8bXY4JAEAgEgUAQCASBQBAIhEtc87p%2B5VFMEAgCgSAQCAKBcIlDOsf47ep%2BJggEgUAQCASBQBAIBIFAEAgEgUAQCASBQBAIBN9iscuq32%2BZIBAEAkEgEG5jjHH2In7yA4a1zXZumS4QmIktFgSBQBAIBIFAEAgEgUAQCASBQBAIBIFAEAgEgUAQCASBQBAIBIFAEAgEgUAQCASBQBAIBIFAEAgEgUAQCIRvwegizXScG/UAAAAASUVORK5CYII%3D\">\n",
              "\n",
              "</div>\n",
              "<div class=\"col-md-12 text-right\">\n",
              "    <a role=\"button\" data-toggle=\"collapse\" data-target=\"#descriptives-8859196596942830702,#minihistogram-8859196596942830702\"\n",
              "       aria-expanded=\"false\" aria-controls=\"collapseExample\">\n",
              "        Toggle details\n",
              "    </a>\n",
              "</div>\n",
              "<div class=\"row collapse col-md-12\" id=\"descriptives-8859196596942830702\">\n",
              "    <ul class=\"nav nav-tabs\" role=\"tablist\">\n",
              "        <li role=\"presentation\" class=\"active\"><a href=\"#quantiles-8859196596942830702\"\n",
              "                                                  aria-controls=\"quantiles-8859196596942830702\" role=\"tab\"\n",
              "                                                  data-toggle=\"tab\">Statistics</a></li>\n",
              "        <li role=\"presentation\"><a href=\"#histogram-8859196596942830702\" aria-controls=\"histogram-8859196596942830702\"\n",
              "                                   role=\"tab\" data-toggle=\"tab\">Histogram</a></li>\n",
              "        <li role=\"presentation\"><a href=\"#common-8859196596942830702\" aria-controls=\"common-8859196596942830702\"\n",
              "                                   role=\"tab\" data-toggle=\"tab\">Common Values</a></li>\n",
              "        <li role=\"presentation\"><a href=\"#extreme-8859196596942830702\" aria-controls=\"extreme-8859196596942830702\"\n",
              "                                   role=\"tab\" data-toggle=\"tab\">Extreme Values</a></li>\n",
              "\n",
              "    </ul>\n",
              "\n",
              "    <div class=\"tab-content\">\n",
              "        <div role=\"tabpanel\" class=\"tab-pane active row\" id=\"quantiles-8859196596942830702\">\n",
              "            <div class=\"col-md-4 col-md-offset-1\">\n",
              "                <p class=\"h4\">Quantile statistics</p>\n",
              "                <table class=\"stats indent\">\n",
              "                    <tr>\n",
              "                        <th>Minimum</th>\n",
              "                        <td>1498.2</td>\n",
              "                    </tr>\n",
              "                    <tr>\n",
              "                        <th>5-th percentile</th>\n",
              "                        <td>13581</td>\n",
              "                    </tr>\n",
              "                    <tr>\n",
              "                        <th>Q1</th>\n",
              "                        <td>21389</td>\n",
              "                    </tr>\n",
              "                    <tr>\n",
              "                        <th>Median</th>\n",
              "                        <td>34628</td>\n",
              "                    </tr>\n",
              "                    <tr>\n",
              "                        <th>Q3</th>\n",
              "                        <td>43828</td>\n",
              "                    </tr>\n",
              "                    <tr>\n",
              "                        <th>95-th percentile</th>\n",
              "                        <td>54936</td>\n",
              "                    </tr>\n",
              "                    <tr>\n",
              "                        <th>Maximum</th>\n",
              "                        <td>72461</td>\n",
              "                    </tr>\n",
              "                    <tr>\n",
              "                        <th>Range</th>\n",
              "                        <td>70963</td>\n",
              "                    </tr>\n",
              "                    <tr>\n",
              "                        <th>Interquartile range</th>\n",
              "                        <td>22439</td>\n",
              "                    </tr>\n",
              "                </table>\n",
              "            </div>\n",
              "            <div class=\"col-md-4 col-md-offset-2\">\n",
              "                <p class=\"h4\">Descriptive statistics</p>\n",
              "                <table class=\"stats indent\">\n",
              "                    <tr>\n",
              "                        <th>Standard deviation</th>\n",
              "                        <td>13313</td>\n",
              "                    </tr>\n",
              "                    <tr>\n",
              "                        <th>Coef of variation</th>\n",
              "                        <td>0.39637</td>\n",
              "                    </tr>\n",
              "                    <tr>\n",
              "                        <th>Kurtosis</th>\n",
              "                        <td>-0.90731</td>\n",
              "                    </tr>\n",
              "                    <tr>\n",
              "                        <th>Mean</th>\n",
              "                        <td>33587</td>\n",
              "                    </tr>\n",
              "                    <tr>\n",
              "                        <th>MAD</th>\n",
              "                        <td>11337</td>\n",
              "                    </tr>\n",
              "                    <tr class=\"\">\n",
              "                        <th>Skewness</th>\n",
              "                        <td>0.073098</td>\n",
              "                    </tr>\n",
              "                    <tr>\n",
              "                        <th>Sum</th>\n",
              "                        <td>235110000</td>\n",
              "                    </tr>\n",
              "                    <tr>\n",
              "                        <th>Variance</th>\n",
              "                        <td>177230000</td>\n",
              "                    </tr>\n",
              "                    <tr>\n",
              "                        <th>Memory size</th>\n",
              "                        <td>54.8 KiB</td>\n",
              "                    </tr>\n",
              "                </table>\n",
              "            </div>\n",
              "        </div>\n",
              "        <div role=\"tabpanel\" class=\"tab-pane col-md-8 col-md-offset-2\" id=\"histogram-8859196596942830702\">\n",
              "            <img src=\"data:image/png;base64,iVBORw0KGgoAAAANSUhEUgAAAlgAAAGQCAYAAAByNR6YAAAABHNCSVQICAgIfAhkiAAAAAlwSFlzAAAPYQAAD2EBqD%2BnaQAAADh0RVh0U29mdHdhcmUAbWF0cGxvdGxpYiB2ZXJzaW9uMy4xLjEsIGh0dHA6Ly9tYXRwbG90bGliLm9yZy8QZhcZAAAgAElEQVR4nO3deXhU5d3/8U%2BSgbCEbEhCy0PFymIWdiE1IIGgoCAoMRjSxyItiJRoGpYWZKm4FKhg0SYUiVUr6vMYQSuIIlyUpSrYzS0JYAtilRTMEGbIQgIkuX9/%2BHMexyBJ5GQmM/N%2BXRdXmvs%2BZ873e2Zy%2BvGck5MgY4wRAAAALBPs7QIAAAD8DQELAADAYgQsAAAAixGwAAAALEbAAgAAsBgBCwAAwGIELAAAAIsRsAAAACxGwAIAALAYAQsAAMBiBCwAAACLEbAAAAAsRsACAACwGAELAADAYgQsAAAAixGwAAAALEbAAgAAsBgBCwAAwGIELAAAAIsRsAAAACxGwAIAALAYAQsAAMBiBCwAAACLEbAAAAAsRsACAACwGAELAADAYgQsAAAAixGwAAAALEbAAgAAsBgBCwAAwGIELAAAAIsRsAAAACxGwAIAALAYAQsAAMBiBCwAAACLEbAAAAAsRsACAACwGAELAADAYgQsAAAAi9m8XUCgsNsrmrV8cHCQoqM76tSpKtXXmxaqqnUJxJ6lwOw7EHuWArPvQOxZCsy%2BW2vPXbp08sp2OYPVSgUHBykoKEjBwUHeLsVjArFnKTD7DsSepcDsOxB7lgKz70Ds%2BWIIWAAAABbz6YD15ptvKjk5WXPmzPnGZaqqqjRy5EgtXLjQNVZfX681a9Zo9OjRGjJkiKZPn67PPvvMNe90OpWTk6Pk5GQNHz5cixcvVk1NTYv2AgAA/IfPBqwnnnhCDz30kC6//PKLLpebm6vKykq3seeff16vvvqq8vPztXv3bvXo0UNZWVky5otrxkuXLlV1dbW2bt2ql156SUeOHNHq1atbrBcAAOBffDZghYaGatOmTRcNWIcOHdLWrVs1adIkt/GCggJNmzZNV155pcLCwjRnzhwdOXJEH3zwgU6ePKmdO3dqzpw5io6OVmxsrGbPnq2XXnpJ58%2Bfb%2Bm2AACAH/DZ3yKcOnXqReeNMVq2bJnmzJmj//znP6qo%2BOK3%2BGpqanT48GHFx8e7lg0LC9Pll1%2BuwsJCVVRUKCQkRH369HHNJyQk6MyZM/r444/dxr9JaWmp7Ha725jN1kExMTFN7i8kJNjtayAIxJ6lwOw7EHuWArPvQOxZCsy%2BA7Hni/HZgNWYgoICBQUFKS0tTXl5ea7x06dPyxijiIgIt%2BUjIiLkcDgUGRmpsLAwBQUFuc1JksPhaPK2v7pNScrKylJ2dnaz%2BwgPb9/sdXxdIPYsBWbfgdizFJh9B2LPUmD2HYg9X4hfBqyysjI99thj%2BsMf/uAWlL7qy/utmjvXFBkZGUpNTXUbs9k6yOGoavJrhIQEKzy8vcrLq1VXV39J9fiKQOxZCsy%2BA7FnKTD7DsSepcDsu7X2HBXV0Svb9cuAtXLlSt1yyy0XvJwXGRmp4OBgOZ1Ot3Gn06nOnTsrOjpalZWVqqurU0hIiGtOkjp37tyk7cfExDS4HGi3V6i2tvkfuLq6%2Bm%2B1ni8LxJ6lwOw7EHuWArPvQOxZCsy%2BA7HnC/HLgLVlyxaFh4fr5ZdflvTFfVf19fXavXu3/vKXv6hXr14qLi7W0KFDJUnl5eX69NNP1a9fP3Xr1k3GGB06dEgJCQmSpMLCQoWHh%2BuKK67wWk8AAMB3%2BGXA2rt3r9v3Tz/9tE6cOKF7771XkpSZman8/HyNGDFCsbGxWr16teLi4tS3b19J0tixY/Xoo4/q17/%2Btc6dO6e1a9cqPT1dNptf7i4AAGAxn00MX4ah2tpaSdLOnTslfXG2qWvXrm7LhoWFqX379q7xKVOmyG6360c/%2BpGqqqqUlJTkdlP6Aw88oPvuu0%2BjR49WmzZtdNNNN130YaYAAABfFWQu9Y5uNElz/9izzRasqKiOcjiqAuZadiD2LAVm34HYsxSYfQdiz1Jg9t1ae%2BaPPQMAAPgJn71ECACecuOjb3u7hGbZljPM2yUAAY8zWAAAABYjYAEAAFiMgAUAAGAxAhYAAIDFCFgAAAAWI2ABAABYjIAFAABgMQIWAACAxQhYAAAAFiNgAQAAWIyABQAAYDECFgAAgMUIWAAAABYjYAEAAFiMgAUAAGAxAhYAAIDFCFgAAAAWI2ABAABYzObtAoDW6sZH3/Z2Cc2yLWeYt0sAAPx/nMECAACwGAELAADAYgQsAAAAixGwAAAALEbAAgAAsBgBCwAAwGIELAAAAIsRsAAAACxGwAIAALAYAQsAAMBiBCwAAACLEbAAAAAsRsACAACwmM8GrDfffFPJycmaM2dOg7kdO3Zo4sSJGjhwoMaOHasXX3zRbX7Dhg0aO3asBg0apMzMTBUVFbnmzp49q1/%2B8pcaMWKEkpKSlJ2dLYfD0eL9AAAA/%2BGTAeuJJ57QQw89pMsvv7zB3Icffqj58%2BcrOztbf/vb37Ro0SI98MAD%2Bvvf/y5J2rVrl3Jzc/Xwww9r3759GjVqlGbNmqUzZ85IktasWaPi4mIVFBRo%2B/btMsbo3nvv9Wh/AADAt/lkwAoNDdWmTZsuGLCcTqfuuusuXXfddbLZbEpJSVHv3r1dAaugoEBpaWnq37%2B/2rVrpxkzZkiSdu/erdraWm3atEmzZ8/Wd77zHUVGRionJ0d79uzR559/7tEeAQCA77J5u4BvY%2BrUqd84N2LECI0YMcL1fW1trex2u2JjYyVJxcXFGjdunGs%2BODhYcXFxKiwsVFxcnCoqKpSQkOCav/LKK9WuXTsVFxe7XqMxpaWlstvtbmM2WwfFxMQ0aX1JCgkJdvsaCAKxZyvZbL6z33ivW1Zr%2BiwE6nsdiH0HYs8X45MBqzlWr16tDh06uEKV0%2BlURESE2zIRERFyOBxyOp2SpPDwcLf58PDwZt2HVVBQoLy8PLexrKwsZWdnN7v%2B8PD2zV7H1wViz1aIiuro7RKajfe6ZbTGz0KgvteB2Hcg9nwhfhuwjDFavXq1tm7dqg0bNig0NNRtrrF1L0VGRoZSU1Pdxmy2DnI4qpr8GiEhwQoPb6/y8mrV1dVfUj2%2BIhB7tlJzPl/exnvdslrTZyFQ3%2BtA7Lu19uyt/%2BDwy4BVX1%2Bve%2B%2B9Vx9%2B%2BKH%2B93//V927d3fNRUVFuc5UfcnpdKpXr16Kjo52fd%2Bx4/%2B9IadPn1bnzp2bvP2YmJgGlwPt9grV1jb/A1dXV/%2Bt1vNlgdizFXxxn/Fet4zWuE8D9b0OxL4DsecL8csLpcuXL9e//vWvBuFKkhITE1VcXOz6vq6uTgcOHFD//v3VvXt3RUREuM3/85//1Llz55SYmOix%2BgEAgG/zu4D1j3/8Q1u2bFF%2Bfr4iIyMbzGdmZuqVV17R%2B%2B%2B/r%2Brqaq1bt05t27bVyJEjFRISottuu02PP/64jh8/LofDod/85je6/vrrddlll3mhGwAA4It88hJh3759JX3xG4KStHPnTklSYWGhXnrpJVVUVGjUqFFu6wwZMkRPPfWURowYoblz5yonJ0dlZWXq27ev8vPz1a5dO0lSdna2qqqqdPPNN6u2tlajRo3SsmXLPNccAADweUHmUu/oRpPY7RXNWt5mC1ZUVEc5HFUBcy27tfV846Nve7uEZtmWM8zbJTRZa3uvG8Nn4dvztffaKoHYd2vtuUuXTl7Zrt9dIgQAAPA2AhYAAIDFCFgAAAAWI2ABAABYjIAFAABgMQIWAACAxQhYAAAAFvPJB40C8G3Xr37T2yUAQIviDBYAAIDFCFgAAAAWI2ABAABYjIAFAABgMQIWAACAxQhYAAAAFiNgAQAAWIyABQAAYDECFgAAgMUIWAAAABYjYAEAAFiMgAUAAGAxAhYAAIDFCFgAAAAWI2ABAABYjIAFAABgMQIWAACAxQhYAAAAFiNgAQAAWIyABQAAYDGbtwsAAFjrxkff9nYJTbYtZ5i3SwBaBGewAAAALEbAAgAAsBgBCwAAwGIELAAAAIv5dMB68803lZycrDlz5jSYe/311zVhwgQNHDhQaWlpeuutt1xz9fX1WrNmjUaPHq0hQ4Zo%2BvTp%2Buyzz1zzTqdTOTk5Sk5O1vDhw7V48WLV1NR4pCcAAOD7fDZgPfHEE3rooYd0%2BeWXN5g7ePCgFixYoPnz5%2Budd97RtGnTdPfdd%2BvEiROSpOeff16vvvqq8vPztXv3bvXo0UNZWVkyxkiSli5dqurqam3dulUvvfSSjhw5otWrV3u0PwAA4Lt8NmCFhoZq06ZNFwxYGzduVEpKilJSUhQaGqqJEyeqd%2B/e2rJliySpoKBA06ZN05VXXqmwsDDNmTNHR44c0QcffKCTJ09q586dmjNnjqKjoxUbG6vZs2frpZde0vnz5z3dJgAA8EE%2BG7CmTp2qTp06XXCuuLhY8fHxbmPx8fEqLCxUTU2NDh8%2B7DYfFhamyy%2B/XIWFhTp48KBCQkLUp08f13xCQoLOnDmjjz/%2BuGWaAQAAfsUvHzTqdDoVERHhNhYREaHDhw/r9OnTMsZccN7hcCgyMlJhYWEKCgpym5Mkh8PRpO2XlpbKbre7jdlsHRQTE9PkHkJCgt2%2BBoJA7NlKNhv7Db7HXz%2B3gXg8C8SeL8YvA5Yk1/1U32a%2BsXUbU1BQoLy8PLexrKwsZWdnN/u1wsPbX1ItvigQe7ZCVFRHb5cANJu/f24D8XgWiD1fiF8GrKioKDmdTrcxp9Op6OhoRUZGKjg4%2BILznTt3VnR0tCorK1VXV6eQkBDXnCR17ty5SdvPyMhQamqq25jN1kEOR1WTewgJCVZ4eHuVl1errq6%2Byev5skDs2UrN%2BXwBrYW/fm4D8XjWWnv2Voj3y4CVmJiooqIit7HCwkKNHz9eoaGh6tWrl4qLizV06FBJUnl5uT799FP169dP3bp1kzFGhw4dUkJCgmvd8PBwXXHFFU3afkxMTIPLgXZ7hWprm/%2BBq6ur/1br%2BbJA7NkK7DP4In//3Abi8SwQe74Qv7xQetttt2nfvn3as2ePzp49q02bNumTTz7RxIkTJUmZmZnasGGDjhw5osrKSq1evVpxcXHq27evoqOjNXbsWD366KM6deqUTpw4obVr1yo9PV02m1/mUQAAYDGfTQx9%2B/aVJNXW1kqSdu7cKemLs029e/fW6tWrtWLFCpWUlKhnz55av369unTpIkmaMmWK7Ha7fvSjH6mqqkpJSUlu90w98MADuu%2B%2B%2BzR69Gi1adNGN9100wUfZgoAAHAhQeZS7%2BhGk9jtFc1a3mYLVlRURzkcVQFzqrW19Xzjo297u4Rm2ZYzzNslNJmv7Vu0HF/63DZHazueeUJr7blLlws/0qml%2BeUlQgAAAG8iYAEAAFiMgAUAAGAxAhYAAIDFCFgAAAAWI2ABAABYjIAFAABgMQIWAACAxQhYAAAAFiNgAQAAWIyABQAAYDECFgAAgMUIWAAAABYjYAEAAFiMgAUAAGAxAhYAAIDFCFgAAAAWI2ABAABYjIAFAABgMQIWAACAxQhYAAAAFiNgAQAAWIyABQAAYDECFgAAgMU8HrBSU1OVl5en48ePe3rTAAAAHuHxgHXrrbfq9ddf13XXXacZM2Zox44dqq2t9XQZAAAALcbjASsrK0uvv/66XnzxRfXq1UvLly9XSkqKVq1apaNHj3q6HAAAAMt57R6shIQELViwQLt379aiRYv04osvaty4cZo%2Bfbo%2B/PBDb5UFAABwybwWsM6fP6/XX39dd955pxYsWKDY2Fjde%2B%2B9iouL07Rp0/Tqq696qzQAAIBLYvP0Bo8cOaJNmzbplVdeUVVVlcaOHatnnnlGgwcPdi0zZMgQLVu2TBMmTPB0eQAAAJfM4wFr/PjxuuKKK3TXXXfplltuUWRkZINlUlJSdOrUKU%2BXBvi0Gx9929slAAD%2BP48HrA0bNmjo0KGNLvfBBx94oBoAAADrefwerD59%2BmjWrFnauXOna%2BwPf/iD7rzzTjmdTk%2BXAwAAYDmPB6wVK1aooqJCPXv2dI2NHDlS9fX1WrlypafLAQAAsJzHA9Zbb72lvLw89ejRwzXWo0cPrV69Wm%2B%2B%2BaZl2zlw4ICmTp2qq6%2B%2BWsOGDdP8%2BfNd93Xt379f6enpGjRokMaPH68tW7a4rbthwwaNHTtWgwYNUmZmpoqKiiyrCwAA%2BD%2BPB6yamhqFhoY2LCQ4WNXV1ZZso7a2VjNnztSAAQO0b98%2Bbd26VadOndKyZctUWlqq2bNna8qUKdq/f78WL16spUuXqrCwUJK0a9cu5ebm6uGHH9a%2Bffs0atQozZo1S2fOnLGkNgAA4P88HrCGDBmilStX6vTp066xzz//XPfff7/boxouhd1ul91u180336y2bdsqKipK119/vQ4ePKhXX31VPXr0UHp6ukJDQ5WcnKzU1FRt3LhRklRQUKC0tDT1799f7dq104wZMyRJu3fvtqQ2AADg/zz%2BW4SLFi3ST37yE11zzTUKCwtTfX29qqqq1L17dz377LOWbCM2NlZxcXEqKCjQz372M9XU1GjHjh0aOXKkiouLFR8f77Z8fHy8tm3bJkkqLi7WuHHjXHPBwcGKi4tTYWGhxo8f36Ttl5aWym63u43ZbB0UExPT5B5CQoLdvgaCQOwZCHQ2m3/%2BvAfi8SwQe74Yjwes7t2767XXXtOf//xnffrppwoODtYVV1yh4cOHKyQkxJJtBAcHKzc3V9OmTdMzzzwjSRo6dKjmzZun2bNnKzY21m35yMhIORwOSZLT6VRERITbfEREhGu%2BKQoKCpSXl%2Bc2lpWVpezs7Gb3Eh7evtnr%2BLpA7BkIVFFRHb1dQosKxONZIPZ8IR4PWJLUtm1bXXfddS32%2BufOndOsWbN0ww03uO6fuv/%2B%2BzV//vwmrW%2BMuaTtZ2RkKDU11W3MZusgh6Oqya8REhKs8PD2Ki%2BvVl1d/SXV4ysCsWcg0DXnuOhLAvF41lp79laI93jA%2Buyzz/TII4/oX//6l2pqahrM/%2BlPf7rkbezfv1/Hjh3T3LlzFRISok6dOik7O1s333yzrr322gbP23I4HIqOjpYkRUVFNZh3Op3q1atXk7cfExPT4HKg3V6h2trmf%2BDq6uq/1Xq%2BLBB7BgKVv/%2BsB%2BLxLBB7vhCv3INVWlqq4cOHq0OHDi2yjbq6OtXX17udiTp37pwkKTk5WX/84x/dli8qKlL//v0lSYmJiSouLtakSZNcr3XgwAGlp6e3SK0AAMD/eDxgFRUV6U9/%2BpPrjFFLGDhwoDp06KDc3FzNmjVLNTU1WrdunYYMGaKbb75ZeXl52rhxoyZOnKh33nlHe/fuVUFBgSQpMzNTc%2BfO1U033aQ%2BffroySefVNu2bTVy5MgWqxcAAPgXj9/q37lz5xY7c/WlqKgoPfnkk3r33Xc1YsQI3XTTTWrXrp0eeeQRde7cWevXr9dzzz2nwYMHa/ny5Vq1apWuuuoqSdKIESM0d%2B5c5eTkaOjQodq3b5/y8/PVrl27Fq0ZAAD4jyBzqXd0N9PGjRv173//W/PmzVNQUJAnN%2B1VdntFs5a32YIVFdVRDkdVwFzLbm093/jo294uAfB723KGebuEFtHajmee0Fp77tKlk1e26/FLhH/%2B85/17rvv6uWXX9Z//dd/KTjY/STaCy%2B84OmSAAAALOXxgBUWFqYRI0Z4erMAAAAe4/GAtWLFCk9vEgAAwKO88jz7jz/%2BWLm5ubr33ntdY%2B%2B99543SgEAALCcxwPW/v37NXHiRO3YsUNbt26V9MXDR6dOnWrJQ0YBAAC8zeMBa82aNfr5z3%2BuV1991fVbhN27d9fKlSu1du1aT5cDAABgOY8HrH/%2B85/KzMyUJLfHNNxwww06cuSIp8sBAACwnMcDVqdOnS74NwhLS0vVtm1bT5cDAABgOY8HrEGDBmn58uWqrKx0jR09elQLFizQNddc4%2BlyAAAALOfxxzTce%2B%2B9uuOOO5SUlKS6ujoNGjRI1dXV6tWrl1auXOnpcgAAACzn8YDVtWtXbd26VXv37tXRo0fVrl07XXHFFRo2bFhA/ekcAADgvzwesCSpTZs2uu6667yxaQAAgBbn8YCVmpp60TNVPAsLAAD4Oo8HrHHjxrkFrLq6Oh09elSFhYW64447PF0OAACA5TwesObPn3/B8e3bt%2Bsvf/mLh6sBAACwnlf%2BFuGFXHfddXrttde8XQYAAMAlazUB68CBAzLGeLsMAACAS%2BbxS4RTpkxpMFZdXa0jR45ozJgxni4HAADAch4PWD169GjwW4ShoaFKT0/X5MmTPV0OAACA5TwesHhaOwAA8HceD1ivvPJKk5e95ZZbWrASAACAluHxgLV48WLV19c3uKE9KCjIbSwoKIiABQAAfJLHA9bvf/97PfXUU5o1a5b69OkjY4w%2B%2BugjPfHEE7r99tuVlJTk6ZIAAAAs5ZV7sPLz8xUbG%2Bsau/rqq9W9e3dNnz5dW7du9XRJAAAAlvL4c7A%2B%2BeQTRURENBgPDw9XSUmJp8sBAACwnMcDVrdu3bRy5Uo5HA7XWHl5uR555BF973vf83Q5AAAAlvP4JcJFixZp3rx5KigoUMeOHRUcHKzKykq1a9dOa9eu9XQ5AAAAlvN4wBo%2BfLj27NmjvXv36sSJEzLGKDY2Vtdee606derk6XIAAAAs5/GAJUnt27fX6NGjdeLECXXv3t0bJQAAALQYjwesmpoa3XfffXrttdckSUVFRSovL9fcuXP1m9/8RuHh4Z4uCR5y46Nve7sEAAA8wuM3ua9atUoHDx7U6tWrFRz8f5uvq6vT6tWrPV0OAACA5TwesLZv367f/va3uuGGG1x/9Dk8PFwrVqzQjh07PF0OAACA5TwesKqqqtSjR48G49HR0Tpz5oynywEAALCcxwPW9773Pf3lL3%2BRJLe/PfjGG2/ou9/9rqfLAQAAsJzHA9YPf/hD3XPPPfr1r3%2Bt%2Bvp6Pf3005o3b54WLVqkO%2B64w9JtrVu3TsOHD9eAAQM0bdo0HTt2TJK0f/9%2Bpaena9CgQRo/fry2bNnitt6GDRs0duxYDRo0SJmZmSoqKrK0LgAA4N88HrAyMjK0YMECvfPOOwoJCdHjjz%2BukpISrV69WpmZmZZt5/nnn9eWLVu0YcMGvfXWW%2BrZs6f%2B8Ic/qLS0VLNnz9aUKVO0f/9%2BLV68WEuXLlVhYaEkadeuXcrNzdXDDz%2Bsffv2adSoUZo1axaXLwEAQJN5/DENp06d0q233qpbb721Rbfz1FNPacGCBfr%2B978vSVqyZIkk6cknn1SPHj2Unp4uSUpOTlZqaqo2btyovn37qqCgQGlpaerfv78kacaMGdqwYYN2796t8ePHt2jNAADAP3g8YI0ePVrvvvuu6zcIW8Lnn3%2BuY8eO6fTp0xo3bpzKysqUlJSkZcuWqbi4WPHx8W7Lx8fHa9u2bZKk4uJijRs3zjUXHBysuLg4FRYWNjlglZaWym63u43ZbB0UExPT5B5CQoLdvgKAP7LZ/PMYF4jH8EDs%2BWI8HrCSkpK0bds2txBjtRMnTkj64sb5p59%2BWsYYZWdna8mSJaqpqVFsbKzb8pGRka4/Pu10OhUREeE2HxER4fbHqRtTUFCgvLw8t7GsrCxlZ2c3u5fw8PbNXgcAfEVUVEdvl9CiAvEYHog9X4jHA9Z3vvMd/epXv1J%2Bfr6%2B973vqU2bNm7zjzzyyCVv48vfTpwxY4YrTN1zzz268847lZyc3OT1v62MjAylpqa6jdlsHeRwVDX5NUJCghUe3l7l5dWqq6u/pHoAoLVqznHRlwTiMby19uytEO/xgHX48GHXfVHNOSvUHJdddpkkuf3ZnW7duskYo/Pnz8vpdLot73A4FB0dLUmKiopqMO90OtWrV68mbz8mJqbB5UC7vUK1tc3/wNXV1X%2Br9QDAF/j78S0Qj%2BGB2POFeCxgzZkzR2vWrNGzzz7rGlu7dq2ysrIs31bXrl0VFhamgwcPKiEhQZJUUlKiNm3aKCUlRZs3b3ZbvqioyHVTe2JiooqLizVp0iRJX/wJnwMHDrhuigcAAGiMx%2B5E27VrV4Ox/Pz8FtmWzWZTenq6Hn/8cf373/9WWVmZ1q5dqwkTJmjSpEkqKSnRxo0bdfbsWe3du1d79%2B7VbbfdJknKzMzUK6%2B8ovfff1/V1dVat26d2rZtq5EjR7ZIrQAAwP947AzWhe5rutR7nS5m3rx5OnfunCZPnqzz589r7NixWrJkiTp27Kj169froYce0v33369u3bpp1apVuuqqqyRJI0aM0Ny5c5WTk6OysjL17dtX%2Bfn5ateuXYvVCgAA/EuQacmU8xX9%2B/fXBx980OiYv7LbK5q1vM0WrKiojnI4qvzmWvaNj77t7RIAtDLbcoZ5u4QW4Y/H8Ma01p67dOnkle3ysAoAAACLEbAAAAAs5rF7sM6fP6958%2BY1OmbFc7AAAAC8yWMBa/DgwSotLW10DAAAwNd5LGB99flXAAAA/ox7sAAAACxGwAIAALAYAQsAAMBiBCwAAACLEbAAAAAsRsACAACwGAELAADAYgQsAAAAixGwAAAALEbAAgAAsBgBCwAAwGIELAAAAIsRsAAAACxm83YBAIDAdeOjb3u7hGbZljPM2yXAR3AGCwAAwGIELAAAAIsRsAAAACxGwAIAALAYAQsAAMBiBCwAAACLEbAAAAAsRsACAACwGAELAADAYgQsAAAAixGwAAAALEbAAgAAsBgBCwAAwGIELAAAAIsFRMBavny5%2BvTp4/p%2B//79Sk9P16BBgzR%2B/Hht2bLFbfkNGzZo7NixGjRokDIzM1VUVOTpkgEAgA/z%2B4B18OBBbd682fV9aWmpZs%2BerSlTpmj//v1avHixli5dqsLCQknSrl27lJubq4cfflj79u3TqFGjNGvWLJ05c8ZbLQAAAB/j1wGrvr5e9913n6ZNm%2BYae/XVV9WjRw%2Blp6crNDRUycnJSk1N1caNGyVJBQUFSktLU//%2B/dWuXTvNmDFDkrR7925vtAAAAHyQXwesF154QaGhoZowYYJrrLi4WPHx8W7LxcfHuy4Dfm3o9uEAABV6SURBVH0%2BODhYcXFxrjNcAAAAjbF5u4CWcvLkSeXm5urZZ591G3c6nYqNjXUbi4yMlMPhcM1HRES4zUdERLjmm6K0tFR2u91tzGbroJiYmCa/RkhIsNtXAID32WxNOyYH4jE8EHu%2BGL8NWCtWrFBaWpp69uypY8eONWtdY8wlbbugoEB5eXluY1lZWcrOzm72a4WHt7%2BkWgAA1omK6tis5QPxGB6IPV%2BIXwas/fv367333tPWrVsbzEVFRcnpdLqNORwORUdHf%2BO80%2BlUr169mrz9jIwMpaamuo3ZbB3kcFQ1%2BTVCQoIVHt5e5eXVqqurb/J6AICW09TjeCAew1trz80NxVbxy4C1ZcsWlZWVadSoUZL%2B74xUUlKSfvKTnzQIXkVFRerfv78kKTExUcXFxZo0aZIkqa6uTgcOHFB6enqTtx8TE9PgcqDdXqHa2uZ/4Orq6r/VegAA6zX3eByIx/BA7PlC/PJC6cKFC7V9%2B3Zt3rxZmzdvVn5%2BviRp8%2BbNmjBhgkpKSrRx40adPXtWe/fu1d69e3XbbbdJkjIzM/XKK6/o/fffV3V1tdatW6e2bdtq5MiRXuwIAAD4Er88gxUREeF2o3ptba0kqWvXrpKk9evX66GHHtL999%2Bvbt26adWqVbrqqqskSSNGjNDcuXOVk5OjsrIy9e3bV/n5%2BWrXrp3nGwEAAD4pyFzqHd1oEru9olnL22zBiorqKIejym9Otd746NveLgEALsm2nGFNWs4fj%2BGNaa09d%2BnSySvb9ctLhAAAAN5EwAIAALAYAQsAAMBiBCwAAACLEbAAAAAsRsACAACwGAELAADAYgQsAAAAixGwAAAALEbAAgAAsBgBCwAAwGIELAAAAIsRsAAAACxGwAIAALAYAQsAAMBiBCwAAACLEbAAAAAsRsACAACwGAELAADAYgQsAAAAixGwAAAALEbAAgAAsBgBCwAAwGIELAAAAIsRsAAAACxGwAIAALAYAQsAAMBiBCwAAACLEbAAAAAsRsACAACwGAELAADAYgQsAAAAixGwAAAALEbAAgAAsJjfBqySkhJlZWUpKSlJycnJWrhwocrLyyVJBw8e1O23367BgwdrzJgxeuqpp9zWff311zVhwgQNHDhQaWlpeuutt7zRAgAA8FF%2BG7BmzZql8PBw7dq1Sy%2B//LL%2B9a9/6de//rVqamp011136Qc/%2BIHefPNNrVmzRuvXr9eOHTskfRG%2BFixYoPnz5%2Budd97RtGnTdPfdd%2BvEiRNe7ggAAPgKvwxY5eXlSkxM1Lx589SxY0d17dpVkyZN0t///nft2bNH58%2Bf109/%2BlN16NBBCQkJmjx5sgoKCiRJGzduVEpKilJSUhQaGqqJEyeqd%2B/e2rJli5e7AgAAvsLm7QJaQnh4uFasWOE2dvz4ccXExKi4uFh9%2BvRRSEiIay4%2BPl4bN26UJBUXFyslJcVt3fj4eBUWFjZ5%2B6WlpbLb7W5jNlsHxcTENPk1QkKC3b4CALzPZmvaMTkQj%2BGB2PPF%2BGXA%2BrrCwkI999xzWrdunbZt26bw8HC3%2BcjISDmdTtXX18vpdCoiIsJtPiIiQocPH27y9goKCpSXl%2Bc2lpWVpezs7GbXHh7evtnrAABaRlRUx2YtH4jH8EDs%2BUL8PmD94x//0E9/%2BlPNmzdPycnJ2rZt2wWXCwoKcv1vY8wlbTMjI0OpqaluYzZbBzkcVU1%2BjZCQYIWHt1d5ebXq6uovqR4AgDWaehwPxGN4a%2B25uaHYKn4dsHbt2qWf//znWrp0qW655RZJUnR0tD755BO35ZxOpyIjIxUcHKyoqCg5nc4G89HR0U3ebkxMTIPLgXZ7hWprm/%2BBq6ur/1brAQCs19zjcSAewwOx5wvx2wul7777rhYsWKDHHnvMFa4kKTExUR999JFqa2tdY4WFherfv79rvqioyO21vjoPAADQGL8MWLW1tVqyZInmz5%2Bv4cOHu82lpKQoLCxM69atU3V1tT744ANt2rRJmZmZkqTbbrtN%2B/bt0549e3T27Flt2rRJn3zyiSZOnOiNVgAAgA8KMpd6w1Er9Pe//13//d//rbZt2zaYe%2BONN1RVVaX77rtPRUVFuuyyy3TnnXfqhz/8oWuZHTt26JFHHlFJSYl69uypxYsXa8iQIZdUk91e0azlbbZgRUV1lMNR5TenWm989G1vlwAAl2RbzrAmLeePx/DGtNaeu3Tp5JXt%2BmXAao0IWAQsAL6PgPXNWmvP3gpYfnmJEAAAwJsIWAAAABYjYAEAAFiMgAUAAGAxAhYAAIDFCFgAAAAW8%2Bs/lQMAgJV87XEzTX2sBKzHGSwAAACLEbAAAAAsRsACAACwGAELAADAYgQsAAAAixGwAAAALEbAAgAAsBgBCwAAwGIELAAAAIsRsAAAACxGwAIAALAYAQsAAMBiBCwAAACLEbAAAAAsRsACAACwGAELAADAYgQsAAAAixGwAAAALEbAAgAAsBgBCwAAwGIELAAAAIsRsAAAACxGwAIAALCYzdsF4NLc%2BOjb3i4BAAB8DWewAAAALMYZLAAA/JQvXeXYljPM2yVYijNYAAAAFiNgXUBJSYlmzpyppKQkjRo1SqtWrVJ9fb23ywIAAD6CS4QXcM899yghIUE7d%2B5UWVmZ7rrrLl122WX68Y9/7O3SAACAD%2BAM1tcUFhbq0KFDmj9/vjp16qQePXpo2rRpKigo8HZpAADAR3AG62uKi4vVrVs3RUREuMYSEhJ09OhRVVZWKiwsrNHXKC0tld1udxuz2TooJiamyXWEhAS7fQUAwJ/ZbP71/3cErK9xOp0KDw93G/sybDkcjiYFrIKCAuXl5bmN3X333brnnnuaXEdpaameeeb3ysjIuGgw%2B/uvbmjya7Z2paWlKigoaLRnfxOIfQdiz1Jg9h2IPUuB2Xcg9nwx/hUXLWKMuaT1MzIy9PLLL7v9y8jIaNZr2O125eXlNTgT5s8CsWcpMPsOxJ6lwOw7EHuWArPvQOz5YjiD9TXR0dFyOp1uY06nU0FBQYqOjm7Sa8TExJDeAQAIYJzB%2BprExEQdP35cp06dco0VFhaqZ8%2Be6tixoxcrAwAAvoKA9TXx8fHq27evHnnkEVVWVurIkSN6%2BumnlZmZ6e3SAACAjwhZtmzZMm8X0dpce%2B212rp1qx588EG99tprSk9P1/Tp0xUUFOTROjp27KihQ4cG1JmzQOxZCsy%2BA7FnKTD7DsSepcDsOxB7/iZB5lLv6AYAAIAbLhECAABYjIAFAABgMQIWAACAxQhYAAAAFiNgAQAAWIyABQAAYDECFgAAgMUIWAAAABYjYAEAAFiMgNXKlJSUaObMmUpKStKoUaO0atUq1dfXe7usJnnzzTeVnJysOXPmNJh7/fXXNWHCBA0cOFBpaWl66623XHP19fVas2aNRo8erSFDhmj69On67LPPXPNOp1M5OTlKTk7W8OHDtXjxYtXU1LjmDx48qNtvv12DBw/WmDFj9NRTT7Vso19RUlKirKwsJSUlKTk5WQsXLlR5eXmT6mrJfdKSDh06pDvuuEODBw9WcnKycnJyZLfbJUn79%2B9Xenq6Bg0apPHjx2vLli1u627YsEFjx47VoEGDlJmZqaKiItfc2bNn9ctf/lIjRoxQUlKSsrOz5XA4XPOt6Wdj%2BfLl6tOnj%2Bt7f%2Bz72LFj6tOnjxITE5WYmKj4%2BHglJCToySeftKTuxvaZt61bt07Dhw/XgAEDNG3aNB07dkySf77Xf/vb39S3b1%2B3f4mJia7PuD/27BEGrcqkSZPMkiVLTHl5uTl69KgZM2aMeeqpp7xdVqPy8/PNmDFjzJQpU0xOTo7b3IEDB0xiYqLZs2ePqampMZs3bzb9%2B/c3x48fN8YYs2HDBjNq1Chz%2BPBhU1FRYR544AEzYcIEU19fb4wx5u677zYzZ840ZWVl5sSJEyYjI8M8%2BOCDxhhjqqurzbXXXmtyc3NNVVWVKSoqMkOHDjXbt2/3SN833XSTWbhwoamsrDTHjx83aWlpZtGiRY3W1ZL7pCWdPXvWXHPNNSYvL8%2BcPXvWlJWVmdtvv93Mnj3bfP7552bAgAFm48aNpqamxrz99tumX79%2B5sMPPzTGGPOnP/3JXH311eb999831dXVZv369WbYsGGmqqrKGGPMihUrTFpamvnPf/5jHA6Hufvuu81dd93l2nZr%2Bdk4cOCAGTp0qOndu7cxxvht3xs2bDC9e/dukbob22fe9txzz5kbbrjBHDlyxFRUVJgHH3zQPPjgg377Xl/IunXrzM9%2B9rOA6tlqBKxW5MMPPzRxcXHG6XS6xv7nf/7HjB071otVNc0zzzxjysvLzYIFCxoErPvvv99kZWW5jU2ePNmsX7/eGGPM%2BPHjzTPPPOOaq6ioMPHx8ea9994zdrvdXHXVVebgwYOu%2Bb1795oBAwaYc%2BfOmW3btpkf/OAHpra21jW/atUq85Of/KQl2nRz%2BvRps3DhQmO3211jzz77rBkzZkyjdbXkPmlJTqfTvPjii%2Bb8%2BfOusWeeecZcf/315ve//7255ZZb3JbPyckxS5cuNcYYM3PmTLN8%2BXLXXF1dnRk2bJjZunWrOX/%2BvBk8eLDZuXOna/7w4cOmT58%2B5sSJE63mZ6Ours5MnjzZ/O53v3MFLH/te%2BbMma4era67sX3mbampqRf8jzR/fa%2B/rqSkxAwdOtSUlJQETM8tgUuErUhxcbG6deumiIgI11hCQoKOHj2qyspKL1bWuKlTp6pTp04XnCsuLlZ8fLzbWHx8vAoLC1VTU6PDhw%2B7zYeFhenyyy9XYWGhDh48qJCQELfLMQkJCTpz5ow%2B/vhjFRcXq0%2BfPgoJCXF77a%2Beom4p4eHhWrFihS677DLX2PHjxxUTE9NoXS25T1pSRESEJk%2BeLJvNJkn6%2BOOP9cc//lE33njjN/b0TT0HBwcrLi5OhYWF%2BvTTT1VRUaGEhATX/JVXXql27dqpuLi41fxsvPDCCwoNDdWECRNcY/7ad3FxsSTpF7/4hYYPH67k5GR9//vf1wcffHDJdTe2z7zp888/17Fjx3T69GmNGzfOdVnr1KlTfvtef91jjz2mW2%2B9Vd/97ncDpueWQMBqRZxOp8LDw93GvvzgffWata9xOp1uP0DSF305HA6dPn1axphvnHc6nQoLC1NQUJDbnCTX/Nf3WWRkpJxOp8ev4xcWFuq5557TT3/600brasl94gklJSVKTEzUuHHj1LdvX2VnZ39jz1/WdLGenU6nJDVYPzw8/BvfZ0/3fPLkSeXm5uq%2B%2B%2B5zG/fXvh0Oh%2BLi4nT99ddr9%2B7dys/P18cff2xJ3Y3tM286ceKEJOmNN97Q008/rc2bN%2BvEiRNasmSJ377XX3Xs2DHt2LFDP/7xjyX57%2BfbEwhYrYwxxtsltIjG%2BrrY/LfZJ18NH57wj3/8Q9OnT9e8efOUnJz8jct9tS5P7xMrdevWTYWFhXrjjTf0ySef6Be/%2BEWT1vPlnlesWKG0tDT17Nmz2ev6Yt9BQUH62c9%2Bpuuvv15t2rRRv379dP78ef31r39tUm3efr%2B%2BrS/rnjFjhmJjY9W1a1fdc8892rVrV7PW/zbzrWGfPf/88xozZoy6dOnS5HV8veeWQsBqRaKjo12J/0tOp1NBQUGKjo72UlWXLioq6oJ9RUdHKzIyUsHBwRec79y5s6Kjo1VZWam6ujq3OUmu%2Ba//l47T6XS9rifs2rVLM2fO1KJFizR16lRJarSultwnnhIUFKQePXpozpw52rp1q2w2W4OaHQ6H67N7sZ6/XObr86dPn3b17M2fjf379%2Bu9995TVlZWg7kL9eUPfX9T3SdPnrzkuhvbZ9705SX/r55Z6datm4wxOn/%2BvF%2B%2B11%2B1fft2paamur7318%2B3JxCwWpHExEQdP35cp06dco0VFhaqZ8%2Be6tixoxcruzSJiYkN7q0oLCxU//79FRoaql69ernu95Ck8vJyffrpp%2BrXr5/i4uJkjNGhQ4fc1g0PD9cVV1yhxMREffTRR6qtrW3w2p7w7rvvasGCBXrsscd0yy23uMYbq6sl90lL2r9/v8aOHet2%2BfXLINuvX78GPRUVFbn1/NWe6urqdODAAfXv31/du3dXRESE2/w///lPnTt3zvWYAG/%2BbGzZskVlZWUaNWqUkpKSlJaWJklKSkpS7969/bLvyspKLVmyxK1um82m2NjYS667b9%2B%2BF91n3tS1a1eFhYXp4MGDrrGSkhK1adNGKSkpfvlef%2BngwYMqKSnRsGHDXGONvVe%2B3nOL8tDN9GiiyZMnm0WLFpmKigpz%2BPBhk5qaap577jlvl9VkF/otwo8%2B%2Bsj07dvX7N6929TU1JiNGzeagQMHmtLSUmPMF781MnLkSNcjCZYuXWpuvfVW1/o5OTlmxowZpqyszBw/ftzceuutZuXKlcaYLx4bMGrUKPPb3/7WnDlzxrz//vvm6quvNrt3727xXs%2BfP29uvPFG88ILLzSYa6yultwnLam8vNwkJyeblStXmjNnzpiysjIzffp088Mf/tCcPHnSDBw40Lz44oumpqbG7Nmzx/Tr18/124579%2B41gwcPNu%2B99545c%2BaMyc3NNSkpKaa6utoY88VvWU6aNMn85z//MadOnTJ33XWXueeee1zb9ubPhtPpNMePH3f9e%2B%2B990zv3r3N8ePHTUlJiV/2vX79epOQkGDWrl1rysvLTW5urhk2bJj53e9%2Bd8l1N/ZZ8bbly5eb0aNHm08%2B%2BcScPHnSZGRkmIULF/r1Z9wYYzZt2mSGDh3qNubvPbckAlYrc/z4cTNjxgzTr18/k5ycbH7729%2B6nn3UmiUmJprExERz1VVXmauuusr1/Ze2b99uxowZYxISEszNN99s/vrXv7rm6uvrzWOPPWauueYa069fP3PnnXe6ngdlzBf/pz5nzhwzYMAAM2TIEHP//febs2fPuuY/%2BugjM2XKFJOYmGhGjhxpnn/%2BeY/0/Le//c307t3b1etX/x07dqzRulpyn7SkQ4cOmdtvv93069fP/OAHPzA5OTnmxIkTxhhj/vrXv5qJEyeahIQEM2bMmAa/6v7888%2BblJQUk5iYaDIzM81HH33kmjt79qxZtmyZGTJkiBk4cKCZO3euKS8vd823pp%2BNzz77zO0RBv7a9%2BOPP24GDhxo%2BvTpY4YNG2by8vJMXV2dJXU3ts%2B86au9DRgwwCxYsMBUVlYaY/z3vTbmi/d7/PjxDcb9ueeWFGSMH99hBgAA4AXcgwUAAGAxAhYAAIDFCFgAAAAWI2ABAABYjIAFAABgMQIWAACAxQhYAAAAFiNgAQAAWIyABQAAYDECFgAAgMUIWAAAABYjYAEAAFiMgAUAAGCx/wdMfQWRc2KA5QAAAABJRU5ErkJggg%3D%3D\"/>\n",
              "        </div>\n",
              "        <div role=\"tabpanel\" class=\"tab-pane col-md-12\" id=\"common-8859196596942830702\">\n",
              "            \n",
              "<table class=\"freq table table-hover\">\n",
              "    <thead>\n",
              "    <tr>\n",
              "        <td class=\"fillremaining\">Value</td>\n",
              "        <td class=\"number\">Count</td>\n",
              "        <td class=\"number\">Frequency (%)</td>\n",
              "        <td style=\"min-width:200px\">&nbsp;</td>\n",
              "    </tr>\n",
              "    </thead>\n",
              "    <tr class=\"\">\n",
              "        <td class=\"fillremaining\">18078.329169999997</td>\n",
              "        <td class=\"number\">1</td>\n",
              "        <td class=\"number\">0.0%</td>\n",
              "        <td>\n",
              "            <div class=\"bar\" style=\"width:1%\">&nbsp;</div>\n",
              "        </td>\n",
              "</tr><tr class=\"\">\n",
              "        <td class=\"fillremaining\">42868.58961</td>\n",
              "        <td class=\"number\">1</td>\n",
              "        <td class=\"number\">0.0%</td>\n",
              "        <td>\n",
              "            <div class=\"bar\" style=\"width:1%\">&nbsp;</div>\n",
              "        </td>\n",
              "</tr><tr class=\"\">\n",
              "        <td class=\"fillremaining\">22108.58037</td>\n",
              "        <td class=\"number\">1</td>\n",
              "        <td class=\"number\">0.0%</td>\n",
              "        <td>\n",
              "            <div class=\"bar\" style=\"width:1%\">&nbsp;</div>\n",
              "        </td>\n",
              "</tr><tr class=\"\">\n",
              "        <td class=\"fillremaining\">32497.448860000004</td>\n",
              "        <td class=\"number\">1</td>\n",
              "        <td class=\"number\">0.0%</td>\n",
              "        <td>\n",
              "            <div class=\"bar\" style=\"width:1%\">&nbsp;</div>\n",
              "        </td>\n",
              "</tr><tr class=\"\">\n",
              "        <td class=\"fillremaining\">17353.860419999997</td>\n",
              "        <td class=\"number\">1</td>\n",
              "        <td class=\"number\">0.0%</td>\n",
              "        <td>\n",
              "            <div class=\"bar\" style=\"width:1%\">&nbsp;</div>\n",
              "        </td>\n",
              "</tr><tr class=\"\">\n",
              "        <td class=\"fillremaining\">15099.5302</td>\n",
              "        <td class=\"number\">1</td>\n",
              "        <td class=\"number\">0.0%</td>\n",
              "        <td>\n",
              "            <div class=\"bar\" style=\"width:1%\">&nbsp;</div>\n",
              "        </td>\n",
              "</tr><tr class=\"\">\n",
              "        <td class=\"fillremaining\">12532.65752</td>\n",
              "        <td class=\"number\">1</td>\n",
              "        <td class=\"number\">0.0%</td>\n",
              "        <td>\n",
              "            <div class=\"bar\" style=\"width:1%\">&nbsp;</div>\n",
              "        </td>\n",
              "</tr><tr class=\"\">\n",
              "        <td class=\"fillremaining\">36324.67886</td>\n",
              "        <td class=\"number\">1</td>\n",
              "        <td class=\"number\">0.0%</td>\n",
              "        <td>\n",
              "            <div class=\"bar\" style=\"width:1%\">&nbsp;</div>\n",
              "        </td>\n",
              "</tr><tr class=\"\">\n",
              "        <td class=\"fillremaining\">48489.37866</td>\n",
              "        <td class=\"number\">1</td>\n",
              "        <td class=\"number\">0.0%</td>\n",
              "        <td>\n",
              "            <div class=\"bar\" style=\"width:1%\">&nbsp;</div>\n",
              "        </td>\n",
              "</tr><tr class=\"\">\n",
              "        <td class=\"fillremaining\">41252.72833</td>\n",
              "        <td class=\"number\">1</td>\n",
              "        <td class=\"number\">0.0%</td>\n",
              "        <td>\n",
              "            <div class=\"bar\" style=\"width:1%\">&nbsp;</div>\n",
              "        </td>\n",
              "</tr><tr class=\"other\">\n",
              "        <td class=\"fillremaining\">Other values (6990)</td>\n",
              "        <td class=\"number\">6990</td>\n",
              "        <td class=\"number\">99.9%</td>\n",
              "        <td>\n",
              "            <div class=\"bar\" style=\"width:100%\">&nbsp;</div>\n",
              "        </td>\n",
              "</tr>\n",
              "</table>\n",
              "        </div>\n",
              "        <div role=\"tabpanel\" class=\"tab-pane col-md-12\"  id=\"extreme-8859196596942830702\">\n",
              "            <p class=\"h4\">Minimum 5 values</p>\n",
              "            \n",
              "<table class=\"freq table table-hover\">\n",
              "    <thead>\n",
              "    <tr>\n",
              "        <td class=\"fillremaining\">Value</td>\n",
              "        <td class=\"number\">Count</td>\n",
              "        <td class=\"number\">Frequency (%)</td>\n",
              "        <td style=\"min-width:200px\">&nbsp;</td>\n",
              "    </tr>\n",
              "    </thead>\n",
              "    <tr class=\"\">\n",
              "        <td class=\"fillremaining\">1498.227274</td>\n",
              "        <td class=\"number\">1</td>\n",
              "        <td class=\"number\">0.0%</td>\n",
              "        <td>\n",
              "            <div class=\"bar\" style=\"width:100%\">&nbsp;</div>\n",
              "        </td>\n",
              "</tr><tr class=\"\">\n",
              "        <td class=\"fillremaining\">2981.279548</td>\n",
              "        <td class=\"number\">1</td>\n",
              "        <td class=\"number\">0.0%</td>\n",
              "        <td>\n",
              "            <div class=\"bar\" style=\"width:100%\">&nbsp;</div>\n",
              "        </td>\n",
              "</tr><tr class=\"\">\n",
              "        <td class=\"fillremaining\">4143.118844</td>\n",
              "        <td class=\"number\">1</td>\n",
              "        <td class=\"number\">0.0%</td>\n",
              "        <td>\n",
              "            <div class=\"bar\" style=\"width:100%\">&nbsp;</div>\n",
              "        </td>\n",
              "</tr><tr class=\"\">\n",
              "        <td class=\"fillremaining\">4376.810337</td>\n",
              "        <td class=\"number\">1</td>\n",
              "        <td class=\"number\">0.0%</td>\n",
              "        <td>\n",
              "            <div class=\"bar\" style=\"width:100%\">&nbsp;</div>\n",
              "        </td>\n",
              "</tr><tr class=\"\">\n",
              "        <td class=\"fillremaining\">4985.169113</td>\n",
              "        <td class=\"number\">1</td>\n",
              "        <td class=\"number\">0.0%</td>\n",
              "        <td>\n",
              "            <div class=\"bar\" style=\"width:100%\">&nbsp;</div>\n",
              "        </td>\n",
              "</tr>\n",
              "</table>\n",
              "            <p class=\"h4\">Maximum 5 values</p>\n",
              "            \n",
              "<table class=\"freq table table-hover\">\n",
              "    <thead>\n",
              "    <tr>\n",
              "        <td class=\"fillremaining\">Value</td>\n",
              "        <td class=\"number\">Count</td>\n",
              "        <td class=\"number\">Frequency (%)</td>\n",
              "        <td style=\"min-width:200px\">&nbsp;</td>\n",
              "    </tr>\n",
              "    </thead>\n",
              "    <tr class=\"\">\n",
              "        <td class=\"fillremaining\">69547.43695</td>\n",
              "        <td class=\"number\">1</td>\n",
              "        <td class=\"number\">0.0%</td>\n",
              "        <td>\n",
              "            <div class=\"bar\" style=\"width:100%\">&nbsp;</div>\n",
              "        </td>\n",
              "</tr><tr class=\"\">\n",
              "        <td class=\"fillremaining\">70021.64844</td>\n",
              "        <td class=\"number\">1</td>\n",
              "        <td class=\"number\">0.0%</td>\n",
              "        <td>\n",
              "            <div class=\"bar\" style=\"width:100%\">&nbsp;</div>\n",
              "        </td>\n",
              "</tr><tr class=\"\">\n",
              "        <td class=\"fillremaining\">70700.64783999999</td>\n",
              "        <td class=\"number\">1</td>\n",
              "        <td class=\"number\">0.0%</td>\n",
              "        <td>\n",
              "            <div class=\"bar\" style=\"width:100%\">&nbsp;</div>\n",
              "        </td>\n",
              "</tr><tr class=\"\">\n",
              "        <td class=\"fillremaining\">71238.5506</td>\n",
              "        <td class=\"number\">1</td>\n",
              "        <td class=\"number\">0.0%</td>\n",
              "        <td>\n",
              "            <div class=\"bar\" style=\"width:100%\">&nbsp;</div>\n",
              "        </td>\n",
              "</tr><tr class=\"\">\n",
              "        <td class=\"fillremaining\">72461.30139</td>\n",
              "        <td class=\"number\">1</td>\n",
              "        <td class=\"number\">0.0%</td>\n",
              "        <td>\n",
              "            <div class=\"bar\" style=\"width:100%\">&nbsp;</div>\n",
              "        </td>\n",
              "</tr>\n",
              "</table>\n",
              "        </div>\n",
              "    </div>\n",
              "</div>\n",
              "</div><div class=\"row variablerow\">\n",
              "    <div class=\"col-md-3 namecol\">\n",
              "        <p class=\"h4 pp-anchor\" id=\"pp_var_balance\">balance<br/>\n",
              "            <small>Numeric</small>\n",
              "        </p>\n",
              "    </div><div class=\"col-md-6\">\n",
              "    <div class=\"row\">\n",
              "        <div class=\"col-sm-6\">\n",
              "            <table class=\"stats \">\n",
              "                <tr>\n",
              "                    <th>Distinct count</th>\n",
              "                    <td>6642</td>\n",
              "                </tr>\n",
              "                <tr>\n",
              "                    <th>Unique (%)</th>\n",
              "                    <td>94.9%</td>\n",
              "                </tr>\n",
              "                <tr class=\"ignore\">\n",
              "                    <th>Missing (%)</th>\n",
              "                    <td>0.0%</td>\n",
              "                </tr>\n",
              "                <tr class=\"ignore\">\n",
              "                    <th>Missing (n)</th>\n",
              "                    <td>0</td>\n",
              "                </tr>\n",
              "                <tr class=\"ignore\">\n",
              "                    <th>Infinite (%)</th>\n",
              "                    <td>0.0%</td>\n",
              "                </tr>\n",
              "                <tr class=\"ignore\">\n",
              "                    <th>Infinite (n)</th>\n",
              "                    <td>0</td>\n",
              "                </tr>\n",
              "            </table>\n",
              "\n",
              "        </div>\n",
              "        <div class=\"col-sm-6\">\n",
              "            <table class=\"stats \">\n",
              "\n",
              "                <tr>\n",
              "                    <th>Mean</th>\n",
              "                    <td>831.6</td>\n",
              "                </tr>\n",
              "                <tr>\n",
              "                    <th>Minimum</th>\n",
              "                    <td>0</td>\n",
              "                </tr>\n",
              "                <tr>\n",
              "                    <th>Maximum</th>\n",
              "                    <td>2654.3</td>\n",
              "                </tr>\n",
              "                <tr class=\"alert\">\n",
              "                    <th>Zeros (%)</th>\n",
              "                    <td>5.1%</td>\n",
              "                </tr>\n",
              "            </table>\n",
              "        </div>\n",
              "    </div>\n",
              "</div>\n",
              "<div class=\"col-md-3 collapse in\" id=\"minihistogram-2222830134769095135\">\n",
              "    <img src=\"data:image/png;base64,iVBORw0KGgoAAAANSUhEUgAAAMgAAABLCAYAAAA1fMjoAAAABHNCSVQICAgIfAhkiAAAAAlwSFlzAAAPYQAAD2EBqD%2BnaQAAADh0RVh0U29mdHdhcmUAbWF0cGxvdGxpYiB2ZXJzaW9uMy4xLjEsIGh0dHA6Ly9tYXRwbG90bGliLm9yZy8QZhcZAAABM0lEQVR4nO3dwW3CMBiA0aZiJIboTj13pw7BTu4C1aeAFGLwe%2BccfODT78RE2cYY4wP41%2BfZC4CZXc5ewCu5fv/edf3t5%2BuglfAsywZy74%2BdNdliQRAIBIFAEAgEgUAQCASBQFj2HOQZHjlrcbg4FxMEwltMEKfiHMUEgSAQCAKBMN09iPsJZmKCQBAIBIFAEAgEgUAQCASBQBAIBIFAmO4kfXXeIZmLCQJBIBAEAkEgEAQCQSAQBAJBIBAEAkEgEPzV5A34duJxTBAIAoEgEAgCgSAQCAKB4DHvgry1uJ8JAkEgEGyx2GXVbdk2xhhnLwJmZYsFQSAQBAJBIBAEAkEgEAQCQSAQBAJBIBAEAkEgEAQCQSAQBAJBIBAEAkEgEAQCQSAQBAJBIBAEAkEgEAQC4Q8qLx7U5EQSLwAAAABJRU5ErkJggg%3D%3D\">\n",
              "\n",
              "</div>\n",
              "<div class=\"col-md-12 text-right\">\n",
              "    <a role=\"button\" data-toggle=\"collapse\" data-target=\"#descriptives-2222830134769095135,#minihistogram-2222830134769095135\"\n",
              "       aria-expanded=\"false\" aria-controls=\"collapseExample\">\n",
              "        Toggle details\n",
              "    </a>\n",
              "</div>\n",
              "<div class=\"row collapse col-md-12\" id=\"descriptives-2222830134769095135\">\n",
              "    <ul class=\"nav nav-tabs\" role=\"tablist\">\n",
              "        <li role=\"presentation\" class=\"active\"><a href=\"#quantiles-2222830134769095135\"\n",
              "                                                  aria-controls=\"quantiles-2222830134769095135\" role=\"tab\"\n",
              "                                                  data-toggle=\"tab\">Statistics</a></li>\n",
              "        <li role=\"presentation\"><a href=\"#histogram-2222830134769095135\" aria-controls=\"histogram-2222830134769095135\"\n",
              "                                   role=\"tab\" data-toggle=\"tab\">Histogram</a></li>\n",
              "        <li role=\"presentation\"><a href=\"#common-2222830134769095135\" aria-controls=\"common-2222830134769095135\"\n",
              "                                   role=\"tab\" data-toggle=\"tab\">Common Values</a></li>\n",
              "        <li role=\"presentation\"><a href=\"#extreme-2222830134769095135\" aria-controls=\"extreme-2222830134769095135\"\n",
              "                                   role=\"tab\" data-toggle=\"tab\">Extreme Values</a></li>\n",
              "\n",
              "    </ul>\n",
              "\n",
              "    <div class=\"tab-content\">\n",
              "        <div role=\"tabpanel\" class=\"tab-pane active row\" id=\"quantiles-2222830134769095135\">\n",
              "            <div class=\"col-md-4 col-md-offset-1\">\n",
              "                <p class=\"h4\">Quantile statistics</p>\n",
              "                <table class=\"stats indent\">\n",
              "                    <tr>\n",
              "                        <th>Minimum</th>\n",
              "                        <td>0</td>\n",
              "                    </tr>\n",
              "                    <tr>\n",
              "                        <th>5-th percentile</th>\n",
              "                        <td>0</td>\n",
              "                    </tr>\n",
              "                    <tr>\n",
              "                        <th>Q1</th>\n",
              "                        <td>469.99</td>\n",
              "                    </tr>\n",
              "                    <tr>\n",
              "                        <th>Median</th>\n",
              "                        <td>819.53</td>\n",
              "                    </tr>\n",
              "                    <tr>\n",
              "                        <th>Q3</th>\n",
              "                        <td>1166</td>\n",
              "                    </tr>\n",
              "                    <tr>\n",
              "                        <th>95-th percentile</th>\n",
              "                        <td>1661.8</td>\n",
              "                    </tr>\n",
              "                    <tr>\n",
              "                        <th>Maximum</th>\n",
              "                        <td>2654.3</td>\n",
              "                    </tr>\n",
              "                    <tr>\n",
              "                        <th>Range</th>\n",
              "                        <td>2654.3</td>\n",
              "                    </tr>\n",
              "                    <tr>\n",
              "                        <th>Interquartile range</th>\n",
              "                        <td>695.99</td>\n",
              "                    </tr>\n",
              "                </table>\n",
              "            </div>\n",
              "            <div class=\"col-md-4 col-md-offset-2\">\n",
              "                <p class=\"h4\">Descriptive statistics</p>\n",
              "                <table class=\"stats indent\">\n",
              "                    <tr>\n",
              "                        <th>Standard deviation</th>\n",
              "                        <td>486.25</td>\n",
              "                    </tr>\n",
              "                    <tr>\n",
              "                        <th>Coef of variation</th>\n",
              "                        <td>0.58471</td>\n",
              "                    </tr>\n",
              "                    <tr>\n",
              "                        <th>Kurtosis</th>\n",
              "                        <td>-0.37938</td>\n",
              "                    </tr>\n",
              "                    <tr>\n",
              "                        <th>Mean</th>\n",
              "                        <td>831.6</td>\n",
              "                    </tr>\n",
              "                    <tr>\n",
              "                        <th>MAD</th>\n",
              "                        <td>396.47</td>\n",
              "                    </tr>\n",
              "                    <tr class=\"\">\n",
              "                        <th>Skewness</th>\n",
              "                        <td>0.2437</td>\n",
              "                    </tr>\n",
              "                    <tr>\n",
              "                        <th>Sum</th>\n",
              "                        <td>5821200</td>\n",
              "                    </tr>\n",
              "                    <tr>\n",
              "                        <th>Variance</th>\n",
              "                        <td>236440</td>\n",
              "                    </tr>\n",
              "                    <tr>\n",
              "                        <th>Memory size</th>\n",
              "                        <td>54.8 KiB</td>\n",
              "                    </tr>\n",
              "                </table>\n",
              "            </div>\n",
              "        </div>\n",
              "        <div role=\"tabpanel\" class=\"tab-pane col-md-8 col-md-offset-2\" id=\"histogram-2222830134769095135\">\n",
              "            <img src=\"data:image/png;base64,iVBORw0KGgoAAAANSUhEUgAAAlgAAAGQCAYAAAByNR6YAAAABHNCSVQICAgIfAhkiAAAAAlwSFlzAAAPYQAAD2EBqD%2BnaQAAADh0RVh0U29mdHdhcmUAbWF0cGxvdGxpYiB2ZXJzaW9uMy4xLjEsIGh0dHA6Ly9tYXRwbG90bGliLm9yZy8QZhcZAAAgAElEQVR4nO3dfXhU9Z3//1eSIQEScocEupECFYiERAoKaQMSCCIKghIjIa1SeoGCRNkEaFFuvqKySktYcAlLjYptqqtjwJUbQflRbkSl3WorTgJaibgqC2aEGUNCAiQ5vz%2B4nDqGm0A%2BmWGG5%2BO6vJDP58w57/O%2BzgyvnHNyJsSyLEsAAAAwJtTfBQAAAAQbAhYAAIBhBCwAAADDCFgAAACGEbAAAAAMI2ABAAAYRsACAAAwjIAFAABgGAELAADAMAIWAACAYQQsAAAAwwhYAAAAhhGwAAAADCNgAQAAGEbAAgAAMIyABQAAYBgBCwAAwDACFgAAgGEELAAAAMMIWAAAAIYRsAAAAAwjYAEAABhGwAIAADCMgAUAAGAYAQsAAMAwAhYAAIBhBCwAAADDCFgAAACGEbAAAAAMI2ABAAAYRsACAAAwjIAFAABgGAELAADAMAIWAACAYQQsAAAAwwhYAAAAhhGwAAAADCNgAQAAGEbAAgAAMMzm7wKuFE7ncePrDA0NUXx8pI4dq1Fjo2V8/VcK%2BmgGfTSDPppDL80I9D526tTBL9vlDFYACw0NUUhIiEJDQ/xdSkCjj2bQRzPoozn00gz6eGkIWAAAAIYRsAAAAAwjYAEAABhGwAIAADCMgAUAAGAYAQsAAMAwAhYAAIBhAR2wdu/erfT0dBUUFJxzmZqaGg0bNkwPPfSQZ6yxsVHLly/XiBEjNHDgQE2ZMkVffPGFZ97tdis/P1/p6ekaMmSI5s%2Bfr7q6ulbdFwAAEDwCNmA988wzWrx4sbp163be5VauXKnq6mqvsRdffFEbN25UcXGxduzYoe7duysvL0%2BWdeYJtQsXLlRtba02bdqkdevWqaKiQoWFha22LwAAILgEbMCKiIjQ2rVrzxuwPvroI23atEnjx4/3Grfb7Zo8ebKuueYaRUVFqaCgQBUVFdq7d6%2B%2B/vprbdu2TQUFBYqPj1fnzp01Y8YMrVu3TqdPn27t3QIAAEEgYL%2BLcNKkSeedtyxLixYtUkFBgf7v//5Px4%2Bf%2BS7Auro6HThwQMnJyZ5lo6Ki1K1bNzkcDh0/flxhYWFKSkryzPft21cnTpzQp59%2B6jV%2BLpWVlXI6nV5jNlt7JSQkXMwuXlBYWKjXn7g09NEM%2BmgGfTSHXppBHy9NwAasC7Hb7QoJCVFWVpaKioo84998840sy1JMTIzX8jExMXK5XIqNjVVUVJRCQkK85iTJ5XI1e9vf3aYk5eXlaebMmZe6O%2BcVHd2uVdZ7paGPZtBHM%2BijOfTSDPp4cYIyYB09elRPPfWUfv/733sFpe/69n6ri51rjpycHGVmZnqN2Wzt5XLVtGi93xcWFqro6HaqqqpVQ0Oj0XVfSeijGfTRDPpoDr00I9D7GBcX6ZftBmXAWrJkie64446zXs6LjY1VaGio3G6317jb7VbHjh0VHx%2Bv6upqNTQ0KCwszDMnSR07dmzW9hMSEppcDnQ6j6u%2BvnUOzIaGxlZb95Uk0Pt464p3/F1Cs23JH%2BzvEi57gX48Xk7opRn08eIEZcDasGGDoqOj9eqrr0o6c99VY2OjduzYob/85S/q1auXysvLNWjQIElSVVWVPv/8c1133XVKTEyUZVn66KOP1LdvX0mSw%2BFQdHS0evTo4bd9AgAAgSMoA9auXbu8/v7888/ryJEjevjhhyVJubm5Ki4u1tChQ9W5c2cVFhaqT58%2BSk1NlSSNGjVKK1as0G9%2B8xudOnVKq1atUnZ2tmy2oGwXAAAwLGATw7dhqL6%2BXpK0bds2SWfONnXp0sVr2aioKLVr184zPnHiRDmdTt1zzz2qqalRWlqa103pjz32mB555BGNGDFCbdq00W233Xbeh5kCAAB8V4jV0ju60SxO53Hj67TZQhUXFymXq4br4i0QLH3kHqzgECzH4%2BWAXpoR6H3s1KmDX7bLQy0AAAAMI2ABAAAYRsACAAAwLGBvcgdaWyDd0wQAuLxwBgsAAMAwAhYAAIBhBCwAAADDCFgAAACGEbAAAAAMI2ABAAAYRsACAAAwjIAFAABgGAELAADAMAIWAACAYQQsAAAAwwhYAAAAhhGwAAAADCNgAQAAGEbAAgAAMIyABQAAYBgBCwAAwDACFgAAgGEELAAAAMMIWAAAAIYRsAAAAAwjYAEAABhGwAIAADCMgAUAAGAYAQsAAMAwAhYAAIBhBCwAAADDCFgAAACGBWzA2r17t9LT01VQUNBkbuvWrRo3bpz69%2B%2BvUaNG6ZVXXvGaLykp0ahRozRgwADl5uaqrKzMM3fy5En9v//3/zR06FClpaVp5syZcrlcrb4/AAAgeARkwHrmmWe0ePFidevWrcnchx9%2BqDlz5mjmzJn661//qnnz5umxxx7Te%2B%2B9J0navn27Vq5cqd/%2B9rd69913NXz4cE2fPl0nTpyQJC1fvlzl5eWy2%2B168803ZVmWHn74YZ/uHwAACGwBGbAiIiK0du3aswYst9utadOm6aabbpLNZlNGRoZ69%2B7tCVh2u11ZWVnq16%2Bf2rZtq6lTp0qSduzYofr6eq1du1YzZszQD37wA8XGxio/P187d%2B7UV1995dN9BAAAgSsgA9akSZPUoUOHs84NHTpUeXl5nr/X19fL6XSqc%2BfOkqTy8nIlJyd75kNDQ9WnTx85HA59/vnnOn78uPr27euZv%2Baaa9S2bVuVl5e30t4AAIBgY/N3Aa2tsLBQ7du31%2BjRoyWdOcMVExPjtUxMTIxcLpfcbrckKTo62ms%2BOjr6ou7DqqyslNPp9Bqz2dorISHhUnbhnMLCQr3%2BxKWhj75ns9Hrc%2BF4NIdemkEfL03QBizLslRYWKhNmzappKREERERXnMXem1L2O12FRUVeY3l5eVp5syZLVrvuURHt2uV9V5p6KPvxMVF%2BruEyx7Hozn00gz6eHGCMmA1Njbq4Ycf1ocffqiXXnpJXbt29czFxcV5zlR9y%2B12q1evXoqPj/f8PTLyn/8AfPPNN%2BrYsWOzt5%2BTk6PMzEyvMZutvVyumkvZnXMKCwtVdHQ7VVXVqqGh0ei6ryT00fdMvxeCCcejOfTSjEDvo79%2BoAvKgPXEE0/ok08%2B0UsvvaTY2FivuZSUFJWXl2v8%2BPGSpIaGBu3bt0/Z2dnq2rWrYmJiVF5ersTEREnSP/7xD506dUopKSnN3n5CQkKTy4FO53HV17fOgdnQ0Nhq676S0Effoc8XxvFoDr00gz5enKC7oPr%2B%2B%2B9rw4YNKi4ubhKuJCk3N1evvfaaPvjgA9XW1mr16tUKDw/XsGHDFBYWpgkTJuh3v/udDh8%2BLJfLpX//93/XyJEjddVVV/lhbwAAQCAKyDNYqampks78hqAkbdu2TZLkcDi0bt06HT9%2BXMOHD/d6zcCBA7VmzRoNHTpUs2bNUn5%2Bvo4eParU1FQVFxerbdu2kqSZM2eqpqZGt99%2Bu%2Brr6zV8%2BHAtWrTIdzsHAAACXojV0ju60SxO53Hj67TZQhUXFymXq4bTti1wrj7euuIdP1YV3LbkD/Z3CZct3tfm0EszAr2PnTqd/bFOrS3oLhECAAD4GwELAADAMAIWAACAYQQsAAAAwwhYAAAAhhGwAAAADCNgAQAAGEbAAgAAMIyABQAAYBgBCwAAwDACFgAAgGEB%2BWXPAAJboH3PI9%2BdCOBicQYLAADAMAIWAACAYQQsAAAAwwhYAAAAhhGwAAAADCNgAQAAGEbAAgAAMIyABQAAYBgBCwAAwDCe5A6fCbSndwMAcKk4gwUAAGAYAQsAAMAwAhYAAIBhBCwAAADDCFgAAACGEbAAAAAMI2ABAAAYRsACAAAwjIAFAABgGAELAADAMAIWAACAYQEdsHbv3q309HQVFBQ0mdu8ebPGjh2r/v37KysrS2%2B//bZnrrGxUcuXL9eIESM0cOBATZkyRV988YVn3u12Kz8/X%2Bnp6RoyZIjmz5%2Bvuro6n%2BwTAAAIfAEbsJ555hktXrxY3bp1azK3f/9%2BzZ07V3PmzNGf//xnTZ48WQ888ICOHDkiSXrxxRe1ceNGFRcXa8eOHerevbvy8vJkWZYkaeHChaqtrdWmTZu0bt06VVRUqLCw0Kf7BwAAAlfABqyIiAitXbv2rAGrtLRUGRkZysjIUEREhMaNG6fevXtrw4YNkiS73a7JkyfrmmuuUVRUlAoKClRRUaG9e/fq66%2B/1rZt21RQUKD4%2BHh17txZM2bM0Lp163T69Glf7yYAAAhAARuwJk2apA4dOpx1rry8XMnJyV5jycnJcjgcqqur04EDB7zmo6Ki1K1bNzkcDu3fv19hYWFKSkryzPft21cnTpzQp59%2B2jo7AwAAgorN3wW0BrfbrZiYGK%2BxmJgYHThwQN98840syzrrvMvlUmxsrKKiohQSEuI1J0kul6tZ26%2BsrJTT6fQas9naKyEh4VJ255zCwkK9/gTQOmw2373HeF%2BbQy/NoI%2BXJigDliTP/VSXMn%2Bh116I3W5XUVGR11heXp5mzpzZovWeS3R0u1ZZL4Az4uIifb5N3tfm0Esz6OPFCcqAFRcXJ7fb7TXmdrsVHx%2Bv2NhYhYaGnnW%2BY8eOio%2BPV3V1tRoaGhQWFuaZk6SOHTs2a/s5OTnKzMz0GrPZ2svlqrnUXTqrsLBQRUe3U1VVrRoaGo2uG8A/mX7vng/va3PopRmB3kd//IAkBWnASklJUVlZmdeYw%2BHQmDFjFBERoV69eqm8vFyDBg2SJFVVVenzzz/Xddddp8TERFmWpY8%2B%2Bkh9%2B/b1vDY6Olo9evRo1vYTEhKaXA50Oo%2Brvr51DsyGhsZWWzcA%2BeX9xfvaHHppBn28OEF5QXXChAl69913tXPnTp08eVJr167VZ599pnHjxkmScnNzVVJSooqKClVXV6uwsFB9%2BvRRamqq4uPjNWrUKK1YsULHjh3TkSNHtGrVKmVnZ8tmC8o8CgAADAvYxJCamipJqq%2BvlyRt27ZN0pmzTb1791ZhYaGefPJJHTp0SD179tTTTz%2BtTp06SZImTpwop9Ope%2B65RzU1NUpLS/O6Z%2Bqxxx7TI488ohEjRqhNmza67bbbzvowUwAAgLMJsVp6Rzeaxek8bnydNluo4uIi5XLVBMRp21tXvOPvEoBLsiV/sM%2B2FWjv68sZvTQj0PvYqdPZH%2BnU2oLyEiEAAIA/EbAAAAAMI2ABAAAYRsACAAAwjIAFAABgWMA%2BpgFn3DD/DX%2BXAAAAvoczWAAAAIYRsAAAAAwjYAEAABhGwAIAADCMgAUAAGAYAQsAAMAwAhYAAIBhBCwAAADDCFgAAACGEbAAAAAMI2ABAAAYRsACAAAwjIAFAABgGAELAADAMJ8HrMzMTBUVFenw4cO%2B3jQAAIBP%2BDxg3Xnnndq8ebNuuukmTZ06VVu3blV9fb2vywAAAGg1Pg9YeXl52rx5s1555RX16tVLTzzxhDIyMrR06VIdPHjQ1%2BUAAAAY57d7sPr27au5c%2Bdqx44dmjdvnl555RWNHj1aU6ZM0YcffuivsgAAAFrMbwHr9OnT2rx5s%2B69917NnTtXnTt31sMPP6w%2Bffpo8uTJ2rhxo79KAwAAaBGbrzdYUVGhtWvX6rXXXlNNTY1GjRqlP/zhD7r%2B%2Bus9ywwcOFCLFi3S2LFjfV0eAABAi/k8YI0ZM0Y9evTQtGnTdMcddyg2NrbJMhkZGTp27JivSwMAADDC5wGrpKREgwYNuuBye/fu9UE1AAAA5vn8HqykpCRNnz5d27Zt84z9/ve/17333iu32%2B3rcgAAAIzzecB68skndfz4cfXs2dMzNmzYMDU2NmrJkiW%2BLgcAAMA4n18ifPvtt7Vx40bFxcV5xrp3767CwkLddtttvi4HAADAOJ%2Bfwaqrq1NERETTQkJDVVtb6%2BtyAAAAjPN5wBo4cKCWLFmib775xjP21Vdf6dFHH/V6VAMAAECg8nnAmjdvnvbs2aOf/vSnGjRokG644QYNGzZMZWVlWrx4sbHt7Nu3T5MmTdINN9ygwYMHa86cOZ5HP%2BzZs0fZ2dkaMGCAxowZow0bNni9tqSkRKNGjdKAAQOUm5ursrIyY3UBAIDg5/N7sLp27arXX39db731lj7//HOFhoaqR48eGjJkiMLCwoxso76%2BXvfdd5%2BysrL07LPPqqamRrNnz9aiRYu0YMECzZgxQ/Pnz9fYsWP1/vvv6/7771ePHj2Umpqq7du3a%2BXKlXr22WeVlJSkkpISTZ8%2BXVu3blX79u2N1AcAAIKbzwOWJIWHh%2Bumm25qtfU7nU45nU7dfvvtCg8PV3h4uEaOHKk1a9Zo48aN6t69u7KzsyVJ6enpyszMVGlpqVJTU2W325WVlaV%2B/fpJkqZOnaqSkhLt2LFDY8aMabWaAQBA8PB5wPriiy%2B0bNkyffLJJ6qrq2sy/6c//anF2%2BjcubP69Okju92uf/3Xf1VdXZ22bt2qYcOGqby8XMnJyV7LJycna8uWLZKk8vJyjR492jMXGhqqPn36yOFwELAAAECz%2BDxgzZs3T5WVlRoyZEirXXILDQ3VypUrNXnyZP3hD3%2BQJA0aNEizZ8/WjBkz1LlzZ6/lY2Nj5XK5JElut1sxMTFe8zExMZ755qisrJTT6fQas9naKyEh4VJ255zCwvz2Xd3AFcVm89177dv3Ne/vlqOXZtDHS%2BPzgFVWVqY//elPio%2BPb7VtnDp1StOnT9ctt9yi6dOn68SJE3r00Uc1Z86cZr3esqwWbd9ut6uoqMhrLC8vTzNnzmzRegH4R1xcpM%2B3GR3dzufbDFb00gz6eHF8HrA6duzY6jeL79mzR19%2B%2BaVmzZqlsLAwdejQQTNnztTtt9%2BuG2%2B8sclX8rhcLk/gi4uLazLvdrvVq1evZm8/JydHmZmZXmM2W3u5XDWXuEdnx08TgG%2BYfu%2BeT1hYqKKj26mqqlYNDY0%2B224wopdmBHof/fEDkuSHgDVt2jQVFRVp9uzZCgkJaZVtNDQ0qLGx0etM1KlTpySduan9v//7v72WLysr89zUnpKSovLyco0fP96zrn379nluim%2BOhISEJpcDnc7jqq8PvAMTgPzy3m1oaOQzwxB6aQZ9vDg%2BD1hvvfWW/va3v%2BnVV1/V1VdfrdBQ77MwL7/8cou30b9/f7Vv314rV67U9OnTVVdXp9WrV2vgwIG6/fbbVVRUpNLSUo0bN05//vOftWvXLtntdklSbm6uZs2apdtuu01JSUl67rnnFB4ermHDhrW4LgAAcGXwecCKiorS0KFDW3UbcXFxeu655/Sb3/xGQ4cOVXh4uAYNGqRFixapY8eOevrpp7V48WI9%2BuijSkxM1NKlS3XttddKkoYOHapZs2YpPz9fR48eVWpqqoqLi9W2bdtWrRkAAASPEKuld3SjWZzO48bXabOFamThbuPrBeBtS/5gn23LZgtVXFykXK4aLse0EL00I9D72KlTB79s1y93SX/66adauXKlHn74Yc/Y3//%2Bd3%2BUAgAAYJzPA9aePXs0btw4bd26VZs2bZJ05uGjkyZNMvKQUQAAAH/zecBavny5fvWrX2njxo2e3yLs2rWrlixZolWrVvm6HAAAAON8HrD%2B8Y9/KDc3V5K8HtNwyy23qKKiwtflAAAAGOfzgNWhQ4ezfgdhZWWlwsPDfV0OAACAcT4PWAMGDNATTzyh6upqz9jBgwc1d%2B5c/fSnP/V1OQAAAMb5/DlYDz/8sH7xi18oLS1NDQ0NGjBggGpra9WrVy8tWbLE1%2BUAAAAY5/OA1aVLF23atEm7du3SwYMH1bZtW/Xo0UODBw9uta/OAQAA8CWfByxJatOmjW666SZ/bBoAAKDV%2BTxgZWZmnvdMFc/CAgAAgc7nAWv06NFeAauhoUEHDx6Uw%2BHQL37xC1%2BXAwAAYJzPA9acOXPOOv7mm2/qL3/5i4%2BrAQAAMM8v30V4NjfddJNef/11f5cBAADQYpdNwNq3b58sy/J3GQAAAC3m80uEEydObDJWW1uriooK3Xzzzb4uBwAAwDifB6zu3bs3%2BS3CiIgIZWdn66677vJ1OQAAAMb5PGDxtHYAABDsfB6wXnvttWYve8cdd7RiJQAAAK3D5wFr/vz5amxsbHJDe0hIiNdYSEgIAQsAAAQknwesZ599VmvWrNH06dOVlJQky7L08ccf65lnntHdd9%2BttLQ0X5cEAABglF/uwSouLlbnzp09YzfccIO6du2qKVOmaNOmTb4uCQAAwCifPwfrs88%2BU0xMTJPx6OhoHTp0yNflAAAAGOfzgJWYmKglS5bI5XJ5xqqqqrRs2TL98Ic/9HU5AAAAxvn8EuG8efM0e/Zs2e12RUZGKjQ0VNXV1Wrbtq1WrVrl63IAAACM83nAGjJkiHbu3Kldu3bpyJEjsixLnTt31o033qgOHTr4uhwAAADjfB6wJKldu3YaMWKEjhw5oq5du/qjBABotltXvOPvEi7KlvzB/i4BuOL5/B6suro6zZ07V/3799ett94q6cw9WFOnTlVVVZWvywEAADDO5wFr6dKl2r9/vwoLCxUa%2Bs/NNzQ0qLCw0NflAAAAGOfzgPXmm2/qP/7jP3TLLbd4vvQ5OjpaTz75pLZu3errcgAAAIzzecCqqalR9%2B7dm4zHx8frxIkTvi4HAADAOJ8HrB/%2B8If6y1/%2BIkle3z34xhtv6F/%2B5V98XQ4AAIBxPv8twp/97Gd68MEHdeedd6qxsVHPP/%2B8ysrK9Oabb2r%2B/Pm%2BLgcAAMA4nwesnJwc2Ww2vfDCCwoLC9Pvfvc79ejRQ4WFhbrlllt8XQ4AAIBxPg9Yx44d05133qk777yz1be1evVqvfjii6qurtaPf/xjLV68WFdffbX27NmjZcuW6dNPP9UPfvADTZs2TePGjfO8rqSkRC%2B%2B%2BKKcTqeSkpI0f/58paSktHq9AAAgOPj8HqwRI0Z43XvVWl588UVt2LBBJSUlevvtt9WzZ0/9/ve/V2VlpWbMmKGJEydqz549mj9/vhYuXCiHwyFJ2r59u1auXKnf/va3evfddzV8%2BHBNnz6dG/ABAECz%2BTxgpaWlacuWLa2%2BnTVr1qigoEA/%2BtGPFBUVpQULFmjBggXauHGjunfvruzsbEVERCg9PV2ZmZkqLS2VJNntdmVlZalfv35q27atpk6dKknasWNHq9cMAACCg88vEf7gBz/Qv/3bv6m4uFg//OEP1aZNG6/5ZcuWtXgbX331lb788kt98803Gj16tI4ePaq0tDQtWrRI5eXlSk5O9lo%2BOTnZE/rKy8s1evRoz1xoaKj69Okjh8OhMWPGNGv7lZWVcjqdXmM2W3slJCS0cM%2B8hYX5PB8DCAA2G58N0j8/I/msbBn6eGl8HrAOHDigH/3oR5Ikl8vVKts4cuSIpDOPfnj%2B%2BedlWZZmzpypBQsWqK6uTp07d/ZaPjY21lOL2%2B1WTEyM13xMTMxF1Wq321VUVOQ1lpeXp5kzZ17K7gDARYmLi/R3CZeV6Oh2/i4hKNDHi%2BOzgFVQUKDly5frj3/8o2ds1apVysvLM76tb%2B/xmjp1qidMPfjgg7r33nuVnp7e7NdfqpycHGVmZnqN2Wzt5XLVtGi938dPEwDOxvRnTaAKCwtVdHQ7VVXVqqGh0d/lBKxA76O/fuDwWcDavn17k7Hi4uJWCVhXXXWVpDNfwfOtxMREWZal06dPy%2B12ey3vcrkUHx8vSYqLi2sy73a71atXr2ZvPyEhocnlQKfzuOrrA%2B/ABBB4%2BKzx1tDQSE8MoI8Xx2enQM52Vqi1fpuwS5cuioqK0v79%2Bz1jhw4dUps2bZSRkaGysjKv5cvKytSvXz9JUkpKisrLyz1zDQ0N2rdvn2ceAADgQnwWsL79YucLjZlgs9mUnZ2t3/3ud/rf//1fHT16VKtWrdLYsWM1fvx4HTp0SKWlpTp58qR27dqlXbt2acKECZKk3Nxcvfbaa/rggw9UW1ur1atXKzw8XMOGDWuVWgEAQPDx%2BU3uvjJ79mydOnVKd911l06fPq1Ro0ZpwYIFioyM1NNPP63Fixfr0UcfVWJiopYuXaprr71WkjR06FDNmjVL%2Bfn5Onr0qFJTU1VcXKy2bdv6eY8AAECgCLF88dRPSf369dPevXsvOBasnM7jxtdps4VqZOFu4%2BsFENi25A/2dwmXBZstVHFxkXK5arh3qAUCvY%2BdOnXwy3Z9dgbr9OnTmj179gXHTDwHCwAAwJ98FrCuv/56VVZWXnAMAAAg0PksYH33%2BVcAAADBjCdVAgAAGEbAAgAAMIyABQAAYBgBCwAAwDACFgAAgGEELAAAAMMIWAAAAIYRsAAAAAwjYAEAABhGwAIAADCMgAUAAGAYAQsAAMAwAhYAAIBhBCwAAADDCFgAAACGEbAAAAAMI2ABAAAYRsACAAAwjIAFAABgGAELAADAMAIWAACAYQQsAAAAwwhYAAAAhhGwAAAADCNgAQAAGEbAAgAAMIyABQAAYBgBCwAAwDACFgAAgGEELAAAAMOuiID1xBNPKCkpyfP3PXv2KDs7WwMGDNCYMWO0YcMGr%2BVLSko0atQoDRgwQLm5uSorK/N1yQAAIIAFfcDav3%2B/1q9f7/l7ZWWlZsyYoYkTJ2rPnj2aP3%2B%2BFi5cKIfDIUnavn27Vq5cqd/%2B9rd69913NXz4cE2fPl0nTpzw1y4AAIAAE9QBq7GxUY888ogmT57sGdu4caO6d%2B%2Bu7OxsRUREKD09XZmZmSotLZUk2e12ZWVlqV%2B/fmrbtq2mTp0qSdqxY4c/dgEAAAQgm78LaE0vv/yyIiIiNHbsWK1YsUKSVF5eruTkZK/lkpOTtWXLFs/86NGjPXOhoaHq06ePHA6HxowZ06ztVlZWyul0eo3ZbO2VkJDQkt1pIiwsqPMxgEtks/HZIP3zM5LPypahj5cmaAPW119/rZUrV%2BqPf/yj17jb7Vbnzp29xmJjY%2BVyuTzzMTExXvMxMTGe%2Beaw2%2B0qKiryGsvLy9PMmTMvZhcA4JLExUX6u7sJd5oAABKrSURBVITLSnR0O3%2BXEBTo48UJ2oD15JNPKisrSz179tSXX355Ua%2B1LKtF287JyVFmZqbXmM3WXi5XTYvW%2B338NAHgbEx/1gSqsLBQRUe3U1VVrRoaGv1dTsAK9D766weOoAxYe/bs0d///ndt2rSpyVxcXJzcbrfXmMvlUnx8/Dnn3W63evXq1eztJyQkNLkc6HQeV3194B2YAAIPnzXeGhoa6YkB9PHiBOUpkA0bNujo0aMaPny40tLSlJWVJUlKS0tT7969mzx2oaysTP369ZMkpaSkqLy83DPX0NCgffv2eeYBAAAuJCgD1kMPPaQ333xT69ev1/r161VcXCxJWr9%2BvcaOHatDhw6ptLRUJ0%2Be1K5du7Rr1y5NmDBBkpSbm6vXXntNH3zwgWpra7V69WqFh4dr2LBhftwjAAAQSILyEmFMTIzXjer19fWSpC5dukiSnn76aS1evFiPPvqoEhMTtXTpUl177bWSpKFDh2rWrFnKz8/X0aNHlZqaquLiYrVt29b3OwIAAAJSiNXSO7rRLE7ncePrtNlCNbJwt/H1AghsW/IH%2B7uEy4LNFqq4uEi5XDXcO9QCgd7HTp06%2BGW7QXmJEAAAwJ8IWAAAAIYRsAAAAAwjYAEAABhGwAIAADCMgAUAAGAYAQsAAMAwAhYAAIBhBCwAAADDCFgAAACGEbAAAAAMC8ovewaAK9mtK97xdwnNxvcmIlhxBgsAAMAwAhYAAIBhBCwAAADDCFgAAACGEbAAAAAMI2ABAAAYRsACAAAwjIAFAABgGAELAADAMAIWAACAYQQsAAAAwwhYAAAAhhGwAAAADCNgAQAAGEbAAgAAMIyABQAAYBgBCwAAwDACFgAAgGEELAAAAMMIWAAAAIYRsAAAAAwL2oB16NAh5eXlKS0tTenp6XrooYdUVVUlSdq/f7/uvvtuXX/99br55pu1Zs0ar9du3rxZY8eOVf/%2B/ZWVlaW3337bH7sAAAACVNAGrOnTpys6Olrbt2/Xq6%2B%2Bqk8%2B%2BUS/%2Bc1vVFdXp2nTpuknP/mJdu/ereXLl%2Bvpp5/W1q1bJZ0JX3PnztWcOXP05z//WZMnT9YDDzygI0eO%2BHmPAABAoAjKgFVVVaWUlBTNnj1bkZGR6tKli8aPH6/33ntPO3fu1OnTp3X//ferffv26tu3r%2B666y7Z7XZJUmlpqTIyMpSRkaGIiAiNGzdOvXv31oYNG/y8VwAAIFDY/F1Aa4iOjtaTTz7pNXb48GElJCSovLxcSUlJCgsL88wlJyertLRUklReXq6MjAyv1yYnJ8vhcDR7%2B5WVlXI6nV5jNlt7JSQkXOyunFdYWFDmYwBXEJut9T7Hvv2M5LOyZejjpQnKgPV9DodDL7zwglavXq0tW7YoOjraaz42NlZut1uNjY1yu92KiYnxmo%2BJidGBAweavT273a6ioiKvsby8PM2cOfPSdwIAglBcXGSrbyM6ul2rb%2BNKQB8vTtAHrPfff1/333%2B/Zs%2BerfT0dG3ZsuWsy4WEhHj%2B37KsFm0zJydHmZmZXmM2W3u5XDUtWu/38dMEgEBn%2BnPxu8LCQhUd3U5VVbVqaGhste0Eu0Dvoy9C/NkEdcDavn27fvWrX2nhwoW64447JEnx8fH67LPPvJZzu92KjY1VaGio4uLi5Ha7m8zHx8c3e7sJCQlNLgc6ncdVXx94ByYAtCZffC42NDTy%2BWsAfbw4QXsK5G9/%2B5vmzp2rp556yhOuJCklJUUff/yx6uvrPWMOh0P9%2BvXzzJeVlXmt67vzAAAAFxKUAau%2Bvl4LFizQnDlzNGTIEK%2B5jIwMRUVFafXq1aqtrdXevXu1du1a5ebmSpImTJigd999Vzt37tTJkye1du1affbZZxo3bpw/dgUAAASgEKulNxxdht577z39/Oc/V3h4eJO5N954QzU1NXrkkUdUVlamq666Svfee69%2B9rOfeZbZunWrli1bpkOHDqlnz56aP3%2B%2BBg4c2KKanM7jLXr92dhsoRpZuNv4egHAV7bkD261ddtsoYqLi5TLVcOlrRYI9D526tTBL9sNyoB1OSJgAUBTBKzLX6D30V8BKygvEQIAAPgTAQsAAMAwAhYAAIBhBCwAAADDCFgAAACGEbAAAAAMI2ABAAAYRsACAAAwjIAFAABgGAELAADAMAIWAACAYQQsAAAAwwhYAAAAhhGwAAAADCNgAQAAGGbzdwEAgCvXrSve8XcJF2VL/mB/l4AAwRksAAAAwwhYAAAAhhGwAAAADCNgAQAAGEbAAgAAMIyABQAAYBgBCwAAwDACFgAAgGEELAAAAMMIWAAAAIYRsAAAAAwjYAEAABhGwAIAADCMgAUAAGCYzd8FAAAQKG5d8Y6/S7goW/IH%2B7uEKxZnsAAAAAwjYAEAABhGwDqLQ4cO6b777lNaWpqGDx%2BupUuXqrGx0d9lAQCAAME9WGfx4IMPqm/fvtq2bZuOHj2qadOm6aqrrtIvf/lLf5cGAAACAGewvsfhcOijjz7SnDlz1KFDB3Xv3l2TJ0%2BW3W73d2kAACBAcAbre8rLy5WYmKiYmBjPWN%2B%2BfXXw4EFVV1crKirqguuorKyU0%2Bn0GrPZ2ishIcForWFh5GMAwLkF0m89/n9zbvR3CUYRsL7H7XYrOjraa%2BzbsOVyuZoVsOx2u4qKirzGHnjgAT344IPmCtWZIPeLLp8oJyfHeHi7klRWVsput9PHFqKPZtBHc%2BilGfTx0nAK5Cwsy2rR63NycvTqq696/ZeTk2Ooun9yOp0qKipqcrYMF4c%2BmkEfzaCP5tBLM%2BjjpeEM1vfEx8fL7XZ7jbndboWEhCg%2BPr5Z60hISCDlAwBwBeMM1vekpKTo8OHDOnbsmGfM4XCoZ8%2BeioyM9GNlAAAgUBCwvic5OVmpqalatmyZqqurVVFRoeeff165ubn%2BLg0AAASIsEWLFi3ydxGXmxtvvFGbNm3S448/rtdff13Z2dmaMmWKQkJC/F1aE5GRkRo0aBBn11qIPppBH82gj%2BbQSzPo48ULsVp6RzcAAAC8cIkQAADAMAIWAACAYQQsAAAAwwhYAAAAhhGwAAAADCNgAQAAGEbAAgAAMIyABQAAYBgBCwAAwDACVgA6dOiQ7rvvPqWlpWn48OFaunSpGhsb/V3WZSkpKUkpKSlKTU31/Pf4449Lkvbs2aPs7GwNGDBAY8aM0YYNG7xeW1JSolGjRmnAgAHKzc1VWVmZP3bBb3bv3q309HQVFBQ0mdu8ebPGjh2r/v37KysrS2%2B//bZnrrGxUcuXL9eIESM0cOBATZkyRV988YVn3u12Kz8/X%2Bnp6RoyZIjmz5%2Bvuro6n%2ByTP5yrj6%2B%2B%2BqquvfZar2MzNTVVH374oST6%2BH2HDh1SXl6e0tLSlJ6eroceekhVVVWSpP379%2Bvuu%2B/W9ddfr5tvvllr1qzxem1Ljtdgc64%2Bfvnll0pKSmpyPD733HOe19LHi2Qh4IwfP95asGCBVVVVZR08eNC6%2BeabrTVr1vi7rMtS7969rS%2B%2B%2BKLJ%2BFdffWX9%2BMc/tkpLS626ujrrnXfesa677jrrww8/tCzLsv70pz9ZN9xwg/XBBx9YtbW11tNPP20NHjzYqqmp8fUu%2BEVxcbF18803WxMnTrTy8/O95vbt22elpKRYO3futOrq6qz169db/fr1sw4fPmxZlmWVlJRYw4cPtw4cOGAdP37ceuyxx6yxY8dajY2NlmVZ1gMPPGDdd9991tGjR60jR45YOTk51uOPP%2B7zffSF8/Vx3bp11t13333O19JHb7fddpv10EMPWdXV1dbhw4etrKwsa968eVZtba114403WitXrrRqamqssrIya9CgQdabb75pWVbLj9dgc64%2BfvHFF1bv3r3P%2BTr6ePE4gxVgHA6HPvroI82ZM0cdOnRQ9%2B7dNXnyZNntdn%2BXFlA2btyo7t27Kzs7WxEREUpPT1dmZqZKS0slSXa7XVlZWerXr5/atm2rqVOnSpJ27Njhz7J9JiIiQmvXrlW3bt2azJWWliojI0MZGRmKiIjQuHHj1Lt3b88ZQLvdrsmTJ%2Buaa65RVFSUCgoKVFFRob179%2Brrr7/Wtm3bVFBQoPj4eHXu3FkzZszQunXrdPr0aV/vZqs7Xx8vhD7%2BU1VVlVJSUjR79mxFRkaqS5cuGj9%2BvN577z3t3LlTp0%2Bf1v3336/27durb9%2B%2BuuuuuzyfiS05XoPN%2Bfp4IfTx4hGwAkx5ebkSExMVExPjGevbt68OHjyo6upqP1Z2%2BVq2bJmGDRumG264QQsXLlRNTY3Ky8uVnJzstVxycrLnMuD350NDQ9WnTx85HA6f1u4vkyZNUocOHc46d67eORwO1dXV6cCBA17zUVFR6tatmxwOh/bv36%2BwsDAlJSV55vv27asTJ07o008/bZ2d8aPz9VGSDh8%2BrF/%2B8pcaOHCgRowYofXr10sSffye6OhoPfnkk7rqqqs8Y4cPH1ZCQoLKy8uVlJSksLAwz9z53svfzjfneA025%2Bvjt379619ryJAh%2BslPfqJly5Z5Ajt9vHgErADjdrsVHR3tNfZt2HK5XP4o6bL24x//WOnp6dq6davsdrs%2B%2BOADPfroo2ftY2xsrKeHbrfbK8RKZ/pMj8/fm2%2B%2B%2BUaWZZ1z3u12KyoqSiEhIV5z0pV3/MbHx6t79%2B761a9%2BpXfeeUezZs3SvHnztGfPHvp4AQ6HQy%2B88ILuv//%2Bc76X3W63GhsbW3S8Brvv9jE8PFz9%2B/fXyJEjtWPHDhUXF2vDhg36z//8T0kte99fqQhYAciyLH%2BXEDDsdrvuuusuhYeH65prrtGcOXO0adOmZl1Goc/ndqHenG%2Bevp4xbNgwPfvss0pOTlZ4eLjGjBmjkSNH6tVXX/UsQx%2Bbev/99zVlyhTNnj1b6enp51zuu%2BGzJcdrsPp%2BHxMSEvTyyy9r5MiRatOmja677jpNmzat2cdjc%2BavNASsABMfHy%2B32%2B015na7FRISovj4eD9VFTiuvvpqNTQ0KDQ0tEkfXS6Xp4dxcXFn7TM9Pn9vYmNjz9pbt9utjh07Kj4%2BXtXV1WpoaPCak6SOHTu2fvGXucTERFVWVtLHc9i%2Bfbvuu%2B8%2BzZs3T5MmTZJ05jPx%2B2dJ3G63p4ctOV6D1dn6eDaJiYn6%2BuuvZVkWfbwEBKwAk5KSosOHD%2BvYsWOeMYfDoZ49eyoyMtKPlV1%2B9u3bpyVLlniNVVRUKDw8XBkZGU0eu1BWVqZ%2B/fpJOtPn8vJyz1xDQ4P27dvnmb%2BSpaSkNOmdw%2BFQv379FBERoV69enn1rqqqSp9//rmuu%2B469enTR5Zl6aOPPvJ6bXR0tHr06OGzfbgcvPTSS9q8ebPXWEVFhbp27Uofz%2BJvf/ub5s6dq6eeekp33HGHZzwlJUUff/yx6uvrPWPfHo/fzl/q8RqMztXHPXv2aPXq1V7Lfvrpp0pMTFRISAh9vAQErACTnJys1NRULVu2TNXV1aqoqNDzzz%2Bv3Nxcf5d22enYsaPsdruKi4t16tQpHTx4UE899ZRycnJ0%2B%2B2369ChQyotLdXJkye1a9cu7dq1SxMmTJAk5ebm6rXXXtMHH3yg2tparV69WuHh4Ro2bJh/d%2BoyMGHCBL377rvauXOnTp48qbVr1%2Bqzzz7TuHHjJJ3pXUlJiSoqKlRdXa3CwkL16dNHqampio%2BP16hRo7RixQodO3ZMR44c0apVq5SdnS2bzebnPfOtU6dO6fHHH5fD4dDp06e1adMmvfXWW5o4caIk%2Bvhd9fX1WrBggebMmaMhQ4Z4zWVkZCgqKkqrV69WbW2t9u7dq7Vr13o%2BE1tyvAab8/WxQ4cOWrVqldavX6/Tp0/L4XDoueeeo48tEGJx0TTgHDlyRAsXLtT//M//KCoqShMnTtQDDzzgdc8BzvjrX/%2BqZcuW6eOPP1Z4eLjGjx%2BvgoICRURE6K9//asWL16siooKJSYmavbs2br55ps9r/2v//ovFRcX6%2BjRo0pNTdWiRYvUu3dvP%2B6N73z7ofjtWYFv/9H%2B9jeCtm7dqmXLlunQoUPq2bOn5s%2Bfr4EDB0o6cx/GypUr9fLLL6umpkZpaWl67LHH1KVLF0nS8ePH9cgjj2jHjh1q06aNbrvtNj300EMKDw/39W62uvP10bIsrV69WmvXrpXT6dTVV1%2BtX//61xo%2BfLgk%2Bvhd7733nn7%2B85%2Bfdd/eeOMN1dTU6JFHHlFZWZmuuuoq3XvvvfrZz37mWaYlx2swuVAf9%2B3bp6KiIn322Wfq0KGD7rnnHt17770KDT1zLoY%2BXhwCFgAAgGFcIgQAADCMgAUAAGAYAQsAAMAwAhYAAIBhBCwAAADDCFgAAACGEbAAAAAMI2ABAAAYRsACAAAwjIAFAABgGAELAADAMAIWAACAYQQsAAAAw/5/HtZR1/UAYawAAAAASUVORK5CYII%3D\"/>\n",
              "        </div>\n",
              "        <div role=\"tabpanel\" class=\"tab-pane col-md-12\" id=\"common-2222830134769095135\">\n",
              "            \n",
              "<table class=\"freq table table-hover\">\n",
              "    <thead>\n",
              "    <tr>\n",
              "        <td class=\"fillremaining\">Value</td>\n",
              "        <td class=\"number\">Count</td>\n",
              "        <td class=\"number\">Frequency (%)</td>\n",
              "        <td style=\"min-width:200px\">&nbsp;</td>\n",
              "    </tr>\n",
              "    </thead>\n",
              "    <tr class=\"\">\n",
              "        <td class=\"fillremaining\">0.0</td>\n",
              "        <td class=\"number\">359</td>\n",
              "        <td class=\"number\">5.1%</td>\n",
              "        <td>\n",
              "            <div class=\"bar\" style=\"width:6%\">&nbsp;</div>\n",
              "        </td>\n",
              "</tr><tr class=\"\">\n",
              "        <td class=\"fillremaining\">1065.256355</td>\n",
              "        <td class=\"number\">1</td>\n",
              "        <td class=\"number\">0.0%</td>\n",
              "        <td>\n",
              "            <div class=\"bar\" style=\"width:1%\">&nbsp;</div>\n",
              "        </td>\n",
              "</tr><tr class=\"\">\n",
              "        <td class=\"fillremaining\">232.76366600000003</td>\n",
              "        <td class=\"number\">1</td>\n",
              "        <td class=\"number\">0.0%</td>\n",
              "        <td>\n",
              "            <div class=\"bar\" style=\"width:1%\">&nbsp;</div>\n",
              "        </td>\n",
              "</tr><tr class=\"\">\n",
              "        <td class=\"fillremaining\">727.1907762999999</td>\n",
              "        <td class=\"number\">1</td>\n",
              "        <td class=\"number\">0.0%</td>\n",
              "        <td>\n",
              "            <div class=\"bar\" style=\"width:1%\">&nbsp;</div>\n",
              "        </td>\n",
              "</tr><tr class=\"\">\n",
              "        <td class=\"fillremaining\">1190.139323</td>\n",
              "        <td class=\"number\">1</td>\n",
              "        <td class=\"number\">0.0%</td>\n",
              "        <td>\n",
              "            <div class=\"bar\" style=\"width:1%\">&nbsp;</div>\n",
              "        </td>\n",
              "</tr><tr class=\"\">\n",
              "        <td class=\"fillremaining\">883.8678853</td>\n",
              "        <td class=\"number\">1</td>\n",
              "        <td class=\"number\">0.0%</td>\n",
              "        <td>\n",
              "            <div class=\"bar\" style=\"width:1%\">&nbsp;</div>\n",
              "        </td>\n",
              "</tr><tr class=\"\">\n",
              "        <td class=\"fillremaining\">773.9152266</td>\n",
              "        <td class=\"number\">1</td>\n",
              "        <td class=\"number\">0.0%</td>\n",
              "        <td>\n",
              "            <div class=\"bar\" style=\"width:1%\">&nbsp;</div>\n",
              "        </td>\n",
              "</tr><tr class=\"\">\n",
              "        <td class=\"fillremaining\">1262.404516</td>\n",
              "        <td class=\"number\">1</td>\n",
              "        <td class=\"number\">0.0%</td>\n",
              "        <td>\n",
              "            <div class=\"bar\" style=\"width:1%\">&nbsp;</div>\n",
              "        </td>\n",
              "</tr><tr class=\"\">\n",
              "        <td class=\"fillremaining\">116.2188756</td>\n",
              "        <td class=\"number\">1</td>\n",
              "        <td class=\"number\">0.0%</td>\n",
              "        <td>\n",
              "            <div class=\"bar\" style=\"width:1%\">&nbsp;</div>\n",
              "        </td>\n",
              "</tr><tr class=\"\">\n",
              "        <td class=\"fillremaining\">372.4258549</td>\n",
              "        <td class=\"number\">1</td>\n",
              "        <td class=\"number\">0.0%</td>\n",
              "        <td>\n",
              "            <div class=\"bar\" style=\"width:1%\">&nbsp;</div>\n",
              "        </td>\n",
              "</tr><tr class=\"other\">\n",
              "        <td class=\"fillremaining\">Other values (6632)</td>\n",
              "        <td class=\"number\">6632</td>\n",
              "        <td class=\"number\">94.7%</td>\n",
              "        <td>\n",
              "            <div class=\"bar\" style=\"width:100%\">&nbsp;</div>\n",
              "        </td>\n",
              "</tr>\n",
              "</table>\n",
              "        </div>\n",
              "        <div role=\"tabpanel\" class=\"tab-pane col-md-12\"  id=\"extreme-2222830134769095135\">\n",
              "            <p class=\"h4\">Minimum 5 values</p>\n",
              "            \n",
              "<table class=\"freq table table-hover\">\n",
              "    <thead>\n",
              "    <tr>\n",
              "        <td class=\"fillremaining\">Value</td>\n",
              "        <td class=\"number\">Count</td>\n",
              "        <td class=\"number\">Frequency (%)</td>\n",
              "        <td style=\"min-width:200px\">&nbsp;</td>\n",
              "    </tr>\n",
              "    </thead>\n",
              "    <tr class=\"\">\n",
              "        <td class=\"fillremaining\">0.0</td>\n",
              "        <td class=\"number\">359</td>\n",
              "        <td class=\"number\">5.1%</td>\n",
              "        <td>\n",
              "            <div class=\"bar\" style=\"width:100%\">&nbsp;</div>\n",
              "        </td>\n",
              "</tr><tr class=\"\">\n",
              "        <td class=\"fillremaining\">0.023816297</td>\n",
              "        <td class=\"number\">1</td>\n",
              "        <td class=\"number\">0.0%</td>\n",
              "        <td>\n",
              "            <div class=\"bar\" style=\"width:1%\">&nbsp;</div>\n",
              "        </td>\n",
              "</tr><tr class=\"\">\n",
              "        <td class=\"fillremaining\">0.445756769</td>\n",
              "        <td class=\"number\">1</td>\n",
              "        <td class=\"number\">0.0%</td>\n",
              "        <td>\n",
              "            <div class=\"bar\" style=\"width:1%\">&nbsp;</div>\n",
              "        </td>\n",
              "</tr><tr class=\"\">\n",
              "        <td class=\"fillremaining\">1.6111755719999998</td>\n",
              "        <td class=\"number\">1</td>\n",
              "        <td class=\"number\">0.0%</td>\n",
              "        <td>\n",
              "            <div class=\"bar\" style=\"width:1%\">&nbsp;</div>\n",
              "        </td>\n",
              "</tr><tr class=\"\">\n",
              "        <td class=\"fillremaining\">1.6740259030000002</td>\n",
              "        <td class=\"number\">1</td>\n",
              "        <td class=\"number\">0.0%</td>\n",
              "        <td>\n",
              "            <div class=\"bar\" style=\"width:1%\">&nbsp;</div>\n",
              "        </td>\n",
              "</tr>\n",
              "</table>\n",
              "            <p class=\"h4\">Maximum 5 values</p>\n",
              "            \n",
              "<table class=\"freq table table-hover\">\n",
              "    <thead>\n",
              "    <tr>\n",
              "        <td class=\"fillremaining\">Value</td>\n",
              "        <td class=\"number\">Count</td>\n",
              "        <td class=\"number\">Frequency (%)</td>\n",
              "        <td style=\"min-width:200px\">&nbsp;</td>\n",
              "    </tr>\n",
              "    </thead>\n",
              "    <tr class=\"\">\n",
              "        <td class=\"fillremaining\">2391.007739</td>\n",
              "        <td class=\"number\">1</td>\n",
              "        <td class=\"number\">0.0%</td>\n",
              "        <td>\n",
              "            <div class=\"bar\" style=\"width:100%\">&nbsp;</div>\n",
              "        </td>\n",
              "</tr><tr class=\"\">\n",
              "        <td class=\"fillremaining\">2413.3194489999996</td>\n",
              "        <td class=\"number\">1</td>\n",
              "        <td class=\"number\">0.0%</td>\n",
              "        <td>\n",
              "            <div class=\"bar\" style=\"width:100%\">&nbsp;</div>\n",
              "        </td>\n",
              "</tr><tr class=\"\">\n",
              "        <td class=\"fillremaining\">2502.684931</td>\n",
              "        <td class=\"number\">1</td>\n",
              "        <td class=\"number\">0.0%</td>\n",
              "        <td>\n",
              "            <div class=\"bar\" style=\"width:100%\">&nbsp;</div>\n",
              "        </td>\n",
              "</tr><tr class=\"\">\n",
              "        <td class=\"fillremaining\">2578.4690219999998</td>\n",
              "        <td class=\"number\">1</td>\n",
              "        <td class=\"number\">0.0%</td>\n",
              "        <td>\n",
              "            <div class=\"bar\" style=\"width:100%\">&nbsp;</div>\n",
              "        </td>\n",
              "</tr><tr class=\"\">\n",
              "        <td class=\"fillremaining\">2654.322576</td>\n",
              "        <td class=\"number\">1</td>\n",
              "        <td class=\"number\">0.0%</td>\n",
              "        <td>\n",
              "            <div class=\"bar\" style=\"width:100%\">&nbsp;</div>\n",
              "        </td>\n",
              "</tr>\n",
              "</table>\n",
              "        </div>\n",
              "    </div>\n",
              "</div>\n",
              "</div><div class=\"row variablerow\">\n",
              "    <div class=\"col-md-3 namecol\">\n",
              "        <p class=\"h4 pp-anchor\" id=\"pp_var_default\">default<br/>\n",
              "            <small>Categorical</small>\n",
              "        </p>\n",
              "    </div><div class=\"col-md-3\">\n",
              "    <table class=\"stats \">\n",
              "        <tr class=\"\">\n",
              "            <th>Distinct count</th>\n",
              "            <td>2</td>\n",
              "        </tr>\n",
              "        <tr>\n",
              "            <th>Unique (%)</th>\n",
              "            <td>0.0%</td>\n",
              "        </tr>\n",
              "        <tr class=\"ignore\">\n",
              "            <th>Missing (%)</th>\n",
              "            <td>0.0%</td>\n",
              "        </tr>\n",
              "        <tr class=\"ignore\">\n",
              "            <th>Missing (n)</th>\n",
              "            <td>0</td>\n",
              "        </tr>\n",
              "    </table>\n",
              "</div>\n",
              "<div class=\"col-md-6 collapse in\" id=\"minifreqtable-118349759073894736\">\n",
              "    <table class=\"mini freq\">\n",
              "        <tr class=\"\">\n",
              "    <th>No</th>\n",
              "    <td>\n",
              "        <div class=\"bar\" style=\"width:100%\" data-toggle=\"tooltip\" data-placement=\"right\" data-html=\"true\"\n",
              "             data-delay=500 title=\"Percentage: 96.7%\">\n",
              "            6767\n",
              "        </div>\n",
              "        \n",
              "    </td>\n",
              "</tr><tr class=\"\">\n",
              "    <th>Yes</th>\n",
              "    <td>\n",
              "        <div class=\"bar\" style=\"width:4%\" data-toggle=\"tooltip\" data-placement=\"right\" data-html=\"true\"\n",
              "             data-delay=500 title=\"Percentage: 3.3%\">\n",
              "            &nbsp;\n",
              "        </div>\n",
              "        233\n",
              "    </td>\n",
              "</tr>\n",
              "    </table>\n",
              "</div>\n",
              "<div class=\"col-md-12 text-right\">\n",
              "    <a role=\"button\" data-toggle=\"collapse\" data-target=\"#freqtable-118349759073894736, #minifreqtable-118349759073894736\"\n",
              "       aria-expanded=\"true\" aria-controls=\"collapseExample\">\n",
              "        Toggle details\n",
              "    </a>\n",
              "</div>\n",
              "<div class=\"col-md-12 extrapadding collapse\" id=\"freqtable-118349759073894736\">\n",
              "    \n",
              "<table class=\"freq table table-hover\">\n",
              "    <thead>\n",
              "    <tr>\n",
              "        <td class=\"fillremaining\">Value</td>\n",
              "        <td class=\"number\">Count</td>\n",
              "        <td class=\"number\">Frequency (%)</td>\n",
              "        <td style=\"min-width:200px\">&nbsp;</td>\n",
              "    </tr>\n",
              "    </thead>\n",
              "    <tr class=\"\">\n",
              "        <td class=\"fillremaining\">No</td>\n",
              "        <td class=\"number\">6767</td>\n",
              "        <td class=\"number\">96.7%</td>\n",
              "        <td>\n",
              "            <div class=\"bar\" style=\"width:100%\">&nbsp;</div>\n",
              "        </td>\n",
              "</tr><tr class=\"\">\n",
              "        <td class=\"fillremaining\">Yes</td>\n",
              "        <td class=\"number\">233</td>\n",
              "        <td class=\"number\">3.3%</td>\n",
              "        <td>\n",
              "            <div class=\"bar\" style=\"width:4%\">&nbsp;</div>\n",
              "        </td>\n",
              "</tr>\n",
              "</table>\n",
              "</div>\n",
              "</div>\n",
              "    <div class=\"row headerrow highlight\">\n",
              "        <h1>Correlations</h1>\n",
              "    </div>\n",
              "    <div class=\"row variablerow\">\n",
              "    <img src=\"data:image/png;base64,iVBORw0KGgoAAAANSUhEUgAAAqkAAAHSCAYAAADPK1JYAAAABHNCSVQICAgIfAhkiAAAAAlwSFlzAAAPYQAAD2EBqD%2BnaQAAADh0RVh0U29mdHdhcmUAbWF0cGxvdGxpYiB2ZXJzaW9uMy4xLjEsIGh0dHA6Ly9tYXRwbG90bGliLm9yZy8QZhcZAAAgAElEQVR4nOzde3zP9f//8fs2bDHGZhut1YScNho5hMKmJtVn8iGHz0ekkjBZ6ISvQ6JPTXwwSeX0%2BXRYpSTpJ/ORTjqIeFsbGcKwje2NYQfb%2B/eHj/fHO5PZ6/X2fs9u18vlfWl7vg7vx/tp2cP9dfKw2Ww2AQAAAG7E09UFAAAAAH9EkwoAAAC3Q5MKAAAAt0OTCgAAALdDkwoAAAC3Q5MKAAAAt0OTCgAAALdDkwoAAAC3Q5MKAAAAt0OTCgAAALdDkwoAAFBJfP311%2BrYsaPi4%2BP/dL2SkhLNnj1b0dHRatu2rR555BEdOHDAvtxqtWrMmDHq2LGjOnfurAkTJig/P9/UWmlSAQAAKoE33nhD06dP10033XTZdd9%2B%2B219%2BumnWrRokTZs2KCwsDCNHDlSNptNkjRp0iSdOXNGq1ev1ooVK5Senq6EhART66VJBQAAqAS8vb314YcflqlJTUpK0pAhQ9SwYUP5%2BvoqPj5e6enp2rZtm44ePark5GTFx8fL399fwcHBGjFihFasWKGioiLT6q1i2p4AAADgVFlZWcrOznYYCwwMVFBQ0GW3feihh8r0Hvn5%2Bdq9e7eaN29uH/P19dVNN90ki8WikydPysvLS02aNLEvb9GihU6fPq09e/Y4jBtBkwoAAGA2Dw%2Bn7DZp7lzNnz/fYWzUqFGKi4sz7T2OHz8um80mPz8/h3E/Pz/l5uaqdu3a8vX1lccFn/H8urm5uabVQZMKAABQQfTr109RUVEOY4GBgU55r/Pnn17pMrPQpAIAAFQQQUFBZTq0b0Tt2rXl6ekpq9XqMG61WhUQECB/f3/l5eWpuLhYXl5e9mWSFBAQYFodXDgFAABgNk9P57yuAm9vbzVu3FgpKSn2sRMnTmj//v1q2bKlmjVrJpvNprS0NPtyi8WiWrVqqUGDBqbVQZMKAABgtgrWpGZmZqpHjx72e6EOGDBAy5cvV3p6uvLy8pSQkKBmzZopIiJC/v7%2BiomJ0Zw5c5STk6MjR44oMTFRffr0UZUq5h2k53A/AABAJRARESFJOnv2rCQpOTlZ0rkUtKioSHv37lVhYaEkqX///srOztagQYN06tQptW/f3uGCrWnTpmny5MmKjo5W1apVdd999132AQFXysN2Nc58BQAAqEy8vZ2z34IC5%2BzXDXG4HwAAAG6Hw/0AAABmu0oXOV3LaFIBAADMRpNqGDMIAAAAt0OSCgAAYDaSVMOYQQAAALgdklQAAACzkaQaRpMKAABgNppUw5hBAAAAuB2SVAAAALORpBpGkwoAAGA2mlTDmEEAAAC4HZJUAAAAs5GkGsYMAgAAwO2QpAIwVZMmTS65rGrVqqpdu7bCw8PVq1cvxcTEyMPD4ypWBwBXCUmqYR42m83m6iIAXDvON6ktW7ZUYGCgw7KCggLt2bNHhw4dkiR169ZNc%2BfOVbVq1a56nQDgVCEhztlvRoZz9uuGSFIBOMXjjz%2Bu7t27l7osOTlZ48eP14YNGzR79mw988wzV7k6AIC7I4sGcNV1795dY8eOlSS9%2B%2B67KigocHFFAGAyT0/nvCoRklQALnH33XfrhRde0JkzZ/Trr78qMjLSYfmmTZv09ttv65dffpHVapWvr6%2BaNm2qv/71r7r//vtL3afVatWSJUu0ceNG/f777yosLJSfn59atmyphx9%2BWO3bt79om6ioKGVkZOiNN95QQUGBZs%2BerQMHDmjp0qVq06aNJGnXrl1avHixNm/erMzMTFWpUkVBQUFq166d/v73v5d6Hu7Jkye1bNkyrV%2B/Xr///ruKiopUt25dtW7dWkOGDFFERITD%2BgcPHlR0dLQkafv27UpPT9drr72mrVu3ymq1KigoSNHR0YqPj1f16tXLNecAUJFUrpYcgNuoXbu2/esTJ044LJs9e7aGDBmidevWydfXV%2B3bt5e/v782bdqkcePGacyYMSouLnbYJjs7W71799bChQu1Z88eNW/eXB06dFC1atW0YcMGDR48WCtWrLhkPXv27FF8fLyqVq2qDh06yMfHR5L0448/6q9//as%2B/vhjFRQUqE2bNoqMjFReXp7ef/99Pfjgg9q0aZPDvjIyMvTAAw9o3rx52r17t5o2baoOHTrIZrNp9erVevDBB/Xhhx9espYtW7Zo4MCBSklJUdOmTdWgQQNlZGRo%2BfLliouLK/McA3AhklTDSFIBuMTBgwftX/v7%2B9u/XrdunRYuXCg/Pz/Nnz9f7dq1sy/76aefNGbMGH3%2B%2Bee69dZbNWTIEPuyRYsWKSMjQw0aNNDbb7%2BtgIAASVJxcbH%2B8Y9/aNmyZZo5c6Z69OihGjVqXFTPv/71L40aNUrDhw93GE9ISFBhYaGGDh2q8ePHy/O/vySKi4s1b948vfbaa5oxY4Y%2B/fRT%2BzZPP/20Dhw4oPDwcL322msKCgqSJJWUlGjBggWaN2%2Bepk6dqjZt2qhBgwYX1fL8889r5MiRevTRR%2B13P1i5cqWeeeYZffPNN0pLS1PTpk3LPNcAXKCSNZTOwAwCcIkvvvhCkuTn56dmzZrZx1977TVJ0jPPPOPQoEpS27Zt9fTTT0uSli1b5rAsKChI9957r0aNGmVvUCXJy8tL8fHx8vT01MmTJ/XLL7%2BUWk9JSYmGDRt20XhqaqokqXfv3vYG9fx%2BR48erdGjR2vQoEEqLCyUJG3btk2bN2%2BWJL388sv2BlWSPD09NWrUKLVo0UKFhYV67733Sq2lcePGeuyxxxxuzxUbG2tv5rdt21bqdgBwLSFJBXDVbdy4Ua%2B//rok6dFHH1WVKuf%2BKsrMzFRKSook6a677ip12%2B7du8vDw0OHDh3S3r177UnkY489dsn3u%2B666xQQEKDs7GxlZ2eXuk6HDh0cmtDzatWqpaNHj2rNmjV68sknHZZ5enpq5MiRDmNff/21pHO34mrYsOElP0NKSspFpwmcV9o5tx4eHgoNDVVOTo5yc3NL3Q6AGyFJNYwmFYBTvP766/roo48cxgoLC7Vv3z4dOHBA0rl08tFHH7Uv37Vrl/3rZ5999pL7rlKlioqKirRv3z6Hw%2BWFhYXauHGjduzYoaysLJ04cULnbwV98uRJSecS09IEBweXOj548GDNmjVLCxYs0Ndff6377rtPt99%2B%2ByUfWrB7925J59LQS7n55pslnTsPtjQ33nhjqePe3t6SpKKiokvuGwCuFTSpAJxi%2B/btF415eXmpTp06io6OVr9%2B/dSlSxeH5cePH7d/vX79%2Bsu%2Bx/nGU5LS0tI0cuRIh3Ndr4Sfn1%2Bp4%2BdPAXj99ddlsVhksVgkSYGBgerRo4cGDx6s0NDQi2qqVavWJd%2BrZs2aks41m/n5%2BfaLtM7j4QbANYAk1TCaVABOkZiYeMmb%2BV/K%2BXMwq1atKovFUuZHpubn5%2BuJJ57QoUOHFBYWphEjRuj2229XnTp1VLVqVUn/u9XU5d67NMOGDVP//v2VnJysjRs36rvvvlN2drb%2B9a9/KSkpSS%2B//LLuueeeMn/OCx/0V9opBgCuAfy/bRhNKgC3cf62VEVFRcrNzXW46v/PfPXVVzp06JA8PDy0aNEi3XTTTRetk5%2Bfb6i2WrVqqXfv3urdu7eKi4v13XffKTExUVu3btWECRPUoUMH1alTx57I/vG2Whc6v8zHx4fUFAAugTYfgNu45ZZb7F//9ttvZd5u3759ks6dy1lag7p//34dO3bMcH3neXl56Y477tDy5csVHBysU6dO2U9vOH8u6oXn1/7R%2BWV/dt4qgAqO%2B6QaVrk%2BLQC3FhgYqBYtWkiS3n///VLX2bt3r2JjY%2B23qpL%2Bd47npR6vmpiYaP/6jw8B%2BDPbtm3T888/r8WLF5e6vFq1aqpbt66k/yW158%2Bz3bVrV6mNaklJif32W3fccUeZawGAyoYmFYBbOX8z/dWrV2vp0qUO52/%2B/vvvGj16tNLS0nT48GH7%2BPkb2x85ckTJycn28TNnzmj69OmyWCz2x65e6or60nh5eWnFihWaO3euvvzyy4uWr1u3Tqmpqapatapat24tSWrevLk6d%2B4s6dxN%2BXNycuzrnz17Vq%2B88orS09NVs2ZN9e/fv8y1AKhgSFIN45xUAG7l7rvv1rBhw7Ro0SLNnDlTy5cv180336zc3FylpqaquLhYzZs317hx4%2BzbREZGqnPnzvrmm28UFxenVq1aydvbWzt27FCVKlW0ZMkSffbZZ9q6dauWL1%2BunTt36oknnlDbtm3/tJbw8HANHTpUixcv1uOPP66QkBDddNNN8vT01MGDB%2B2nGUyYMEGBgYH27WbMmKHBgwfLYrEoKipKt9xyi7y9vfXbb78pNzdXPj4%2BmjVr1iVvewXgGlDJGkpnoEkF4HbGjh2rjh076t///rd%2B%2BeUXbdq0Sd7e3goPD1fPnj01cODAiy44mjNnjhISErR%2B/Xrt2LFDQUFBiomJ0fDhw3XjjTeqXr16%2BvXXX7Vlyxb99ttvZb5zwDPPPKO2bdtq5cqV2rFjh7Zu3aqzZ88qMDBQ9913n/7%2B97/bU9rzgoOD9eGHH2rp0qVat26dfvvtN509e1bBwcG6%2B%2B679cgjj5R67iwA4H88bBceSwMAAIBxrVo5Z7%2BV6LHIZNEAAABwO1etSc3IyFBERIT27t17xdsmJCRo0KBBTqgKAADACbhwyrCrdk5qSEiI/XGCAAAA17RK1lA6AzMIAAAAt3PVmtSDBw%2BqSZMmSk9PV1RUlD744AMNGzZMkZGR6t69u7755hv7uv/5z38UExOjyMhIjRkz5qLHGa5Zs0axsbG69dZbFR0draSkJEnS0aNH1a5dO4f7GT711FN64oknrspnBAAAkMThfhO47NO%2B9dZbGjVqlH744Qe1a9dOM2bMkHTumdbx8fH6%2B9//rh9%2B%2BEEPPPCAVq5cad/OYrFowoQJGj9%2BvH7%2B%2BWf94x//0EsvvaQtW7aobt26Gj9%2BvGbOnKnCwkJt3rxZX331laZMmeKiTwkAAIDycNl9Urt166aWLVtKkmJiYrRy5UqVlJTom2%2B%2BUfXq1fW3v/1Nnp6e6tKli2677TadOnVKkvTRRx%2Bpa9eu9ie63Hbbbbrnnnv0ySefqHXr1urTp49WrVqlxYsXa%2B3atRo/fvwV3TA7KytL2dnZDmOBgYEKCgoy6ZMDAIBrXiVLPZ3BZU3qDTfcYP/ax8dHxcXFKioq0pEjR1S/fn15XvCHGxYWppSUFEnS/v37tWnTJkVERNiX22w2e9Pq4eGh6dOn6/7771d4eLgefPDBK6orKSlJ8%2BfPdxgbNWKE4p588oo/IwAAcKHiYsnLyzXvTZNqmMuaVM9L/OEVFhaquLjYYaykpMT%2BtY%2BPjwYMGKBJkyZdct9HjhxRlSpVdOTIEZ05c0bVq1cvc139%2BvVTVFSUw1jg/fdLy5aVeR%2B4hKZNpXfekQYOlNLSXF1NxfbTT66u4Nrh5XXuFxngTvi5BNzvsahBQUHKzMyUzWazP7YwPT3dvvzGG2%2B86FZWR44cUWBgoLy8vFRYWKj/%2B7//09SpU7V69WrNmTNHzz///BW9/0WH9stxb1f8ibQ0aetWV1cBAIDzuGmSmpGRoalTp2rbtm2qXr26evbsqbFjx14UHg4dOlQ//SEQOXv2rEaOHKlRo0Zp0KBB2rJli8N2DRo00KpVq0yr1e1msGPHjsrLy9N7772nwsJCJScna9sFjwDr06ePtmzZohUrVqiwsFCpqanq27ev1q5dK0lKTExUUFCQ7r//fk2YMEHvv/%2B%2Bw/YAAACVVVxcnIKDg5WcnKwlS5YoOTlZy0o5Wrx48WJZLBb769tvv1VAQIDuuusu%2BzovvPCCwzpmNqiSGzap9erV06xZs7R48WK1a9dOq1at0sCBA%2B3LGzZsqFmzZunNN9/Ubbfdpri4OD3yyCPq2bOndu3apWXLlmny5MmSzqWuQ4cO1cSJE1VUVOSqjwQAACobN7wFlcViUVpamsaNG6eaNWsqLCxMQ4YMsd/K88/MmTNHd911l5o0aWKohivhYbPZbFft3Sqq/552AIMiI6UtW6TWrTncb9TZs66u4NrBuX9wR/xcmsdVF0516eKU3WZ98EG570L03nvv6a233tK6devsY9u3b1ffvn31888/y9fXt9Ttfv/9dz3wwANKTk6Wv7%2B/JGnQoEHy9vbWoUOHdPjwYbVq1UrTpk3TjTfeaODTOXK7JBUAAAClS0pKUu/evR1eZUlCJclqtapWrVoOY35%2BfpKk3NzcS263aNEi/fWvf7U3qNK5I9uNGzfWO%2B%2B8o/Xr18vf31%2BPPvqoCgsLy/GpSud2F04BAABUeE66cKrUuxAFBpZ5%2Bys9gG61WvXJJ5/o888/dxj/44OSpk2bpvbt2%2Bvnn3/W7bfffkXvcSk0qQAAABVEqXchKiN/f39ZrVaHMavVKg8PD4eU9ELr169XgwYNFBoa%2Bqf79vX1lZ%2BfnzIzM8tVW2k43A8AAGA2N7xwKjw8XIcPH1ZOTo59zGKxqFGjRqpRo0ap26xfv16dOnVyGMvLy9OUKVMcGtKcnBzl5ORctpm9EjSpAAAAZnPDJrV58%2BaKiIjQrFmzlJeXp/T0dC1ZskQDBgyQJPXo0UObN2922CY1NdXhKaHSudR027Ztmj59uqxWq44fP66pU6eqSZMmioyMNFTjhWhSAQAAKom5c%2BcqKytLnTp10kMPPaRevXrZb/W5d%2B9enT592mH97Oxs1a1b96L9JCYmymazKSYmRl27dlVRUZEWLVp0ySeKlge3oCoLbkFlDm5BZR5uQWUebvUDd8TPpXlcdQuqmBjn7Pe/Dy%2BqDEhSAQAA4Ha4uh8AAMBsTroFVWVCkwoAAGA2mlTDmEEAAAC4HZJUAAAAs5GkGkaTCgAAYDaaVMOYQQAAALgdklQAAACzkaQaxgwCAADA7ZCkAgAAmI0k1TCaVAAAALPRpBrGDAIAAMDtkKQCAACYjSTVMGYQAAAAbockFQAAwGwkqYbRpAIAAJiNJtUwZhAAAABuhyQVAADAbCSphjGDAAAAcDskqQAAAGYjSTWMJhUAAMBsNKmGMYMAAABwOySpAAAAZiNJNYwZBAAAgNshSQUAADAbSaphNKkAAABmo0k1jBkEAACA2yFJBQAAMBtJqmHMIAAAANwOSSoAAIDZSFINo0kFAAAwG02qYcwgAAAA3A5JKgAAgNlIUg1jBgEAAOB2SFIBAADMRpJqGE0qAACA2WhSDWMGAQAA4HZIUgEAAMxGkmoYMwgAAAC3Q5IKAABgNpJUw2hSAQAAzEaTahgzCAAAALdDkgoAAGA2N01SMzIyNHXqVG3btk3Vq1dXz549NXbsWHn%2Bod558%2BZpwYIFqlLFsVXcsGGD6tatq4KCAr344ov68ssvVVBQoPbt22vq1KmqU6eOabW65wwCAADAdHFxcQoODlZycrKWLFmi5ORkLVu2rNR1Y2NjZbFYHF5169aVJM2ePVspKSlKSkrS2rVrZbPZ9Nxzz5laK00qAACA2Tw9nfMywGKxKC0tTePGjVPNmjUVFhamIUOGKCkp6Yr2c/bsWX344YcaMWKE6tevr9q1a2vMmDH68ssvlZmZaajGC3G4HwAAwGxOOtyflZWl7Oxsh7HAwEAFBQVddtuUlBSFhITIz8/PPtaiRQvt3btXeXl58vX1dVh/586d6t%2B/v3bt2qX69evrueeeU%2BfOnbV//36dPHlSLVq0sK/bsGFD%2Bfj4KCUlRcHBwQY/5Tk0qQAAABVEUlKS5s%2Bf7zA2atQoxcXFXXZbq9WqWrVqOYydb1hzc3MdmtR69eopNDRUY8eOVVBQkJKSkjR8%2BHCtWrVKVqtVki7aV61atZSbm1uuz1UamlQAAACzOSlJ7devn6KiohzGAgMDy7y9zWYr03p9%2B/ZV37597d8PGTJEn332mVatWqU777zzivZVXjSpAAAAZnNSkxoUFFSmQ/ul8ff3t6eg51mtVnl4eMjf3/%2By24eEhCgrK8u%2BrtVqVY0aNezLjx8/roCAgHLVVhounAIAAKgEwsPDdfjwYeXk5NjHLBaLGjVq5NBsStKCBQu0adMmh7H09HSFhoYqNDRUfn5%2BSklJsS/btWuXCgsLFR4eblq9NKkAAABmc8Or%2B5s3b66IiAjNmjVLeXl5Sk9P15IlSzRgwABJUo8ePbR582ZJ51LSqVOnas%2BePSooKNDixYu1f/9%2BPfDAA/Ly8tKDDz6ohQsX6vDhw8rNzdWrr76qu%2B66y36LKjNwuB8AAKCSmDt3riZNmqROnTrJ19dX/fv318CBAyVJe/fu1enTpyVJY8eOlXTuXFSr1apGjRpp6dKlqlevniRp9OjROnXqlGJjY3X27Fl169ZNU6ZMMbVWD5uzz3q9Fnh4uLqCa0NkpLRli9S6tbR1q6urqdjOnnV1BdcOLy%2BpuNjVVQCO%2BLk0j5eXa9535kzn7NfkG%2Ba7M5JUAAAAs7npY1ErEmYQAAAAbockFQAAwGwkqYYxgwAAAHA7JKkAAABmI0k1jCYVAADAbDSphjGDAAAAcDskqQAAAGYjSTWMGQQAAIDbIUkFAAAwG0mqYTSpAAAAZqNJNYwZBAAAgNshSQUAADAbSaphzCAAAADcDkkqAACA2UhSDaNJBQAAMBtNqmE0qWVx9qyrK7i2/PSTqyuo%2BKrwv64pIiOlLVuktm2lrVtdXU2FtzPN5uoSrgne3lJYmLTvgJcKClxdTcXXpImrK0B58ZsOAADAbCSphjGDAAAAcDskqQAAAGYjSTWMJhUAAMBsNKmGMYMAAABwOySpAAAAZiNJNYwZBAAAgNshSQUAADAbSaphNKkAAABmo0k1jBkEAACA2yFJBQAAMBtJqmHMIAAAANwOSSoAAIDZSFINo0kFAAAwG02qYcwgAAAA3A5JKgAAgNlIUg1jBgEAAOB2SFIBAADMRpJqGE0qAACA2WhSDWMGAQAA4HZIUgEAAMxGkmoYTSoAAIDZaFINYwYBAADgdkhSAQAAzEaSahgzCAAAALdDkgoAAGA2N01SMzIyNHXqVG3btk3Vq1dXz549NXbsWHmWUu%2B7776rpUuXKisrSzfeeKPi4uLUvXt3SdKzzz6rVatWycvLy76%2Bt7e3Nm/ebFqtNKkAAABmc9MmNS4uTi1atFBycrKOHTumxx9/XHXr1tXDDz/ssN7atWs1a9Ysvf7662rZsqVWrlypMWPG6PPPP1doaKgk6YknnlBcXJzTanXPGQQAAICpLBaL0tLSNG7cONWsWVNhYWEaMmSIkpKSLlo3Pz9fTz31lNq0aaOqVauqb9%2B%2BqlGjhn755ZerVi9JKgAAgNmclKRmZWUpOzvbYSwwMFBBQUGX3TYlJUUhISHy8/Ozj7Vo0UJ79%2B5VXl6efH197eOxsbEO2544cUKnTp1ScHCwfez777/X%2BvXr9fvvv6thw4aaMmWKwsPDy/vRLkKTCgAAUEEkJSVp/vz5DmOjRo0q02F3q9WqWrVqOYydb1hzc3MdmtQL2Ww2TZw4Ua1atVK7du0kSaGhofL09NSTTz6pGjVqaP78%2BRo6dKjWrl2rOnXqlOejXYQmFQAAwGxOSlL79eunqKgoh7HAwMAyb2%2Bz2a7o/YqKivTss89q9%2B7dWr58uX185MiRDuuNHz9eq1evVnJysvr27XtF73EpNKkAAABmc1KTGhQUVKZD%2B6Xx9/eX1Wp1GLNarfLw8JC/v/9F6%2Bfn52vEiBE6c%2BaM3n777T9NSL28vFS/fn1lZWWVq7bScOEUAABAJRAeHq7Dhw8rJyfHPmaxWNSoUSPVqFHDYV2bzab4%2BHhVqVJFS5cudWhQbTabZs6cqbS0NPtYYWGh9u/fb7/y3ww0qQAAAGbz9HTOy4DmzZsrIiJCs2bNUl5entLT07VkyRINGDBAktSjRw/7fU4//fRT7d69W//85z/l7e3tsB8PDw8dPHhQU6dOVWZmpk6dOqWEhARVrVrVfh9VM9CkAgAAVBJz585VVlaWOnXqpIceeki9evXSwIEDJUl79%2B7V6dOnJUkrVqxQRkaG2rVrp4iICPtr4sSJkqQXX3xRYWFh6t27tzp27KjU1FQtW7ZM1atXN61WD9uVnkFbGRUXu7qCa4eXF/NphiqcTm6KyEhpyxapdWtp61ZXV1Ph7Uzj14kZvL2lsDBp3z6poMDV1VR8TZq46I03bXLOfm%2B/3Tn7dUP8pgMAADCbmz5xqiJhBgEAAOB2SFIBAADMRpJqGDMIAAAAt0OSCgAAYDaSVMNoUgEAAMxGk2oYMwgAAAC3Q5IKAABgNpJUw5hBAAAAuB2SVAAAALORpBpGkwoAAGA2mlTDmEEAAAC4HZJUAAAAs5GkGsYMAgAAwO2QpAIAAJiNJNUwmlQAAACz0aQaxgwCAADA7ZCkAgAAmI0k1TBmEAAAAG6HJBUAAMBsJKmG0aQCAACYjSbVMGYQAAAAbockFQAAwGwkqYYxgwAAAHA7JKkAAABmI0k1jCYVAADAbDSphjGDAAAAcDskqQAAAGYjSTWMGQQAAIDbIUkFAAAwG0mqYTSpAAAAZqNJNYwZBAAAgNshSQUAADAbSaphNKkAAABmo0k1jBkEAACA2yFJBQAAMBtJqmHMIAAAANwOSSoAAIDZSFINo0kFAAAwG02qYcwgAAAA3A5JKgAAgNlIUg0zNIMZGRmKiIjQ3r17zaoHAAAAMNakhoSEyGKxqEGDBmbVAwAAUPF5ejrnZVBGRoaGDRum9u3bq1u3bnrllVdUUlJS6rrLly9XTEyMWrdurQEDBmjHjh32ZQUFBfq///s/3XnnnWrfvr1Gjx6t3Nxcw/VdiCwaAADAbG7apMbFxSk4OFjJyclasmSJkpOTtWzZsovW%2B89//qN58%2Bbp5Zdf1nfffadu3bpp%2BPDhOn36tCRp9uzZSklJUVJSktauXSubzabnnnvOcH0XMvRpDx48qCZNmig9PV1RUVH64IMPNGzYMEVGRqp79%2B765ptv7OumpKMCTn0AACAASURBVKSoX79%2BuvXWWxUTE6M1a9bYl/3222966KGHdNttt6l9%2B/aaPHmyCgoKJEkfffSR7r//fiUlJalTp05q166d3nnnHW3cuFF33323WrdurcmTJ9v3lZ%2Bfr2nTpqlr16669dZbNWjQIO3evdvIxwQAAKjwLBaL0tLSNG7cONWsWVNhYWEaMmSIkpKSLlo3KSlJvXv3VqtWreTj46NHH31UkrRhwwadPXtWH374oUaMGKH69eurdu3aGjNmjL788ktlZmaaVq%2BpF0699dZbevnll9W0aVNNmTJFM2bM0Jo1a3TmzBk9/vjjevjhh/Wvf/1LP/30k4YPH64mTZooNDRUQ4cOVa9evbRo0SJlZWVp%2BPDh%2Buc//6mnn35a0rloOjMzUxs2bNCbb76pV155RdHR0fr444%2BVkpKiQYMGqW/fvgoPD1dCQoJ%2B/fVXJSUlyc/PT3PnztWoUaP0%2Beefy8PD47KfISsrS9nZ2Q5jgQEBCgoMNHOqAGMiI11dwbWhaVPH/8IQb29XV3BtqFbN8b8ov//mXa7hpAunSu1TAgMVFBR02W1TUlIUEhIiPz8/%2B1iLFi20d%2B9e5eXlydfX12Hdnj172r/39PRUs2bNZLFY1KxZM508eVItWrSwL2/YsKF8fHyUkpKi4OBgIx/RztQmtVu3bmrZsqUkKSYmRitXrlRJSYm%2B%2BeYbFRUVaciQIfLy8lKnTp00Z84c%2Bfj46KuvvtKZM2cUFxenatWq6cYbb9Tf/vY3vfnmm/YmNT8/X4899piqVaumbt266Z///Kf69%2B%2BvGjVqqF27dqpZs6Z%2B//13NW/eXB999JHmzJljn6AxY8bo3//%2Bt7Zv365WrVpd9jMkJSVp/vz5DmOjRo5U3OjRZk5V5ebl5eoKKr4tW1xdwbXlnXdcXcE1IczVBVxjrr/e1RVUfDt3uroC85Xap4wapbi4uMtua7VaVatWLYex8w1rbm6uQ5NqtVodmtnz6%2Bbm5spqtUrSRfuqVauWqeelmtqk3nDDDfavfXx8VFxcrKKiIu3fv1/16tWT1wXNSXR0tCRp3bp1Cg0NVbUL/sl400036dChQ/YTef38/HTddddJkn29C7t0b29vFRQU6NixYzp16pRGjBjhkJqWlJTo8OHDZWpS%2B/Xrp6ioKIexwIAAqbi4zPOAP%2BHlxVyaoW1bV1dwbWja9FyDOnCglJbm6moqvH0f8Y8nM1Srdq5BPXRIKix0dTUoL5suf/S2PErtU67gaK/NZjNt3SvZV3mY2qR6XiLa9vT0vOSVY4WX%2BD/wwiaztP2Wdujex8dHkvTee%2B8pPDz8svWWJigo6OLInKYK7mbrVldXcG1JS2NOTeDSQ6vXoMJC5rQiu0TbY1ipfUoZ%2Bfv721PQ86xWqzw8POTv7%2B8wXqdOnVLXbdy4sX1dq9WqGjVq2JcfP35cAQEB5aqtNFfl6v7Q0FBlZGQ4NKQrV65UamqqQkNDdeDAAYdle/bs0Q033HDJpvdSatasqdq1a2vnH/L9gwcPGvsAAAAAFVx4eLgOHz6snJwc%2B5jFYlGjRo0cms3z66akpNi/Ly4u1q%2B//qpWrVopNDRUfn5%2BDst37dqlwsLCcoeEpbkqTeqdd96p6tWra%2BHChSooKNCPP/6oyZMny8vLS3feeaeqVKmixMREFRYWas%2BePVq%2BfLl69epVrvfq37%2B/XnvtNaWnp6uoqEhLly5Vnz59dObMGZM/FQAAQOlKSpzzMqJ58%2BaKiIjQrFmzlJeXp/T0dC1ZskQDBgyQJPXo0UObN2%2BWJA0YMEArV67UL7/8ojNnzui1115TtWrV1LVrV3l5eenBBx/UwoULdfjwYeXm5urVV1/VXXfdpbp16xqdOrur8ljUatWqacmSJXr22Wf15ptvqn79%2BpoxY4ZuueUWSdKiRYv00ksv6fbbb1ft2rXVq1cvDR8%2BvFzvNWLECJ04cUIDBw5UUVGRmjVrpjfeeMN%2BTisAAEBlNXfuXE2aNEmdOnWSr6%2Bv%2Bvfvr4EDB0qS9u7da78P6p133qmnnnpKY8aM0bFjxxQREaFFixbZT60cPXq0Tp06pdjYWJ09e1bdunXTlClTTK3Vw%2Bbss16vBZyTah4unDJHlavy78trX2TkuTsltG7NOakm2JnGrxMzeHtLYWHSvn2ck2qGJk1c877O%2BrOrTLd64zcdAACAyZx14VRlwmNRAQAA4HZIUgEAAExGkmocSSoAAADcDkkqAACAyUhSjaNJBQAAMBlNqnEc7gcAAIDbIUkFAAAwGUmqcSSpAAAAcDskqQAAACYjSTWOJhUAAMBkNKnGcbgfAAAAbockFQAAwGQkqcaRpAIAAMDtkKQCAACYjCTVOJpUAAAAk9GkGsfhfgAAALgdklQAAACTkaQaR5IKAAAAt0OSCgAAYDKSVONoUgEAAExGk2och/sBAADgdkhSAQAATEaSahxNKgAAgMloUo3jcD8AAADcDkkqAACAyUhSjSNJBQAAgNshSQUAADAZSapxNKkAAAAmo0k1jsP9AAAAcDskqQAAACYjSTWOJBUAAABuhyQVAADAZCSpxtGkAgAAmIwm1TgO9wMAAMDtkKQCAACYjCTVOJJUAAAAuB2SVAAAAJORpBpHkwoAAGAymlTjONwPAAAAt0OSCgAAYDKSVONIUgEAAOB2aFIBAABMVlLinJczWa1WjRkzRh07dlTnzp01YcIE5efnX3L9L774Qn/5y18UGRmpmJgYvf/%2B%2B/Zl8%2BbNU7NmzRQREeHwOnr0aJnr4XA/AACAySri4f5JkyapsLBQq1evVlFRkZ588kklJCRo4sSJF627fft2jRs3Tq%2B%2B%2Bqq6du2qb7/9ViNHjtTNN9%2Bs2267TZIUGxurl156qdz1kKQCAABUckePHlVycrLi4%2BPl7%2B%2Bv4OBgjRgxQitWrFBRUdFF61utVj3%2B%2BOPq3r27qlSpoi5duuiWW27R5s2bTauJJBUAAMBkzkpSs7KylJ2d7TAWGBiooKAgQ/tNTU2Vl5eXmjRpYh9r0aKFTp8%2BrT179jiMS9Kdd96pO%2B%2B80/792bNnlZ2dreDgYPvYzp071b9/f%2B3atUv169fXc889p86dO5e5JppUAACACiIpKUnz5893GBs1apTi4uIM7ddqtcrX11ceHh72MT8/P0lSbm7uZbdPSEhQ9erV1bNnT0lSvXr1FBoaqrFjxyooKEhJSUkaPny4Vq1apZtvvrlMNdGkAgAAmMxZSWq/fv0UFRXlMBYYGFimbT/55BM9/fTTpS6Lj4%2BXzWa74npsNpsSEhK0evVqLV%2B%2BXN7e3pKkvn37qm/fvvb1hgwZos8%2B%2B0yrVq3SmDFjyrRvmlQAAACTOatJDQoKKveh/djYWMXGxpa67Ntvv1VeXp6Ki4vl5eUl6Vy6KkkBAQGlblNSUqLnnntO27dv17vvvqvQ0NA/ff%2BQkBBlZWWVuV4unAIAAKjkmjVrJpvNprS0NPuYxWJRrVq11KBBg1K3mTFjhn777bdSG9QFCxZo06ZNDmPp6emXbWQvRJMKAABgsop2n1R/f3/FxMRozpw5ysnJ0ZEjR5SYmKg%2BffqoSpVzB94HDx6sNWvWSJJ%2B/vlnrVq1SosWLVLt2rUv2p/VatXUqVO1Z88eFRQUaPHixdq/f78eeOCBMtfE4X4AAABo2rRpmjx5sqKjo1W1alXdd999io%2BPty8/cOCAjh8/LklasWKFTp48qW7dujnso23btlq8eLHGjh0r6dy5qFarVY0aNdLSpUtVr169MtfjYSvPWbKVTXGxqyu4dnh5MZ9mqMK/L00RGSlt2SK1bi1t3erqaiq8nWn8OjGDt7cUFibt2ycVFLi6morvD3dOumrWrnXOfmNinLNfd8RvOgAAAJNVxCdOuRvOSQUAAIDbIUkFAAAwGUmqcSSpAAAAcDskqQAAACYjSTWOJhUAAMBkNKnGcbgfAAAAbockFQAAwGQkqcaRpAIAAMDtkKQCAACYjCTVOJpUAAAAk9GkGsfhfgAAALgdklQAAACTkaQaR5MKAABgMppU4zjcDwAAALdDkgoAAGAyklTjSFIBAADgdkhSAQAATEaSahxNKgAAgMloUo3jcD8AAADcDkkqAACAyUhSjSNJBQAAgNshSQUAADAZSapxNKlABbQzzebqEq4J3t5SmKR9H21RQYGrq6n4mjT1cHUJ14bISGnLFoX1bi1t3erqaio%2Bm2v%2BvqRJNY7D/QAAAHA7JKkAAAAmI0k1jiQVAAAAbockFQAAwGQkqcbRpAIAAJiMJtU4DvcDAADA7ZCkAgAAmIwk1TiSVAAAALgdklQAAACTkaQaR5MKAABgMppU4zjcDwAAALdDkgoAAGAyklTjSFIBAADgdkhSAQAATEaSahxNKgAAgMloUo3jcD8AAADcDkkqAACAyUhSjSNJBQAAgNuhSQUAADBZSYlzXs5ktVo1ZswYdezYUZ07d9aECROUn59f6rofffSRmjZtqoiICIfX9u3b//v5SzR79mxFR0erbdu2euSRR3TgwIErqocmFQAAwGQVsUmdNGmSzpw5o9WrV2vFihVKT09XQkLCJddv27atLBaLw6tly5aSpLfffluffvqpFi1apA0bNigsLEwjR46UzWYrcz00qQAAAJXc0aNHlZycrPj4ePn7%2Bys4OFgjRozQihUrVFRUdMX7S0pK0pAhQ9SwYUP5%2BvoqPj5e6enp2rZtW5n3wYVTAAAAJnNW6pmVlaXs7GyHscDAQAUFBRnab2pqqry8vNSkSRP7WIsWLXT69Gnt2bPHYfy8w4cP6%2BGHH9aOHTtUq1YtjR49WrGxscrPz9fu3bvVvHlz%2B7q%2Bvr666aabZLFYdOutt5apJppUAACACiIpKUnz5893GBs1apTi4uIM7ddqtcrX11ceHh72MT8/P0lSbm7uRev7%2B/srLCxMTz31lBo1aqR169bp6aefVlBQkG6%2B%2BWbZbDb79hfur7R9XQpNKgAAgMmclaT269dPUVFRDmOBgYFl2vaTTz7R008/Xeqy%2BPj4KzpftGvXruratav9%2B3vvvVfr1q3TRx99pHHjxknSFe2vNDSpAAAAJnNWkxoUFFTuQ/uxsbGKjY0tddm3336rvLw8FRcXy8vLS9K5dFWSAgICyrT/kJAQ7dixQ7Vr15anp6d9%2B/OsVmuZ9yVx4RQAAECl16xZM9lsNqWlpdnHLBaLatWqpQYNGly0/rvvvqs1a9Y4jKWnpys0NFTe3t5q3LixUlJS7MtOnDih/fv326/%2BLwuaVAAAAJNVtFtQ%2Bfv7KyYmRnPmzFFOTo6OHDmixMRE9enTR1WqnDvwPnjwYHtjWlhYqBdeeEEWi0VFRUVavXq1vvrqK/Xv31%2BSNGDAAC1fvlzp6enKy8tTQkKCmjVrpoiIiDLXxOF%2BAAAAaNq0aZo8ebKio6NVtWpV3XfffYqPj7cvP3DggI4fPy5Jeuihh3Tq1Ck9%2BeSTys7O1g033KDExESFh4dLkvr376/s7GwNGjRIp06dUvv27S%2B64OtyPGxGz2qtDIqLXV3BtcPLi/k0wc7dXq4u4Zrg7S2FhUn79kkFBa6upuJr0tTj8ivh8iIjpS1bpNatpa1bXV1NxeeiNue555yz35kznbNfd0SSCgAAYDJnPx2qMuCcVAAAALgdklQAAACTkaQaR5IKAAAAt0OSCgAAYDKSVONoUgEAAExGk2och/sBAADgdkhSAQAATEaSahxNKgAAgMloUo3jcD8AAADcDkkqAACAyUhSjSNJBQAAgNshSQUAADAZSapxNKkAAAAmo0k1jsP9AAAAcDskqQAAACYjSTWOJBUAAABuhyQVAADAZCSpxtGkAgAAmIwm1TgO9wMAAMDtkKQCAACYjCTVOJJUAAAAuB2SVAAAAJORpBpHkwoAAGAymlTjONwPAAAAt0OSCgAAYDKSVONIUgEAAOB2SFIBAABMRpJqHE0qAACAyWhSjeNwPwAAANwOSSoAAIDJSFKNI0kFAACA2yFJBQAAMBlJqnE0qQAAACajSTWOw/0AAABwOySpAAAAJiNJNY4kFQAAAG6HJBUAAMBkJKnG0aQCAACYjCbVOA73AwAAwO2QpAIAAJiMJNU4klQAAAC4HZJUAAAAk1XEJNVqtWrKlCn68ccf5enpqS5dumjSpEny8fG5aN2JEyfqk08%2BcRgrLi5WbGysZs6cqWeffVarVq2Sl5eXfbm3t7c2b95c5npIUgEAAExWUuKclzNNmjRJZ86c0erVq7VixQqlp6crISGh1HWnT58ui8Vif23dulU333yzevToYV/niSeecFjnShpUiSYVAACg0jt69KiSk5MVHx8vf39/BQcHa8SIEVqxYoWKioouu/2yZct0/fXXq0uXLqbVxOF%2BAAAAkzkr9czKylJ2drbDWGBgoIKCggztNzU1VV5eXmrSpIl9rEWLFjp9%2BrT27NnjMP5HJ06c0MKFC/XOO%2B84jH///fdav369fv/9dzVs2FBTpkxReHh4mWuiSQUAAKggkpKSNH/%2BfIexUaNGKS4uztB%2BrVarfH195eHhYR/z8/OTJOXm5v7ptv/%2B97/Vtm1bNW7c2D4WGhoqT09PPfnkk6pRo4bmz5%2BvoUOHau3atapTp06ZarqiJvXgwYOKjo7WmjVr1LBhwyvZVM8%2B%2B6wKCgo0e/bsK9oOAACgonFWktqvXz9FRUU5jAUGBpZp208%2B%2BURPP/10qcvi4%2BNls9muuJ7i4mK9/fbbmjVrlsP4yJEjHb4fP368Vq9ereTkZPXt27dM%2ByZJBQAAMJmzmtSgoKByH9qPjY1VbGxsqcu%2B/fZb5eXlqbi42H5FvtVqlSQFBARccp8//fSTCgsLddttt/3pe3t5eal%2B/frKysoqc71cOAUAAFDJNWvWTDabTWlpafYxi8WiWrVqqUGDBpfcbv369erQoYOqVPlf7mmz2TRz5kyHfRUWFmr//v0KDQ0tc03lalItFovuu%2B8%2BRUZGavDgwcrMzJQkrVq1Sj179lRkZKSioqIuOoH2QkuXLlX37t0VGRmpe%2B65R1988YV92bPPPqsXXnhBM2fOVLt27dShQwe98cYb9uU5OTkaPXq02rRpo86dO%2BvVV1%2B1R9RWq1Xjxo1T586dFRkZqSeeeMJeHwAAwNVQ0W5B5e/vr5iYGM2ZM0c5OTk6cuSIEhMT1adPH3sDOnjwYK1Zs8Zhu9TUVN1www0OYx4eHjp48KCmTp2qzMxMnTp1SgkJCapataq6d%2B9e5prK1aS%2B//77WrRokb788ksVFxdr0qRJOnDggJ555hlNnDhRW7Zs0YsvvqgXXnjBoYs%2B76efftKsWbO0YMECbdmyRY899pjGjRunnJwc%2BzqrV69W06ZN9e2332r8%2BPGaPXu2PSKeOHGiJGnjxo167733tGrVKn3wwQeSzjW4%2Bfn5%2Buyzz/T111%2BrevXqeu6558rzMQEAAMqlojWpkjRt2jTVrFlT0dHR%2Bstf/qKWLVsqPj7evvzAgQM6fvy4wzbZ2dmqW7fuRft68cUXFRYWpt69e6tjx45KTU3VsmXLVL169TLXU65zUv/2t7/p%2BuuvlyQNGTJEY8aMUb169fT999/brwS7/fbbFRAQoJSUFDVt2tRh%2BzZt2ujbb79VrVq1JEn33XefnnvuOe3atUsdOnSQJN1www164IEHJEk9e/bU888/r3379qlq1arasGGDVqxYIV9fX/n6%2Bmr27NmqUqWKjh07pg0bNmjNmjX2OsaNG6euXbsqOzu7TCcWl3prh4AABZXxpGTgavD2dnUF14Zq1Rz/C4MiI11dwbXh/O/MP/zuRDls3erqCiqUmjVr6tVXX73k8v/85z8Xja1du7bUdWvXrq2ZM2caqqdcTeqFV/bfeOONKioqUk5Ojj7%2B%2BGN9%2BOGHysrKks1mU2FhoQoLCy/avri4WImJifp//%2B//OaSnF657YXR83XXXSZLy8/N18OBBlZSUOCyP/O9fjL/88oskqVevXg7v5%2BXlpcOHD5epSXXWrR1w7h8ASUlJ6tevn%2BH7uVV2YWGuruDakJWVpXnzzv1MXn89P5OGbdni6gquCVlZWUqaN0/95szh78oKrCI%2BFtXdlKtJ9fT831kC588F/eyzz7Ro0SItWLBAbdu2lZeX1yWfOpCYmKjPP/9cCxcuVNOmTWWz2dS8efNLvkdp4yWl/Omff7bsV199VeZ7cP2RkVs74M9lZ2dr/vz5ioqK4i9euAV%2BJuGO%2BLkEzilXk7p3717dcsstks6dn%2BDj46N9%2B/bptttusx%2Buz87OvuRtBiwWi6Kjo%2B2N6fbt28v83iEhIfL09NTevXvtCer333%2Bv06dPq23btvL09NTOnTvtdZxPeYODg8u0fyO3dgAAAJBIUs1Qrgun3n77bWVnZ%2BvkyZNatmyZunfvrpCQEO3Zs0fHjx9XRkaGpk%2Bfruuvv77UK%2BtDQkKUlpamM2fOaPfu3XrzzTdVs2bNMl2FX7t2bUVHRysxMVFWq1WHDh3SpEmTlJmZqZo1a6pnz55KSEjQkSNHlJ%2Bfr1dffVVDhw4t1w1qAQAAyqMiXjjlbsqVpPbv31%2BDBw/W4cOH1bp1az3//POqWrWqfvzxR3Xp0kUhISGaMmWKduzYoTlz5lx0uPzxxx9XfHy8OnTooMaNG2vmzJkKDg7W9OnT5e/vf9n3nzlzpiZMmKBu3brJ19dXvXr1Ur9%2B/SRJkyZN0gsvvKB7771Xnp6euvXWW7VgwQKHx3wBAADAvXnYiBhxlXDhFNwNP5NwR/xcXhucdbOLynTDAppUAAAAk9GkGleuw/0AAAC4tMp2/qgz0KQCAACYjCbVuHJd3Q8AAAA4E0kqAACAyUhSjSNJBQAAgNshSQUAADAZSapxNKkAAAAmo0k1jsP9AAAAcDskqQAAACYjSTWOJBUuU1xc7OoSUIlt375dX3zxhf37goICF1YDnHPs2DHt2LHD1WUAboEmFU41cuRIHT169KLx7du364EHHnBBRajs0tPTdc8992jQoEF66qmnJEkZGRnq1q2bfv31VxdXh8oqMzNTjzzyiDp16qT%2B/ftLkrKysnT//ffrwIEDLq4O5VFS4pxXZUKTCqfy9vZWz5499cEHH0iS8vPzNXPmTA0ePFh33XWXi6tDZTRt2jRFR0frp59%2Bkqfnub8CQ0JCNGzYMM2cOdPF1aGymjZtmvz9/bVhwwb7z6W/v786d%2B6s6dOnu7g6lAdNqnEeNpvN5uoicG3bvHmzZsyYoerVq%2BvIkSNq1KiRJkyYoNDQUFeXhkooMjJSP/zwg6pVq6ZWrVpp27ZtkqSzZ8%2BqQ4cO2rx5s4srRGXUpk0bffXVV6pRo4bDz2V%2Bfr66dOmiH374wcUV4ko1aOCc/e7d65z9uiOSVDjdrbfeqpiYGFksFuXm5ur%2B%2B%2B%2BnQYXL1K5dWydOnLhofP/%2B/apShWtJ4RrXXXedSsuMjh8/zvn7FRRJqnE0qXCqjRs36t5779V3332nTz/9VAsWLNC8efM0ePBg7dmzx9XloRLq1q2bRo8erW%2B%2B%2BUY2m02pqan6%2BOOPNXz4cN17772uLg%2BVVIcOHfT8889r739jshMnTujHH39UXFycunbt6triABfhcD%2Bcqn379ho/frz69OljHyssLFRiYqKWL1%2BurVu3urA6VEYFBQV65ZVX9PHHH%2BvUqVOSzqWr/fr108iRI1WtWjUXV4jK6Pjx43rmmWf05ZdfSpI8PDzk4eGhnj17atKkSfLz83NtgbhizjpgWJmuo6NJhVMdO3ZMAQEBpS777bff1Lhx46tcEXCOzWbTsWPH5OPjI19fX1eXA0iScnJydODAAXl7e%2BuGG27gZ7MCCwlxzn4zMpyzX3fECVhwqoCAAP3yyy/65JNPlJmZqQULFqikpERffPGFevTo4eryUEn9%2Buuv2rdvnwoLCy9a1qtXLxdUBEgffPCBmjdvrlatWkmSvvzyS2VmZqpfv34urgxwDZpUONX777%2Bvl156Sffcc4%2B%2B/vprSVJ2drZmzJihrKwsPfTQQy6uEJXNlClT9N5776lmzZry9va%2BaDlNKlxh9uzZ%2BvTTTzV79mz72HXXXae33npLhw4dUnx8vAurQ3lUtoucnIHD/XCqu%2B66Sy%2B99JLatGmjli1bavv27ZKk1NRUPfnkkw5P/AGuhjZt2mjhwoVq27atq0sB7O644w699957CvnDMeJDhw5pwIAB2rhxo4sqQ3nVr%2B%2Bc/R4%2B7Jz9uiOSVDjV0aNH1bp1a0nnLgQ4r1GjRsrKynJVWajE6tatq/DwcFeXATg4c%2BaM6tSpc9F4jRo1Sr1lGtwfSapx3IIKTnXTTTfp%2B%2B%2B/v2h89erVuv76611QESq7CRMmaPLkydqyZYsOHjyoQ4cOObwAV%2BjYsaOef/55paWlKS8vTydOnNC2bds0fvx43XHHHa4uD%2BXAfVKNI0mFUw0bNkwjRoxQVFSUzp49q%2BnTp2vnzp3aunWrZs2a5eryUAllZGQoOTlZn376qcO4zWaTh4eHUlNTXVQZKrMpU6Zo4sSJ6t27t/2m/h4eHoqOjtaMGTNcXB3gGpyTCqezWCz6%2BOOPtX//fvn4%2BCg0NFR9%2B/bVzTff7OrSUAm1b99eQ4YMUbdu3Uq9Jyo/l3Alq9WqgwcPytPTUyEhIdwftQK7xN0XDTt2zDn7dUc0qQAqlc6dO2vDhg2qWrWqq0sBHBw9elT79u1Tfn7%2BRcs6d%2B7sgopgBE2qcTSp/7%2B9e41p6vzjAP5tJa44gaGCA6puYYoICAxkmy8ITJmsm6kwmRc0MnHSbDpIVZLNmG3hmi3TRDdBBtnCQFM0JjqjGOYl3mK8BIV1Md5wWjCFbWA6dC1t2Qtj//YPm6Acns7z/SQkh3NOTr8vGvid85zn%2BdGQW7p0qdskqX9TXV0tcRoid3V1dWhvb8fKlSvZXYo8RmVlJTZt2gSHw9HnGF9D%2BW/qZx7ckOjslOa6nojvpNKQi4mJcW3f%2BbP4ygAACZ9JREFUu3cPe/bsQVxcHF588UU4nU5cvXoVTU1NWLx4scCUJFc1NTVobW1FeXk5/Pz8%2BtxQnThxQlAykrOqqioUFBRAo9FApVKJjkNDQG6TnKTAIpWG3Jo1a1zber0eX331FRITE93O%2Bemnn7Bv377hjkaE9957T3QEoj6cTie0Wi1GjBghOgqRx%2BBwP0nq5ZdfxpkzZ%2BDl5X4/1NPTg4SEBDQ2NgpKRkTkOUpLSxEeHg6tVis6Cg0RHx9prmuxSHNdT8QnqSSpwMBAGAwGZGZmuu3fvXs3AgICBKUiObPZbNi8eTP279%2BP27dvQ6FQQK1WIy0tDTk5OVAquXw0DT%2B73Y7S0lLU1NRArVb3%2BR5yyT6SIxapJKn8/Hzo9Xps3boVQUFBcDgcMJvNsFgs2Lhxo%2Bh4JEPFxcU4e/YsVqxYgUmTJgEArl27hh9%2B%2BAFOpxMffvih4IQkR93d3UhKShIdg4YQ30l9chzuJ8lZLBYcP34cZrMZNpsNgYGBmDlzJsaPHy86GsnQa6%2B9hrq6OkyYMMFt//Xr15GTk4OGhgZByYj6d%2BTIESQnJ4uOQYPk7S3Nde/dk%2Ba6nohPUklyPj4%2B0Gg0sNlsbvttNhuXAKJhZ7fb%2B71BUqvV6OrqEpCI6L7Ozk5cuXLF7W%2Bl2WxGYWEh398nWWKRSpI6deoUiouLcePGjX7X/%2BPafzTcpk2bhm%2B%2B%2BQarVq1yLehvt9tRVlaGKVOmCE5HctXQ0IC1a9fCarVCoVC4WqP6%2BvoiIyNDcDp6HBzuf3Ic7idJpaSkICEhAW%2B88Qa8%2Bxn7SEhIEJCK5Ozq1atYvnw5/vrrL6jVagCAyWSCl5cXtm3bhqioKMEJSY7eeustvP/%2B%2B9BoNIiPj8eFCxfw888/o7KyErm5uQgNDRUdkQZJqqZ2PT3SXNcTsUglScXGxuLs2bN9lqAiEslms%2BHYsWMwmUyw2WyYOHEiEhMTMWrUKNHRSKZiY2NdQ/rR0dG4ePEigPs3VZ988gnq6upExqPH8F8tUpubm6HX6%2BHv7//I7111dTVqa2vR0dGBsLAwrF%2B/HpGRkQAAq9WKoqIiHD16FFarFa%2B88go%2B//xz%2BA%2BiFRfXWiFJJSQk4NKlS6JjELkxmUyIiIhAVlYWVq5ciRdeeAFtbW2iY5GMjRs3DteuXQMA%2BPv7u/5uqtVqXLlyRWQ0ekxOpzQ/Utq7dy9Wr17tWvnk3xw%2BfBhbtmzBF198gVOnTiE5ORk6nQ53794FAGzatAlGoxEGgwEHDx5Eb28vPv7440HlYZFKkpo9ezby8/Px5ZdfYseOHTAYDG4/RMNt//79SEtLc7t5unTpEjIyMnDgwAGByUjOMjMzkZ6ejj///BNz5syBTqdDQUEBsrOzERYWJjoeyYTVaoXBYEB0dPQjzzUYDEhPT0d0dDRUKhVWrFgB4P5qFHa7Hbt27cIHH3yAoKAgPPfcc8jLy8PRo0dhNpsHnIdjsCSpsrIyAOj3n79CocCCBQuGOxLJ3ObNm1FWVoaZM2e69s2bNw/BwcH49NNP8eabbwpMR3KVlZWFyMhIjB49GuvWrYO3tzeam5sRGhoKnU4nOh49Bqmeera3t6Ojo8NtX0BAAAIDA5/42oOZpGc0GqHRaFy/K5VKhIeHo7m5GeHh4bBYLIiIiHAdDw0NhUqlgtFoHPASlCxSacj9%2BuuvrqGCyspKKBQKwYmI/sdsNmPGjBl99sfExOD27dsCEhHdFx8fDwDw8vJCXl6e4DT0pKSa8bNliwFff/21275Vq1Zh9erV0nzgP%2Bjq6oKfn5/bPj8/P3R2drqW8/P19XU77uvri87OzgF/BotUGnJz585FU1MTAECj0fRbpPb29kKhUHAJKhp2YWFhqK2txbJly1zfTbvdjoqKCrz00kuC05GcrFmzZsDnsi0qPbBgwQK8/vrrbvsG2mZ8z549yM/P7/dYSUkJ0tPTB5XlUXPvn3RuPotUGnL19fWu7UOHDglMQtTXhg0boNPpUF5ejqCgIDidTrS2tsLb2xvff/%2B96HgkI2xmQo8jMDDwsYf2tVottFrtkOTw9/fv0wClq6sLkydPxpgxY1y/P/vss67jd%2B7cwdixYwf8GSxSacgFBwe7tkNCQgQmIeorIiICDQ0NOH78OG7dugWlUgm1Wo3ExEQWDTSsSkpKBnTe9u3bJU5CNHiRkZEwGo1IS0sDADgcDvzyyy%2BYP38%2BJkyYAD8/PxiNRlcdcPnyZdhsNtcSVQPBIpWIZEelUiElJYWtesmjXL58GUajsU9b1O%2B%2B%2Bw6LFy8WmIzovtTUVBQWFiI%2BPh6LFi2CXq/H22%2B/jbCwMFRVVWHkyJFISkrCiBEj8O6776K8vBxRUVFQqVTYuHEjUlJSMG7cuAF/HotUIpKVf2rVy/ekSaQdO3agoKAAY8eOxW%2B//Ybx48ejvb0dISEhyM3NFR2PZGLOnDloa2uDw%2BGA0%2Bl0deCrr69HSEgIWlpaXOugJiYmQq/XIy8vD7///juioqJQUVEBlUoFAPjoo4/Q3d0NrVYLu92O5ORkfPbZZ4PKw45TRCQrbNVLnmj27NkoLCzEq6%2B%2BiunTp6OpqQkdHR0oKirCkiVLXDP/ieSERSoRyQpb9ZInergtakxMDBobG6FQKNDa2gqdTocff/xRcEKi4ceOU0QkK2zVS54oODgYp0%2BfBnB/OaFz584BAHx8fGAymURGIxKGjxKISFYetOpNTk6GWq2GUul%2Br84uaCRCTk4OsrOzcfr0abzzzjvQ6XSYMWMGrl%2B/jri4ONHxiITgcD8Rycr/L4L9MIVCwbV9SRiTyYSgoCD88ccf2LdvH27cuIGQkBAsWrQIPj4%2BouMRDTs%2BSSWipx5b9ZKn6%2BjoQGFhIU6ePAm73Y7e3l54e3tj1qxZ6OnpER2PSAg%2BSSWip96D2dIAMHXqVLbqJY%2BTlZUFh8OBrKwsTJw4Eb29vbh58yaqq6vxzDPP4NtvvxUdkWjYsUgloqdeW1ubqxNaa2vrv57LLmkkQmxsLI4dO9ZnWN9isSApKQnnz58XlIxIHA73E9FTj616ydOp1WrcvXu3T5FqtVrx/PPPC0pFJBafpBIREQnQ0tLi2m5qasLOnTuRmZmJ0NBQKJVKtLS0oLa2FgsXLkRqaqrApERisEglIiIS4MH70Y/6N8x3pUmuWKQSEREJ8Kj3ox/G11RIjlikEhEREZHHYVtUIiIiIvI4LFKJiIiIyOOwSCUiIiIij8MilYiIiIg8DotUIiIiIvI4LFKJiIiIyOOwSCUiIiIij8MilYiIiIg8zt/1ZRhVEyKicQAAAABJRU5ErkJggg%3D%3D\" class=\"center-img\">\n",
              "    <img src=\"data:image/png;base64,iVBORw0KGgoAAAANSUhEUgAAAqkAAAHSCAYAAADPK1JYAAAABHNCSVQICAgIfAhkiAAAAAlwSFlzAAAPYQAAD2EBqD%2BnaQAAADh0RVh0U29mdHdhcmUAbWF0cGxvdGxpYiB2ZXJzaW9uMy4xLjEsIGh0dHA6Ly9tYXRwbG90bGliLm9yZy8QZhcZAAAgAElEQVR4nOzdeVyVZd7H8S%2BLQopiKKAh5o4LpJhb6uOCNhTloI3mMmNSTWUKJqmNlk5qFjVhOrnUWLmlFZWVZvaYmOVoVpqmRxQXpHCHkqOCbOJ5/nA8T2dARe6bzkE%2B79frvCavezm/c8XIr%2B913/dxs9lsNgEAAAAuxN3ZBQAAAAD/jSYVAAAALocmFQAAAC6HJhUAAAAuhyYVAAAALocmFQAAAC6HJhUAAAAuhyYVAAAALocmFQAAAC6HJhUAAAAuhyYVAACgivj3v/%2Btbt26KT4%2B/qr7Xbx4UbNnz1bfvn3VqVMnPfzwwzpy5Ih9u9Vq1bhx49StWzf16NFDzzzzjPLz802tlSYVAACgCnjjjTc0c%2BZM3Xrrrdfcd8WKFfr000%2B1cOFCbdy4UY0bN9aYMWNks9kkSVOnTlVeXp7WrFmjlStXKi0tTYmJiabWS5MKAABQBXh5eenDDz8sU5OalJSkmJgYNWvWTD4%2BPoqPj1daWpp27dqlX375RcnJyYqPj5efn58CAwM1evRorVy5UkVFRabV62namQAAAFChMjMzlZWV5TDm7%2B%2BvgICAax77wAMPlOk98vPzdejQIbVp08Y%2B5uPjo1tvvVUWi0Xnzp2Th4eHQkJC7Nvbtm2r8%2BfP6/Dhww7jRtCkAgAAmM3NrUJOm/Tqq5o3b57DWGxsrOLi4kx7jzNnzshms8nX19dh3NfXV9nZ2apTp458fHzk9pvPeHnf7Oxs0%2BqgSQUAAKgkhgwZooiICIcxf3//Cnmvy9efXu82s9CkAgAAVBIBAQFlWto3ok6dOnJ3d5fVanUYt1qtqlu3rvz8/JSTk6Pi4mJ5eHjYt0lS3bp1TauDG6cAAADM5u5eMa/fgZeXl1q0aKGUlBT72NmzZ5WRkaHbbrtNrVu3ls1mU2pqqn27xWJR7dq11aRJE9PqoEkFAAAwWyVrUk%2BdOqW77rrL/izUYcOGadmyZUpLS1NOTo4SExPVunVrhYWFyc/PT5GRkZozZ45Onz6tkydPav78%2BRo0aJA8Pc1bpGe5HwAAoAoICwuTJF24cEGSlJycLOlSClpUVKT09HQVFhZKkoYOHaqsrCyNGDFCubm56tKli8MNWzNmzNCzzz6rvn37qlq1arr33nuv%2BQUB18vN9ntc%2BQoAAFCVeHlVzHkLCirmvC6I5X4AAAC4HJb7AQAAzPY73eR0I6NJBQAAMBtNqmHMIAAAAFwOSSoAAIDZSFINYwYBAADgckhSAQAAzEaSahhNKgAAgNloUg1jBgEAAOBySFIBAADMRpJqGE0qAACA2WhSDWMGAQAA4HJIUgEAAMxGkmoYMwgAAACXQ5IKoMx2796tjz76SDt37tTRo0eVl5cnLy8vBQQEKDQ0VFFRUYqIiJCbm5uzSwUA5yJJNczNZrPZnF0EANdms9n0/PPP6%2B2335Yk%2Bfr6qmXLlvLx8VFOTo727dunnJwcSVKfPn306quvqnr16s4sGQCcKyioYs577FjFnNcFkaQCuKZ33nlHb7/9try9vTV9%2BnT1799fHh4e9u35%2Bfl677339NJLL2njxo2aO3euxo8f78SKAQCVHVk0gGt69913JUkPPPCABgwY4NCgSpK3t7diYmL0yCOPSJKWL1%2Bu/Pz8371OAHAZ7u4V86pCqtanBVAuGRkZkqSQkJCr7hcTE6M333xT69evl7e3tyRp0qRJCgkJ0UsvvaTc3FwlJCQoIiJCYWFh6tq1q2JjY3XgwIErnnPr1q2KjY1Vjx49FBoaqq5duyomJkaffvrpFY%2BxWq2aPXu2BgwYoPDwcLVt21bdunXTqFGj9N1335V6TEREhEJCQrRp0yatX79eUVFRCgsL0w8//CBJmjt3rkJCQjRp0iQVFhZq7ty5ioyM1G233aZevXrpueee0/nz5yVJBw8e1NixY9W9e3eFhYWpf//%2BWr16danvm5eXpzfeeEP333%2B/OnbsqDZt2qhLly568MEHtX79%2BlKPGTFihEJCQvTuu%2B8qNzdXs2fPttfSqVMnPfLII9qzZ88V5wcAKgOW%2BwFck5%2Bfn06cOKEff/xR995771X3%2B5//%2BZ9St%2BXm5iomJkb79%2B9XixYt1LhxY1ksFq1fv17//ve/tWLFCoWGhjocM3v2bL3%2B%2BuuSpCZNmigkJEQnTpzQ1q1btXXrVm3YsEGzZs1ySHazsrI0ZMgQHTt2TF5eXgoLC5O3t7fS0tK0ceNGffXVV3r%2B%2Bef1pz/9qdQ6Dx8%2BrMTERDVr1kxdu3a1N9u/NXHiRG3atEnh4eHy8fHR3r17tXz5cmVmZiouLk7Dhw%2BXn5%2BfWrVqpfT0dB04cEATJ05U7dq11bt3b/t58vLyNHz4cO3du1eenp4KDQ2Vj4%2BPjhw5om%2B%2B%2BUbffPONYmNjFRcXV2qthYWFiomJ0cGDB9W%2BfXv5%2Bflp//792rRpk7Zv365Vq1apUaNGV/z3BaACVbHUsyLQpAK4pq5du%2Brjjz/W8uXLVb16dcXExCggIOC6zvHZZ5/plltuUXJysv3Yc%2BfO6aGHHtLu3bs1ffp0ffDBB/b9169fr9dff12%2Bvr6aN2%2BeOnfubN%2B2bds2jRs3Tp9//rnat2%2BvmJgY%2B7aFCxfq2LFjatKkiVasWKG6detKkoqLi/XSSy9p6dKlSkhI0F133aWaNWuWqPPtt99WbGysRo0aVern2LJli/z8/LR%2B/XrVq1dPkpScnKwxY8Zo/fr1OnTokGJiYjRmzBi5ubnp4sWLGjt2rNavX6/ly5c7NKlJSUnau3ev/Pz89O6776px48b2bUuWLFFCQoJee%2B01DRgwQMHBwSVqWbJkiW655RZ9%2BeWX8vPzk3SpSR84cKCysrK0YsUKTZ48%2BRr/ZgBUCJpUw5hBANc0btw4NWjQQDabTW%2B99ZZ69%2B6tv/zlL5ozZ46%2B%2BeYb5eXlXfMcOTk5mjZtmkNzW6tWLU2aNEnSpcdb/fTTT/Ztr732miTpb3/7m0ODKkmdOnXSU089JUlaunSpw7aAgADdc889io2NtTeokuTh4aH4%2BHi5u7vr3Llz%2BvHHH0ut8%2BLFi3r00Uev%2BDkyMzM1ffp0e4MqSf369ZO/v79sNps8PT3tDaokubu7a8iQIZKkvXv3OpyrZs2a6t%2B/v0aNGuXQoErSyJEj5e/vr%2BLiYm3durXUWrKysvTKK6/YG1RJ8vf3V//%2B/SVJu3btuuLnAABXR5IK4Jrq16%2BvDz74QC%2B//LLWrFmj4uJibdu2Tdu2bdNrr72matWqqUuXLvrjH/%2Boe%2B65R56eJf9qCQgI0O23315iPDw8XDVr1lRubq5%2B/PFHNW7cWKdOnVJKSook6c477yy1pn79%2BsnNzU3Hjx9Xenq6mjRpIkn2m7dKc9NNN6lu3brKyspSVlZWqft07dpV7ldJQPz9/dW%2BffsS40FBQcrKylKfPn1KPCc26D%2BPojlz5ozD%2BODBgzV48OBS38fNzU0NGza8aq2dO3dWYGBgifHLS/zZ2dlX/BwAKhhJqmE0qQDKxN/fX//4xz/01FNPaf369dq6dau2b9%2BuX3/9VUVFRdq8ebM2b96sN954QwsWLChxLWTLli1LPa%2B7u7uCgoJ04MABHT16VJIcbqS6nLSWxtPTU0VFRfrpp5/sTap06VrNr7/%2BWnv27FFmZqbOnj2ry4%2BEPnfunKRLiWlpSmv6fqthw4aljl9%2BLmxQKc9GvLztwoULJbZdvHhRW7Zs0c6dO5WZmSmr1WqvLT09/aq1lnYJgCR5eXlJkoqKiq72UQDApdGkArgu9erV07BhwzRs2DBJl240%2Bu6777Rq1Srt3LlTBw8e1KOPPqpPP/1U1apVsx/n6%2Bt7xXPWqlVL0qWbqyTHxHHDhg3XrOly4ylJqampGjNmjL3hvV5Xq1OSw2cqz/bfOn78uMaMGVPiMoCy4gsTABdGkmoYTSoAQ5o2baqmTZtq2LBhWrp0qV544QWlp6dr7dq1io6Otu93tSX0y0nh5X0uL5dXq1ZNFoulzF%2Bzmp%2Bfr8cff1zHjx9X48aNNXr0aN1xxx26%2Beab7c1jRESEjl3lG1t%2Bz690HTt2rPbu3at69eopLi5OPXv2VL169ezN54gRI/T999//bvUAMBFNqmE0qQBMM3LkSC1fvlwZGRk6ePCgw7bLX5tamsvbLieqderUkXRpuTo7O9vhxqCr2bRpk44fPy43NzctXLhQt956a4l9XOVLBlJSUmSxWCRJiYmJuuOOO0rs4yq1AoAz0KQCuKrLzzFt2LDhVe96v%2Bzycvnl6yIvO3ToUKn7FxcX25PNy9dY/vb61YMHD6pLly5lqvXy0wEaNWpUaoOakZGhX3/9tUznqmg///yzpEtpcdeuXUtsz83NveqXHABwcSSphjGDAK7KYrEoKSlJCxcu1PHjx6%2B676lTp5SamipJJe6AP3LkiPbt21fimB9%2B%2BMH%2BTU3h4eGSLt2k1bZtW0nS%2B%2B%2B/X%2Bp7paenKzo62v6oKun/k9iCgoJSj5k/f779n4uLi6/6WSqaj4%2BPpEuXOpR2g9Nbb71lT1JLu%2BEKAG50NKkArurBBx%2BUv7%2B/zp07p5EjR5b6taI2m03ffvut/vrXv6qoqEjt27dX9%2B7dHfapVauWpkyZ4pBkWq1Wvfjii5IuPfrplltusW%2B7/DD9NWvWaMmSJfa786VLKeTYsWOVmpqqEydO2MdbtWolSTp58qSSk5Pt43l5eZo5c6YsFou9ET58%2BHC558QMLVu2lIeHh4qLi/XOO%2B/Yxy9cuKB//etfSkpKUp8%2BfST9/13%2BACoRd/eKeVUhLPcDuKqbb75ZixYtUlxcnH766Sc98MAD8vf3V9OmTVWjRg1ZrVYdPXrU/izP22%2B/XfPmzStxo1RERISOHDmivn37KiwsTNWqVdOuXbuUk5MjHx8f/f3vf3fY/w9/%2BIMeffRRLVy4UAkJCVq2bJmaNm2q7Oxs7du3T8XFxWrTpo0mTJhgPyY8PFw9evTQ5s2bFRcXp3bt2snLy0t79uyRp6enFi9erM8%2B%2B0w7d%2B7UsmXLtH//fj3%2B%2BOPq1KlTxU/kf6lfv74GDRqkpKQkJSQkaPXq1apTp4727dun3NxczZs3T0ePHtXGjRu1bt06jRgxQsOHD9fdd9/9u9cKoByqWENZEWhSAVxTy5Yt9emnn%2Bqzzz7Tl19%2BqdTUVO3evVuFhYXy9vZWYGCg7rjjDkVFRal3796l3iHv7u6uRYsWacGCBfriiy90/Phx1axZU5GRkYqPj3d4zull48ePV7du3bR8%2BXL9%2BOOP2rp1q7y8vBQaGqqoqCgNHz68xGOY5syZo8TERG3YsEF79uxRQECAIiMjNWrUKDVq1Ej169fX3r17tWPHDh08ePB3vZv/v02ZMkW%2Bvr5as2aNDhw4oLp166pLly567LHH1Lp1a%2BXn5%2Bu7777Tpk2bdPDgQYc0GQBudG42/tYDUIEmTZqkjz/%2BWAMHDrQv7QPADa9du4o5bxX6umOyaAAAALic361JPXbsmMLCwsp1A0BiYqJGjBhRAVUBAABUAG6cMux3uyY1KCjI/uBqAACAG1oVaygrAjMIAAAAl/O7NalHjx5VSEiI0tLSFBERoQ8%2B%2BECPPvqowsPD1a9fP23evNm%2B75dffqnIyEiFh4dr3LhxJb4a8PJ3grdv3159%2B/ZVUlKSJOmXX35R586d9dVXX9n3ffLJJ/X444//Lp8RQEkvvvii9u/fz01TAKoWlvsNc9qnfeuttxQbG6vvvvtOnTt31gsvvCBJOnv2rOLj4/WXv/xF3333nQYOHKhPPvnEfpzFYtEzzzyjiRMn6ocfftBLL72kF198UTt27FC9evU0ceJEJSQkqLCwUNu3b9emTZs0bdo0J31KAAAAlIfTnpPap08f3XbbbZKkyMhIffLJJ7p48aI2b96sGjVq6M9//rPc3d3Vq1cvdezYUbm5uZKkjz76SL1791aPHj0kSR07dtTdd9%2BtVatWqUOHDho0aJBWr16tRYsWad26dZo4caICAwPLXFdmZqb9oeSX%2Bfv7KyAgwKRPDgAAbnhVLPWsCE5rUhs2bGj/Z29vbxUXF6uoqEgnT55UgwYNHL6tpnHjxkpJSZEkZWRkaOvWrQoLC7Nvt9ls9qbVzc1NM2fOVP/%2B/RUaGqr777//uupKSkrSvHnzHMZiR49W3BNPXPdnBAAATlRcLHl4OOe9aVINc1qT%2Bt9fmXhZYWGhiouLHcYuXrxo/2dvb28NGzZMU6dOveK5T548KU9PT508eVJ5eXmqUaNGmesaMmSIIiIiHMb8%2B/eXli4t8zlwBa1aSe%2B8Iw0fLqWmOruaym3bNmdXcOPw8Lj0iwxwJfxcAq73tagBAQE6deqUbDab/esK09LS7NsbNWpU4lFWJ0%2BelL%2B/vzw8PFRYWKi///3vmj59utasWaM5c%2Bbo6aefvq73L7G0X45nu%2BIqUlOlnTudXQUAABXHRZPUY8eOafr06dq1a5dq1KihqKgojR8/vkR4%2BNBDD2nbfwUiFy5c0JgxYxQbG6sRI0Zox44dDsc1adJEq1evNq1Wl5vBbt26KScnR%2B%2B9954KCwuVnJysXb/5CrBBgwZpx44dWrlypQoLC7Vv3z4NHjxY69atkyTNnz9fAQEB6t%2B/v5555hm9//77DscDAABUVXFxcQoMDFRycrIWL16s5ORkLS1ltXjRokWyWCz215YtW1S3bl3deeed9n2ee%2B45h33MbFAlF2xS69evr1mzZmnRokXq3LmzVq9ereHDh9u3N2vWTLNmzdKbb76pjh07Ki4uTg8//LCioqJ04MABLV26VM8%2B%2B6ykS6nrQw89pClTpqioqMhZHwkAAFQ1LvgIKovFotTUVE2YMEG1atVS48aNFRMTY3%2BU59XMmTNHd955p0JCQgzVcD3cbDab7Xd7t8rqP5cdwKDwcGnHDqlDB5b7jbpwwdkV3Di49g%2BuiJ9L8zjrxqlevSrktJkffFDupxC99957euutt7R%2B/Xr72O7duzV48GD98MMP8vHxKfW4n3/%2BWQMHDlRycrL8/PwkSSNGjJCXl5eOHz%2BuEydOqF27dpoxY4YaNWpk4NM5crkkFQAAAKVLSkrSfffd5/AqSxIqSVarVbVr13YY8/X1lSRlZ2df8biFCxfqT3/6k71BlS6tbLdo0ULvvPOONmzYID8/P/31r39VYWFhOT5V6VzuxikAAIBKr4JunCr1KUT%2B/mU%2B/noX0K1Wq1atWqXPP//cYfy/vyhpxowZ6tKli3744Qfdcccd1/UeV0KTCgAAUEmU%2BhSiMvLz85PVanUYs1qtcnNzc0hJf2vDhg1q0qSJgoODr3puHx8f%2Bfr66tSpU%2BWqrTQs9wMAAJjNBW%2BcCg0N1YkTJ3T69Gn7mMViUfPmzVWzZs1Sj9mwYYO6d%2B/uMJaTk6Np06Y5NKSnT5/W6dOnr9nMXg%2BaVAAAALO5YJPapk0bhYWFadasWcrJyVFaWpoWL16sYcOGSZLuuusubd%2B%2B3eGYffv2OXxLqHQpNd21a5dmzpwpq9WqM2fOaPr06QoJCVF4eLihGn%2BLJhUAAKCKePXVV5WZmanu3bvrgQce0IABA%2ByP%2BkxPT9f58%2Bcd9s/KylK9evVKnGf%2B/Pmy2WyKjIxU7969VVRUpIULF17xG0XLg0dQlQWPoDIHj6AyD4%2BgMg%2BP%2BoEr4ufSPM56BFVkZMWc9z9fXlQVkKQCAADA5XB3PwAAgNkq6BFUVQlNKgAAgNloUg1jBgEAAOBySFIBAADMRpJqGE0qAACA2WhSDWMGAQAA4HJIUgEAAMxGkmoYMwgAAACXQ5IKAABgNpJUw2hSAQAAzEaTahgzCAAAAJdDkgoAAGA2klTDmEEAAAC4HJJUAAAAs5GkGkaTCgAAYDaaVMOYQQAAALgcklQAAACzkaQaxgwCAADA5ZCkAgAAmI0k1TCaVAAAALPRpBrGDAIAAMDlkKQCAACYjSTVMGYQAAAALockFQAAwGwkqYbRpAIAAJiNJtUwZhAAAAAuhyQVAADAbCSphjGDAAAAcDkkqQAAAGYjSTWMJhUAAMBsNKmGMYMAAABwOSSpAAAAZiNJNYwZBAAAgMshSQUAADAbSaphNKkAAABmo0k1jBkEAACAyyFJBQAAMBtJqmHMIAAAAFwOSSoAAIDZSFINo0kFAAAwG02qYcwgAAAAXA5JKgAAgNlcNEk9duyYpk%2Bfrl27dqlGjRqKiorS%2BPHj5f5f9c6dO1cLFiyQp6djq7hx40bVq1dPBQUFev755/XVV1%2BpoKBAXbp00fTp03XzzTebVqtrziAAAABMFxcXp8DAQCUnJ2vx4sVKTk7W0qVLS903OjpaFovF4VWvXj1J0uzZs5WSkqKkpCStW7dONptNkydPNrVWmlQAAACzubtXzMsAi8Wi1NRUTZgwQbVq1VLjxo0VExOjpKSk6zrPhQsX9OGHH2r06NFq0KCB6tSpo3Hjxumrr77SqVOnDNX4Wyz3AwAAmK2ClvszMzOVlZXlMObv76%2BAgIBrHpuSkqKgoCD5%2Bvrax9q2bav09HTl5OTIx8fHYf/9%2B/dr6NChOnDggBo0aKDJkyerR48eysjI0Llz59S2bVv7vs2aNZO3t7dSUlIUGBho8FNeQpMKAABQSSQlJWnevHkOY7GxsYqLi7vmsVarVbVr13YYu9ywZmdnOzSp9evXV3BwsMaPH6%2BAgAAlJSVp1KhRWr16taxWqySVOFft2rWVnZ1drs9VGppUAAAAs1VQkjpkyBBFREQ4jPn7%2B5f5eJvNVqb9Bg8erMGDB9v/HBMTo88%2B%2B0yrV69Wz549r%2Btc5UWTCgAAYLYKalIDAgLKtLRfGj8/P3sKepnVapWbm5v8/PyueXxQUJAyMzPt%2B1qtVtWsWdO%2B/cyZM6pbt265aisNN04BAABUAaGhoTpx4oROnz5tH7NYLGrevLlDsylJCxYs0NatWx3G0tLSFBwcrODgYPn6%2BiolJcW%2B7cCBAyosLFRoaKhp9dKkAgAAmM0F7%2B5v06aNwsLCNGvWLOXk5CgtLU2LFy/WsGHDJEl33XWXtm/fLulSSjp9%2BnQdPnxYBQUFWrRokTIyMjRw4EB5eHjo/vvv1%2Buvv64TJ04oOztbr7zyiu688077I6rMwHI/AABAFfHqq69q6tSp6t69u3x8fDR06FANHz5ckpSenq7z589LksaPHy/p0rWoVqtVzZs315IlS1S/fn1J0tixY5Wbm6vo6GhduHBBffr00bRp00yt1c1W0Ve93gjc3JxdwY0hPFzasUPq0EHaudPZ1VRuFy44u4Ibh4eHVFzs7CoAR/xcmsfDwznvm5BQMec1%2BYH5rowkFQAAwGwu%2BrWolQkzCAAAAJdDkgoAAGA2klTDmEEAAAC4HJJUAAAAs5GkGkaTCgAAYDaaVMOYQQAAALgcklQAAACzkaQaxgwCAADA5ZCkAgAAmI0k1TCaVAAAALPRpBrGDAIAAMDlkKQCAACYjSTVMGYQAAAALockFQAAwGwkqYbRpAIAAJiNJtUwmtSyuHDB2RXcWLZtc3YFlZ8n/9c1RXi4tGOH1KmTtHOns6up9A4esDm7hBuCl5fUqJGUccxDBQXOrqbya9HC2RWgvPhNBwAAYDaSVMOYQQAAALgcklQAAACzkaQaRpMKAABgNppUw5hBAAAAuBySVAAAALORpBrGDAIAAMDlkKQCAACYjSTVMJpUAAAAs9GkGsYMAgAAwOWQpAIAAJiNJNUwZhAAAAAuhyQVAADAbCSphtGkAgAAmI0m1TBmEAAAAC6HJBUAAMBsJKmGMYMAAABwOSSpAAAAZiNJNYwmFQAAwGw0qYYxgwAAAHA5JKkAAABmI0k1jCYVAADAbDSphjGDAAAAcDkkqQAAAGYjSTWMGQQAAIDLIUkFAAAwm4smqceOHdP06dO1a9cu1ahRQ1FRURo/frzcS6n33Xff1ZIlS5SZmalGjRopLi5O/fr1kyRNmjRJq1evloeHh31/Ly8vbd%2B%2B3bRaaVIBAADM5qJNalxcnNq2bavk5GT9%2Buuveuyxx1SvXj09%2BOCDDvutW7dOs2bN0r/%2B9S/ddttt%2BuSTTzRu3Dh9/vnnCg4OliQ9/vjjiouLq7BaXXMGAQAAYCqLxaLU1FRNmDBBtWrVUuPGjRUTE6OkpKQS%2B%2Bbn5%2BvJJ5/U7bffrmrVqmnw4MGqWbOmfvzxx9%2BtXpJUAAAAs1VQkpqZmamsrCyHMX9/fwUEBFzz2JSUFAUFBcnX19c%2B1rZtW6WnpysnJ0c%2BPj728ejoaIdjz549q9zcXAUGBtrHvv32W23YsEE///yzmjVrpmnTpik0NLS8H60EmlQAAIBKIikpSfPmzXMYi42NLdOyu9VqVe3atR3GLjes2dnZDk3qb9lsNk2ZMkXt2rVT586dJUnBwcFyd3fXE088oZo1a2revHl66KGHtG7dOt18883l%2BWgl0KQCAACYrYKS1CFDhigiIsJhzN/fv8zH22y263q/oqIiTZo0SYcOHdKyZcvs42PGjHHYb%2BLEiVqzZo2Sk5M1ePDg63qPK6FJBQAAMFsFNakBAQFlWtovjZ%2Bfn6xWq8OY1WqVm5ub/Pz8Suyfn5%2Bv0aNHKy8vTytWrLhqQurh4aEGDRooMzOzXLWVhhunAAAAqoDQ0FCdOHFCp0%2Bfto9ZLBY1b95cNWvWdNjXZrMpPj5enp6eWrJkiUODarPZlJCQoNTUVPtYYWGhMjIy7Hf%2Bm4EmFQAAwGzu7hXzMqBNmzYKCwvTrFmzlJOTo7S0NC1evFjDhg2TJN11113255x%2B%2BumnOnTokP75z3/Ky8vL4Txubm46evSopk%2BfrlOnTik3N1eJiYmqVq2a/TmqZqBJBQAAqCJeffVVZWZmqnv37nrggQc0YMAADR8%2BXJKUnp6u8%2BfPS5JWrlypY8eOqXPnzgoLC7O/pkyZIkl6/vnn1bhxY913333q1q2b9u3bp6VLl6pGjRqm1epmu94raKui4mJnV5pWLS0AACAASURBVHDj8PBgPs3gyeXkpggPl3bskDp0kHbudHY1ld7BA/w6MYOXl9SokZSRIRUUOLuayq9FCye98datFXPeO%2B6omPO6IH7TAQAAmM1Fv3GqMmEGAQAA4HJIUgEAAMxGkmoYMwgAAACXQ5IKAABgNpJUw2hSAQAAzEaTahgzCAAAAJdDkgoAAGA2klTDmEEAAAC4HJJUAAAAs5GkGkaTCgAAYDaaVMOYQQAAALgcklQAAACzkaQaxgwCAADA5ZCkAgAAmI0k1TCaVAAAALPRpBrGDAIAAMDlkKQCAACYjSTVMGYQAAAALockFQAAwGwkqYbRpAIAAJiNJtUwZhAAAAAuhyQVAADAbCSphjGDAAAAcDkkqQAAAGYjSTWMJhUAAMBsNKmGMYMAAABwOSSpAAAAZiNJNYwZBAAAgMshSQUAADAbSaphNKkAAABmo0k1jBkEAACAyyFJBQAAMBtJqmE0qQAAAGajSTWMGQQAAIDLIUkFAAAwG0mqYcwgAAAAXA5JKgAAgNlIUg2jSQUAADAbTaphzCAAAABcDkkqAACA2UhSDTM0g8eOHVNYWJjS09PNqgcAAAAw1qQGBQXJYrGoSZMmZtUDAABQ%2Bbm7V8zLoGPHjunRRx9Vly5d1KdPH7388su6ePFiqfsuW7ZMkZGR6tChg4YNG6Y9e/bYtxUUFOjvf/%2B7evbsqS5dumjs2LHKzs42XN9vkUUDAACYzUWb1Li4OAUGBio5OVmLFy9WcnKyli5dWmK/L7/8UnPnztU//vEPffPNN%2BrTp49GjRql8%2BfPS5Jmz56tlJQUJSUlad26dbLZbJo8ebLh%2Bn7L0Kc9evSoQkJClJaWpoiICH3wwQd69NFHFR4ern79%2Bmnz5s32fVNSUjRkyBC1b99ekZGRWrt2rX3bwYMH9cADD6hjx47q0qWLnn32WRUUFEiSPvroI/Xv319JSUnq3r27OnfurHfeeUdff/21/vCHP6hDhw569tln7efKz8/XjBkz1Lt3b7Vv314jRozQoUOHjHxMAACASs9isSg1NVUTJkxQrVq11LhxY8XExCgpKanEvklJSbrvvvvUrl07eXt7669//askaePGjbpw4YI%2B/PBDjR49Wg0aNFCdOnU0btw4ffXVVzp16pRp9Zp649Rbb72lf/zjH2rVqpWmTZumF154QWvXrlVeXp4ee%2BwxPfjgg3r77be1bds2jRo1SiEhIQoODtZDDz2kAQMGaOHChcrMzNSoUaP0z3/%2BU0899ZSkS9H0qVOntHHjRr355pt6%2BeWX1bdvX3388cdKSUnRiBEjNHjwYIWGhioxMVF79%2B5VUlKSfH199eqrryo2Nlaff/653NzcrvkZMjMzlZWV5TDmX7euAvz9zZwqwJjwcGdXcGNo1crxf2GIl5ezK7gxVKvm%2BL8ov//kXc5RQTdOldqn%2BPsrICDgmsempKQoKChIvr6%2B9rG2bdsqPT1dOTk58vHxcdg3KirK/md3d3e1bt1aFotFrVu31rlz59S2bVv79mbNmsnb21spKSkKDAw08hHtTG1S%2B/Tpo9tuu02SFBkZqU8%2B%2BUQXL17U5s2bVVRUpJiYGHl4eKh79%2B6aM2eOvL29tWnTJuXl5SkuLk7Vq1dXo0aN9Oc//1lvvvmmvUnNz8/XI488ourVq6tPnz765z//qaFDh6pmzZrq3LmzatWqpZ9//llt2rTRRx99pDlz5tgnaNy4cVq%2BfLl2796tdu3aXfMzJCUlad68eQ5jsWPGKG7sWDOnqmrz8HB2BZXfjh3OruDG8s47zq7ghtDI2QXcYBo0cHYFld/Bg86uwHyl9imxsYqLi7vmsVarVbVr13YYu9ywZmdnOzSpVqvVoZm9vG92drasVqsklThX7dq1Tb0u1dQmtWHDhvZ/9vb2VnFxsYqKipSRkaH69evL4zfNSd%2B%2BfSVJ69evV3BwsKpXr27fduutt%2Br48eP2C3l9fX110003SZJ9v9926V5eXiooKNCvv/6q3NxcjR492iE1vXjxok6cOFGmJnXIkCGKiIhwGPOvW1cqLi7zPOAqPDyYSzN06uTsCm4MrVpdalCHD5dSU51dTaWX8Qn/8WSGatUuNagnTkhFRc6uBuVl07VXb8uj1D7lOlZ7bTabaftez7nKw9Qm1f0K0ba7u/sV7xwrLCwsdfy3TWZp5y1t6d7b21uS9N577yk0NPSa9ZYmICCgZGROUwVXs3Onsyu4saSmMqcmcOrS6g2oqIg5rcyu0PYYVmqfUkZ%2Bfn72FPQyq9UqNzc3%2Bfn5OYzffPPNpe7bokUL%2B75Wq1U1a9a0bz9z5ozq1q1brtpK87vc3R8cHKxjx445NKSffPKJ9u3bp%2BDgYB05csRh2%2BHDh9WwYcMrNr1XUqtWLdWpU0f79%2B93GD969KixDwAAAFDJhYaG6sSJEzp9%2BrR9zGKxqHnz5g7N5uV9U1JS7H8uLi7W3r171a5dOwUHB8vX19dh%2B4EDB1RYWFjukLA0v0uT2rNnT9WoUUOvv/66CgoK9P333%2BvZZ5%2BVh4eHevbsKU9PT82fP1%2BFhYU6fPiwli1bpgEDBpTrvYYOHarXXntNaWlpKioq0pIlSzRo0CDl5eWZ/KkAAABKd/FixbyMaNOmjcLCwjRr1izl5OQoLS1Nixcv1rBhwyRJd911l7Zv3y5JGjZsmD755BP9%2BOOPysvL02uvvabq1aurd%2B/e8vDw0P3336/XX39dJ06cUHZ2tl555RXdeeedqlevntGps/tdvha1evXqWrx4sSZNmqQ333xTDRo00AsvvKCWLVtKkhYuXKgXX3xRd9xxh%2BrUqaMBAwZo1KhR5Xqv0aNH6%2BzZsxo%2BfLiKiorUunVrvfHGG/ZrWgEAAKqqV199VVOnTlX37t3l4%2BOjoUOHavjw4ZKk9PR0%2B3NQe/bsqSeffFLjxo3Tr7/%2BqrCwMC1cuNB%2BaeXYsWOVm5ur6OhoXbhwQX369NG0adNMrdXNVtFXvd4IuCbVPNw4ZQ7P3%2BW/L2984eGXnpTQoQPXpJrg4AF%2BnZjBy0tq1EjKyOCaVDO0aOGc962of3dV6VFv/KYDAAAwWUXdOFWV8LWoAAAAcDkkqQAAACYjSTWOJBUAAAAuhyQVAADAZCSpxtGkAgAAmIwm1TiW%2BwEAAOBySFIBAABMRpJqHEkqAAAAXA5JKgAAgMlIUo2jSQUAADAZTapxLPcDAADA5ZCkAgAAmIwk1TiSVAAAALgcklQAAACTkaQaR5MKAABgMppU41juBwAAgMshSQUAADAZSapxJKkAAABwOSSpAAAAJiNJNY4mFQAAwGQ0qcax3A8AAACXQ5IKAABgMpJU42hSAQAATEaTahzL/QAAAHA5JKkAAAAmI0k1jiQVAAAALockFQAAwGQkqcbRpAIAAJiMJtU4lvsBAADgckhSAQAATEaSahxJKgAAAFwOSSoAAIDJSFKNo0kFAAAwGU2qcSz3AwAAwOWQpAIAAJiMJNU4klQAAAC4HJJUAAAAk5GkGkeTCgAAYDKaVONY7gcAAIDLIUkFAAAwGUmqcSSpAAAAcDk0qQAAACa7eLFiXhXJarVq3Lhx6tatm3r06KFnnnlG%2Bfn5V9z/iy%2B%2B0B//%2BEeFh4crMjJS77//vn3b3Llz1bp1a4WFhTm8fvnllzLXw3I/AACAySrjcv/UqVNVWFioNWvWqKioSE888YQSExM1ZcqUEvvu3r1bEyZM0CuvvKLevXtry5YtGjNmjJo2baqOHTtKkqKjo/Xiiy%2BWux6SVAAAgCrul19%2BUXJysuLj4%2BXn56fAwECNHj1aK1euVFFRUYn9rVarHnvsMfXr10%2Benp7q1auXWrZsqe3bt5tWE0kqAACAySoqSc3MzFRWVpbDmL%2B/vwICAgydd9%2B%2BffLw8FBISIh9rG3btjp//rwOHz7sMC5JPXv2VM%2BePe1/vnDhgrKyshQYGGgf279/v4YOHaoDBw6oQYMGmjx5snr06FHmmmhSAQAAKomkpCTNmzfPYSw2NlZxcXGGzmu1WuXj4yM3Nzf7mK%2BvryQpOzv7mscnJiaqRo0aioqKkiTVr19fwcHBGj9%2BvAICApSUlKRRo0Zp9erVatq0aZlqokkFAAAwWUUlqUOGDFFERITDmL%2B/f5mOXbVqlZ566qlSt8XHx8tms113PTabTYmJiVqzZo2WLVsmLy8vSdLgwYM1ePBg%2B34xMTH67LPPtHr1ao0bN65M56ZJBQAAMFlFNakBAQHlXtqPjo5WdHR0qdu2bNminJwcFRcXy8PDQ9KldFWS6tatW%2BoxFy9e1OTJk7V79269%2B%2B67Cg4Ovur7BwUFKTMzs8z1cuMUAABAFde6dWvZbDalpqbaxywWi2rXrq0mTZqUeswLL7yggwcPltqgLliwQFu3bnUYS0tLu2Yj%2B1s0qQAAACarbM9J9fPzU2RkpObMmaPTp0/r5MmTmj9/vgYNGiRPz0sL7yNHjtTatWslST/88INWr16thQsXqk6dOiXOZ7VaNX36dB0%2BfFgFBQVatGiRMjIyNHDgwDLXxHI/AAAANGPGDD377LPq27evqlWrpnvvvVfx8fH27UeOHNGZM2ckSStXrtS5c%2BfUp08fh3N06tRJixYt0vjx4yVduhbVarWqefPmWrJkierXr1/metxs5blKtqopLnZ2BTcODw/m0wye/PelKcLDpR07pA4dpJ07nV1NpXfwAL9OzODlJTVqJGVkSAUFzq6m8mvRwjnvu25dxZw3MrJizuuK%2BE0HAABgssr4jVOuhmtSAQAA4HJIUgEAAExGkmocSSoAAABcDkkqAACAyUhSjaNJBQAAMBlNqnEs9wMAAMDlkKQCAACYjCTVOJJUAAAAuBySVAAAAJORpBpHkwoAAGAymlTjWO4HAACAyyFJBQAAMBlJqnE0qQAAACajSTWO5X4AAAC4HJJUAAAAk5GkGkeSCgAAAJdDkgoAAGAyklTjaFIBAABMRpNqHMv9AAAAcDkkqQAAACYjSTWOJBUAAAAuhyQVAADAZCSpxtGkApXQwQM2Z5dwQ/DykhpJyvhkhwoKnF1N5deipZuzS7gxhIdLO3ao0YAO0s6dzq6m8rM55%2B9LmlTjWO4HAACAyyFJBQAAMBlJqnEkqQAAAHA5JKkAAAAmI0k1jiYVAADAZDSpxrHcDwAAAJdDkgoAAGAyklTjSFIBAADgckhSAQAATEaSahxNKgAAgMloUo1juR8AAAAuhyQVAADAZCSpxpGkAgAAwOWQpAIAAJiMJNU4mlQAAACT0aQax3I/AAAAXA5JKgAAgMlIUo0jSQUAAIDLoUkFAAAw2cWLFfOqSFarVePGjVO3bt3Uo0cPPfPMM8rPzy91348%2B%2BkitWrVSWFiYw2v37t3/%2BfwXNXv2bPXt21edOnXSww8/rCNHjlxXPTSpAAAAJquMTerUqVOVl5enNWvWaOXKlUpLS1NiYuIV9%2B/UqZMsFovD67bbbpMkrVixQp9%2B%2BqkWLlyojRs3qnHjxhozZoxsNluZ66FJBQAAqOJ%2B%2BeUXJScnKz4%2BXn5%2BfgoMDNTo0aO1cuVKFRUVXff5kpKSFBMTo2bNmsnHx0fx8fFKS0vTrl27ynwObpwCAAAwWUWlnpmZmcrKynIY8/f3V0BAgKHz7tu3Tx4eHgoJCbGPtW3bVufPn9fhw4cdxi87ceKEHnzwQe3Zs0e1a9fW2LFjFR0drfz8fB06dEht2rSx7%2Bvj46Nbb71VFotF7du3L1NNNKkAAACVRFJSkubNm%2BcwFhsbq7i4OEPntVqt8vHxkZubm33M19dXkpSdnV1ifz8/PzVu3FhPPvmkmjdvrvXr1%2Bupp55SQECAmjZtKpvNZj/%2Bt%2Bcr7VxXQpMKAABgsopKUocMGaKIiAiHMX9//zIdu2rVKj311FOlbouPj7%2Bu60V79%2B6t3r172/98zz33aP369froo480YcIESbqu85WGJhUAAMBkFdWkBgQElHtpPzo6WtHR0aVu27Jli3JyclRcXCwPDw9Jl9JVSapbt26Zzh8UFKQ9e/aoTp06cnd3tx9/mdVqLfO5JG6cAgAAqPJat24tm82m1NRU%2B5jFYlHt2rXVpEmTEvu/%2B%2B67Wrt2rcNYWlqagoOD5eXlpRYtWiglJcW%2B7ezZs8rIyLDf/V8WNKkAAAAmq2yPoPLz81NkZKTmzJmj06dP6%2BTJk5o/f74GDRokT89LC%2B8jR460N6aFhYV67rnnZLFYVFRUpDVr1mjTpk0aOnSoJGnYsGFatmyZ0tLSlJOTo8TERLVu3VphYWFlronlfgAAAGjGjBl69tln1bdvX1WrVk333nuv4uPj7duPHDmiM2fOSJIeeOAB5ebm6oknnlBWVpYaNmyo%2BfPnKzQ0VJI0dOhQZWVlacSIEcrNzVWXLl1K3PB1LW42o1e1VgXFxc6u4Mbh4cF8muDgYQ9nl3BD8PKSGjWSMjKkggJnV1P5tWjpdu2dcG3h4dKOHVKHDtLOnc6upvJzUpszeXLFnDchoWLO64pIUgEAAExW0d8OVRVwTSoAAABcDkkqAACAyUhSjSNJBQAAgMshSQUAADAZSapxNKkAAAAmo0k1juV%2BAAAAuBySVAAAAJORpBpHkwoAAGAymlTjWO4HAACAyyFJBQAAMBlJqnEkqQAAAHA5JKkAAAAmI0k1jiYVAADAZDSpxrHcDwAAAJdDkgoAAGAyklTjSFIBAADgckhSAQAATEaSahxNKgAAgMloUo1juR8AAAAuhyQVAADAZCSpxpGkAgAAwOWQpAIAAJiMJNU4mlQAAACT0aQax3I/AAAAXA5JKgAAgMlIUo0jSQUAAIDLIUkFAAAwGUmqcTSpAAAAJqNJNY7lfgAAALgcklQAAACTkaQaR5IKAAAAl0OSCgAAYDKSVONoUgEAAExGk2ocy/0AAABwOSSpAAAAJiNJNY4kFQAAAC6HJBUAAMBkJKnG0aQCAACYjCbVOJb7AQAA4HJIUgEAAExGkmocSSoAAABcDkkqAACAySpjkmq1WjVt2jR9//33cnd3V69evTR16lR5e3uX2HfKlClatWqVw1hxcbGio6OVkJCgSZMmafXq1fLw8LBv9/Ly0vbt28tcD0kqAACAyS5erJhXRZo6dary8vK0Zs0arVy5UmlpaUpMTCx135kzZ8pisdhfO3fuVNOmTXXXXXfZ93n88ccd9rmeBlWiSQUAAKjyfvnlFyUnJys%2BPl5%2Bfn4KDAzU6NGjtXLlShUVFV3z%2BKVLl%2BqWW25Rr169TKuJ5X4AAACTVVTqmZmZqaysLIcxf39/BQQEGDrvvn375OHhoZCQEPtY27Ztdf78eR0%2BfNhh/L%2BdPXtWr7/%2But555x2H8W%2B//VYbNmzQzz//rGbNmmnatGkKDQ0tc000qQAAAJVEUlKS5s2b5zAWGxuruLg4Q%2Be1Wq3y8fGRm5ubfczX11eSlJ2dfdVjly9frk6dOqlFixb2seDgYLm7u%2BuJJ55QzZo1NW/ePD300ENat26dbr755jLVdF1N6tGjR9W3b1%2BtXbtWzZo1u55DNWnSJBUUFGj27NnXdRwAAEBlU1FJ6pAhQxQREeEw5u/vX6ZjV61apaeeeqrUbfHx8bLZbNddT3FxsVasWKFZs2Y5jI8ZM8bhzxMnTtSaNWuUnJyswYMHl%2BncJKkAAAAmq6gmNSAgoNxL%2B9HR0YqOji5125YtW5STk6Pi4mL7HflWq1WSVLdu3Suec9u2bSosLFTHjh2v%2Bt4eHh5q0KCBMjMzy1wvN04BAABUca1bt5bNZlNqaqp9zGKxqHbt2mrSpMkVj9uwYYO6du0qT8//zz1tNpsSEhIczlVYWKiMjAwFBweXuaZyNakWi0X33nuvwsPDNXLkSJ06dUqStHr1akVFRSk8PFwRERElLqD9rSVLlqhfv34KDw/X3XffrS%2B%2B%2BMK%2BbdKkSXruueeUkJCgzp07q2vXrnrjjTfs20%2BfPq2xY8fq9ttvV48ePfTKK6/YI2qr1aoJEyaoR48eCg8P1%2BOPP26vDwAA4PdQ2R5B5efnp8jISM2ZM0enT5/WyZMnNX/%2BfA0aNMjegI4cOVJr1651OG7fvn1q2LChw5ibm5uOHj2q6dOn69SpU8rNzVViYqKqVaumfv36lbmmcjWp77//vhYuXKivvvpKxcXFmjp1qo4cOaK//e1vmjJlinbs2KHnn39ezz33nEMXfdm2bds0a9YsLViwQDt27NAjjzyiCRMm6PTp0/Z91qxZo1atWmnLli2aOHGiZs%2BebY%2BIp0yZIkn6%2Buuv9d5772n16tX64IMPJF1qcPPz8/XZZ5/p3//%2Bt2rUqKHJkyeX52MCAACUS2VrUiVpxowZqlWrlvr27as//vGPuu222xQfH2/ffuTIEZ05c8bhmKysLNWrV6/EuZ5//nk1btxY9913n7p166Z9%2B/Zp6dKlqlGjRpnrKdc1qX/%2B8591yy23SJJiYmI0btw41a9fX99%2B%2B639TrA77rhDdevWVUpKilq1auVw/O23364tW7aodu3akqR7771XkydP1oEDB9S1a1dJUsOGDTVw4EBJUlRUlJ5%2B%2Bmn99NNPqlatmjZu3KiVK1fKx8dHPj4%2Bmj17tjw9PfXrr79q48aNWrt2rb2OCRMmqHfv3srKyirThcWlPtqhbl0FlPGiZOD34OXl7ApuDNWqOf4vDAoPd3YFN4bLvzP/63cnymHnTmdXUKnUqlVLr7zyyhW3f/nllyXG1q1bV%2Bq%2BderUUUJCgqF6ytWk/vbO/kaNGqmoqEinT5/Wxx9/rA8//FCZmZmy2WwqLCxUYWFhieOLi4s1f/58/e///q9DevrbfX8bHd90002SpPz8fB09elQXL1502B7%2Bn78Yf/zxR0nSgAEDHN7Pw8NDJ06cKFOTWlGPdsCl/wBISkrSkCFDDD/Prapr1MjZFdwYMjMzNXfupZ/JBg34mTRsxw5nV3BDyMzMVNLcuRoyZw5/V1ZilfFrUV1NuZpUd/f/v0rg8rWgn332mRYuXKgFCxaoU6dO8vDwuOK3DsyfP1%2Bff/65Xn/9dbVq1Uo2m01t2rS54nuUNn6xlH/7l79bdtOmTWV%2BBtd/M/JoB1xdVlaW5s2bp4iICP7ihUvgZxKuiJ9L4JJyNanp6elq2bKlpEvXJ3h7e%2Bunn35Sx44d7cv1WVlZV3zMgMViUd%2B%2Bfe2N6e7du8v83kFBQXJ3d1d6ero9Qf322291/vx5derUSe7u7tq/f7%2B9jsspb2BgYJnOb%2BTRDgAAABJJqhnKdePUihUrlJWVpXPnzmnp0qXq16%2BfgoKCdPjwYZ05c0bHjh3TzJkzdcstt5R6Z31QUJBSU1OVl5enQ4cO6c0331StWrXKdBd%2BnTp11LdvX82fP19Wq1XHjx/X1KlTderUKdWqVUtRUVFKTEzUyZMnlZ%2Bfr1deeUUPPfRQuR5QCwAAUB6V8cYpV1OuJHXo0KEaOXKkTpw4oQ4dOujpp59WtWrV9P3336tXr14KCgrStGnTtGfPHs2ZM6fEcvljjz2m%2BPh4de3aVS1atFBCQoICAwM1c%2BZM%2Bfn5XfP9ExIS9Mwzz6hPnz7y8fHRgAEDNGTIEEnS1KlT9dxzz%2Bmee%2B6Ru7u72rdvrwULFjh8zRcAAABcm5uNiBG/E26cgqvhZxKuiJ/LG0NFPeyiKj2wgCYVAADAZDSpxpVruR8AAABXVtWuH60INKkAAAAmo0k1rlx39wMAAAAViSQVAADAZCSpxpGkAgAAwOWQpAIAAJiMJNU4mlQAAACT0aQax3I/AAAAXA5JKgAAgMlIUo0jSYXTFBcXO7sEVGG7d%2B/WF198Yf9zQUGBE6sBLvn111%2B1Z88eZ5cBuASaVFSoMWPG6Jdffikxvnv3bg0cONAJFaGqS0tL0913360RI0boySeflCQdO3ZMffr00d69e51cHaqqU6dO6eGHH1b37t01dOhQSVJmZqb69%2B%2BvI0eOOLk6lMfFixXzqkpoUlGhvLy8FBUVpQ8%2B%2BECSlJ%2Bfr4SEBI0cOVJ33nmnk6tDVTRjxgz17dtX27Ztk7v7pb8Cg4KC9OijjyohIcHJ1aGqmjFjhvz8/LRx40b7z6Wfn5969OihmTNnOrk6lAdNqnFuNpvN5uwicGPbvn27XnjhBdWoUUMnT55U8%2BbN9cwzzyg4ONjZpaEKCg8P13fffafq1aurXbt22rVrlyTpwoUL6tq1q7Zv3%2B7kClEV3X777dq0aZNq1qzp8HOZn5%2BvXr166bvvvnNyhbheTZpUzHnT0yvmvK6IJBUVrn379oqMjJTFYlF2drb69%2B9PgwqnqVOnjs6ePVtiPCMjQ56e3EsK57jppptUWmZ05swZrt%2BvpEhSjaNJRYX6%2Buuvdc899%2Bibb77Rp59%2BqgULFmju3LkaOXKkDh8%2B7OzyUAX16dNHY8eO1ebNm2Wz2bRv3z59/PHHGjVqlO655x5nl4cqqmvXrnr66aeV/p%2BY7OzZs/r%2B%2B%2B8VFxen3r17O7c4wElY7keF6tKliyZOnKhBgwbZxwoLCzV//nwtW7ZMO3fudGJ1qIoKCgr08ssv6%2BOPP1Zubq6kS%2BnqkCFDNGbMGFWvXt3JFaIqOnPmjP72t7/pq6%2B%2BkiS5ubnJzc1NUVFRmjp1qnx9fZ1bIP6vvbsPiqr6wwD%2BLFosKRCBGLBohUYICMiLxSgDKolUg1BESC%2BUBoxpECYzaY00IDI1yoyWkMHUkKRgU0MwZmFJUg6TFQqtkqiQLjjLi1D4xrosvz8c99cGJW%2BXs3Wfzwwzy7k7Z58/duB777n3fEdMqgVDOT1HxyKVJNXV1QV7e/shjzU1NWH27NkTnIjohoGBAXR1dUGpVGLq1Kmi4xABAC5evIjz58/D0tISKpWK381/MRcXaeZtbZVmXnPEG7BIUvb29jh27BjKy8uh1Wqxc%2BdOGAwGfPXVV4iIiBAdj2TqxIkTaGlpgU6nG3Rs%2BfLlAhIRAfv27cOcOXPg4%2BMDAKiuroZWo3y89QAADBlJREFUq0VcXJzgZERisEglSZWVlSE3NxfLli1DTU0NAKCjowM5OTlob2/Hs88%2BKzghyU1mZib27t0La2trWFpaDjrOIpVEyMvLQ0VFBfLy8oxjVlZWKCoqQltbG1555RWB6Wg05PaQkxS43E%2BSCg8PR25uLvz9/TF37lzU19cDAE6ePInU1FSTjj9EE8Hf3x8FBQUIDAwUHYXIaOHChdi7dy9c/rJG3NbWhvj4eHz77beCktFoOTlJM%2B%2BFC9LMa454JZUk1dnZiXnz5gG48SDATbNmzUJ7e7uoWCRjDg4O8PLyEh2DyMTVq1dhZ2c3aHzKlClDbplG5o9XUseOW1CRpGbOnIna2tpB45WVlXB2dhaQiORu48aN2LRpE37%2B%2BWdoNBq0tbWZ/BCJEBwcjA0bNqCxsRGXLl3CH3/8gePHj2P9%2BvVYuHCh6Hg0Ctwndex4JZUklZSUhNWrV2PRokXQ6/XIzs7Gr7/%2Birq6OmzdulV0PJKh1tZWHDx4EBUVFSbjAwMDUCgUOHnypKBkJGeZmZl4/fXXERMTY9zUX6FQYPHixcjJyRGcjkgM3pNKkmtoaMBnn32Gc%2BfOQalUwtXVFbGxsbjvvvtERyMZmj9/PhITExEWFjbknqj8XpJIPT090Gg0sLCwgIuLC/dH/Rf7m90Xx6yrS5p5zRGLVCKSlQULFuDQoUO47bbbREchMtHZ2YmWlhZcu3Zt0LEFCxYISERjwSJ17Fik0rh75plnTB6S%2BifFxcUSpyEyVVZWhvb2diQlJbG7FJmNwsJC5OXlob%2B/f9Ax3oby7zTEc3DjortbmnnNEe9JpXHn6%2BtrfH316lWUl5fD398f9957LwwGA06fPo36%2BnqsWLFCYEqSq927d6O1tRUFBQWwtbUddEL13XffCUpGclZUVISsrCxERkZCqVSKjkPjQG4POUmBRSqNu3Xr1hlfp6enY%2BvWrQgJCTF5z8GDB1FZWTnR0Yjw/PPPi45ANIjBYEBUVBQmTZokOgqR2eByP0lq3rx5%2BOGHHzB5sun50PXr1xEUFIS6ujpByYiIzEdubi48PDwQFRUlOgqNE2traebt7ZVmXnPEK6kkKUdHR5SWliIhIcFk/NNPP8W0adMEpSI50%2Bl02L59O/bv348LFy5AoVBApVIhOjoaycnJsLDg9tE08fR6PXJzc7F7926oVKpB30Nu2UdyxCKVJJWRkYH09HTs3LkTTk5O6O/vh1arRW9vL7Zt2yY6HslQTk4Ojh49ilWrVmHmzJkAgDNnzuCjjz6CwWDASy%2B9JDghydHly5cRGhoqOgaNI96TOnZc7ifJ9fb2oqamBlqtFjqdDo6OjggODsb06dNFRyMZeuihh1BWVgZXV1eT8bNnzyI5ORlVVVWCkhEN7dChQwgLCxMdg0bIykqaea9elWZec8QrqSQ5a2trREZGQqfTmYzrdDpuAUQTTq/XD3mCpFKp0NPTIyAR0Q3d3d1oamoy%2BVup1WqRnZ3N%2B/dJllikkqSOHDmCnJwctLS0DLn/H/f%2Bo4k2Z84cvPvuu1izZo1xQ3%2B9Xo/8/Hzcf//9gtORXFVVVeHVV19FX18fFAqFsTWqjY0NYmNjBaej0eBy/9hxuZ8kFR4ejqCgIDz88MOwGmLtIygoSEAqkrPTp0/jhRdewLVr16BSqQAAGo0GkydPxnvvvQdvb2/BCUmOHnnkEbz44ouIjIxEQEAAjh07hl9%2B%2BQWFhYVITU2Fm5ub6Ig0QlI1tbt%2BXZp5zRGLVJKUn58fjh49OmgLKiKRdDodDh8%2BDI1GA51OhxkzZiAkJAR33HGH6GgkU35%2BfsYlfR8fHxw/fhzAjZOqDRs2oKysTGQ8GoV/a5Ha0NCA9PR02NnZ3fJ7V1xcjJKSEnR0dMDd3R0bN26El5cXAKCvrw%2BbN29GdXU1%2Bvr6MH/%2BfLz55puwG0ErLu61QpIKCgpCY2Oj6BhEJjQaDTw9PZGYmIikpCTcc889aGtrEx2LZMzBwQFnzpwBANjZ2Rn/bqpUKjQ1NYmMRqNkMEjzI6XPP/8ca9euNe588k%2B%2B%2BeYb7NixA2%2B99RaOHDmCsLAwpKSk4MqVKwCAvLw8qNVqlJaW4ssvv8TAwABee%2B21EeVhkUqSWrJkCTIyMvD2229jz549KC0tNfkhmmj79%2B9HdHS0yclTY2MjYmNj8cUXXwhMRnKWkJCAmJgYXLp0CUuXLkVKSgqysrKwcuVKuLu7i45HMtHX14fS0lL4%2BPjc8r2lpaWIiYmBj48PlEolVq1aBeDGbhR6vR6ffPIJVq9eDScnJ9x5551IS0tDdXU1tFrtsPNwDZYklZ%2BfDwBD/vNXKBSIi4ub6Egkc9u3b0d%2Bfj6Cg4ONY8uXL4ezszM2bdqEZcuWCUxHcpWYmAgvLy9MnToV69evh5WVFRoaGuDm5oaUlBTR8WgUpLrq2d7ejo6ODpOxadOmwdHRccxzj%2BQhPbVajcjISOPvFhYW8PDwQENDAzw8PNDb2wtPT0/jcTc3NyiVSqjV6mFvQckilcbdb7/9ZlwqKCwshEKhEJyI6P%2B0Wi0CAwMHjfv6%2BuLChQsCEhHdEBAQAACYPHky0tLSBKehsZLqiZ8dO0rxzjvvmIytWbMGa9euleYD/0ZPTw9sbW1NxmxtbdHd3W3czs/GxsbkuI2NDbq7u4f9GSxSadw99thjqK%2BvBwBERkYOWaQODAxAoVBwCyqacO7u7igpKcFzzz1n/G7q9Xrs2rULs2bNEpyO5GTdunXDfi/botJNcXFxWLRokcnYcNuMl5eXIyMjY8hjW7ZsQUxMzIiy3OrZ%2B7E%2Bm88ilcbdgQMHjK%2B//vprgUmIBnvjjTeQkpKCgoICODk5wWAwoLW1FVZWVvjwww9FxyMZYTMTGg1HR8dRL%2B1HRUUhKipqXHLY2dkNaoDS09OD2bNn46677jL%2BPmXKFOPx33//Hfb29sP%2BDBapNO6cnZ2Nr11cXAQmIRrM09MTVVVVqKmpwfnz52FhYQGVSoWQkBAWDTShtmzZMqz3ffzxxxInIRo5Ly8vqNVqREdHAwD6%2B/tx4sQJPPHEE3B1dYWtrS3UarWxDjh16hR0Op1xi6rhYJFKRLKjVCoRHh7OVr1kVk6dOgW1Wj2oLeoHH3yAFStWCExGdENERASys7MREBCA%2BPh4pKen49FHH4W7uzuKiopw%2B%2B23IzQ0FJMmTcKTTz6JgoICeHt7Q6lUYtu2bQgPD4eDg8OwP49FKhHJyt%2B16uV90iTSnj17kJWVBXt7e3R2dmL69Olob2%2BHi4sLUlNTRccjmVi6dCna2trQ398Pg8Fg7MB34MABuLi4oLm52bgPakhICNLT05GWloauri54e3tj165dUCqVAICXX34Zly9fRlRUFPR6PcLCwpCZmTmiPOw4RUSywla9ZI6WLFmC7OxsPPjgg5g7dy7q6%2BvR0dGBzZs34%2BmnnzY%2B%2BU8kJyxSiUhW2KqXzNGf26L6%2Bvqirq4OCoUCra2tSElJQUVFheCERBOPHaeISFbYqpfMkbOzM2prawHc2E7oxx9/BABYW1tDo9GIjEYkDC8lEJGs3GzVGxYWBpVKBQsL03N1dkEjEZKTk7Fy5UrU1tbi8ccfR0pKCgIDA3H27Fn4%2B/uLjkckBJf7iUhW/roJ9p8pFAru7UvCaDQaODk54eLFi6isrERLSwtcXFwQHx8Pa2tr0fGIJhyvpBLRfx5b9ZK56%2BjoQHZ2Nr7//nvo9XoMDAzAysoKixcvxvXr10XHIxKCV1KJ6D/v5tPSAPDAAw%2BwVS%2BZncTERPT39yMxMREzZszAwMAAzp07h%2BLiYlhaWuL9998XHZFowrFIJaL/vLa2NmMntNbW1n98L7ukkQh%2Bfn44fPjwoGX93t5ehIaG4qeffhKUjEgcLvcT0X8eW/WSuVOpVLhy5cqgIrWvrw933323oFREYvFKKhERkQDNzc3G1/X19di3bx8SEhLg5uYGCwsLNDc3o6SkBE899RQiIiIEJiUSg0UqERGRADfvj77Vv2HeK01yxSKViIhIgFvdH/1nvE2F5IhFKhERERGZHbZFJSIiIiKzwyKViIiIiMwOi1QiIiIiMjssUomIiIjI7LBIJSIiIiKzwyKViIiIiMwOi1QiIiIiMjssUomIiIjI7PwPy7IsXCdVJIIAAAAASUVORK5CYII%3D\" class=\"center-img\">\n",
              "</div>\n",
              "    <div class=\"row headerrow highlight\">\n",
              "        <h1>Sample</h1>\n",
              "    </div>\n",
              "    <div class=\"row variablerow\">\n",
              "    <div class=\"col-md-12\" style=\"overflow:scroll; width: 100%%; overflow-y: hidden;\">\n",
              "        <table border=\"1\" class=\"dataframe sample\">\n",
              "  <thead>\n",
              "    <tr style=\"text-align: right;\">\n",
              "      <th></th>\n",
              "      <th>student</th>\n",
              "      <th>income</th>\n",
              "      <th>balance</th>\n",
              "      <th>default</th>\n",
              "    </tr>\n",
              "  </thead>\n",
              "  <tbody>\n",
              "    <tr>\n",
              "      <th>9232</th>\n",
              "      <td>No</td>\n",
              "      <td>50491.26051</td>\n",
              "      <td>1074.015910</td>\n",
              "      <td>No</td>\n",
              "    </tr>\n",
              "    <tr>\n",
              "      <th>2210</th>\n",
              "      <td>Yes</td>\n",
              "      <td>18241.74144</td>\n",
              "      <td>953.809047</td>\n",
              "      <td>No</td>\n",
              "    </tr>\n",
              "    <tr>\n",
              "      <th>3611</th>\n",
              "      <td>No</td>\n",
              "      <td>14792.51184</td>\n",
              "      <td>379.063067</td>\n",
              "      <td>No</td>\n",
              "    </tr>\n",
              "    <tr>\n",
              "      <th>7095</th>\n",
              "      <td>No</td>\n",
              "      <td>50040.41979</td>\n",
              "      <td>636.309344</td>\n",
              "      <td>No</td>\n",
              "    </tr>\n",
              "    <tr>\n",
              "      <th>6444</th>\n",
              "      <td>No</td>\n",
              "      <td>22431.45354</td>\n",
              "      <td>0.000000</td>\n",
              "      <td>No</td>\n",
              "    </tr>\n",
              "  </tbody>\n",
              "</table>\n",
              "    </div>\n",
              "</div>\n",
              "</div>"
            ],
            "text/plain": [
              "<pandas_profiling.ProfileReport at 0x7f348779bef0>"
            ]
          },
          "metadata": {
            "tags": []
          },
          "execution_count": 91
        }
      ]
    },
    {
      "cell_type": "code",
      "metadata": {
        "id": "48uEh7pdZLM6",
        "colab_type": "code",
        "colab": {}
      },
      "source": [
        ""
      ],
      "execution_count": 0,
      "outputs": []
    },
    {
      "cell_type": "code",
      "metadata": {
        "id": "Ab5BIzocZLJC",
        "colab_type": "code",
        "colab": {}
      },
      "source": [
        ""
      ],
      "execution_count": 0,
      "outputs": []
    },
    {
      "cell_type": "markdown",
      "metadata": {
        "button": false,
        "new_sheet": false,
        "run_control": {
          "read_only": false
        },
        "id": "Z9XMeB2vGvAX",
        "colab_type": "text"
      },
      "source": [
        "# Data visualization and Qualitative analysis\n",
        "\n"
      ]
    },
    {
      "cell_type": "markdown",
      "metadata": {
        "button": false,
        "new_sheet": false,
        "run_control": {
          "read_only": false
        },
        "id": "FJDVY3-bGvAY",
        "colab_type": "text"
      },
      "source": [
        "Let’s see how many of each class is in our data set "
      ]
    },
    {
      "cell_type": "code",
      "metadata": {
        "button": false,
        "new_sheet": false,
        "run_control": {
          "read_only": false
        },
        "id": "UzHu8OmMGvAY",
        "colab_type": "code",
        "outputId": "08c8a261-2196-425e-9ddb-354726d66208",
        "colab": {
          "base_uri": "https://localhost:8080/",
          "height": 69
        }
      },
      "source": [
        "df['default'].value_counts()"
      ],
      "execution_count": 92,
      "outputs": [
        {
          "output_type": "execute_result",
          "data": {
            "text/plain": [
              "No     6767\n",
              "Yes     233\n",
              "Name: default, dtype: int64"
            ]
          },
          "metadata": {
            "tags": []
          },
          "execution_count": 92
        }
      ]
    },
    {
      "cell_type": "code",
      "metadata": {
        "id": "JQgsgs_zZ2gw",
        "colab_type": "code",
        "outputId": "c634cbc9-4dc3-4e4a-d06d-fa81474e7c4d",
        "colab": {
          "base_uri": "https://localhost:8080/",
          "height": 69
        }
      },
      "source": [
        "df['student'].value_counts()"
      ],
      "execution_count": 93,
      "outputs": [
        {
          "output_type": "execute_result",
          "data": {
            "text/plain": [
              "No     4937\n",
              "Yes    2063\n",
              "Name: student, dtype: int64"
            ]
          },
          "metadata": {
            "tags": []
          },
          "execution_count": 93
        }
      ]
    },
    {
      "cell_type": "markdown",
      "metadata": {
        "id": "wekNq2cnGvAb",
        "colab_type": "text"
      },
      "source": [
        "Lets plot some columns to underestand data better:"
      ]
    },
    {
      "cell_type": "code",
      "metadata": {
        "id": "NU92ZVqwGvAd",
        "colab_type": "code",
        "outputId": "929c8b00-1ee2-4564-f2b5-f93bd568b115",
        "colab": {
          "base_uri": "https://localhost:8080/",
          "height": 307
        }
      },
      "source": [
        "import seaborn as sns\n",
        "\n",
        "bins = np.linspace(df.balance.min(), df.balance.max(), 10)\n",
        "g = sns.FacetGrid(df, col=\"student\", hue=\"default\", palette=\"Set1\", col_wrap=2)\n",
        "g.map(plt.hist, 'balance', bins=bins, ec=\"k\")\n",
        "\n",
        "g.axes[-1].legend()\n",
        "plt.show()"
      ],
      "execution_count": 94,
      "outputs": [
        {
          "output_type": "display_data",
          "data": {
            "image/png": "[encoded data removed]",
            "text/plain": [
              "<Figure size 600x300 with 2 Axes>"
            ]
          },
          "metadata": {
            "tags": []
          }
        }
      ]
    },
    {
      "cell_type": "code",
      "metadata": {
        "button": false,
        "new_sheet": false,
        "run_control": {
          "read_only": false
        },
        "id": "M4RRtiPJGvAf",
        "colab_type": "code",
        "outputId": "685aaf69-91f8-4bd1-dedc-b9a900ad4199",
        "colab": {
          "base_uri": "https://localhost:8080/",
          "height": 307
        }
      },
      "source": [
        "bins = np.linspace(df.income.min(), df.income.max(), 10)\n",
        "g = sns.FacetGrid(df, col=\"student\", hue=\"default\", palette=\"Set1\", col_wrap=2)\n",
        "g.map(plt.hist, 'income', bins=bins, ec=\"k\")\n",
        "\n",
        "g.axes[-1].legend()\n",
        "plt.show()"
      ],
      "execution_count": 95,
      "outputs": [
        {
          "output_type": "display_data",
          "data": {
            "image/png": "[encoded data removed]",
            "text/plain": [
              "<Figure size 600x300 with 2 Axes>"
            ]
          },
          "metadata": {
            "tags": []
          }
        }
      ]
    },
    {
      "cell_type": "markdown",
      "metadata": {
        "button": false,
        "new_sheet": false,
        "run_control": {
          "read_only": false
        },
        "id": "Q8Tf91UGGvAh",
        "colab_type": "text"
      },
      "source": [
        "# Pre-processing:  Feature selection/extraction"
      ]
    },
    {
      "cell_type": "markdown",
      "metadata": {
        "button": false,
        "new_sheet": false,
        "run_control": {
          "read_only": false
        },
        "id": "cPW-OrZ4GvAo",
        "colab_type": "text"
      },
      "source": [
        "## Convert Categorical labelled features to numerical values"
      ]
    },
    {
      "cell_type": "markdown",
      "metadata": {
        "button": false,
        "new_sheet": false,
        "run_control": {
          "read_only": false
        },
        "id": "N8VnuVDwGvAo",
        "colab_type": "text"
      },
      "source": [
        "Lets look at student defaulting distribution:"
      ]
    },
    {
      "cell_type": "code",
      "metadata": {
        "button": false,
        "new_sheet": false,
        "run_control": {
          "read_only": false
        },
        "id": "d9KTbK3lGvAp",
        "colab_type": "code",
        "outputId": "ac82a0b3-26cb-42d4-bf3f-9c812a78557a",
        "colab": {
          "base_uri": "https://localhost:8080/",
          "height": 121
        }
      },
      "source": [
        "df.groupby(['student'])['default'].value_counts(normalize=True)"
      ],
      "execution_count": 96,
      "outputs": [
        {
          "output_type": "execute_result",
          "data": {
            "text/plain": [
              "student  default\n",
              "No       No         0.970832\n",
              "         Yes        0.029168\n",
              "Yes      No         0.956859\n",
              "         Yes        0.043141\n",
              "Name: default, dtype: float64"
            ]
          },
          "metadata": {
            "tags": []
          },
          "execution_count": 96
        }
      ]
    },
    {
      "cell_type": "markdown",
      "metadata": {
        "button": false,
        "new_sheet": false,
        "run_control": {
          "read_only": false
        },
        "id": "tmuG3BtNGvAs",
        "colab_type": "text"
      },
      "source": [
        "Lets convert Yes to 1 and No to 0:\n"
      ]
    },
    {
      "cell_type": "code",
      "metadata": {
        "id": "8QJWdEcIOftO",
        "colab_type": "code",
        "colab": {
          "base_uri": "https://localhost:8080/",
          "height": 202
        },
        "outputId": "c29be517-92b8-4fc9-8ab4-bbd7d5de7878"
      },
      "source": [
        "df.head()"
      ],
      "execution_count": 97,
      "outputs": [
        {
          "output_type": "execute_result",
          "data": {
            "text/html": [
              "<div>\n",
              "<style scoped>\n",
              "    .dataframe tbody tr th:only-of-type {\n",
              "        vertical-align: middle;\n",
              "    }\n",
              "\n",
              "    .dataframe tbody tr th {\n",
              "        vertical-align: top;\n",
              "    }\n",
              "\n",
              "    .dataframe thead th {\n",
              "        text-align: right;\n",
              "    }\n",
              "</style>\n",
              "<table border=\"1\" class=\"dataframe\">\n",
              "  <thead>\n",
              "    <tr style=\"text-align: right;\">\n",
              "      <th></th>\n",
              "      <th>student</th>\n",
              "      <th>income</th>\n",
              "      <th>balance</th>\n",
              "      <th>default</th>\n",
              "    </tr>\n",
              "  </thead>\n",
              "  <tbody>\n",
              "    <tr>\n",
              "      <th>9232</th>\n",
              "      <td>No</td>\n",
              "      <td>50491.26051</td>\n",
              "      <td>1074.015910</td>\n",
              "      <td>No</td>\n",
              "    </tr>\n",
              "    <tr>\n",
              "      <th>2210</th>\n",
              "      <td>Yes</td>\n",
              "      <td>18241.74144</td>\n",
              "      <td>953.809047</td>\n",
              "      <td>No</td>\n",
              "    </tr>\n",
              "    <tr>\n",
              "      <th>3611</th>\n",
              "      <td>No</td>\n",
              "      <td>14792.51184</td>\n",
              "      <td>379.063067</td>\n",
              "      <td>No</td>\n",
              "    </tr>\n",
              "    <tr>\n",
              "      <th>7095</th>\n",
              "      <td>No</td>\n",
              "      <td>50040.41979</td>\n",
              "      <td>636.309344</td>\n",
              "      <td>No</td>\n",
              "    </tr>\n",
              "    <tr>\n",
              "      <th>6444</th>\n",
              "      <td>No</td>\n",
              "      <td>22431.45354</td>\n",
              "      <td>0.000000</td>\n",
              "      <td>No</td>\n",
              "    </tr>\n",
              "  </tbody>\n",
              "</table>\n",
              "</div>"
            ],
            "text/plain": [
              "     student       income      balance default\n",
              "9232      No  50491.26051  1074.015910      No\n",
              "2210     Yes  18241.74144   953.809047      No\n",
              "3611      No  14792.51184   379.063067      No\n",
              "7095      No  50040.41979   636.309344      No\n",
              "6444      No  22431.45354     0.000000      No"
            ]
          },
          "metadata": {
            "tags": []
          },
          "execution_count": 97
        }
      ]
    },
    {
      "cell_type": "code",
      "metadata": {
        "button": false,
        "new_sheet": false,
        "run_control": {
          "read_only": false
        },
        "id": "7jjbCVe_GvAs",
        "colab_type": "code",
        "outputId": "4d8a91d7-851c-4ac4-d33c-dc8ac011f305",
        "colab": {
          "base_uri": "https://localhost:8080/",
          "height": 202
        }
      },
      "source": [
        "df['student'].replace(to_replace=['Yes','No'], value=[1,0],inplace=True)\n",
        "df['default'].replace(to_replace=['Yes','No'], value=[1,0],inplace=True)\n",
        "df.head()"
      ],
      "execution_count": 98,
      "outputs": [
        {
          "output_type": "execute_result",
          "data": {
            "text/html": [
              "<div>\n",
              "<style scoped>\n",
              "    .dataframe tbody tr th:only-of-type {\n",
              "        vertical-align: middle;\n",
              "    }\n",
              "\n",
              "    .dataframe tbody tr th {\n",
              "        vertical-align: top;\n",
              "    }\n",
              "\n",
              "    .dataframe thead th {\n",
              "        text-align: right;\n",
              "    }\n",
              "</style>\n",
              "<table border=\"1\" class=\"dataframe\">\n",
              "  <thead>\n",
              "    <tr style=\"text-align: right;\">\n",
              "      <th></th>\n",
              "      <th>student</th>\n",
              "      <th>income</th>\n",
              "      <th>balance</th>\n",
              "      <th>default</th>\n",
              "    </tr>\n",
              "  </thead>\n",
              "  <tbody>\n",
              "    <tr>\n",
              "      <th>9232</th>\n",
              "      <td>0</td>\n",
              "      <td>50491.26051</td>\n",
              "      <td>1074.015910</td>\n",
              "      <td>0</td>\n",
              "    </tr>\n",
              "    <tr>\n",
              "      <th>2210</th>\n",
              "      <td>1</td>\n",
              "      <td>18241.74144</td>\n",
              "      <td>953.809047</td>\n",
              "      <td>0</td>\n",
              "    </tr>\n",
              "    <tr>\n",
              "      <th>3611</th>\n",
              "      <td>0</td>\n",
              "      <td>14792.51184</td>\n",
              "      <td>379.063067</td>\n",
              "      <td>0</td>\n",
              "    </tr>\n",
              "    <tr>\n",
              "      <th>7095</th>\n",
              "      <td>0</td>\n",
              "      <td>50040.41979</td>\n",
              "      <td>636.309344</td>\n",
              "      <td>0</td>\n",
              "    </tr>\n",
              "    <tr>\n",
              "      <th>6444</th>\n",
              "      <td>0</td>\n",
              "      <td>22431.45354</td>\n",
              "      <td>0.000000</td>\n",
              "      <td>0</td>\n",
              "    </tr>\n",
              "  </tbody>\n",
              "</table>\n",
              "</div>"
            ],
            "text/plain": [
              "      student       income      balance  default\n",
              "9232        0  50491.26051  1074.015910        0\n",
              "2210        1  18241.74144   953.809047        0\n",
              "3611        0  14792.51184   379.063067        0\n",
              "7095        0  50040.41979   636.309344        0\n",
              "6444        0  22431.45354     0.000000        0"
            ]
          },
          "metadata": {
            "tags": []
          },
          "execution_count": 98
        }
      ]
    },
    {
      "cell_type": "markdown",
      "metadata": {
        "button": false,
        "new_sheet": false,
        "run_control": {
          "read_only": false
        },
        "id": "ZXUjgcOGGvA7",
        "colab_type": "text"
      },
      "source": [
        "### Feature selection"
      ]
    },
    {
      "cell_type": "markdown",
      "metadata": {
        "button": false,
        "new_sheet": false,
        "run_control": {
          "read_only": false
        },
        "id": "8QAaGLP2GvA8",
        "colab_type": "text"
      },
      "source": [
        "Lets defind feature sets, X:"
      ]
    },
    {
      "cell_type": "code",
      "metadata": {
        "button": false,
        "new_sheet": false,
        "run_control": {
          "read_only": false
        },
        "id": "Ob3R0YCyGvA9",
        "colab_type": "code",
        "outputId": "bf1ad28f-bc8d-4abf-871a-fc274a8362f7",
        "colab": {
          "base_uri": "https://localhost:8080/",
          "height": 202
        }
      },
      "source": [
        "Feature=df[['student','balance','income']]\n",
        "X = Feature\n",
        "X[0:5]"
      ],
      "execution_count": 99,
      "outputs": [
        {
          "output_type": "execute_result",
          "data": {
            "text/html": [
              "<div>\n",
              "<style scoped>\n",
              "    .dataframe tbody tr th:only-of-type {\n",
              "        vertical-align: middle;\n",
              "    }\n",
              "\n",
              "    .dataframe tbody tr th {\n",
              "        vertical-align: top;\n",
              "    }\n",
              "\n",
              "    .dataframe thead th {\n",
              "        text-align: right;\n",
              "    }\n",
              "</style>\n",
              "<table border=\"1\" class=\"dataframe\">\n",
              "  <thead>\n",
              "    <tr style=\"text-align: right;\">\n",
              "      <th></th>\n",
              "      <th>student</th>\n",
              "      <th>balance</th>\n",
              "      <th>income</th>\n",
              "    </tr>\n",
              "  </thead>\n",
              "  <tbody>\n",
              "    <tr>\n",
              "      <th>9232</th>\n",
              "      <td>0</td>\n",
              "      <td>1074.015910</td>\n",
              "      <td>50491.26051</td>\n",
              "    </tr>\n",
              "    <tr>\n",
              "      <th>2210</th>\n",
              "      <td>1</td>\n",
              "      <td>953.809047</td>\n",
              "      <td>18241.74144</td>\n",
              "    </tr>\n",
              "    <tr>\n",
              "      <th>3611</th>\n",
              "      <td>0</td>\n",
              "      <td>379.063067</td>\n",
              "      <td>14792.51184</td>\n",
              "    </tr>\n",
              "    <tr>\n",
              "      <th>7095</th>\n",
              "      <td>0</td>\n",
              "      <td>636.309344</td>\n",
              "      <td>50040.41979</td>\n",
              "    </tr>\n",
              "    <tr>\n",
              "      <th>6444</th>\n",
              "      <td>0</td>\n",
              "      <td>0.000000</td>\n",
              "      <td>22431.45354</td>\n",
              "    </tr>\n",
              "  </tbody>\n",
              "</table>\n",
              "</div>"
            ],
            "text/plain": [
              "      student      balance       income\n",
              "9232        0  1074.015910  50491.26051\n",
              "2210        1   953.809047  18241.74144\n",
              "3611        0   379.063067  14792.51184\n",
              "7095        0   636.309344  50040.41979\n",
              "6444        0     0.000000  22431.45354"
            ]
          },
          "metadata": {
            "tags": []
          },
          "execution_count": 99
        }
      ]
    },
    {
      "cell_type": "markdown",
      "metadata": {
        "button": false,
        "new_sheet": false,
        "run_control": {
          "read_only": false
        },
        "id": "h2sUz_IzGvA_",
        "colab_type": "text"
      },
      "source": [
        "What are our lables?"
      ]
    },
    {
      "cell_type": "code",
      "metadata": {
        "button": false,
        "new_sheet": false,
        "run_control": {
          "read_only": false
        },
        "id": "VQEHWt_jGvBA",
        "colab_type": "code",
        "outputId": "e0d72721-1eca-443f-8863-30dbfdffc84e",
        "colab": {
          "base_uri": "https://localhost:8080/",
          "height": 35
        }
      },
      "source": [
        "y = df['default'].values\n",
        "y[0:5]"
      ],
      "execution_count": 100,
      "outputs": [
        {
          "output_type": "execute_result",
          "data": {
            "text/plain": [
              "array([0, 0, 0, 0, 0])"
            ]
          },
          "metadata": {
            "tags": []
          },
          "execution_count": 100
        }
      ]
    },
    {
      "cell_type": "markdown",
      "metadata": {
        "button": false,
        "new_sheet": false,
        "run_control": {
          "read_only": false
        },
        "id": "Kukfq9HlGvBC",
        "colab_type": "text"
      },
      "source": [
        "## Standardizing the Data "
      ]
    },
    {
      "cell_type": "markdown",
      "metadata": {
        "button": false,
        "new_sheet": false,
        "run_control": {
          "read_only": false
        },
        "id": "FmponTp-GvBD",
        "colab_type": "text"
      },
      "source": [
        "Data Standardization give data zero mean and unit variance (technically should be done after train test split )"
      ]
    },
    {
      "cell_type": "code",
      "metadata": {
        "button": false,
        "new_sheet": false,
        "run_control": {
          "read_only": false
        },
        "id": "-FRilKCAGvBD",
        "colab_type": "code",
        "outputId": "c612f90c-544f-4418-b5c7-632f603eea94",
        "colab": {
          "base_uri": "https://localhost:8080/",
          "height": 104
        }
      },
      "source": [
        "X= preprocessing.StandardScaler().fit(X).transform(X)\n",
        "X[0:5]"
      ],
      "execution_count": 101,
      "outputs": [
        {
          "output_type": "execute_result",
          "data": {
            "text/plain": [
              "array([[-0.64642486,  0.49857738,  1.26983947],\n",
              "       [ 1.54697021,  0.25134605, -1.1527695 ],\n",
              "       [-0.64642486, -0.93074295, -1.41187831],\n",
              "       [-0.64642486, -0.40166053,  1.23597197],\n",
              "       [-0.64642486, -1.71036787, -0.83803507]])"
            ]
          },
          "metadata": {
            "tags": []
          },
          "execution_count": 101
        }
      ]
    },
    {
      "cell_type": "markdown",
      "metadata": {
        "button": false,
        "new_sheet": false,
        "run_control": {
          "read_only": false
        },
        "id": "3agjmvy7GvBF",
        "colab_type": "text"
      },
      "source": [
        "# Classification "
      ]
    },
    {
      "cell_type": "markdown",
      "metadata": {
        "button": false,
        "new_sheet": false,
        "run_control": {
          "read_only": false
        },
        "id": "Js0ejnX3GvBG",
        "colab_type": "text"
      },
      "source": [
        "From this stage we will use the training set to build an accurate model. Then use the test set to report the accuracy of the model\n",
        "The models to be used are as follows:\n",
        "- K Nearest Neighbor(KNN)\n",
        "- Decision Tree\n",
        "- Support Vector Machine\n",
        "- Logistic Regression\n",
        "- Neural network\n",
        "\n",
        "\n"
      ]
    },
    {
      "cell_type": "markdown",
      "metadata": {
        "id": "Mxl7wuUsGvBH",
        "colab_type": "text"
      },
      "source": [
        "# K Nearest Neighbor(KNN) model\n",
        "Notice: The plan is to find the best k to build the model with the best accuracy.  \n"
      ]
    },
    {
      "cell_type": "code",
      "metadata": {
        "id": "uV2MHm7RGvBH",
        "colab_type": "code",
        "colab": {}
      },
      "source": [
        "from sklearn.model_selection import train_test_split\n",
        "\n",
        "X_train, X_val, y_train, y_val = train_test_split(X, y, test_size=0.2, random_state=4)\n"
      ],
      "execution_count": 0,
      "outputs": []
    },
    {
      "cell_type": "markdown",
      "metadata": {
        "id": "rYfjW1_nohxh",
        "colab_type": "text"
      },
      "source": [
        "Initializing the Metric Reporting Dictionary"
      ]
    },
    {
      "cell_type": "code",
      "metadata": {
        "id": "TpOtq3tvGvBJ",
        "colab_type": "code",
        "colab": {}
      },
      "source": [
        "\n",
        "metric_report_dict = {'Algorithm':[],'Jaccard Index':[],'F1 Score':[],'Log Loss':[]}"
      ],
      "execution_count": 0,
      "outputs": []
    },
    {
      "cell_type": "markdown",
      "metadata": {
        "id": "MDbzNG_xomw0",
        "colab_type": "text"
      },
      "source": [
        "Import all the Classification Algorithms"
      ]
    },
    {
      "cell_type": "code",
      "metadata": {
        "id": "sI7UZEo0GvBL",
        "colab_type": "code",
        "colab": {}
      },
      "source": [
        "\n",
        "from sklearn.neighbors import KNeighborsClassifier\n",
        "from sklearn.tree import DecisionTreeClassifier\n",
        "from sklearn import svm\n",
        "from sklearn.model_selection import GridSearchCV\n",
        "from sklearn import metrics\n",
        "from sklearn.linear_model import LogisticRegression"
      ],
      "execution_count": 0,
      "outputs": []
    },
    {
      "cell_type": "markdown",
      "metadata": {
        "id": "llNPeGFqop28",
        "colab_type": "text"
      },
      "source": [
        "Function to test different values of K and get optimum K value"
      ]
    },
    {
      "cell_type": "code",
      "metadata": {
        "id": "RbOjqyZ6GvBP",
        "colab_type": "code",
        "outputId": "a391f03b-fb34-4f85-a295-a738b6b3f994",
        "colab": {
          "base_uri": "https://localhost:8080/",
          "height": 364
        }
      },
      "source": [
        "\n",
        "myList = list(range(1,20))\n",
        "\n",
        "# subsetting just the odd ones\n",
        "neighbors = filter(lambda x: x % 2 != 0, myList)\n",
        "\n",
        "for k in neighbors:\n",
        "    neigh = KNeighborsClassifier(n_neighbors = k).fit(X_train, y_train)\n",
        "    yhat = neigh.predict(X_val)\n",
        "    print(\"Value of K is: \", k)\n",
        "    print(\"Test set Accuracy for K : \", metrics.accuracy_score(y_val, yhat))\n",
        "    \n",
        "# From this list the best value of K is 35 we will therefore use 35 to create our KNN model\n",
        "    "
      ],
      "execution_count": 105,
      "outputs": [
        {
          "output_type": "stream",
          "text": [
            "Value of K is:  1\n",
            "Test set Accuracy for K :  0.9507142857142857\n",
            "Value of K is:  3\n",
            "Test set Accuracy for K :  0.9678571428571429\n",
            "Value of K is:  5\n",
            "Test set Accuracy for K :  0.9707142857142858\n",
            "Value of K is:  7\n",
            "Test set Accuracy for K :  0.97\n",
            "Value of K is:  9\n",
            "Test set Accuracy for K :  0.9692857142857143\n",
            "Value of K is:  11\n",
            "Test set Accuracy for K :  0.9685714285714285\n",
            "Value of K is:  13\n",
            "Test set Accuracy for K :  0.9685714285714285\n",
            "Value of K is:  15\n",
            "Test set Accuracy for K :  0.97\n",
            "Value of K is:  17\n",
            "Test set Accuracy for K :  0.97\n",
            "Value of K is:  19\n",
            "Test set Accuracy for K :  0.9692857142857143\n"
          ],
          "name": "stdout"
        }
      ]
    },
    {
      "cell_type": "markdown",
      "metadata": {
        "id": "97MS-lnUoys7",
        "colab_type": "text"
      },
      "source": [
        "Our selected K values is K Nearest Neighbour"
      ]
    },
    {
      "cell_type": "code",
      "metadata": {
        "id": "-QwMkzgsGvBT",
        "colab_type": "code",
        "outputId": "d0831ab4-6893-41a5-bcd2-1e010fd1e48e",
        "colab": {
          "base_uri": "https://localhost:8080/",
          "height": 52
        }
      },
      "source": [
        "\n",
        "k = 7\n",
        "knn_model = KNeighborsClassifier(n_neighbors = k).fit(X_train, y_train)\n",
        "\n",
        "yhat_knn = knn_model.predict(X_val)\n",
        "\n",
        "print(\"Value of K is: \", k)\n",
        "print(\"Test set Accuracy for K : \", metrics.accuracy_score(y_val, yhat_knn))"
      ],
      "execution_count": 106,
      "outputs": [
        {
          "output_type": "stream",
          "text": [
            "Value of K is:  7\n",
            "Test set Accuracy for K :  0.97\n"
          ],
          "name": "stdout"
        }
      ]
    },
    {
      "cell_type": "code",
      "metadata": {
        "id": "NIE2jWYBR6-o",
        "colab_type": "code",
        "outputId": "aca181e3-3d70-4f18-bc9b-294f3b95fe09",
        "colab": {
          "base_uri": "https://localhost:8080/",
          "height": 35
        }
      },
      "source": [
        "yhat_knn"
      ],
      "execution_count": 107,
      "outputs": [
        {
          "output_type": "execute_result",
          "data": {
            "text/plain": [
              "array([0, 0, 0, ..., 0, 0, 0])"
            ]
          },
          "metadata": {
            "tags": []
          },
          "execution_count": 107
        }
      ]
    },
    {
      "cell_type": "markdown",
      "metadata": {
        "id": "c1Vm7gvI1kbd",
        "colab_type": "text"
      },
      "source": [
        "### Defining the metrics for KNN"
      ]
    },
    {
      "cell_type": "code",
      "metadata": {
        "id": "kE2-BJYeGvBW",
        "colab_type": "code",
        "colab": {}
      },
      "source": [
        "from sklearn.metrics import jaccard_similarity_score\n",
        "from sklearn.metrics import f1_score\n",
        "from sklearn.metrics import log_loss"
      ],
      "execution_count": 0,
      "outputs": []
    },
    {
      "cell_type": "code",
      "metadata": {
        "id": "R4jAYIpJGvBY",
        "colab_type": "code",
        "outputId": "1af875e5-4819-459d-a081-243ee1454c29",
        "colab": {
          "base_uri": "https://localhost:8080/",
          "height": 176
        }
      },
      "source": [
        "metric_report_dict[\"Algorithm\"].append(\"KNN\")\n",
        "metric_report_dict[\"Log Loss\"].append(np.nan)\n",
        "metric_report_dict[\"Jaccard Index\"].append(jaccard_similarity_score(y_val, yhat_knn))\n",
        "metric_report_dict[\"F1 Score\"].append(f1_score(y_val, yhat_knn, average='weighted'))\n",
        "#metric_report_dict[\"Accuracy Score\"].append(metrics.accuracy_score(y_test, yhat))\n",
        "\n",
        "print(\"Algorithm\",\"KNN\")\n",
        "print(\"Jaccard Similarity : \", jaccard_similarity_score(y_val, yhat_knn))\n",
        "print(\"F1 Score : \", f1_score(y_val, yhat_knn, average='weighted'))\n",
        "print(\"Log Loss: \",np.NaN)\n"
      ],
      "execution_count": 109,
      "outputs": [
        {
          "output_type": "stream",
          "text": [
            "Algorithm KNN\n",
            "Jaccard Similarity :  0.97\n",
            "F1 Score :  0.9647262952101663\n",
            "Log Loss:  nan\n"
          ],
          "name": "stdout"
        },
        {
          "output_type": "stream",
          "text": [
            "/usr/local/lib/python3.6/dist-packages/sklearn/metrics/classification.py:635: DeprecationWarning: jaccard_similarity_score has been deprecated and replaced with jaccard_score. It will be removed in version 0.23. This implementation has surprising behavior for binary and multiclass classification tasks.\n",
            "  'and multiclass classification tasks.', DeprecationWarning)\n",
            "/usr/local/lib/python3.6/dist-packages/sklearn/metrics/classification.py:635: DeprecationWarning: jaccard_similarity_score has been deprecated and replaced with jaccard_score. It will be removed in version 0.23. This implementation has surprising behavior for binary and multiclass classification tasks.\n",
            "  'and multiclass classification tasks.', DeprecationWarning)\n"
          ],
          "name": "stderr"
        }
      ]
    },
    {
      "cell_type": "markdown",
      "metadata": {
        "id": "LGgT2jtbGvBa",
        "colab_type": "text"
      },
      "source": [
        "# Decision Tree model"
      ]
    },
    {
      "cell_type": "code",
      "metadata": {
        "id": "J9rMTlYqGvBb",
        "colab_type": "code",
        "outputId": "d996d4f2-42e5-4411-b0c5-e8deeda25f10",
        "colab": {
          "base_uri": "https://localhost:8080/",
          "height": 35
        }
      },
      "source": [
        "loan_tree = DecisionTreeClassifier(criterion=\"entropy\", max_depth=6)\n",
        "loan_tree.fit(X_train, y_train)\n",
        "yhat_tree = loan_tree.predict(X_val)\n",
        "\n",
        "print(\"Decision Tree Accuracy before Parameter Tuning: \", metrics.accuracy_score(y_val, yhat_tree))\n"
      ],
      "execution_count": 110,
      "outputs": [
        {
          "output_type": "stream",
          "text": [
            "Decision Tree Accuracy before Parameter Tuning:  0.9692857142857143\n"
          ],
          "name": "stdout"
        }
      ]
    },
    {
      "cell_type": "code",
      "metadata": {
        "id": "JfQOcL-GGvBd",
        "colab_type": "code",
        "colab": {
          "base_uri": "https://localhost:8080/",
          "height": 89
        },
        "outputId": "57e5f6af-101f-4199-aa8d-4e2a6941d5dd"
      },
      "source": [
        "# using grid search for best parameters\n",
        "def dtree_param_selection(X, y, nfolds):\n",
        "    parameters = {'min_samples_split': range(10,500,20), 'max_depth': range(1,20,2), 'criterion':['gini','entropy']}\n",
        "    tree = DecisionTreeClassifier()\n",
        "    grid_search = GridSearchCV(tree, parameters)\n",
        "    grid_search.fit(X,y)\n",
        "    grid_search.best_params_\n",
        "    return grid_search.best_params_\n",
        "\n",
        "dtree_param = dtree_param_selection(X_train, y_train, 10)\n",
        "dtree_param"
      ],
      "execution_count": 111,
      "outputs": [
        {
          "output_type": "stream",
          "text": [
            "/usr/local/lib/python3.6/dist-packages/sklearn/model_selection/_split.py:1978: FutureWarning: The default value of cv will change from 3 to 5 in version 0.22. Specify it explicitly to silence this warning.\n",
            "  warnings.warn(CV_WARNING, FutureWarning)\n"
          ],
          "name": "stderr"
        },
        {
          "output_type": "execute_result",
          "data": {
            "text/plain": [
              "{'criterion': 'gini', 'max_depth': 3, 'min_samples_split': 10}"
            ]
          },
          "metadata": {
            "tags": []
          },
          "execution_count": 111
        }
      ]
    },
    {
      "cell_type": "markdown",
      "metadata": {
        "id": "DFAwb3n417xI",
        "colab_type": "text"
      },
      "source": [
        "### Defining metrics for decision tree"
      ]
    },
    {
      "cell_type": "code",
      "metadata": {
        "id": "c1rCGlo3GvBf",
        "colab_type": "code",
        "outputId": "eea641de-7630-43fd-db23-717c77a46d4f",
        "colab": {
          "base_uri": "https://localhost:8080/",
          "height": 176
        }
      },
      "source": [
        "metric_report_dict[\"Algorithm\"].append(\"Decision Tree\")\n",
        "metric_report_dict[\"Log Loss\"].append(np.nan)\n",
        "metric_report_dict[\"Jaccard Index\"].append(jaccard_similarity_score(y_val, yhat))\n",
        "metric_report_dict[\"F1 Score\"].append(f1_score(y_val, yhat, average='weighted'))\n",
        "#metric_report_dict[\"Accuracy Score\"].append(metrics.accuracy_score(y_test, yhat))\n",
        "\n",
        "print(\"Algorithm: \",\"Decision Tree\")\n",
        "print(\"Jaccard Similarity : \", jaccard_similarity_score(y_val, yhat))\n",
        "print(\"F1 Score : \", f1_score(y_val, yhat, average='weighted'))\n",
        "print(\"Log Loss: \",np.NaN)"
      ],
      "execution_count": 112,
      "outputs": [
        {
          "output_type": "stream",
          "text": [
            "Algorithm:  Decision Tree\n",
            "Jaccard Similarity :  0.9692857142857143\n",
            "F1 Score :  0.9609503511549549\n",
            "Log Loss:  nan\n"
          ],
          "name": "stdout"
        },
        {
          "output_type": "stream",
          "text": [
            "/usr/local/lib/python3.6/dist-packages/sklearn/metrics/classification.py:635: DeprecationWarning: jaccard_similarity_score has been deprecated and replaced with jaccard_score. It will be removed in version 0.23. This implementation has surprising behavior for binary and multiclass classification tasks.\n",
            "  'and multiclass classification tasks.', DeprecationWarning)\n",
            "/usr/local/lib/python3.6/dist-packages/sklearn/metrics/classification.py:635: DeprecationWarning: jaccard_similarity_score has been deprecated and replaced with jaccard_score. It will be removed in version 0.23. This implementation has surprising behavior for binary and multiclass classification tasks.\n",
            "  'and multiclass classification tasks.', DeprecationWarning)\n"
          ],
          "name": "stderr"
        }
      ]
    },
    {
      "cell_type": "markdown",
      "metadata": {
        "id": "vus0S7DAGvBg",
        "colab_type": "text"
      },
      "source": [
        "# Support Vector Machine model"
      ]
    },
    {
      "cell_type": "code",
      "metadata": {
        "id": "ZKZKD_qSGvBh",
        "colab_type": "code",
        "outputId": "864f83b3-f51d-4e49-be93-b273262ea30a",
        "colab": {
          "base_uri": "https://localhost:8080/",
          "height": 89
        }
      },
      "source": [
        "\n",
        "svm_model = svm.SVC(kernel=\"rbf\",probability=True)\n",
        "svm_model.fit(X_train, y_train)\n",
        "yhat_svm = svm_model.predict(X_val)\n",
        "\n",
        "print(\"Support Vector Machine Accuracy before Parameter Tuning is: \", metrics.accuracy_score(y_val, yhat))"
      ],
      "execution_count": 113,
      "outputs": [
        {
          "output_type": "stream",
          "text": [
            "/usr/local/lib/python3.6/dist-packages/sklearn/svm/base.py:193: FutureWarning: The default value of gamma will change from 'auto' to 'scale' in version 0.22 to account better for unscaled features. Set gamma explicitly to 'auto' or 'scale' to avoid this warning.\n",
            "  \"avoid this warning.\", FutureWarning)\n"
          ],
          "name": "stderr"
        },
        {
          "output_type": "stream",
          "text": [
            "Support Vector Machine Accuracy before Parameter Tuning is:  0.9692857142857143\n"
          ],
          "name": "stdout"
        }
      ]
    },
    {
      "cell_type": "code",
      "metadata": {
        "id": "8UBSssoiGvBj",
        "colab_type": "code",
        "outputId": "3391d53f-0c1b-43c1-ad98-2a8a9bba17b5",
        "colab": {
          "base_uri": "https://localhost:8080/",
          "height": 72
        }
      },
      "source": [
        "# svm parameter selection\n",
        "def svc_param_selection(X, y, nfolds):\n",
        "    Cs = [0.001, 0.01, 0.1, 1, 10]    \n",
        "    Cs = [0.001, 0.01, 0.1, 1, 10]\n",
        "\n",
        "    gammas = [0.001, 0.01, 0.1, 1]\n",
        "    param_grid = {'C': Cs, 'gamma' : gammas}\n",
        "    grid_search = GridSearchCV(svm.SVC(kernel='rbf'), param_grid, cv=nfolds)\n",
        "    grid_search.fit(X, y)\n",
        "    grid_search.best_params_\n",
        "    return grid_search.best_params_\n",
        "\n",
        "svm_model = svm.SVC(kernel=\"rbf\",probability=True)\n",
        "svm_model.fit(X_train, y_train)\n",
        "yhat = svm_model.predict(X_val)\n",
        "svc_param = svc_param_selection(X_train, y_train, 10)"
      ],
      "execution_count": 145,
      "outputs": [
        {
          "output_type": "stream",
          "text": [
            "/usr/local/lib/python3.6/dist-packages/sklearn/svm/base.py:193: FutureWarning: The default value of gamma will change from 'auto' to 'scale' in version 0.22 to account better for unscaled features. Set gamma explicitly to 'auto' or 'scale' to avoid this warning.\n",
            "  \"avoid this warning.\", FutureWarning)\n"
          ],
          "name": "stderr"
        }
      ]
    },
    {
      "cell_type": "code",
      "metadata": {
        "id": "QLlG_dD1GvBl",
        "colab_type": "code",
        "outputId": "dfcf2c1c-491e-468e-bb4e-9734f38d3533",
        "colab": {
          "base_uri": "https://localhost:8080/",
          "height": 35
        }
      },
      "source": [
        "svm_model = svm.SVC(kernel=\"rbf\", C=svc_param['C'], gamma=svc_param['gamma'],probability=True)\n",
        "svm_model=svm_model.fit(X_train, y_train)\n",
        "yhat_svm2 = svm_model.predict(X_val)\n",
        "\n",
        "print(\"Support Vector Machine Accuracy after Parameter Tuning is: \", metrics.accuracy_score(y_val, yhat_svm2))"
      ],
      "execution_count": 147,
      "outputs": [
        {
          "output_type": "stream",
          "text": [
            "Support Vector Machine Accuracy after Parameter Tuning is:  0.9692857142857143\n"
          ],
          "name": "stdout"
        }
      ]
    },
    {
      "cell_type": "markdown",
      "metadata": {
        "id": "CGVluxTN2DTu",
        "colab_type": "text"
      },
      "source": [
        "### Defining metrics for SVM"
      ]
    },
    {
      "cell_type": "code",
      "metadata": {
        "id": "p277bTumGvBm",
        "colab_type": "code",
        "outputId": "3b6a9f9f-4929-4299-ad08-03f0b94de0e7",
        "colab": {
          "base_uri": "https://localhost:8080/",
          "height": 176
        }
      },
      "source": [
        "\n",
        "metric_report_dict['Algorithm'].append(\"SVM\")\n",
        "metric_report_dict['Log Loss'].append(np.nan)\n",
        "metric_report_dict['Jaccard Index'].append(jaccard_similarity_score(y_val, yhat_svm2))\n",
        "metric_report_dict[\"F1 Score\"].append(f1_score(y_val, yhat_svm2, average='weighted'))\n",
        "#metric_report_dict[\"Accuracy Score\"].append(metrics.accuracy_score(y_test, yhat))\n",
        "print(\"Algorithm: \",\"SVM\")\n",
        "print(\"Jaccard Similarity : \", jaccard_similarity_score(y_val, yhat_svm2))\n",
        "print(\"F1 Score : \", f1_score(y_val, yhat_svm2, average='weighted'))\n",
        "print(\"Log Loss: \",np.NaN)\n"
      ],
      "execution_count": 116,
      "outputs": [
        {
          "output_type": "stream",
          "text": [
            "Algorithm:  SVM\n",
            "Jaccard Similarity :  0.9692857142857143\n",
            "F1 Score :  0.9601781791846972\n",
            "Log Loss:  nan\n"
          ],
          "name": "stdout"
        },
        {
          "output_type": "stream",
          "text": [
            "/usr/local/lib/python3.6/dist-packages/sklearn/metrics/classification.py:635: DeprecationWarning: jaccard_similarity_score has been deprecated and replaced with jaccard_score. It will be removed in version 0.23. This implementation has surprising behavior for binary and multiclass classification tasks.\n",
            "  'and multiclass classification tasks.', DeprecationWarning)\n",
            "/usr/local/lib/python3.6/dist-packages/sklearn/metrics/classification.py:635: DeprecationWarning: jaccard_similarity_score has been deprecated and replaced with jaccard_score. It will be removed in version 0.23. This implementation has surprising behavior for binary and multiclass classification tasks.\n",
            "  'and multiclass classification tasks.', DeprecationWarning)\n"
          ],
          "name": "stderr"
        }
      ]
    },
    {
      "cell_type": "markdown",
      "metadata": {
        "id": "TSuyHZm_GvBo",
        "colab_type": "text"
      },
      "source": [
        "# Logistic Regression model"
      ]
    },
    {
      "cell_type": "code",
      "metadata": {
        "id": "0OPtPrvtGvBp",
        "colab_type": "code",
        "outputId": "7f9f01f1-6139-4038-f34f-ce2312c249c0",
        "colab": {
          "base_uri": "https://localhost:8080/",
          "height": 35
        }
      },
      "source": [
        "LR = LogisticRegression(solver='liblinear').fit(X_train, y_train)\n",
        "yhat_lr = LR.predict(X_val)\n",
        "accuracy_before_tuning = metrics.accuracy_score(y_val, yhat_lr)\n",
        "print(\"LR Accuracy before Parameter Tuning is: \", accuracy_before_tuning)"
      ],
      "execution_count": 117,
      "outputs": [
        {
          "output_type": "stream",
          "text": [
            "LR Accuracy before Parameter Tuning is:  0.9721428571428572\n"
          ],
          "name": "stdout"
        }
      ]
    },
    {
      "cell_type": "code",
      "metadata": {
        "id": "NBN-2l9wGvBr",
        "colab_type": "code",
        "colab": {}
      },
      "source": [
        "# logistics regression = finding the best parameter\n",
        "def logistics_param_selection(X, y, nfolds):\n",
        "    param_grid = {'C': [0.01, 0.1, 1, 10, 100], 'penalty': ['l1', 'l2'], 'solver':['liblinear']}\n",
        "    gridsearch = GridSearchCV(LogisticRegression(), param_grid, cv=nfolds)\n",
        "    gridsearch.fit(X, y)\n",
        "    return gridsearch.best_params_\n",
        "\n",
        "\n",
        "logistics_param = logistics_param_selection(X_train, y_train, 10)"
      ],
      "execution_count": 0,
      "outputs": []
    },
    {
      "cell_type": "code",
      "metadata": {
        "id": "pL17P64hGvBt",
        "colab_type": "code",
        "outputId": "6303e544-59cb-4cc1-a6f2-f4196752fa30",
        "colab": {
          "base_uri": "https://localhost:8080/",
          "height": 35
        }
      },
      "source": [
        "LR_tuned = LogisticRegression(solver='liblinear').fit(X_train, y_train)\n",
        "\n",
        "yhat_lr2 = LR_tuned.predict(X_val)\n",
        "yhat_lr2_proba = LR_tuned.predict_proba(X_val)\n",
        "accuracy_after_tuning = metrics.accuracy_score(y_val, yhat_lr2)\n",
        "print(\"LR Accuracy after parameter tuning is: \", accuracy_after_tuning)"
      ],
      "execution_count": 119,
      "outputs": [
        {
          "output_type": "stream",
          "text": [
            "LR Accuracy after parameter tuning is:  0.9721428571428572\n"
          ],
          "name": "stdout"
        }
      ]
    },
    {
      "cell_type": "markdown",
      "metadata": {
        "id": "Ubi75IhN2HbW",
        "colab_type": "text"
      },
      "source": [
        "### Defining metrics for logistic regression"
      ]
    },
    {
      "cell_type": "code",
      "metadata": {
        "id": "wG3FK5hNq8NO",
        "colab_type": "code",
        "outputId": "b2f51281-e0fd-4199-d70f-ebed245a27d7",
        "colab": {
          "base_uri": "https://localhost:8080/",
          "height": 176
        }
      },
      "source": [
        "metric_report_dict[\"Algorithm\"].append(\"Logistics Regression\")\n",
        "metric_report_dict[\"Jaccard Index\"].append(jaccard_similarity_score(y_val, yhat_lr2))\n",
        "metric_report_dict[\"F1 Score\"].append(f1_score(y_val, yhat_lr2, average='weighted'))\n",
        "metric_report_dict[\"Log Loss\"].append(log_loss(y_val, yhat_lr2_proba))\n",
        "\n",
        "\n",
        "print(\"Algorithm \",\"LogisticRhegression\")\n",
        "print(\"Jaccard Similarity : \", jaccard_similarity_score(y_val, yhat_lr2))\n",
        "print(\"F1 Score : \", f1_score(y_val, yhat, average='weighted'))\n",
        "print(\"log-loss: \",log_loss(y_val, yhat_lr2_proba))"
      ],
      "execution_count": 120,
      "outputs": [
        {
          "output_type": "stream",
          "text": [
            "Algorithm  LogisticRhegression\n",
            "Jaccard Similarity :  0.9721428571428572\n",
            "F1 Score :  0.9598739907945368\n",
            "log-loss:  0.08092960975808615\n"
          ],
          "name": "stdout"
        },
        {
          "output_type": "stream",
          "text": [
            "/usr/local/lib/python3.6/dist-packages/sklearn/metrics/classification.py:635: DeprecationWarning: jaccard_similarity_score has been deprecated and replaced with jaccard_score. It will be removed in version 0.23. This implementation has surprising behavior for binary and multiclass classification tasks.\n",
            "  'and multiclass classification tasks.', DeprecationWarning)\n",
            "/usr/local/lib/python3.6/dist-packages/sklearn/metrics/classification.py:635: DeprecationWarning: jaccard_similarity_score has been deprecated and replaced with jaccard_score. It will be removed in version 0.23. This implementation has surprising behavior for binary and multiclass classification tasks.\n",
            "  'and multiclass classification tasks.', DeprecationWarning)\n"
          ],
          "name": "stderr"
        }
      ]
    },
    {
      "cell_type": "code",
      "metadata": {
        "id": "oudbmLZA0rDi",
        "colab_type": "code",
        "colab": {}
      },
      "source": [
        ""
      ],
      "execution_count": 0,
      "outputs": []
    },
    {
      "cell_type": "markdown",
      "metadata": {
        "id": "sbtBqe3uq9a3",
        "colab_type": "text"
      },
      "source": [
        "## Multilayer perceptron model:  Sequential models"
      ]
    },
    {
      "cell_type": "markdown",
      "metadata": {
        "id": "0NAuT344hXAt",
        "colab_type": "text"
      },
      "source": [
        "### Initialize tensorflow"
      ]
    },
    {
      "cell_type": "code",
      "metadata": {
        "id": "c_LroL_4ugFd",
        "colab_type": "code",
        "outputId": "8648a7e4-d6a4-4441-97ef-101cf5025bf2",
        "colab": {
          "base_uri": "https://localhost:8080/",
          "height": 35
        }
      },
      "source": [
        "%tensorflow_version 1.x\n",
        "\n",
        "import tensorflow as tf\n",
        "print(tf.__version__)"
      ],
      "execution_count": 121,
      "outputs": [
        {
          "output_type": "stream",
          "text": [
            "1.15.0\n"
          ],
          "name": "stdout"
        }
      ]
    },
    {
      "cell_type": "markdown",
      "metadata": {
        "id": "ad6JVJjuhgKv",
        "colab_type": "text"
      },
      "source": [
        "### Load the keras libraries to be used for deep learning"
      ]
    },
    {
      "cell_type": "code",
      "metadata": {
        "id": "68WXnAbXq8Kt",
        "colab_type": "code",
        "colab": {}
      },
      "source": [
        "from keras.models import Sequential\n",
        "from keras.layers import Dense\n",
        "from keras.utils import to_categorical"
      ],
      "execution_count": 0,
      "outputs": []
    },
    {
      "cell_type": "markdown",
      "metadata": {
        "id": "F772Sq85hrWC",
        "colab_type": "text"
      },
      "source": [
        "### Model building"
      ]
    },
    {
      "cell_type": "code",
      "metadata": {
        "id": "LTOUKCSSq8Fp",
        "colab_type": "code",
        "colab": {}
      },
      "source": [
        "# Build the model.\n",
        "model = Sequential([\n",
        "  Dense(64, activation='relu', input_shape=(3,)),\n",
        "  Dense(32, activation='relu'),\n",
        "  Dense(2, activation='sigmoid'),\n",
        "])"
      ],
      "execution_count": 0,
      "outputs": []
    },
    {
      "cell_type": "markdown",
      "metadata": {
        "id": "9ZmDaQBZhumG",
        "colab_type": "text"
      },
      "source": [
        "### Model compliling"
      ]
    },
    {
      "cell_type": "code",
      "metadata": {
        "id": "AMnjEJqjq8DA",
        "colab_type": "code",
        "colab": {}
      },
      "source": [
        "model.compile(\n",
        "  optimizer='adam',\n",
        "  loss='binary_crossentropy',\n",
        "  metrics=['accuracy'],\n",
        ")"
      ],
      "execution_count": 0,
      "outputs": []
    },
    {
      "cell_type": "markdown",
      "metadata": {
        "id": "A6urbic4hxHq",
        "colab_type": "text"
      },
      "source": [
        "### Train the model"
      ]
    },
    {
      "cell_type": "code",
      "metadata": {
        "id": "yeiVPv7Eq76F",
        "colab_type": "code",
        "outputId": "52af3f48-c5d5-42a6-d5ed-7d6d7e9c4ee3",
        "colab": {
          "base_uri": "https://localhost:8080/",
          "height": 208
        }
      },
      "source": [
        "history=model.fit( X_train, to_categorical(y_train), epochs=5, batch_size=32,\n",
        "   validation_data=(X_val, to_categorical(y_val))\n",
        ")"
      ],
      "execution_count": 125,
      "outputs": [
        {
          "output_type": "stream",
          "text": [
            "Train on 5600 samples, validate on 1400 samples\n",
            "Epoch 1/5\n",
            "5600/5600 [==============================] - 1s 225us/step - loss: 0.2076 - acc: 0.9520 - val_loss: 0.1106 - val_acc: 0.9650\n",
            "Epoch 2/5\n",
            "5600/5600 [==============================] - 1s 161us/step - loss: 0.0908 - acc: 0.9674 - val_loss: 0.0917 - val_acc: 0.9682\n",
            "Epoch 3/5\n",
            "5600/5600 [==============================] - 1s 155us/step - loss: 0.0834 - acc: 0.9716 - val_loss: 0.0874 - val_acc: 0.9696\n",
            "Epoch 4/5\n",
            "5600/5600 [==============================] - 1s 160us/step - loss: 0.0826 - acc: 0.9727 - val_loss: 0.0862 - val_acc: 0.9696\n",
            "Epoch 5/5\n",
            "5600/5600 [==============================] - 1s 158us/step - loss: 0.0812 - acc: 0.9725 - val_loss: 0.0855 - val_acc: 0.9696\n"
          ],
          "name": "stdout"
        }
      ]
    },
    {
      "cell_type": "markdown",
      "metadata": {
        "id": "FSZ_vHhahzru",
        "colab_type": "text"
      },
      "source": [
        "### Model evaluation"
      ]
    },
    {
      "cell_type": "code",
      "metadata": {
        "id": "kM-HrbXlsQNR",
        "colab_type": "code",
        "outputId": "2bb20f55-f5e8-4d59-b9a1-afb9cbb6a360",
        "colab": {
          "base_uri": "https://localhost:8080/",
          "height": 52
        }
      },
      "source": [
        "\n",
        "# Evaluate the model.\n",
        "model.evaluate( X_val, to_categorical(y_val))\n",
        "\n"
      ],
      "execution_count": 126,
      "outputs": [
        {
          "output_type": "stream",
          "text": [
            "1400/1400 [==============================] - 0s 57us/step\n"
          ],
          "name": "stdout"
        },
        {
          "output_type": "execute_result",
          "data": {
            "text/plain": [
              "[0.0855248992570809, 0.9696428568022591]"
            ]
          },
          "metadata": {
            "tags": []
          },
          "execution_count": 126
        }
      ]
    },
    {
      "cell_type": "code",
      "metadata": {
        "id": "9RcaIoKwN5XL",
        "colab_type": "code",
        "colab": {}
      },
      "source": [
        "model.save_weights('model_nn.h5')"
      ],
      "execution_count": 0,
      "outputs": []
    },
    {
      "cell_type": "code",
      "metadata": {
        "id": "Qa75Y1VA4rkL",
        "colab_type": "code",
        "outputId": "4d1bb4a1-4ff6-41a5-aa3e-a8cf2b73a804",
        "colab": {
          "base_uri": "https://localhost:8080/",
          "height": 35
        }
      },
      "source": [
        "yhat_nn=model.predict_classes(X_val)\n",
        "yhat_nn"
      ],
      "execution_count": 128,
      "outputs": [
        {
          "output_type": "execute_result",
          "data": {
            "text/plain": [
              "array([0, 0, 0, ..., 0, 0, 0])"
            ]
          },
          "metadata": {
            "tags": []
          },
          "execution_count": 128
        }
      ]
    },
    {
      "cell_type": "markdown",
      "metadata": {
        "id": "0-ZASDcwiDph",
        "colab_type": "text"
      },
      "source": [
        "### Display the probabilities of defaulting in an array"
      ]
    },
    {
      "cell_type": "code",
      "metadata": {
        "id": "A4SghAO-5GHD",
        "colab_type": "code",
        "outputId": "cdb88f92-394f-4989-ab5b-023957fe573c",
        "colab": {
          "base_uri": "https://localhost:8080/",
          "height": 139
        }
      },
      "source": [
        "yhat_nn_proba=model.predict(X_val)\n",
        "yhat_nn_proba"
      ],
      "execution_count": 129,
      "outputs": [
        {
          "output_type": "execute_result",
          "data": {
            "text/plain": [
              "array([[9.8694348e-01, 1.1447698e-02],\n",
              "       [9.9999690e-01, 2.3245811e-06],\n",
              "       [8.0119741e-01, 1.9425526e-01],\n",
              "       ...,\n",
              "       [9.8625439e-01, 1.3304681e-02],\n",
              "       [9.9311423e-01, 6.6105723e-03],\n",
              "       [9.5209074e-01, 4.9468994e-02]], dtype=float32)"
            ]
          },
          "metadata": {
            "tags": []
          },
          "execution_count": 129
        }
      ]
    },
    {
      "cell_type": "markdown",
      "metadata": {
        "id": "Fq5DCWJRiLaD",
        "colab_type": "text"
      },
      "source": [
        "### Dispaly model accuracy"
      ]
    },
    {
      "cell_type": "code",
      "metadata": {
        "id": "U318zf641Hfa",
        "colab_type": "code",
        "outputId": "c527aa3f-e8d6-4ec4-fd28-f26f9f2c0e8f",
        "colab": {
          "base_uri": "https://localhost:8080/",
          "height": 35
        }
      },
      "source": [
        "accuracy_after_tuning = metrics.accuracy_score(y_val, yhat_nn)\n",
        "print(\"Neural Network Accuracy after parameter tuning is: \", accuracy_after_tuning)"
      ],
      "execution_count": 130,
      "outputs": [
        {
          "output_type": "stream",
          "text": [
            "Neural Network Accuracy after parameter tuning is:  0.97\n"
          ],
          "name": "stdout"
        }
      ]
    },
    {
      "cell_type": "markdown",
      "metadata": {
        "id": "ddLOwoh5iPWx",
        "colab_type": "text"
      },
      "source": [
        "### Visualize model performance"
      ]
    },
    {
      "cell_type": "code",
      "metadata": {
        "id": "GDW8nXa-5DjF",
        "colab_type": "code",
        "outputId": "bf1b97d1-0269-4dd8-a993-b7a9cadebef7",
        "colab": {
          "base_uri": "https://localhost:8080/",
          "height": 35
        }
      },
      "source": [
        "print(history.history.keys())"
      ],
      "execution_count": 131,
      "outputs": [
        {
          "output_type": "stream",
          "text": [
            "dict_keys(['val_loss', 'val_acc', 'loss', 'acc'])\n"
          ],
          "name": "stdout"
        }
      ]
    },
    {
      "cell_type": "code",
      "metadata": {
        "id": "YR5-b-X_gsjx",
        "colab_type": "code",
        "outputId": "e598cc90-27d3-4a5c-ecc6-136fbb82ca11",
        "colab": {
          "base_uri": "https://localhost:8080/",
          "height": 528
        }
      },
      "source": [
        "\n",
        "# summarize history for accuracy\n",
        "plt.plot(history.history['acc'])\n",
        "plt.plot(history.history['val_acc'])\n",
        "plt.title('model accuracy')\n",
        "plt.ylabel('acc')\n",
        "plt.xlabel('epoch')\n",
        "plt.legend(['train', 'Val'], loc='upper left')\n",
        "plt.show()\n"
      ],
      "execution_count": 132,
      "outputs": [
        {
          "output_type": "display_data",
          "data": {
            "image/png": "[encoded data removed]",
            "text/plain": [
              "<Figure size 800x550 with 1 Axes>"
            ]
          },
          "metadata": {
            "tags": []
          }
        }
      ]
    },
    {
      "cell_type": "code",
      "metadata": {
        "id": "kmAR6rRtgseK",
        "colab_type": "code",
        "outputId": "4902eece-d29a-4b9b-d39b-f41b48c481ce",
        "colab": {
          "base_uri": "https://localhost:8080/",
          "height": 528
        }
      },
      "source": [
        "# summarize history for loss\n",
        "plt.plot(history.history['loss'])\n",
        "plt.plot(history.history['val_loss'])\n",
        "plt.title('model loss')\n",
        "plt.ylabel('loss')\n",
        "plt.xlabel('epoch')\n",
        "plt.legend(['train', 'test'], loc='upper left')\n",
        "plt.show()"
      ],
      "execution_count": 133,
      "outputs": [
        {
          "output_type": "display_data",
          "data": {
            "image/png": "[encoded data removed]",
            "text/plain": [
              "<Figure size 800x550 with 1 Axes>"
            ]
          },
          "metadata": {
            "tags": []
          }
        }
      ]
    },
    {
      "cell_type": "code",
      "metadata": {
        "id": "tHJVUI_wgsZJ",
        "colab_type": "code",
        "colab": {}
      },
      "source": [
        ""
      ],
      "execution_count": 0,
      "outputs": []
    },
    {
      "cell_type": "markdown",
      "metadata": {
        "id": "sSpF_d3F2W_y",
        "colab_type": "text"
      },
      "source": [
        "### Defining metrics for Neural network"
      ]
    },
    {
      "cell_type": "code",
      "metadata": {
        "id": "MbkywwyPsQH2",
        "colab_type": "code",
        "outputId": "7c94cb73-4950-42e2-a42d-c0b2f779a7e0",
        "colab": {
          "base_uri": "https://localhost:8080/",
          "height": 176
        }
      },
      "source": [
        "metric_report_dict[\"Algorithm\"].append(\"Neural network\")\n",
        "metric_report_dict[\"Jaccard Index\"].append(jaccard_similarity_score(y_val, yhat_nn))\n",
        "metric_report_dict[\"F1 Score\"].append(f1_score(y_val, yhat_nn, average='weighted'))\n",
        "metric_report_dict[\"Log Loss\"].append(log_loss(y_val, yhat_nn_proba))\n",
        "\n",
        "\n",
        "print(\"Algorithm \",\"LogisticRhegression\")\n",
        "print(\"Jaccard Similarity : \", jaccard_similarity_score(y_val, yhat_nn))\n",
        "print(\"F1 Score : \", f1_score(y_val, yhat_nn, average='weighted'))\n",
        "print(\"log-loss: \",log_loss(y_val, yhat_nn_proba))"
      ],
      "execution_count": 134,
      "outputs": [
        {
          "output_type": "stream",
          "text": [
            "Algorithm  LogisticRhegression\n",
            "Jaccard Similarity :  0.97\n",
            "F1 Score :  0.9614875468319234\n",
            "log-loss:  0.08563888071172342\n"
          ],
          "name": "stdout"
        },
        {
          "output_type": "stream",
          "text": [
            "/usr/local/lib/python3.6/dist-packages/sklearn/metrics/classification.py:635: DeprecationWarning: jaccard_similarity_score has been deprecated and replaced with jaccard_score. It will be removed in version 0.23. This implementation has surprising behavior for binary and multiclass classification tasks.\n",
            "  'and multiclass classification tasks.', DeprecationWarning)\n",
            "/usr/local/lib/python3.6/dist-packages/sklearn/metrics/classification.py:635: DeprecationWarning: jaccard_similarity_score has been deprecated and replaced with jaccard_score. It will be removed in version 0.23. This implementation has surprising behavior for binary and multiclass classification tasks.\n",
            "  'and multiclass classification tasks.', DeprecationWarning)\n"
          ],
          "name": "stderr"
        }
      ]
    },
    {
      "cell_type": "code",
      "metadata": {
        "id": "tzNroDI82d77",
        "colab_type": "code",
        "colab": {}
      },
      "source": [
        ""
      ],
      "execution_count": 0,
      "outputs": []
    },
    {
      "cell_type": "markdown",
      "metadata": {
        "id": "wGOSmMn0GvBw",
        "colab_type": "text"
      },
      "source": [
        "## Combined Metrics of all the models after training\n",
        "F1_score is a measure of model accuracy\n",
        "Jaccard index is a test score of simmilarity\n",
        "Log loss measures the performance of the classification models in terms of penalizing the classification error, the lower the better."
      ]
    },
    {
      "cell_type": "code",
      "metadata": {
        "id": "eMyPlekMGvBw",
        "colab_type": "code",
        "outputId": "1472e553-8dbe-4667-bfa2-733cb06b257c",
        "colab": {
          "base_uri": "https://localhost:8080/",
          "height": 202
        }
      },
      "source": [
        "metrics_df = pd.DataFrame(metric_report_dict)\n",
        "metrics_df"
      ],
      "execution_count": 135,
      "outputs": [
        {
          "output_type": "execute_result",
          "data": {
            "text/html": [
              "<div>\n",
              "<style scoped>\n",
              "    .dataframe tbody tr th:only-of-type {\n",
              "        vertical-align: middle;\n",
              "    }\n",
              "\n",
              "    .dataframe tbody tr th {\n",
              "        vertical-align: top;\n",
              "    }\n",
              "\n",
              "    .dataframe thead th {\n",
              "        text-align: right;\n",
              "    }\n",
              "</style>\n",
              "<table border=\"1\" class=\"dataframe\">\n",
              "  <thead>\n",
              "    <tr style=\"text-align: right;\">\n",
              "      <th></th>\n",
              "      <th>Algorithm</th>\n",
              "      <th>Jaccard Index</th>\n",
              "      <th>F1 Score</th>\n",
              "      <th>Log Loss</th>\n",
              "    </tr>\n",
              "  </thead>\n",
              "  <tbody>\n",
              "    <tr>\n",
              "      <th>0</th>\n",
              "      <td>KNN</td>\n",
              "      <td>0.970000</td>\n",
              "      <td>0.964726</td>\n",
              "      <td>NaN</td>\n",
              "    </tr>\n",
              "    <tr>\n",
              "      <th>1</th>\n",
              "      <td>Decision Tree</td>\n",
              "      <td>0.969286</td>\n",
              "      <td>0.960950</td>\n",
              "      <td>NaN</td>\n",
              "    </tr>\n",
              "    <tr>\n",
              "      <th>2</th>\n",
              "      <td>SVM</td>\n",
              "      <td>0.969286</td>\n",
              "      <td>0.960178</td>\n",
              "      <td>NaN</td>\n",
              "    </tr>\n",
              "    <tr>\n",
              "      <th>3</th>\n",
              "      <td>Logistics Regression</td>\n",
              "      <td>0.972143</td>\n",
              "      <td>0.965239</td>\n",
              "      <td>0.080930</td>\n",
              "    </tr>\n",
              "    <tr>\n",
              "      <th>4</th>\n",
              "      <td>Neural network</td>\n",
              "      <td>0.970000</td>\n",
              "      <td>0.961488</td>\n",
              "      <td>0.085639</td>\n",
              "    </tr>\n",
              "  </tbody>\n",
              "</table>\n",
              "</div>"
            ],
            "text/plain": [
              "              Algorithm  Jaccard Index  F1 Score  Log Loss\n",
              "0                   KNN       0.970000  0.964726       NaN\n",
              "1         Decision Tree       0.969286  0.960950       NaN\n",
              "2                   SVM       0.969286  0.960178       NaN\n",
              "3  Logistics Regression       0.972143  0.965239  0.080930\n",
              "4        Neural network       0.970000  0.961488  0.085639"
            ]
          },
          "metadata": {
            "tags": []
          },
          "execution_count": 135
        }
      ]
    },
    {
      "cell_type": "code",
      "metadata": {
        "id": "W8pjAfmCFPiH",
        "colab_type": "code",
        "colab": {}
      },
      "source": [
        ""
      ],
      "execution_count": 0,
      "outputs": []
    },
    {
      "cell_type": "code",
      "metadata": {
        "id": "NamA5OZgFPfa",
        "colab_type": "code",
        "colab": {}
      },
      "source": [
        ""
      ],
      "execution_count": 0,
      "outputs": []
    },
    {
      "cell_type": "code",
      "metadata": {
        "id": "oZA7sNbGFPb7",
        "colab_type": "code",
        "colab": {}
      },
      "source": [
        ""
      ],
      "execution_count": 0,
      "outputs": []
    },
    {
      "cell_type": "markdown",
      "metadata": {
        "id": "n9hiJv6jGvBy",
        "colab_type": "text"
      },
      "source": [
        "# Model Prediction using Test dataset"
      ]
    },
    {
      "cell_type": "code",
      "metadata": {
        "id": "112Rd9ZeGvBy",
        "colab_type": "code",
        "colab": {}
      },
      "source": [
        "import pandas as pd\n",
        "import numpy as np"
      ],
      "execution_count": 0,
      "outputs": []
    },
    {
      "cell_type": "markdown",
      "metadata": {
        "id": "uJgBhHijGvB1",
        "colab_type": "text"
      },
      "source": [
        "### First load the test dataset:"
      ]
    },
    {
      "cell_type": "code",
      "metadata": {
        "button": false,
        "new_sheet": false,
        "run_control": {
          "read_only": false
        },
        "id": "gC4W8091GvB5",
        "colab_type": "code",
        "outputId": "1c27a0ed-ab3d-4128-c10e-ac90e5d319c5",
        "colab": {
          "base_uri": "https://localhost:8080/",
          "height": 202
        }
      },
      "source": [
        "\n",
        "test_df=pd.read_csv('https://raw.githubusercontent.com/watex95/COSERA-MACHINE-LEARNING-PROJECT/master/TEST_DATA.csv')\n",
        "test_df.head()"
      ],
      "execution_count": 137,
      "outputs": [
        {
          "output_type": "execute_result",
          "data": {
            "text/html": [
              "<div>\n",
              "<style scoped>\n",
              "    .dataframe tbody tr th:only-of-type {\n",
              "        vertical-align: middle;\n",
              "    }\n",
              "\n",
              "    .dataframe tbody tr th {\n",
              "        vertical-align: top;\n",
              "    }\n",
              "\n",
              "    .dataframe thead th {\n",
              "        text-align: right;\n",
              "    }\n",
              "</style>\n",
              "<table border=\"1\" class=\"dataframe\">\n",
              "  <thead>\n",
              "    <tr style=\"text-align: right;\">\n",
              "      <th></th>\n",
              "      <th>Unnamed: 0</th>\n",
              "      <th>student</th>\n",
              "      <th>income</th>\n",
              "      <th>balance</th>\n",
              "    </tr>\n",
              "  </thead>\n",
              "  <tbody>\n",
              "    <tr>\n",
              "      <th>0</th>\n",
              "      <td>1603</td>\n",
              "      <td>Yes</td>\n",
              "      <td>15522.58415</td>\n",
              "      <td>1247.067238</td>\n",
              "    </tr>\n",
              "    <tr>\n",
              "      <th>1</th>\n",
              "      <td>8713</td>\n",
              "      <td>Yes</td>\n",
              "      <td>12008.33574</td>\n",
              "      <td>662.995363</td>\n",
              "    </tr>\n",
              "    <tr>\n",
              "      <th>2</th>\n",
              "      <td>4561</td>\n",
              "      <td>Yes</td>\n",
              "      <td>20569.64004</td>\n",
              "      <td>970.426089</td>\n",
              "    </tr>\n",
              "    <tr>\n",
              "      <th>3</th>\n",
              "      <td>6600</td>\n",
              "      <td>Yes</td>\n",
              "      <td>11102.56815</td>\n",
              "      <td>1156.620200</td>\n",
              "    </tr>\n",
              "    <tr>\n",
              "      <th>4</th>\n",
              "      <td>2558</td>\n",
              "      <td>No</td>\n",
              "      <td>37323.75941</td>\n",
              "      <td>421.896902</td>\n",
              "    </tr>\n",
              "  </tbody>\n",
              "</table>\n",
              "</div>"
            ],
            "text/plain": [
              "   Unnamed: 0 student       income      balance\n",
              "0        1603     Yes  15522.58415  1247.067238\n",
              "1        8713     Yes  12008.33574   662.995363\n",
              "2        4561     Yes  20569.64004   970.426089\n",
              "3        6600     Yes  11102.56815  1156.620200\n",
              "4        2558      No  37323.75941   421.896902"
            ]
          },
          "metadata": {
            "tags": []
          },
          "execution_count": 137
        }
      ]
    },
    {
      "cell_type": "code",
      "metadata": {
        "id": "O6cRVAHDhtUi",
        "colab_type": "code",
        "outputId": "687cac1e-3f6c-4ed7-915a-310b7955ae7f",
        "colab": {
          "base_uri": "https://localhost:8080/",
          "height": 35
        }
      },
      "source": [
        "test_df.shape"
      ],
      "execution_count": 138,
      "outputs": [
        {
          "output_type": "execute_result",
          "data": {
            "text/plain": [
              "(3000, 4)"
            ]
          },
          "metadata": {
            "tags": []
          },
          "execution_count": 138
        }
      ]
    },
    {
      "cell_type": "markdown",
      "metadata": {
        "id": "04HLWurFU5XJ",
        "colab_type": "text"
      },
      "source": [
        "### Data processing and Feature selection"
      ]
    },
    {
      "cell_type": "code",
      "metadata": {
        "scrolled": true,
        "id": "RyGS_Z9nGvB7",
        "colab_type": "code",
        "outputId": "c2df0e11-3c8d-4757-818b-4ab76e8b0307",
        "colab": {
          "base_uri": "https://localhost:8080/",
          "height": 202
        }
      },
      "source": [
        "Feature_test = test_df[['student','income','balance']]\n",
        "Feature_test.head()"
      ],
      "execution_count": 139,
      "outputs": [
        {
          "output_type": "execute_result",
          "data": {
            "text/html": [
              "<div>\n",
              "<style scoped>\n",
              "    .dataframe tbody tr th:only-of-type {\n",
              "        vertical-align: middle;\n",
              "    }\n",
              "\n",
              "    .dataframe tbody tr th {\n",
              "        vertical-align: top;\n",
              "    }\n",
              "\n",
              "    .dataframe thead th {\n",
              "        text-align: right;\n",
              "    }\n",
              "</style>\n",
              "<table border=\"1\" class=\"dataframe\">\n",
              "  <thead>\n",
              "    <tr style=\"text-align: right;\">\n",
              "      <th></th>\n",
              "      <th>student</th>\n",
              "      <th>income</th>\n",
              "      <th>balance</th>\n",
              "    </tr>\n",
              "  </thead>\n",
              "  <tbody>\n",
              "    <tr>\n",
              "      <th>0</th>\n",
              "      <td>Yes</td>\n",
              "      <td>15522.58415</td>\n",
              "      <td>1247.067238</td>\n",
              "    </tr>\n",
              "    <tr>\n",
              "      <th>1</th>\n",
              "      <td>Yes</td>\n",
              "      <td>12008.33574</td>\n",
              "      <td>662.995363</td>\n",
              "    </tr>\n",
              "    <tr>\n",
              "      <th>2</th>\n",
              "      <td>Yes</td>\n",
              "      <td>20569.64004</td>\n",
              "      <td>970.426089</td>\n",
              "    </tr>\n",
              "    <tr>\n",
              "      <th>3</th>\n",
              "      <td>Yes</td>\n",
              "      <td>11102.56815</td>\n",
              "      <td>1156.620200</td>\n",
              "    </tr>\n",
              "    <tr>\n",
              "      <th>4</th>\n",
              "      <td>No</td>\n",
              "      <td>37323.75941</td>\n",
              "      <td>421.896902</td>\n",
              "    </tr>\n",
              "  </tbody>\n",
              "</table>\n",
              "</div>"
            ],
            "text/plain": [
              "  student       income      balance\n",
              "0     Yes  15522.58415  1247.067238\n",
              "1     Yes  12008.33574   662.995363\n",
              "2     Yes  20569.64004   970.426089\n",
              "3     Yes  11102.56815  1156.620200\n",
              "4      No  37323.75941   421.896902"
            ]
          },
          "metadata": {
            "tags": []
          },
          "execution_count": 139
        }
      ]
    },
    {
      "cell_type": "code",
      "metadata": {
        "id": "VGNeDjBwGzJF",
        "colab_type": "code",
        "outputId": "240a0234-02c4-4cd7-a96a-f5ba012186d2",
        "colab": {
          "base_uri": "https://localhost:8080/",
          "height": 104
        }
      },
      "source": [
        "Feature_test['student'].replace(to_replace=['Yes','No'], value=[1,0],inplace=True)"
      ],
      "execution_count": 140,
      "outputs": [
        {
          "output_type": "stream",
          "text": [
            "/usr/local/lib/python3.6/dist-packages/pandas/core/generic.py:6786: SettingWithCopyWarning: \n",
            "A value is trying to be set on a copy of a slice from a DataFrame\n",
            "\n",
            "See the caveats in the documentation: http://pandas.pydata.org/pandas-docs/stable/user_guide/indexing.html#returning-a-view-versus-a-copy\n",
            "  self._update_inplace(new_data)\n"
          ],
          "name": "stderr"
        }
      ]
    },
    {
      "cell_type": "code",
      "metadata": {
        "id": "iYpvz2UfGvB9",
        "colab_type": "code",
        "outputId": "adf4aea1-c078-489c-86fb-a98a50621989",
        "colab": {
          "base_uri": "https://localhost:8080/",
          "height": 104
        }
      },
      "source": [
        "x_Test=preprocessing.StandardScaler().fit(Feature_test).transform(Feature_test)\n",
        "\n",
        "x_Test[0:5]"
      ],
      "execution_count": 141,
      "outputs": [
        {
          "output_type": "execute_result",
          "data": {
            "text/plain": [
              "array([[ 1.5508776 , -1.33156221,  0.84349682],\n",
              "       [ 1.5508776 , -1.59400468, -0.37933155],\n",
              "       [ 1.5508776 , -0.95465037,  0.26431357],\n",
              "       [ 1.5508776 , -1.66164699,  0.6541345 ],\n",
              "       [-0.64479621,  0.29653965, -0.88410169]])"
            ]
          },
          "metadata": {
            "tags": []
          },
          "execution_count": 141
        }
      ]
    },
    {
      "cell_type": "markdown",
      "metadata": {
        "id": "OaCKrVWgGvCE",
        "colab_type": "text"
      },
      "source": [
        "## K-Nearest Neighbour prediction"
      ]
    },
    {
      "cell_type": "code",
      "metadata": {
        "id": "0NzphUYGGvCF",
        "colab_type": "code",
        "outputId": "fb8d0ee0-546a-4253-ebda-834974fade39",
        "colab": {
          "base_uri": "https://localhost:8080/",
          "height": 202
        }
      },
      "source": [
        "Feature_knn =x_Test\n",
        "\n",
        "yhat_knn_test = knn_model.predict_proba(Feature_knn)\n",
        "\n",
        "yhat_knn_test=pd.DataFrame(yhat_knn_test,columns=['No','Yes'])\n",
        "yhat_knn_test.head()\n"
      ],
      "execution_count": 142,
      "outputs": [
        {
          "output_type": "execute_result",
          "data": {
            "text/html": [
              "<div>\n",
              "<style scoped>\n",
              "    .dataframe tbody tr th:only-of-type {\n",
              "        vertical-align: middle;\n",
              "    }\n",
              "\n",
              "    .dataframe tbody tr th {\n",
              "        vertical-align: top;\n",
              "    }\n",
              "\n",
              "    .dataframe thead th {\n",
              "        text-align: right;\n",
              "    }\n",
              "</style>\n",
              "<table border=\"1\" class=\"dataframe\">\n",
              "  <thead>\n",
              "    <tr style=\"text-align: right;\">\n",
              "      <th></th>\n",
              "      <th>No</th>\n",
              "      <th>Yes</th>\n",
              "    </tr>\n",
              "  </thead>\n",
              "  <tbody>\n",
              "    <tr>\n",
              "      <th>0</th>\n",
              "      <td>1.0</td>\n",
              "      <td>0.0</td>\n",
              "    </tr>\n",
              "    <tr>\n",
              "      <th>1</th>\n",
              "      <td>1.0</td>\n",
              "      <td>0.0</td>\n",
              "    </tr>\n",
              "    <tr>\n",
              "      <th>2</th>\n",
              "      <td>1.0</td>\n",
              "      <td>0.0</td>\n",
              "    </tr>\n",
              "    <tr>\n",
              "      <th>3</th>\n",
              "      <td>1.0</td>\n",
              "      <td>0.0</td>\n",
              "    </tr>\n",
              "    <tr>\n",
              "      <th>4</th>\n",
              "      <td>1.0</td>\n",
              "      <td>0.0</td>\n",
              "    </tr>\n",
              "  </tbody>\n",
              "</table>\n",
              "</div>"
            ],
            "text/plain": [
              "    No  Yes\n",
              "0  1.0  0.0\n",
              "1  1.0  0.0\n",
              "2  1.0  0.0\n",
              "3  1.0  0.0\n",
              "4  1.0  0.0"
            ]
          },
          "metadata": {
            "tags": []
          },
          "execution_count": 142
        }
      ]
    },
    {
      "cell_type": "markdown",
      "metadata": {
        "id": "j4GxCr86GvCH",
        "colab_type": "text"
      },
      "source": [
        "## Decision tree Test evaluation"
      ]
    },
    {
      "cell_type": "code",
      "metadata": {
        "id": "Nd8B_o2_GvCM",
        "colab_type": "code",
        "outputId": "3164820e-afc9-40b5-c889-a8015614c8e4",
        "colab": {
          "base_uri": "https://localhost:8080/",
          "height": 202
        }
      },
      "source": [
        "X_tree_test = x_Test\n",
        "\n",
        "pred_tree_test = loan_tree.predict_proba(X_tree_test)\n",
        "pred_tree_test1=pd.DataFrame(pred_tree_test,columns=['No','Yes'])\n",
        "pred_tree_test1.head()\n",
        "\n"
      ],
      "execution_count": 143,
      "outputs": [
        {
          "output_type": "execute_result",
          "data": {
            "text/html": [
              "<div>\n",
              "<style scoped>\n",
              "    .dataframe tbody tr th:only-of-type {\n",
              "        vertical-align: middle;\n",
              "    }\n",
              "\n",
              "    .dataframe tbody tr th {\n",
              "        vertical-align: top;\n",
              "    }\n",
              "\n",
              "    .dataframe thead th {\n",
              "        text-align: right;\n",
              "    }\n",
              "</style>\n",
              "<table border=\"1\" class=\"dataframe\">\n",
              "  <thead>\n",
              "    <tr style=\"text-align: right;\">\n",
              "      <th></th>\n",
              "      <th>Yes</th>\n",
              "      <th>No</th>\n",
              "    </tr>\n",
              "  </thead>\n",
              "  <tbody>\n",
              "    <tr>\n",
              "      <th>0</th>\n",
              "      <td>1.000000</td>\n",
              "      <td>0.000000</td>\n",
              "    </tr>\n",
              "    <tr>\n",
              "      <th>1</th>\n",
              "      <td>1.000000</td>\n",
              "      <td>0.000000</td>\n",
              "    </tr>\n",
              "    <tr>\n",
              "      <th>2</th>\n",
              "      <td>1.000000</td>\n",
              "      <td>0.000000</td>\n",
              "    </tr>\n",
              "    <tr>\n",
              "      <th>3</th>\n",
              "      <td>1.000000</td>\n",
              "      <td>0.000000</td>\n",
              "    </tr>\n",
              "    <tr>\n",
              "      <th>4</th>\n",
              "      <td>0.996283</td>\n",
              "      <td>0.003717</td>\n",
              "    </tr>\n",
              "  </tbody>\n",
              "</table>\n",
              "</div>"
            ],
            "text/plain": [
              "        Yes        No\n",
              "0  1.000000  0.000000\n",
              "1  1.000000  0.000000\n",
              "2  1.000000  0.000000\n",
              "3  1.000000  0.000000\n",
              "4  0.996283  0.003717"
            ]
          },
          "metadata": {
            "tags": []
          },
          "execution_count": 143
        }
      ]
    },
    {
      "cell_type": "code",
      "metadata": {
        "id": "FMMeQx_0GvCQ",
        "colab_type": "code",
        "colab": {}
      },
      "source": [
        ""
      ],
      "execution_count": 0,
      "outputs": []
    },
    {
      "cell_type": "markdown",
      "metadata": {
        "id": "ZpaWUCs9GvCT",
        "colab_type": "text"
      },
      "source": [
        "## SVM prediction"
      ]
    },
    {
      "cell_type": "code",
      "metadata": {
        "id": "dzaqm4CxGvCb",
        "colab_type": "code",
        "outputId": "18d25083-efd0-4342-e208-4b4dd7f23ff2",
        "colab": {
          "base_uri": "https://localhost:8080/",
          "height": 202
        }
      },
      "source": [
        "X_svm_test = x_Test\n",
        "\n",
        "\n",
        "yhat_svm_test = svm_model.predict_proba(X_svm_test)\n",
        "\n",
        "yhat_svm_test=pd.DataFrame(yhat_svm_test,columns=['No','Yes'])\n",
        "\n",
        "\n",
        "yhat_svm_test.head()\n"
      ],
      "execution_count": 148,
      "outputs": [
        {
          "output_type": "execute_result",
          "data": {
            "text/html": [
              "<div>\n",
              "<style scoped>\n",
              "    .dataframe tbody tr th:only-of-type {\n",
              "        vertical-align: middle;\n",
              "    }\n",
              "\n",
              "    .dataframe tbody tr th {\n",
              "        vertical-align: top;\n",
              "    }\n",
              "\n",
              "    .dataframe thead th {\n",
              "        text-align: right;\n",
              "    }\n",
              "</style>\n",
              "<table border=\"1\" class=\"dataframe\">\n",
              "  <thead>\n",
              "    <tr style=\"text-align: right;\">\n",
              "      <th></th>\n",
              "      <th>Yes</th>\n",
              "      <th>No</th>\n",
              "    </tr>\n",
              "  </thead>\n",
              "  <tbody>\n",
              "    <tr>\n",
              "      <th>0</th>\n",
              "      <td>0.950704</td>\n",
              "      <td>0.049296</td>\n",
              "    </tr>\n",
              "    <tr>\n",
              "      <th>1</th>\n",
              "      <td>0.975883</td>\n",
              "      <td>0.024117</td>\n",
              "    </tr>\n",
              "    <tr>\n",
              "      <th>2</th>\n",
              "      <td>0.968868</td>\n",
              "      <td>0.031132</td>\n",
              "    </tr>\n",
              "    <tr>\n",
              "      <th>3</th>\n",
              "      <td>0.954189</td>\n",
              "      <td>0.045811</td>\n",
              "    </tr>\n",
              "    <tr>\n",
              "      <th>4</th>\n",
              "      <td>0.975739</td>\n",
              "      <td>0.024261</td>\n",
              "    </tr>\n",
              "  </tbody>\n",
              "</table>\n",
              "</div>"
            ],
            "text/plain": [
              "        Yes        No\n",
              "0  0.950704  0.049296\n",
              "1  0.975883  0.024117\n",
              "2  0.968868  0.031132\n",
              "3  0.954189  0.045811\n",
              "4  0.975739  0.024261"
            ]
          },
          "metadata": {
            "tags": []
          },
          "execution_count": 148
        }
      ]
    },
    {
      "cell_type": "code",
      "metadata": {
        "id": "NTGZEpAYGvCg",
        "colab_type": "code",
        "colab": {}
      },
      "source": [
        ""
      ],
      "execution_count": 0,
      "outputs": []
    },
    {
      "cell_type": "markdown",
      "metadata": {
        "id": "ysLCXzSkGvCo",
        "colab_type": "text"
      },
      "source": [
        "## Logistic regression prediction"
      ]
    },
    {
      "cell_type": "code",
      "metadata": {
        "id": "27md6_q1GvCu",
        "colab_type": "code",
        "outputId": "50009578-4707-4896-8684-c0f22eeb4a9f",
        "colab": {
          "base_uri": "https://localhost:8080/",
          "height": 202
        }
      },
      "source": [
        "X_lr_test = np.asarray(x_Test)\n",
        "\n",
        "yhat_lr_test = LR_tuned.predict(X_lr_test)\n",
        "\n",
        "yhat_prob_test = LR_tuned.predict_proba(X_lr_test)\n",
        "\n",
        "yhat_prob_test=pd.DataFrame(yhat_prob_test,columns=['No','Yes'])\n",
        "yhat_prob_test.head()\n",
        "\n"
      ],
      "execution_count": 149,
      "outputs": [
        {
          "output_type": "execute_result",
          "data": {
            "text/html": [
              "<div>\n",
              "<style scoped>\n",
              "    .dataframe tbody tr th:only-of-type {\n",
              "        vertical-align: middle;\n",
              "    }\n",
              "\n",
              "    .dataframe tbody tr th {\n",
              "        vertical-align: top;\n",
              "    }\n",
              "\n",
              "    .dataframe thead th {\n",
              "        text-align: right;\n",
              "    }\n",
              "</style>\n",
              "<table border=\"1\" class=\"dataframe\">\n",
              "  <thead>\n",
              "    <tr style=\"text-align: right;\">\n",
              "      <th></th>\n",
              "      <th>Yes</th>\n",
              "      <th>No</th>\n",
              "    </tr>\n",
              "  </thead>\n",
              "  <tbody>\n",
              "    <tr>\n",
              "      <th>0</th>\n",
              "      <td>0.999911</td>\n",
              "      <td>0.000089</td>\n",
              "    </tr>\n",
              "    <tr>\n",
              "      <th>1</th>\n",
              "      <td>0.999953</td>\n",
              "      <td>0.000047</td>\n",
              "    </tr>\n",
              "    <tr>\n",
              "      <th>2</th>\n",
              "      <td>0.999774</td>\n",
              "      <td>0.000226</td>\n",
              "    </tr>\n",
              "    <tr>\n",
              "      <th>3</th>\n",
              "      <td>0.999961</td>\n",
              "      <td>0.000039</td>\n",
              "    </tr>\n",
              "    <tr>\n",
              "      <th>4</th>\n",
              "      <td>0.991228</td>\n",
              "      <td>0.008772</td>\n",
              "    </tr>\n",
              "  </tbody>\n",
              "</table>\n",
              "</div>"
            ],
            "text/plain": [
              "        Yes        No\n",
              "0  0.999911  0.000089\n",
              "1  0.999953  0.000047\n",
              "2  0.999774  0.000226\n",
              "3  0.999961  0.000039\n",
              "4  0.991228  0.008772"
            ]
          },
          "metadata": {
            "tags": []
          },
          "execution_count": 149
        }
      ]
    },
    {
      "cell_type": "markdown",
      "metadata": {
        "id": "AbJmTS3zxWsU",
        "colab_type": "text"
      },
      "source": [
        "## Nueral network test"
      ]
    },
    {
      "cell_type": "code",
      "metadata": {
        "id": "ysYM9LmwxWKE",
        "colab_type": "code",
        "outputId": "d08b398c-22bd-4ee1-d450-0e3edbbc4b4e",
        "colab": {
          "base_uri": "https://localhost:8080/",
          "height": 202
        }
      },
      "source": [
        "\n",
        "# Load the model from disk later using:\n",
        "model.load_weights('model_nn.h5')\n",
        "x_nn_test=x_Test\n",
        "\n",
        "\n",
        "yhat_nn_test = model.predict_classes(x_nn_test)\n",
        "yhat_nn_test_proba=model.predict(x_nn_test)\n",
        "\n",
        "yhat_nn_test_proba=pd.DataFrame(yhat_nn_test_proba,columns=['No','Yes'])\n",
        "\n",
        "yhat_nn_test_proba.head()\n",
        "\n"
      ],
      "execution_count": 152,
      "outputs": [
        {
          "output_type": "execute_result",
          "data": {
            "text/html": [
              "<div>\n",
              "<style scoped>\n",
              "    .dataframe tbody tr th:only-of-type {\n",
              "        vertical-align: middle;\n",
              "    }\n",
              "\n",
              "    .dataframe tbody tr th {\n",
              "        vertical-align: top;\n",
              "    }\n",
              "\n",
              "    .dataframe thead th {\n",
              "        text-align: right;\n",
              "    }\n",
              "</style>\n",
              "<table border=\"1\" class=\"dataframe\">\n",
              "  <thead>\n",
              "    <tr style=\"text-align: right;\">\n",
              "      <th></th>\n",
              "      <th>No</th>\n",
              "      <th>Yes</th>\n",
              "    </tr>\n",
              "  </thead>\n",
              "  <tbody>\n",
              "    <tr>\n",
              "      <th>0</th>\n",
              "      <td>0.999926</td>\n",
              "      <td>0.000062</td>\n",
              "    </tr>\n",
              "    <tr>\n",
              "      <th>1</th>\n",
              "      <td>0.999963</td>\n",
              "      <td>0.000037</td>\n",
              "    </tr>\n",
              "    <tr>\n",
              "      <th>2</th>\n",
              "      <td>0.999750</td>\n",
              "      <td>0.000217</td>\n",
              "    </tr>\n",
              "    <tr>\n",
              "      <th>3</th>\n",
              "      <td>0.999973</td>\n",
              "      <td>0.000022</td>\n",
              "    </tr>\n",
              "    <tr>\n",
              "      <th>4</th>\n",
              "      <td>0.994071</td>\n",
              "      <td>0.005562</td>\n",
              "    </tr>\n",
              "  </tbody>\n",
              "</table>\n",
              "</div>"
            ],
            "text/plain": [
              "         No       Yes\n",
              "0  0.999926  0.000062\n",
              "1  0.999963  0.000037\n",
              "2  0.999750  0.000217\n",
              "3  0.999973  0.000022\n",
              "4  0.994071  0.005562"
            ]
          },
          "metadata": {
            "tags": []
          },
          "execution_count": 152
        }
      ]
    },
    {
      "cell_type": "code",
      "metadata": {
        "id": "KIZfv3nIxWD0",
        "colab_type": "code",
        "colab": {}
      },
      "source": [
        ""
      ],
      "execution_count": 0,
      "outputs": []
    },
    {
      "cell_type": "code",
      "metadata": {
        "id": "EyLM7nzCGvC4",
        "colab_type": "code",
        "colab": {}
      },
      "source": [
        ""
      ],
      "execution_count": 0,
      "outputs": []
    },
    {
      "cell_type": "code",
      "metadata": {
        "id": "XqzEUQmSGvC8",
        "colab_type": "code",
        "colab": {}
      },
      "source": [
        ""
      ],
      "execution_count": 0,
      "outputs": []
    }
  ]
}